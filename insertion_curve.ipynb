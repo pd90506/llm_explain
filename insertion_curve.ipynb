{
 "cells": [
  {
   "cell_type": "code",
   "execution_count": 1,
   "metadata": {},
   "outputs": [],
   "source": [
    "# Configuring environment parameters\n",
    "import os\n",
    "import json \n",
    "import logging\n",
    "\n",
    "logging.basicConfig(\n",
    "    filename='log/app.log',            # Specify the log file name\n",
    "    level=logging.DEBUG,           # Set the log level (DEBUG, INFO, WARNING, ERROR, CRITICAL)\n",
    "    format='%(asctime)s - %(levelname)s - %(message)s'  # Set the log format\n",
    ")\n",
    "\n",
    "# Load the environment configuration JSON data\n",
    "json_path = 'env_config.json'\n",
    "with open(json_path, 'r') as file:\n",
    "    env_config = json.load(file)\n",
    "\n",
    "hf_home = env_config['HF_HOME']\n",
    "# Set the HF_HOME environment variable\n",
    "os.environ['HF_HOME'] = hf_home\n",
    "# Set the access token to huggingface hub\n",
    "access_token = env_config['access_token']\n",
    "os.environ['HUGGINGFACE_HUB_TOKEN'] = access_token"
   ]
  },
  {
   "cell_type": "code",
   "execution_count": 2,
   "metadata": {},
   "outputs": [],
   "source": [
    "# Loading necessary packages\n",
    "import transformers \n",
    "import torch\n",
    "\n",
    "from accelerate import Accelerator\n",
    "from transformers import AutoTokenizer, AutoModelForCausalLM, AutoModel, LlamaForTokenClassification #, LlamaRotaryEmbedding\n",
    "# from transformers import LlamaTokenizerFast\n",
    "import torch.nn.functional as F\n",
    "\n",
    "from llmexp.helper import DataHelper\n",
    "from datasets import load_dataset\n",
    "from torch.utils.data import DataLoader\n",
    "\n",
    "# TODO 注意load正确的模型\n",
    "# from llmexp.imdb_model import MaskGeneratingModelForIMDB\n",
    "from llmexp.insertion_model import MaskGeneratingModelForInsertion\n",
    "from tqdm import tqdm"
   ]
  },
  {
   "cell_type": "code",
   "execution_count": 3,
   "metadata": {},
   "outputs": [],
   "source": [
    "# Load datasets\n",
    "model_id = \"meta-llama/Meta-Llama-3-8B-Instruct\"\n",
    "tokenizer = AutoTokenizer.from_pretrained(model_id, token=access_token, padding_side='left')\n",
    "tokenizer.pad_token = tokenizer.eos_token\n",
    "\n",
    "# ds = load_dataset(\"imdb\")\n",
    "ds = load_dataset(\"rajpurkar/squad\")\n",
    "# ds = load_dataset(\"stanfordnlp/sst2\")\n",
    "train_ds = ds['train']\n",
    "# test_ds = ds['test']\n",
    "test_ds = ds['validation']\n",
    "\n",
    "llm_exp_helper = DataHelper(tokenizer)\n",
    "collate_fn = llm_exp_helper.get_collate_fun('squad')\n",
    "# collate_fn = llm_exp_helper.get_collate_fun('imdb')\n",
    "\n",
    "# Define batch size here!\n",
    "batch_size = 16\n",
    "train_dataloader = DataLoader(train_ds, batch_size=batch_size, collate_fn=collate_fn, shuffle=True)\n",
    "test_dataloader = DataLoader(train_ds, batch_size=batch_size, collate_fn=collate_fn, shuffle=False)"
   ]
  },
  {
   "cell_type": "code",
   "execution_count": 4,
   "metadata": {},
   "outputs": [
    {
     "data": {
      "application/vnd.jupyter.widget-view+json": {
       "model_id": "ec93a62c28c945dea315fcb7c4c80f1f",
       "version_major": 2,
       "version_minor": 0
      },
      "text/plain": [
       "Loading checkpoint shards:   0%|          | 0/4 [00:00<?, ?it/s]"
      ]
     },
     "metadata": {},
     "output_type": "display_data"
    }
   ],
   "source": [
    "# Configure and load model\n",
    "accelerator = Accelerator()\n",
    "device = accelerator.device\n",
    "# device = torch.device(\"cuda:1\" if torch.cuda.is_available() else \"cpu\")\n",
    "\n",
    "# model_id = \"meta-llama/Meta-Llama-3-8B\"  # non-instruct version\n",
    "\n",
    "model = AutoModelForCausalLM.from_pretrained(\n",
    "    model_id,\n",
    "    torch_dtype=torch.bfloat16,\n",
    "    # device_map=\"auto\",\n",
    "    device_map=device,\n",
    "    token=access_token,\n",
    ")\n",
    "\n",
    "config = model.config"
   ]
  },
  {
   "cell_type": "code",
   "execution_count": 5,
   "metadata": {},
   "outputs": [
    {
     "name": "stderr",
     "output_type": "stream",
     "text": [
      "`LlamaRotaryEmbedding` can now be fully parameterized by passing the model config through the `config` argument. All other arguments will be removed in v4.45\n"
     ]
    }
   ],
   "source": [
    "mask_gen_model = MaskGeneratingModelForInsertion()\n",
    "mask_gen_model.to(device)\n",
    "\n",
    "# Set pad_token_id if it is not set\n",
    "if tokenizer.pad_token_id is None:\n",
    "    tokenizer.pad_token_id = tokenizer.eos_token_id\n",
    "\n",
    "terminators = [\n",
    "    tokenizer.eos_token_id,\n",
    "    tokenizer.convert_tokens_to_ids(\"<|eot_id|>\")\n",
    "]"
   ]
  },
  {
   "cell_type": "code",
   "execution_count": 6,
   "metadata": {},
   "outputs": [],
   "source": [
    "data = next(iter(train_dataloader))\n",
    "\n",
    "input_ids = data['input_ids'].to(device)\n",
    "attention_mask = data['attention_mask'].to(device)\n",
    "context_mask = data['context_mask'].to(device)\n",
    "# get generated texts\n",
    "gen_outputs = model.generate(\n",
    "    input_ids=input_ids,\n",
    "    attention_mask=attention_mask,\n",
    "    max_new_tokens=128,\n",
    "    eos_token_id=terminators,\n",
    "    pad_token_id=tokenizer.pad_token_id,\n",
    "    do_sample=True,\n",
    "    temperature=0.6,\n",
    "    top_p=0.9,\n",
    "    return_dict_in_generate=True,\n",
    "    output_scores=True,\n",
    ")\n",
    "gen_tokens = gen_outputs.sequences\n",
    "pad_length = gen_tokens.size(1) - input_ids.size(1)\n",
    "# get the attention mask for the generated tokens, and also mask the padding tokens\n",
    "gen_attention_mask = F.pad(attention_mask, (0, pad_length), mode='constant', value=1)\n",
    "# (gen_tokens != pad_token_id).long() is the tokens mask, 1 for real tokens and 0 for padding tokens\n",
    "unpaded_token_mask = (gen_tokens != tokenizer.pad_token_id).long()\n",
    "unpaded_token_mask[:, :-pad_length] = 1\n",
    "gen_attention_mask = gen_attention_mask * unpaded_token_mask\n",
    "\n",
    "# get the response mask, which is the mask for the generated tokens (the user inputs are masked with 0)\n",
    "response_mask = gen_attention_mask.clone()\n",
    "response_mask[:, :-pad_length] = 0 # TODO: 有问题. 有问题吗？\n",
    "\n",
    "context_mask = F.pad(context_mask, (0, pad_length), mode='constant', value=0)"
   ]
  },
  {
   "cell_type": "code",
   "execution_count": 9,
   "metadata": {},
   "outputs": [
    {
     "name": "stderr",
     "output_type": "stream",
     "text": [
      "/afs/crc.nd.edu/user/d/dpan/.local/lib/python3.12/site-packages/torch/nn/functional.py:2994: UserWarning: reduction: 'mean' divides the total loss by both the batch size and the support size.'batchmean' divides only by the batch size, and aligns with the KL div math definition.'mean' will be changed to behave the same as 'batchmean' in the next major release.\n",
      "  warnings.warn(\n"
     ]
    },
    {
     "name": "stdout",
     "output_type": "stream",
     "text": [
      "reward_raw: tensor(-0.5157, device='cuda:0') reward: tensor(0.4361, device='cuda:0') factor: tensor(0.0482, device='cuda:0')\n",
      "reward_raw: tensor(-0.4797, device='cuda:0') reward: tensor(0.4230, device='cuda:0') factor: tensor(0.0973, device='cuda:0')\n",
      "reward_raw: tensor(-0.4293, device='cuda:0') reward: tensor(0.4219, device='cuda:0') factor: tensor(0.1488, device='cuda:0')\n",
      "reward_raw: tensor(-0.3720, device='cuda:0') reward: tensor(0.4383, device='cuda:0') factor: tensor(0.1897, device='cuda:0')\n",
      "reward_raw: tensor(-0.3142, device='cuda:0') reward: tensor(0.4262, device='cuda:0') factor: tensor(0.2596, device='cuda:0')\n",
      "reward_raw: tensor(-0.2904, device='cuda:0') reward: tensor(0.4250, device='cuda:0') factor: tensor(0.2846, device='cuda:0')\n",
      "reward_raw: tensor(-0.2433, device='cuda:0') reward: tensor(0.4180, device='cuda:0') factor: tensor(0.3387, device='cuda:0')\n",
      "reward_raw: tensor(-0.0883, device='cuda:0') reward: tensor(0.5107, device='cuda:0') factor: tensor(0.4010, device='cuda:0')\n",
      "reward_raw: tensor(0.0106, device='cuda:0') reward: tensor(0.5582, device='cuda:0') factor: tensor(0.4524, device='cuda:0')\n",
      "reward_raw: tensor(-0.0063, device='cuda:0') reward: tensor(0.4756, device='cuda:0') factor: tensor(0.5181, device='cuda:0')\n",
      "reward_raw: tensor(0.1172, device='cuda:0') reward: tensor(0.5732, device='cuda:0') factor: tensor(0.5440, device='cuda:0')\n",
      "reward_raw: tensor(0.1621, device='cuda:0') reward: tensor(0.5459, device='cuda:0') factor: tensor(0.6163, device='cuda:0')\n",
      "reward_raw: tensor(0.1211, device='cuda:0') reward: tensor(0.4711, device='cuda:0') factor: tensor(0.6500, device='cuda:0')\n",
      "reward_raw: tensor(0.3793, device='cuda:0') reward: tensor(0.6810, device='cuda:0') factor: tensor(0.6983, device='cuda:0')\n",
      "reward_raw: tensor(0.3758, device='cuda:0') reward: tensor(0.6166, device='cuda:0') factor: tensor(0.7592, device='cuda:0')\n",
      "reward_raw: tensor(0.4122, device='cuda:0') reward: tensor(0.6182, device='cuda:0') factor: tensor(0.7939, device='cuda:0')\n",
      "reward_raw: tensor(0.5024, device='cuda:0') reward: tensor(0.6512, device='cuda:0') factor: tensor(0.8512, device='cuda:0')\n",
      "reward_raw: tensor(0.6174, device='cuda:0') reward: tensor(0.7184, device='cuda:0') factor: tensor(0.8990, device='cuda:0')\n",
      "reward_raw: tensor(0.7161, device='cuda:0') reward: tensor(0.7688, device='cuda:0') factor: tensor(0.9474, device='cuda:0')\n",
      "reward_raw: tensor(0.9048, device='cuda:0') reward: tensor(0.9048, device='cuda:0') factor: tensor(1., device='cuda:0')\n"
     ]
    }
   ],
   "source": [
    "new_input_ids = gen_tokens\n",
    "new_attention_mask = gen_attention_mask\n",
    "new_context_mask = context_mask\n",
    "\n",
    "sim_upper, correct_logprob_upper, log_probs, _, _ = mask_gen_model.calculate_sim(model, new_input_ids, new_attention_mask, response_mask, labels=new_input_ids)\n",
    "\n",
    "def get_masked_input_ids(input_ids, mask, context_mask):\n",
    "    to_be_masked = (1 - mask) * context_mask\n",
    "    masked_input_ids = input_ids.clone()\n",
    "    masked_input_ids[to_be_masked == 1] = tokenizer.pad_token_id\n",
    "    return masked_input_ids\n",
    "\n",
    "mask = (1 - new_context_mask) * new_attention_mask\n",
    "masked_input_ids = get_masked_input_ids(new_input_ids, mask, new_context_mask)\n",
    "\n",
    "sim_lower, correct_logprob_lower, log_probs_lower, shift_response_mask, new_response_mask = mask_gen_model.calculate_sim(model, masked_input_ids, new_attention_mask, response_mask, labels=new_input_ids)\n",
    "\n",
    "rewards = mask_gen_model.progressive_insertion_action(model, new_input_ids, new_attention_mask, new_context_mask, response_mask, num_steps=20)"
   ]
  },
  {
   "cell_type": "code",
   "execution_count": 8,
   "metadata": {},
   "outputs": [
    {
     "data": {
      "text/plain": [
       "torch.Size([16, 20])"
      ]
     },
     "execution_count": 8,
     "metadata": {},
     "output_type": "execute_result"
    }
   ],
   "source": [
    "rewards.shape"
   ]
  },
  {
   "cell_type": "code",
   "execution_count": 10,
   "metadata": {},
   "outputs": [
    {
     "data": {
      "image/png": "[encoded data removed]",
      "text/plain": [
       "<Figure size 640x480 with 1 Axes>"
      ]
     },
     "metadata": {},
     "output_type": "display_data"
    }
   ],
   "source": [
    "import matplotlib.pyplot as plt\n",
    "import numpy as np\n",
    "\n",
    "rewards_mean = rewards.mean(axis=0)\n",
    "K = rewards_mean.size(0)\n",
    "x = np.arange(1, K+1) / K\n",
    "\n",
    "plt.plot(x, rewards_mean.detach().cpu(), marker='o')\n",
    "plt.xlabel('k/K')\n",
    "plt.ylabel('Average Reward')\n",
    "plt.title('(torch.exp(sim - sim_upper))/(k+l)')\n",
    "plt.grid(True)\n",
    "plt.show()"
   ]
  },
  {
   "cell_type": "code",
   "execution_count": null,
   "metadata": {},
   "outputs": [],
   "source": []
  }
 ],
 "metadata": {
  "kernelspec": {
   "display_name": "torch",
   "language": "python",
   "name": "python3"
  },
  "language_info": {
   "codemirror_mode": {
    "name": "ipython",
    "version": 3
   },
   "file_extension": ".py",
   "mimetype": "text/x-python",
   "name": "python",
   "nbconvert_exporter": "python",
   "pygments_lexer": "ipython3",
   "version": "3.12.5"
  }
 },
 "nbformat": 4,
 "nbformat_minor": 2
}
