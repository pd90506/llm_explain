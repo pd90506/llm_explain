{
 "cells": [
  {
   "cell_type": "code",
   "execution_count": 1,
   "metadata": {},
   "outputs": [],
   "source": [
    "import torch\n",
    "import os \n",
    "import json\n",
    "json_path = 'env_config.json'\n",
    "with open(json_path, 'r') as file:\n",
    "    env_config = json.load(file)\n",
    "\n",
    "hf_home = env_config['HF_HOME']\n",
    "# Set the HF_HOME environment variable\n",
    "os.environ['HF_HOME'] = hf_home\n",
    "# Set the access token to huggingface hub\n",
    "access_token = env_config['access_token']\n",
    "os.environ['HUGGINGFACE_HUB_TOKEN'] = access_token\n"
   ]
  },
  {
   "cell_type": "code",
   "execution_count": null,
   "metadata": {},
   "outputs": [
    {
     "data": {
      "application/vnd.jupyter.widget-view+json": {
       "model_id": "92facbc7df5f42a7859adcd36cfd6e83",
       "version_major": 2,
       "version_minor": 0
      },
      "text/plain": [
       "Loading checkpoint shards:   0%|          | 0/4 [00:00<?, ?it/s]"
      ]
     },
     "metadata": {},
     "output_type": "display_data"
    }
   ],
   "source": [
    "from llmexp.llm.smollm import LLMWrapper, Template\n",
    "from accelerate import Accelerator\n",
    "\n",
    "accelerator = Accelerator()\n",
    "device = accelerator.device\n",
    "\n",
    "# checkpoint = \"meta-llama/Llama-3.2-1B-Instruct\"\n",
    "checkpoint = \"HuggingFaceTB/SmolLM-1.7B-Instruct\"\n",
    "# checkpoint = \"meta-llama/Llama-3.2-3B-Instruct\"\n",
    "# checkpoint = \"meta-llama/Meta-Llama-3-8B-Instruct\"\n",
    "llm = LLMWrapper(checkpoint, device=device, access_token=access_token)\n",
    "tokenizer = llm.tokenizer"
   ]
  },
  {
   "cell_type": "code",
   "execution_count": 3,
   "metadata": {},
   "outputs": [],
   "source": [
    "from llmexp.explainer.mab_explainer import MABExplainer\n",
    "from llmexp.utils.data_utils import LLMDataset\n",
    "import numpy as np\n",
    "from llmexp.utils.hotpot_helper import HotpotHelper, HotpotSample\n",
    "\n",
    "mab_explainer = MABExplainer(llm, tokenizer)\n",
    "\n",
    "dataset = LLMDataset(\"hotpot_qa\", split=\"test\")"
   ]
  },
  {
   "cell_type": "code",
   "execution_count": 4,
   "metadata": {},
   "outputs": [],
   "source": [
    "import random \n",
    "\n",
    "random.seed(42)\n",
    "K = 1000\n",
    "total_samples = len(dataset)\n",
    "sampled_indices = random.sample(range(total_samples), K)\n",
    "test_data = [dataset[i] for i in sampled_indices]\n"
   ]
  },
  {
   "cell_type": "code",
   "execution_count": null,
   "metadata": {},
   "outputs": [
    {
     "name": "stderr",
     "output_type": "stream",
     "text": [
      "/afs/crc.nd.edu/user/d/dpan/.local/lib/python3.12/site-packages/transformers/generation/configuration_utils.py:567: UserWarning: `do_sample` is set to `False`. However, `temperature` is set to `0.2` -- this flag is only used in sample-based generation modes. You should set `do_sample=True` or unset `temperature`.\n",
      "  warnings.warn(\n",
      "/afs/crc.nd.edu/user/d/dpan/.local/lib/python3.12/site-packages/transformers/generation/configuration_utils.py:572: UserWarning: `do_sample` is set to `False`. However, `top_p` is set to `0.9` -- this flag is only used in sample-based generation modes. You should set `do_sample=True` or unset `top_p`.\n",
      "  warnings.warn(\n",
      "Setting `pad_token_id` to `eos_token_id`:128001 for open-end generation.\n",
      "We detected that you are passing `past_key_values` as a tuple and this is deprecated and will be removed in v4.43. Please use an appropriate `Cache` class (https://huggingface.co/docs/transformers/v4.41.3/en/internal/generation_utils#transformers.Cache)\n",
      "Setting `pad_token_id` to `eos_token_id`:128001 for open-end generation.\n"
     ]
    },
    {
     "name": "stdout",
     "output_type": "stream",
     "text": [
      "-0.09017444\n"
     ]
    },
    {
     "name": "stderr",
     "output_type": "stream",
     "text": [
      "Setting `pad_token_id` to `eos_token_id`:128001 for open-end generation.\n",
      "Setting `pad_token_id` to `eos_token_id`:128001 for open-end generation.\n"
     ]
    }
   ],
   "source": [
    "from tqdm import tqdm\n",
    "from typing import List\n",
    "from llmexp.utils.evaluation import calculate_avg_log_prob_diff, calculate_bertscore\n",
    "\n",
    "def evaluate_sentence_scores(sentences: List[str], response: str, theta: np.ndarray, k: int = 3):\n",
    "    # original log likelihood\n",
    "    full_sentence_log_likelihood = mab_explainer.get_log_likelihood(sentences, response)\n",
    "    # remove the top k sentences\n",
    "    non_top_k_indices = np.argsort(theta)[:-k]\n",
    "    non_top_k_sentences = [sentences[i] for i in non_top_k_indices]\n",
    "    \n",
    "    # get the log likelihood of the non-top k sentences\n",
    "    non_top_k_log_likelihood = mab_explainer.get_log_likelihood(non_top_k_sentences, response)\n",
    "\n",
    "    # get the average log probability difference\n",
    "    return calculate_avg_log_prob_diff(non_top_k_log_likelihood, full_sentence_log_likelihood)\n",
    "\n",
    "def random_sampling(sentences: List[str], response: str, k: int = 3):\n",
    "    # random sample K sentences\n",
    "    random_indices = np.random.choice(len(sentences), k, replace=False)\n",
    "    random_sentences = [sentences[i] for i in random_indices]\n",
    "    # get the response logits\n",
    "    response_logits = mab_explainer.get_response_logits(random_sentences, response)\n",
    "    # get the rewards\n",
    "    rewards = mab_explainer.get_reward(response_logits, response)\n",
    "    return calculate_avg_log_prob_diff(rewards, full_sentence_rewards)\n",
    "\n",
    "def evaluate_lds(sentences: List[str], response: str, theta: np.ndarray, k: int = 3):\n",
    "    # original rewards\n",
    "    full_sentence_rewards, empty_sentence_rewards = mab_explainer.get_baseline_rewards(sentences, response)\n",
    "    # remove the top k sentences\n",
    "    top_k_indices = np.argsort(theta)[-k:]\n",
    "    top_k_sentences = [sentences[i] for i in top_k_indices]\n",
    "    # get the response logits\n",
    "    response_logits = mab_explainer.get_response_logits(top_k_sentences, response)\n",
    "    # get the rewards\n",
    "    rewards = mab_explainer.get_reward(response_logits, response)\n",
    "    return linear_datamodeling_score(full_sentence_rewards.exp().squeeze(0).cpu().numpy(), rewards.exp().squeeze(0).cpu().numpy())\n",
    "\n",
    "scores = []\n",
    "\n",
    "for idx, sample in enumerate(test_data):\n",
    "    hpsample = HotpotSample(sample)\n",
    "    sentences = hpsample.flattened_contexts\n",
    "    question = hpsample.question\n",
    "\n",
    "    response = mab_explainer.get_response(sentences + [question])\n",
    "    theta = mab_explainer.thompson_sampling(sentences, response, n_iter=256)\n",
    "    diff = evaluate_sentence_scores(sentences, response, theta)\n",
    "    # lds = evaluate_lds(sentences, response, theta)\n",
    "    # scores.append(lds)\n",
    "    scores.append(diff.cpu().numpy())\n",
    "    \n",
    "    if idx % 100 == 0:\n",
    "        print(np.mean(scores))\n",
    "\n",
    "    "
   ]
  },
  {
   "cell_type": "code",
   "execution_count": 7,
   "metadata": {},
   "outputs": [
    {
     "name": "stdout",
     "output_type": "stream",
     "text": [
      "-0.4799199\n"
     ]
    }
   ],
   "source": [
    "print(np.mean(scores))"
   ]
  }
 ],
 "metadata": {
  "kernelspec": {
   "display_name": "transformer_explain",
   "language": "python",
   "name": "python3"
  },
  "language_info": {
   "codemirror_mode": {
    "name": "ipython",
    "version": 3
   },
   "file_extension": ".py",
   "mimetype": "text/x-python",
   "name": "python",
   "nbconvert_exporter": "python",
   "pygments_lexer": "ipython3",
   "version": "3.12.5"
  }
 },
 "nbformat": 4,
 "nbformat_minor": 2
}
