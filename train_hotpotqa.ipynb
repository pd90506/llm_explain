{
 "cells": [
  {
   "cell_type": "code",
   "execution_count": 1,
   "metadata": {},
   "outputs": [
    {
     "name": "stderr",
     "output_type": "stream",
     "text": [
      "\u001b[34m\u001b[1mwandb\u001b[0m: Using wandb-core as the SDK backend.  Please refer to https://wandb.me/wandb-core for more information.\n",
      "\u001b[34m\u001b[1mwandb\u001b[0m: Currently logged in as: \u001b[33mpd90506\u001b[0m (\u001b[33mpd90506-nd\u001b[0m). Use \u001b[1m`wandb login --relogin`\u001b[0m to force relogin\n"
     ]
    },
    {
     "data": {
      "text/html": [
       "Tracking run with wandb version 0.19.0"
      ],
      "text/plain": [
       "<IPython.core.display.HTML object>"
      ]
     },
     "metadata": {},
     "output_type": "display_data"
    },
    {
     "data": {
      "text/html": [
       "Run data is saved locally in <code>/afs/crc.nd.edu/user/d/dpan/wd/llm_explain/wandb/run-20250224_163603-jaa5pkox</code>"
      ],
      "text/plain": [
       "<IPython.core.display.HTML object>"
      ]
     },
     "metadata": {},
     "output_type": "display_data"
    },
    {
     "data": {
      "text/html": [
       "Syncing run <strong><a href='https://wandb.ai/pd90506-nd/mab-hotpotqa/runs/jaa5pkox' target=\"_blank\">stellar-mountain-3</a></strong> to <a href='https://wandb.ai/pd90506-nd/mab-hotpotqa' target=\"_blank\">Weights & Biases</a> (<a href='https://wandb.me/developer-guide' target=\"_blank\">docs</a>)<br/>"
      ],
      "text/plain": [
       "<IPython.core.display.HTML object>"
      ]
     },
     "metadata": {},
     "output_type": "display_data"
    },
    {
     "data": {
      "text/html": [
       " View project at <a href='https://wandb.ai/pd90506-nd/mab-hotpotqa' target=\"_blank\">https://wandb.ai/pd90506-nd/mab-hotpotqa</a>"
      ],
      "text/plain": [
       "<IPython.core.display.HTML object>"
      ]
     },
     "metadata": {},
     "output_type": "display_data"
    },
    {
     "data": {
      "text/html": [
       " View run at <a href='https://wandb.ai/pd90506-nd/mab-hotpotqa/runs/jaa5pkox' target=\"_blank\">https://wandb.ai/pd90506-nd/mab-hotpotqa/runs/jaa5pkox</a>"
      ],
      "text/plain": [
       "<IPython.core.display.HTML object>"
      ]
     },
     "metadata": {},
     "output_type": "display_data"
    }
   ],
   "source": [
    "import os \n",
    "os.environ[\"CUDA_VISIBLE_DEVICES\"] = \"0\"\n",
    "\n",
    "from llmexp.llm.smollm import LLMWrapper\n",
    "from accelerate import Accelerator\n",
    "import wandb\n",
    "\n",
    "wandb.init(project=\"mab-hotpotqa\")\n",
    "\n",
    "# checkpoint = \"meta-llama/Meta-Llama-3-8B-Instruct\"\n",
    "checkpoint = \"meta-llama/Llama-3.2-1B-Instruct\"\n",
    "# checkpoint = \"HuggingFaceTB/SmolLM-1.7B-Instruct\"\n",
    "\n",
    "\n",
    "accelerator = Accelerator()\n",
    "device = accelerator.device\n",
    "\n",
    "\n",
    "llm = LLMWrapper(checkpoint, device=device)\n",
    "tokenizer = llm.tokenizer"
   ]
  },
  {
   "cell_type": "code",
   "execution_count": 2,
   "metadata": {},
   "outputs": [],
   "source": [
    "from llmexp.utils.data_utils import DataCollatorHotpotQA\n",
    "instruction = \"Answer the question based on the context provided.\"\n",
    "# data_collator = DataCollatorHotpotQA(tokenizer, max_length=512, instruction=instruction)"
   ]
  },
  {
   "cell_type": "code",
   "execution_count": 3,
   "metadata": {},
   "outputs": [],
   "source": [
    "from llmexp.utils.data_utils import LLMDataset, create_dataloader\n",
    "from llmexp.explainer.mab_model import MABModel\n",
    "from llmexp.trainer.mab_trainer import MABTrainer\n",
    "\n",
    "mab_model = MABModel(llm, hidden_size=1024)\n",
    "\n",
    "config = {\n",
    "    'lr': 1e-4,\n",
    "    'num_pulls': 3,\n",
    "    'num_epochs': 1,\n",
    "    'batch_size': 16,\n",
    "    'clip_epsilon': 0.2,\n",
    "    'lambda_entropy': 0.0,\n",
    "    'minibatch_size': 16,\n",
    "    'ppo_epochs': 2,\n",
    "    'topk': 0.2, # number of topk tokens to select, if topk < 1, then topk is the ratio of the number of tokens to select\n",
    "    'save_interval': 20,\n",
    "}\n",
    "\n",
    "dataloader = create_dataloader('hotpot_qa', tokenizer, max_length=2048, batch_size=config['batch_size'], instruction=instruction, split=\"train\")\n",
    "mab_trainer = MABTrainer(mab_model, llm, tokenizer, config, device)\n",
    "\n"
   ]
  },
  {
   "cell_type": "code",
   "execution_count": 24,
   "metadata": {},
   "outputs": [
    {
     "name": "stderr",
     "output_type": "stream",
     "text": [
      "Training MAB: 0it [00:00, ?it/s]We detected that you are passing `past_key_values` as a tuple and this is deprecated and will be removed in v4.43. Please use an appropriate `Cache` class (https://huggingface.co/docs/transformers/v4.41.3/en/internal/generation_utils#transformers.Cache)\n",
      "Training MAB: 104it [2:21:22, 82.54s/it]"
     ]
    }
   ],
   "source": [
    "mab_trainer.train(dataloader, gamma=0.6)\n"
   ]
  },
  {
   "cell_type": "code",
   "execution_count": 12,
   "metadata": {},
   "outputs": [
    {
     "data": {
      "text/plain": [
       "{'input_ids': tensor([[128000, 128006,   9125,  ..., 128006,  78191, 128007]]), 'attention_mask': tensor([[1, 1, 1,  ..., 1, 1, 1]]), 'context_mask': tensor([[0, 0, 0,  ..., 0, 0, 0]])}"
      ]
     },
     "execution_count": 12,
     "metadata": {},
     "output_type": "execute_result"
    }
   ],
   "source": []
  },
  {
   "cell_type": "code",
   "execution_count": 13,
   "metadata": {},
   "outputs": [
    {
     "name": "stdout",
     "output_type": "stream",
     "text": [
      "<|begin_of_text|><|start_header_id|>system<|end_header_id|>\n",
      "\n",
      "Answer the question based on the context provided.<|eot_id|><|start_header_id|>user<|end_header_id|>\n",
      "\n",
      "Context Sentences:\n",
      "\n",
      "- *Fat Lever:* \"Lafayette \"Fat\" Lever ( ; born August 18, 1960) is an American retired professional basketball player born in Pine Bluff, Arkansas who played in the National Basketball Association.  He is currently the director of player development for the Sacramento Kings of the NBA.  Lever also serves as the color analyst for the Kings radio broadcasts.\"\n",
      "- *Chris Mullin (basketball):* \"Christopher Paul Mullin (born July 30, 1963) is an American retired professional basketball player and current head coach of the St. John's Red Storm.  He previously served as special advisor for the Sacramento Kings and general manager of the Golden State Warriors.  He is a two-time Olympic Gold medalist and a two-time Naismith Memorial Basketball Hall of Fame inductee (in 2010 as a member of the 1992 United States men's Olympic basketball team (\"The Dream Team\"), and in 2011 for his individual career).\"\n",
      "- *2000–01 Charlotte Hornets season:* \"The 2000–01 NBA season was the thirteenth season for the Charlotte Hornets in the National Basketball Association.  During the offseason, the Hornets acquired Jamal Mashburn, P.J. Brown and Otis Thorpe from the Miami Heat, and re-signed free agent Hersey Hawkins.  With the acquisitions of Mashburn and Brown along with veterans David Wesley and Elden Campbell, plus an increased role for second-year guard Baron Davis, the Hornets finished the season third in the Central Division with a 46–36 record, and qualified for their sixth Playoff appearance.  In the playoffs, the players all wore headbands to show team unity as they swept the 3rd-seeded Miami Heat in three straight games in the Eastern Conference First Round.  However, they were eliminated by the Milwaukee Bucks three games to four in the Conference Semifinals after taking a 3–2 series lead.  Following the season, Derrick Coleman was traded back to the Philadelphia 76ers, second-year forward Eddie Robinson signed as a free agent with the Chicago Bulls, and Hawkins and Thorpe both retired.\"\n",
      "- *2000–01 Golden State Warriors season:* \"The 2000–01 NBA season was the Warriors' 55th season in the National Basketball Association, and 39th in the San Francisco Bay Area.  During the offseason, the Warriors re-signed free agent and former All-Star forward Chris Mullin, while acquiring Danny Fortson from the Boston Celtics and Bob Sura from the Cleveland Cavaliers.  However, Fortson only played just six games due to a foot injury.  Under new head coach Dave Cowens, the Warriors won their season opener defeating the Phoenix Suns 96–94 on October 31, but their struggles continued as they went on a 7-game losing streak afterwards.  With a 14–28 record in late January, the Warriors lost 37 of their final 40 games, including a 13-game losing streak to end their season finishing last place in the Pacific Division with an awful 17–65 record.  Antawn Jamison led the team in scoring averaging 24.9 points per game.  Following the season, Mullin retired.\"\n",
      "- *Reggie Slater:* \"Reginald Dwayne \"Reggie\" Slater (born August 27, 1970) is an American retired professional basketball player born in Houston, Texas.  A 6'7\", 255-lb.  power forward from the University of Wyoming, Slater was never drafted by an NBA team but did manage to play in eight NBA seasons for the Denver Nuggets, Portland Trail Blazers, Dallas Mavericks, Toronto Raptors, Minnesota Timberwolves, New Jersey Nets and Atlanta Hawks from 1994–1999 and 2000–2003.\"\n",
      "- *Willie Green:* \"Willie J. Green (born July 28, 1981) is an American retired professional basketball player and current assistant coach with the Golden State Warriors of the National Basketball Association (NBA).  During his professional career, Green has previously played for the Philadelphia 76ers, New Orleans Hornets, Atlanta Hawks, Los Angeles Clippers and Orlando Magic of the National Basketball Association (NBA).  He was selected in the second round (41st pick overall) of the 2003 NBA draft by the Seattle SuperSonics and later acquired by the Philadelphia 76ers from Seattle in a draft-night trade for the draft rights to Paccelis Morlende (50th pick overall) and cash considerations.\"\n",
      "- *Jason Collins:* \"Jason Paul Collins (born December 2, 1978) is an American retired professional basketball player who played 13 seasons in the National Basketball Association (NBA).  He played college basketball for Stanford University, where he was an All-American in 2000–01, before being drafted 18th overall pick in the 2001 NBA draft by the Houston Rockets.  He went on to play for the New Jersey Nets, Memphis Grizzlies, Minnesota Timberwolves, Atlanta Hawks, Boston Celtics, Washington Wizards and Brooklyn Nets.\"\n",
      "- *Andrew DeClercq:* \"Andrew Donald DeClercq (born February 1, 1973) is an American retired professional basketball player and current coach.  He was a center and power forward in the National Basketball Association (NBA) for ten seasons during the 1990s and 2000s.  DeClercq played college basketball for the University of Florida, and thereafter, he played professionally for the Golden State Warriors, Boston Celtics, Cleveland Cavaliers and Orlando Magic of the NBA.\"\n",
      "- *Kareem Abdul-Jabbar:* \"Kareem Abdul-Jabbar (born Ferdinand Lewis Alcindor Jr.; April 16, 1947) is an American retired professional basketball player who played 20 seasons in the National Basketball Association (NBA) for the Milwaukee Bucks and the Los Angeles Lakers.  During his career as a center, Abdul-Jabbar was a record six-time NBA Most Valuable Player (MVP), a record 19-time NBA All-Star, a 15-time All-NBA selection, and an 11-time NBA All-Defensive Team member.  A member of six NBA championship teams as a player and two as an assistant coach, Abdul-Jabbar twice was voted NBA Finals MVP.  In 1996, he was honored as one of the 50 Greatest Players in NBA History.  NBA coach Pat Riley and players Isiah Thomas and Julius Erving have called him the greatest basketball player of all time.\"\n",
      "- *Butch Lee:* \"Alfred \"Butch\" Lee, Jr. (born December 5, 1956) is a Puerto Rican retired professional basketball player.  He began his career in the NCAA, where he gathered several \"Player of the Year\" recognitions and earned All-American honors as both a junior and senior while at Marquette University.  Lee was selected as the Most Outstanding Player at the 1977 Final Four where he led the Warriors to the school's first national championship.  The university recognized this by retiring his jersey.  Lee was the first Puerto Rican and Latin American-born athlete to play in the National Basketball Association (NBA), accomplishing this after being selected in the first round of the 1978 NBA draft.  There he played for the Atlanta Hawks, Cleveland Cavaliers and the Los Angeles Lakers.  Lee concluded his career in the Baloncesto Superior Nacional (BSN).  He is known to be the only Puerto Rican professional basketball player to win championships in the NCAA, NBA, and BSN.  Lee was a member of the Puerto Rican national team.\"\n",
      "\n",
      "Question: When was the American retired professional basketball player born who was re-signed to Warriors during the offseason of  2000–01 NBA?\n",
      "\n",
      "<|eot_id|><|start_header_id|>assistant<|end_header_id|>\n"
     ]
    }
   ],
   "source": [
    "example = next(iter(dataloader))\n",
    "example\n",
    "tokens = tokenizer.decode(example['input_ids'][0])\n",
    "print(tokens)"
   ]
  },
  {
   "cell_type": "code",
   "execution_count": null,
   "metadata": {},
   "outputs": [
    {
     "name": "stdout",
     "output_type": "stream",
     "text": [
      "{'input_ids': tensor([[128000, 128006,   9125,  ...,    258,     13, 128009]],\n",
      "       device='cuda:0'), 'attention_mask': tensor([[1, 1, 1,  ..., 1, 1, 0]], device='cuda:0')}\n"
     ]
    }
   ],
   "source": [
    "# The generated outputs \n",
    "example = example.to(device)\n",
    "gen_output = llm.generate(**example, max_new_tokens=50)\n",
    "print(gen_output)"
   ]
  },
  {
   "cell_type": "code",
   "execution_count": 21,
   "metadata": {},
   "outputs": [
    {
     "name": "stdout",
     "output_type": "stream",
     "text": [
      "<|begin_of_text|><|start_header_id|>system<|end_header_id|>\n",
      "\n",
      "Answer the question based on the context provided.<|eot_id|><|start_header_id|>user<|end_header_id|>\n",
      "\n",
      "Context Sentences:\n",
      "\n",
      "- *Fat Lever:* \"Lafayette \"Fat\" Lever ( ; born August 18, 1960) is an American retired professional basketball player born in Pine Bluff, Arkansas who played in the National Basketball Association.  He is currently the director of player development for the Sacramento Kings of the NBA.  Lever also serves as the color analyst for the Kings radio broadcasts.\"\n",
      "- *Chris Mullin (basketball):* \"Christopher Paul Mullin (born July 30, 1963) is an American retired professional basketball player and current head coach of the St. John's Red Storm.  He previously served as special advisor for the Sacramento Kings and general manager of the Golden State Warriors.  He is a two-time Olympic Gold medalist and a two-time Naismith Memorial Basketball Hall of Fame inductee (in 2010 as a member of the 1992 United States men's Olympic basketball team (\"The Dream Team\"), and in 2011 for his individual career).\"\n",
      "- *2000–01 Charlotte Hornets season:* \"The 2000–01 NBA season was the thirteenth season for the Charlotte Hornets in the National Basketball Association.  During the offseason, the Hornets acquired Jamal Mashburn, P.J. Brown and Otis Thorpe from the Miami Heat, and re-signed free agent Hersey Hawkins.  With the acquisitions of Mashburn and Brown along with veterans David Wesley and Elden Campbell, plus an increased role for second-year guard Baron Davis, the Hornets finished the season third in the Central Division with a 46–36 record, and qualified for their sixth Playoff appearance.  In the playoffs, the players all wore headbands to show team unity as they swept the 3rd-seeded Miami Heat in three straight games in the Eastern Conference First Round.  However, they were eliminated by the Milwaukee Bucks three games to four in the Conference Semifinals after taking a 3–2 series lead.  Following the season, Derrick Coleman was traded back to the Philadelphia 76ers, second-year forward Eddie Robinson signed as a free agent with the Chicago Bulls, and Hawkins and Thorpe both retired.\"\n",
      "- *2000–01 Golden State Warriors season:* \"The 2000–01 NBA season was the Warriors' 55th season in the National Basketball Association, and 39th in the San Francisco Bay Area.  During the offseason, the Warriors re-signed free agent and former All-Star forward Chris Mullin, while acquiring Danny Fortson from the Boston Celtics and Bob Sura from the Cleveland Cavaliers.  However, Fortson only played just six games due to a foot injury.  Under new head coach Dave Cowens, the Warriors won their season opener defeating the Phoenix Suns 96–94 on October 31, but their struggles continued as they went on a 7-game losing streak afterwards.  With a 14–28 record in late January, the Warriors lost 37 of their final 40 games, including a 13-game losing streak to end their season finishing last place in the Pacific Division with an awful 17–65 record.  Antawn Jamison led the team in scoring averaging 24.9 points per game.  Following the season, Mullin retired.\"\n",
      "- *Reggie Slater:* \"Reginald Dwayne \"Reggie\" Slater (born August 27, 1970) is an American retired professional basketball player born in Houston, Texas.  A 6'7\", 255-lb.  power forward from the University of Wyoming, Slater was never drafted by an NBA team but did manage to play in eight NBA seasons for the Denver Nuggets, Portland Trail Blazers, Dallas Mavericks, Toronto Raptors, Minnesota Timberwolves, New Jersey Nets and Atlanta Hawks from 1994–1999 and 2000–2003.\"\n",
      "- *Willie Green:* \"Willie J. Green (born July 28, 1981) is an American retired professional basketball player and current assistant coach with the Golden State Warriors of the National Basketball Association (NBA).  During his professional career, Green has previously played for the Philadelphia 76ers, New Orleans Hornets, Atlanta Hawks, Los Angeles Clippers and Orlando Magic of the National Basketball Association (NBA).  He was selected in the second round (41st pick overall) of the 2003 NBA draft by the Seattle SuperSonics and later acquired by the Philadelphia 76ers from Seattle in a draft-night trade for the draft rights to Paccelis Morlende (50th pick overall) and cash considerations.\"\n",
      "- *Jason Collins:* \"Jason Paul Collins (born December 2, 1978) is an American retired professional basketball player who played 13 seasons in the National Basketball Association (NBA).  He played college basketball for Stanford University, where he was an All-American in 2000–01, before being drafted 18th overall pick in the 2001 NBA draft by the Houston Rockets.  He went on to play for the New Jersey Nets, Memphis Grizzlies, Minnesota Timberwolves, Atlanta Hawks, Boston Celtics, Washington Wizards and Brooklyn Nets.\"\n",
      "- *Andrew DeClercq:* \"Andrew Donald DeClercq (born February 1, 1973) is an American retired professional basketball player and current coach.  He was a center and power forward in the National Basketball Association (NBA) for ten seasons during the 1990s and 2000s.  DeClercq played college basketball for the University of Florida, and thereafter, he played professionally for the Golden State Warriors, Boston Celtics, Cleveland Cavaliers and Orlando Magic of the NBA.\"\n",
      "- *Kareem Abdul-Jabbar:* \"Kareem Abdul-Jabbar (born Ferdinand Lewis Alcindor Jr.; April 16, 1947) is an American retired professional basketball player who played 20 seasons in the National Basketball Association (NBA) for the Milwaukee Bucks and the Los Angeles Lakers.  During his career as a center, Abdul-Jabbar was a record six-time NBA Most Valuable Player (MVP), a record 19-time NBA All-Star, a 15-time All-NBA selection, and an 11-time NBA All-Defensive Team member.  A member of six NBA championship teams as a player and two as an assistant coach, Abdul-Jabbar twice was voted NBA Finals MVP.  In 1996, he was honored as one of the 50 Greatest Players in NBA History.  NBA coach Pat Riley and players Isiah Thomas and Julius Erving have called him the greatest basketball player of all time.\"\n",
      "- *Butch Lee:* \"Alfred \"Butch\" Lee, Jr. (born December 5, 1956) is a Puerto Rican retired professional basketball player.  He began his career in the NCAA, where he gathered several \"Player of the Year\" recognitions and earned All-American honors as both a junior and senior while at Marquette University.  Lee was selected as the Most Outstanding Player at the 1977 Final Four where he led the Warriors to the school's first national championship.  The university recognized this by retiring his jersey.  Lee was the first Puerto Rican and Latin American-born athlete to play in the National Basketball Association (NBA), accomplishing this after being selected in the first round of the 1978 NBA draft.  There he played for the Atlanta Hawks, Cleveland Cavaliers and the Los Angeles Lakers.  Lee concluded his career in the Baloncesto Superior Nacional (BSN).  He is known to be the only Puerto Rican professional basketball player to win championships in the NCAA, NBA, and BSN.  Lee was a member of the Puerto Rican national team.\"\n",
      "\n",
      "Question: When was the American retired professional basketball player born who was re-signed to Warriors during the offseason of  2000–01 NBA?\n",
      "\n",
      "<|eot_id|><|start_header_id|>assistant<|end_header_id|>\n",
      "\n",
      "The American retired professional basketball player born who was re-signed to the Golden State Warriors during the offseason of 2000–01 NBA was Chris Mullin.<|eot_id|>\n"
     ]
    }
   ],
   "source": [
    "tokens = tokenizer.decode(gen_output['input_ids'][0])\n",
    "print(tokens)"
   ]
  }
 ],
 "metadata": {
  "kernelspec": {
   "display_name": "transformer_explain",
   "language": "python",
   "name": "python3"
  },
  "language_info": {
   "codemirror_mode": {
    "name": "ipython",
    "version": 3
   },
   "file_extension": ".py",
   "mimetype": "text/x-python",
   "name": "python",
   "nbconvert_exporter": "python",
   "pygments_lexer": "ipython3",
   "version": "3.12.5"
  }
 },
 "nbformat": 4,
 "nbformat_minor": 2
}
