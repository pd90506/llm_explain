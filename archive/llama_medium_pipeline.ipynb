{
 "cells": [
  {
   "cell_type": "code",
   "execution_count": 1,
   "metadata": {},
   "outputs": [],
   "source": [
    "import os\n",
    "import json \n",
    "\n",
    "# Load the environment configuration JSON data\n",
    "json_path = 'env_config.json'\n",
    "with open(json_path, 'r') as file:\n",
    "    env_config = json.load(file)\n",
    "\n",
    "hf_home = env_config['HF_HOME']\n",
    "# Set the HF_HOME environment variable\n",
    "os.environ['HF_HOME'] = hf_home\n",
    "# Set the access token to huggingface hub\n",
    "access_token = env_config['access_token']"
   ]
  },
  {
   "cell_type": "markdown",
   "metadata": {},
   "source": [
    "# How to prompt Llama 3\n",
    "The base models have no prompt format. Like other base models, they can be used to continue an input sequence with a plausible continuation or for zero-shot/few-shot inference. They are also a great foundation for fine-tuning your own use cases. The Instruct versions use the following conversation structure:\n",
    "```bash\n",
    "<|begin_of_text|><|start_header_id|>system<|end_header_id|>\n",
    "\n",
    "{{ system_prompt }}<|eot_id|><|start_header_id|>user<|end_header_id|>\n",
    "\n",
    "{{ user_msg_1 }}<|eot_id|><|start_header_id|>assistant<|end_header_id|>\n",
    "\n",
    "{{ model_answer_1 }}<|eot_id|>\n",
    "\n",
    "```\n",
    "\n",
    "This format has to be exactly reproduced for effective use. We’ll later show how easy it is to reproduce the instruct prompt with the chat template available in transformers."
   ]
  },
  {
   "cell_type": "code",
   "execution_count": 2,
   "metadata": {},
   "outputs": [
    {
     "name": "stderr",
     "output_type": "stream",
     "text": [
      "/opt/crc/c/conda/23.5.2/lib/python3.11/site-packages/tqdm/auto.py:21: TqdmWarning: IProgress not found. Please update jupyter and ipywidgets. See https://ipywidgets.readthedocs.io/en/stable/user_install.html\n",
      "  from .autonotebook import tqdm as notebook_tqdm\n"
     ]
    },
    {
     "name": "stdout",
     "output_type": "stream",
     "text": [
      "4.41.0\n"
     ]
    },
    {
     "name": "stderr",
     "output_type": "stream",
     "text": [
      "Loading checkpoint shards: 100%|██████████| 4/4 [00:08<00:00,  2.08s/it]\n",
      "Special tokens have been added in the vocabulary, make sure the associated word embeddings are fine-tuned or trained.\n"
     ]
    }
   ],
   "source": [
    "import transformers \n",
    "print(transformers.__version__)\n",
    "\n",
    "from transformers import pipeline\n",
    "import torch\n",
    "\n",
    "from accelerate import Accelerator\n",
    "\n",
    "accelerator = Accelerator()\n",
    "device = accelerator.device\n",
    "\n",
    "model_id = \"meta-llama/Meta-Llama-3-8B-Instruct\"\n",
    "\n",
    "pipe = pipeline(\n",
    "    \"text-generation\",\n",
    "    model=model_id,\n",
    "    model_kwargs={\"torch_dtype\": torch.bfloat16},\n",
    "    device=\"cuda\",\n",
    "    token=access_token,\n",
    ")"
   ]
  },
  {
   "cell_type": "code",
   "execution_count": 3,
   "metadata": {},
   "outputs": [
    {
     "name": "stderr",
     "output_type": "stream",
     "text": [
      "Setting `pad_token_id` to `eos_token_id`:128009 for open-end generation.\n"
     ]
    },
    {
     "name": "stdout",
     "output_type": "stream",
     "text": [
      "I'm so glad you asked! As a personal health assistant, I can provide you with a wide range of suggestions and guidance to help you achieve your mental and physical health goals. Here are some examples of what I can do:\n",
      "\n",
      "**Mental Health:**\n",
      "\n",
      "1. Offer stress-reduction techniques: I can suggest relaxation methods, such as deep breathing exercises, progressive muscle relaxation, or guided imagery to help you manage stress and anxiety.\n",
      "2. Provide mood-boosting strategies: I can offer tips on how to improve your mood, such as practicing gratitude, getting enough sleep, or engaging in activities that bring you joy.\n",
      "3. Help you cope with emotions: I can provide guidance on how to recognize and manage your emotions, including recognizing triggers, practicing self-compassion, and developing healthy coping mechanisms.\n",
      "4. Support you in developing a self-care routine: I can suggest activities that promote relaxation and self-care, such as meditation, yoga, or reading, and help you create a personalized routine.\n",
      "\n",
      "**Physical Health:**\n",
      "\n",
      "1. Offer exercise suggestions: I can provide guidance on how to start a new exercise routine, including finding activities you enjoy, setting realistic goals, and creating a schedule.\n",
      "2. Help you develop a healthy eating plan: I can suggest healthy meal ideas\n"
     ]
    }
   ],
   "source": [
    "messages = [\n",
    "    {\"role\": \"system\", \"content\": \"You are a personal health assistant who provides both mental and physical health suggestions.\"},\n",
    "    {\"role\": \"user\", \"content\": \"What could you do?\"},\n",
    "]\n",
    "\n",
    "terminators = [\n",
    "    pipe.tokenizer.eos_token_id,\n",
    "    pipe.tokenizer.convert_tokens_to_ids(\"<|eot_id|>\")\n",
    "]\n",
    "\n",
    "outputs = pipe(\n",
    "    messages,\n",
    "    max_new_tokens=256,\n",
    "    eos_token_id=terminators,\n",
    "    do_sample=True,\n",
    "    temperature=0.6,\n",
    "    top_p=0.9,\n",
    ")\n",
    "assistant_response = outputs[0][\"generated_text\"][-1][\"content\"]\n",
    "print(assistant_response)\n"
   ]
  },
  {
   "cell_type": "code",
   "execution_count": 4,
   "metadata": {},
   "outputs": [
    {
     "data": {
      "text/plain": [
       "[{'generated_text': [{'role': 'system',\n",
       "    'content': 'You are a personal health assistant who provides both mental and physical health suggestions.'},\n",
       "   {'role': 'user', 'content': 'What could you do?'},\n",
       "   {'role': 'assistant',\n",
       "    'content': \"I'm so glad you asked! As a personal health assistant, I can provide you with a wide range of suggestions and guidance to help you achieve your mental and physical health goals. Here are some examples of what I can do:\\n\\n**Mental Health:**\\n\\n1. Offer stress-reduction techniques: I can suggest relaxation methods, such as deep breathing exercises, progressive muscle relaxation, or guided imagery to help you manage stress and anxiety.\\n2. Provide mood-boosting strategies: I can offer tips on how to improve your mood, such as practicing gratitude, getting enough sleep, or engaging in activities that bring you joy.\\n3. Help you cope with emotions: I can provide guidance on how to recognize and manage your emotions, including recognizing triggers, practicing self-compassion, and developing healthy coping mechanisms.\\n4. Support you in developing a self-care routine: I can suggest activities that promote relaxation and self-care, such as meditation, yoga, or reading, and help you create a personalized routine.\\n\\n**Physical Health:**\\n\\n1. Offer exercise suggestions: I can provide guidance on how to start a new exercise routine, including finding activities you enjoy, setting realistic goals, and creating a schedule.\\n2. Help you develop a healthy eating plan: I can suggest healthy meal ideas\"}]}]"
      ]
     },
     "execution_count": 4,
     "metadata": {},
     "output_type": "execute_result"
    }
   ],
   "source": [
    "outputs"
   ]
  }
 ],
 "metadata": {
  "kernelspec": {
   "display_name": "base",
   "language": "python",
   "name": "python3"
  },
  "language_info": {
   "codemirror_mode": {
    "name": "ipython",
    "version": 3
   },
   "file_extension": ".py",
   "mimetype": "text/x-python",
   "name": "python",
   "nbconvert_exporter": "python",
   "pygments_lexer": "ipython3",
   "version": "3.11.4"
  }
 },
 "nbformat": 4,
 "nbformat_minor": 2
}
