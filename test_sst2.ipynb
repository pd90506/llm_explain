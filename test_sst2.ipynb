{
 "cells": [
  {
   "cell_type": "code",
   "execution_count": 1,
   "metadata": {},
   "outputs": [],
   "source": [
    "from llmexp.llm.smollm import LLMWrapper\n",
    "from accelerate import Accelerator\n",
    "import torch\n",
    "\n",
    "# checkpoint = \"meta-llama/Meta-Llama-3-8B-Instruct\"\n",
    "checkpoint = \"meta-llama/Llama-3.2-1B-Instruct\"\n",
    "# checkpoint = \"HuggingFaceTB/SmolLM-1.7B-Instruct\"\n",
    "saved_mab_model = \"checkpoints/mab_model_100.pth\"\n",
    "\n",
    "\n",
    "accelerator = Accelerator()\n",
    "device = accelerator.device\n",
    "\n",
    "\n",
    "llm = LLMWrapper(checkpoint, device=device)\n",
    "tokenizer = llm.tokenizer"
   ]
  },
  {
   "cell_type": "code",
   "execution_count": 2,
   "metadata": {},
   "outputs": [
    {
     "name": "stderr",
     "output_type": "stream",
     "text": [
      "Setting `pad_token_id` to `eos_token_id`:128001 for open-end generation.\n"
     ]
    },
    {
     "name": "stdout",
     "output_type": "stream",
     "text": [
      "<|begin_of_text|><|begin_of_text|><|start_header_id|>system<|end_header_id|>\n",
      "\n",
      "Cutting Knowledge Date: December 2023\n",
      "Today Date: 26 Jul 2024\n",
      "\n",
      "Analyze the sentiment of the following sentence and respond with only one word: 'positive,' 'negative,' or 'neutral,' based on the overall tone and meaning of the sentence. Do not provide any additional explanation.<|eot_id|><|start_header_id|>sentence<|end_header_id|>\n",
      "\n",
      "I am extremely disappointed with the quality; it broke after just one day.<|eot_id|><|start_header_id|>assistant<|end_header_id|>\n",
      "\n",
      "negative<|eot_id|>\n"
     ]
    }
   ],
   "source": [
    "# instruction = \"Analyze the sentiment of the following sentence. Be brief.\"\n",
    "instruction = \"Analyze the sentiment of the following sentence and respond with only one word: 'positive,' 'negative,' or 'neutral,' based on the overall tone and meaning of the sentence. Do not provide any additional explanation.\"\n",
    "user_input = \"I am extremely disappointed with the quality; it broke after just one day.\"\n",
    "\n",
    "content = [\n",
    "            {\"role\": \"system\", \n",
    "            \"content\": instruction\n",
    "            },\n",
    "\n",
    "            {\"role\": \"sentence\", \n",
    "            \"content\": user_input\n",
    "            }\n",
    "        ]\n",
    "template = tokenizer.apply_chat_template(content, tokenize=False, add_generation_prompt=True)\n",
    "# print(template)\n",
    "\n",
    "# The generated outputs \n",
    "gen_output = llm.generate_from_texts(template)\n",
    "print(gen_output)"
   ]
  },
  {
   "cell_type": "code",
   "execution_count": 3,
   "metadata": {},
   "outputs": [
    {
     "name": "stdout",
     "output_type": "stream",
     "text": [
      "\n"
     ]
    },
    {
     "name": "stderr",
     "output_type": "stream",
     "text": [
      "/tmp/1107694.1.gpu/ipykernel_689266/3922162976.py:2: FutureWarning: You are using `torch.load` with `weights_only=False` (the current default value), which uses the default pickle module implicitly. It is possible to construct malicious pickle data which will execute arbitrary code during unpickling (See https://github.com/pytorch/pytorch/blob/main/SECURITY.md#untrusted-models for more details). In a future release, the default value for `weights_only` will be flipped to `True`. This limits the functions that could be executed during unpickling. Arbitrary objects will no longer be allowed to be loaded via this mode unless they are explicitly allowlisted by the user via `torch.serialization.add_safe_globals`. We recommend you start setting `weights_only=True` for any use case where you don't have full control of the loaded file. Please open an issue on GitHub for any issues related to this experimental feature.\n",
      "  mab_model = MABModel.load_with_base_model(torch.load(saved_mab_model), llm, hidden_size=1024)\n"
     ]
    }
   ],
   "source": [
    "from llmexp.explainer.mab_model import MABModel\n",
    "mab_model = MABModel.load_with_base_model(torch.load(saved_mab_model), llm, hidden_size=1024)\n",
    "mab_model.to(device)\n",
    "print()"
   ]
  },
  {
   "cell_type": "code",
   "execution_count": 4,
   "metadata": {},
   "outputs": [
    {
     "name": "stderr",
     "output_type": "stream",
     "text": [
      "We detected that you are passing `past_key_values` as a tuple and this is deprecated and will be removed in v4.43. Please use an appropriate `Cache` class (https://huggingface.co/docs/transformers/v4.41.3/en/internal/generation_utils#transformers.Cache)\n"
     ]
    }
   ],
   "source": [
    "gen_inputs = tokenizer(gen_output, return_tensors=\"pt\").to(device)\n",
    "input_ids = gen_inputs['input_ids'][:, :-1]\n",
    "attention_mask = gen_inputs['attention_mask'][:, :-1]\n",
    "_, mab_values, _ = mab_model.get_dist_value(input_ids, attention_mask)\n",
    "\n"
   ]
  },
  {
   "cell_type": "code",
   "execution_count": 5,
   "metadata": {},
   "outputs": [
    {
     "name": "stdout",
     "output_type": "stream",
     "text": [
      "tensor([[ 1.7370e-03,  1.7370e-03,  1.7370e-03,  1.5880e-03, -7.4174e-05,\n",
      "          2.2015e-03, -8.0579e-04, -1.2981e-03, -2.0936e-03, -7.5222e-03,\n",
      "         -5.2291e-04, -4.6182e-03, -5.0603e-04,  4.9428e-03,  3.6920e-04,\n",
      "         -3.9979e-03, -6.3654e-03, -1.0578e-03,  3.4851e-03, -4.1523e-03,\n",
      "         -2.9535e-03,  3.4223e-03,  5.3811e-03,  2.9356e-03,  4.8862e-03,\n",
      "         -1.6982e-04, -2.6882e-03, -3.0901e-03, -2.2921e-03, -6.0685e-06,\n",
      "          3.0490e-04, -7.9522e-04,  6.8277e-04,  1.1475e-03,  1.3192e-03,\n",
      "         -3.6141e-04,  2.3246e-03, -6.9876e-04,  2.2424e-03,  1.5494e-03,\n",
      "         -3.1375e-03, -2.6720e-03,  1.3070e-04,  2.8889e-03,  1.0036e-03,\n",
      "         -1.3501e-03,  1.2568e-03,  2.2978e-03,  1.8504e-03, -1.5304e-03,\n",
      "         -9.8464e-04, -1.0098e-03,  3.3267e-03,  1.8721e-03,  3.8187e-03,\n",
      "          1.8039e-03,  1.8381e-03, -3.1492e-03, -1.1453e-03,  1.4353e-03,\n",
      "         -1.2175e-03,  4.5283e-04, -1.9130e-03,  4.9260e-03,  5.3758e-03,\n",
      "          2.8541e-04,  4.9535e-03,  7.3336e-04,  4.9118e-04,  2.8739e-04,\n",
      "         -6.4308e-03, -6.6160e-04,  3.2667e-03, -5.7885e-03,  3.9379e-03,\n",
      "          1.1246e-03, -3.3106e-03, -4.8558e-03,  4.1113e-03, -2.8458e-03,\n",
      "          5.2673e-03,  7.5164e-04,  1.5872e-03,  1.3777e-04,  1.4864e-03,\n",
      "          3.9322e-03,  2.3621e-03,  4.4916e-04,  5.0272e-03,  3.7508e-03,\n",
      "         -2.4406e-03,  1.9305e-04,  3.7165e-03, -1.1530e-03,  6.7155e-04]],\n",
      "       device='cuda:0', grad_fn=<SqueezeBackward1>)\n",
      "torch.Size([1, 95])\n"
     ]
    }
   ],
   "source": [
    "print(mab_values)\n",
    "print(mab_values.shape)"
   ]
  },
  {
   "cell_type": "code",
   "execution_count": 6,
   "metadata": {},
   "outputs": [
    {
     "name": "stdout",
     "output_type": "stream",
     "text": [
      "tensor([[128000, 128000, 128000, 128006,   9125, 128007,    271,  38766,   1303,\n",
      "          33025,   2696,     25,   6790,    220,   2366,     18,    198,  15724,\n",
      "           2696,     25,    220,   1627,  10263,    220,   2366,     19,    271,\n",
      "           2127,  56956,    279,  27065,    315,    279,   2768,  11914,    323,\n",
      "           6013,    449,   1193,    832,   3492,     25,    364,  31587,   2965,\n",
      "            364,  43324,   2965,    477,    364,  60668,   2965,   3196,    389,\n",
      "            279,   8244,  16630,    323,   7438,    315,    279,  11914,     13,\n",
      "           3234,    539,   3493,    904,   5217,  16540,     13, 128009, 128006,\n",
      "          52989, 128007,    271,     40,   1097,   9193,  25406,    449,    279,\n",
      "           4367,     26,    433,  14760,   1306,   1120,    832,   1938,     13,\n",
      "         128009, 128006,  78191, 128007,    271,  43324]], device='cuda:0')\n",
      "torch.Size([1, 96])\n"
     ]
    }
   ],
   "source": [
    "print(input_ids)\n",
    "print(input_ids.shape)"
   ]
  },
  {
   "cell_type": "code",
   "execution_count": 7,
   "metadata": {},
   "outputs": [],
   "source": [
    "def visualize_tokens_with_values(input_ids, mab_values, tokenizer):\n",
    "    # Decode tokens one by one to preserve alignment\n",
    "    tokens = []\n",
    "    for i in range(input_ids.shape[1]):\n",
    "        token = tokenizer.decode(input_ids[0, i:i+1])\n",
    "        tokens.append(token)\n",
    "    \n",
    "    # Normalize MAB values to [0,1] for color intensity first\n",
    "    normalized_values = (mab_values[0] - mab_values[0].min()) / (mab_values[0].max() - mab_values[0].min())\n",
    "    \n",
    "    # Pad normalized_values with a zero at the end\n",
    "    padded_normalized_values = torch.cat([normalized_values, torch.zeros(1, device=mab_values.device)], dim=0)\n",
    "    # Pad original mab_values with the last actual value\n",
    "    padded_mab_values = torch.cat([mab_values[0], mab_values[0][-1:]], dim=0)\n",
    "    \n",
    "    # Generate HTML with colored text and values\n",
    "    html_output = \"<div style='font-family: monospace; line-height: 2; background-color: white; padding: 10px;'>\"\n",
    "    for token, value, orig_value in zip(tokens, padded_normalized_values, padded_mab_values):\n",
    "        # Use a gradient from white to green\n",
    "        intensity = float(value)\n",
    "        green_color = int(intensity * 200)  # Control the maximum intensity\n",
    "        html_output += f'<span style=\"color: black; background-color: rgba(0, {green_color}, 0, 0.3); padding: 0.2em; margin: 0.1em; border-radius: 3px;\" title=\"MAB: {orig_value:.3f}, Norm: {value:.3f}\">{token}</span>'\n",
    "    html_output += \"</div>\"\n",
    "    \n",
    "    # Print the values\n",
    "    print(\"Token\\tNormalized Value\\tOriginal MAB Value\")\n",
    "    print(\"-\" * 50)\n",
    "    for token, value, orig_value in zip(tokens, padded_normalized_values, padded_mab_values):\n",
    "        print(f\"{token}\\t{value:.3f}\\t\\t{orig_value:.3f}\")\n",
    "    \n",
    "    from IPython.display import HTML\n",
    "    return HTML(html_output)"
   ]
  },
  {
   "cell_type": "code",
   "execution_count": 8,
   "metadata": {},
   "outputs": [
    {
     "name": "stdout",
     "output_type": "stream",
     "text": [
      "Token\tNormalized Value\tOriginal MAB Value\n",
      "--------------------------------------------------\n",
      "<|begin_of_text|>\t0.718\t\t0.002\n",
      "<|begin_of_text|>\t0.718\t\t0.002\n",
      "<|begin_of_text|>\t0.718\t\t0.002\n",
      "<|start_header_id|>\t0.706\t\t0.002\n",
      "system\t0.577\t\t-0.000\n",
      "<|end_header_id|>\t0.754\t\t0.002\n",
      "\n",
      "\n",
      "\t0.521\t\t-0.001\n",
      "Cut\t0.482\t\t-0.001\n",
      "ting\t0.421\t\t-0.002\n",
      " Knowledge\t0.000\t\t-0.008\n",
      " Date\t0.542\t\t-0.001\n",
      ":\t0.225\t\t-0.005\n",
      " December\t0.544\t\t-0.001\n",
      " \t0.966\t\t0.005\n",
      "202\t0.612\t\t0.000\n",
      "3\t0.273\t\t-0.004\n",
      "\n",
      "\t0.090\t\t-0.006\n",
      "Today\t0.501\t\t-0.001\n",
      " Date\t0.853\t\t0.003\n",
      ":\t0.261\t\t-0.004\n",
      " \t0.354\t\t-0.003\n",
      "26\t0.848\t\t0.003\n",
      " Jul\t1.000\t\t0.005\n",
      " \t0.810\t\t0.003\n",
      "202\t0.962\t\t0.005\n",
      "4\t0.570\t\t-0.000\n",
      "\n",
      "\n",
      "\t0.375\t\t-0.003\n",
      "An\t0.343\t\t-0.003\n",
      "alyze\t0.405\t\t-0.002\n",
      " the\t0.582\t\t-0.000\n",
      " sentiment\t0.607\t\t0.000\n",
      " of\t0.521\t\t-0.001\n",
      " the\t0.636\t\t0.001\n",
      " following\t0.672\t\t0.001\n",
      " sentence\t0.685\t\t0.001\n",
      " and\t0.555\t\t-0.000\n",
      " respond\t0.763\t\t0.002\n",
      " with\t0.529\t\t-0.001\n",
      " only\t0.757\t\t0.002\n",
      " one\t0.703\t\t0.002\n",
      " word\t0.340\t\t-0.003\n",
      ":\t0.376\t\t-0.003\n",
      " '\t0.593\t\t0.000\n",
      "positive\t0.807\t\t0.003\n",
      ",'\t0.661\t\t0.001\n",
      " '\t0.478\t\t-0.001\n",
      "negative\t0.680\t\t0.001\n",
      ",'\t0.761\t\t0.002\n",
      " or\t0.726\t\t0.002\n",
      " '\t0.464\t\t-0.002\n",
      "neutral\t0.507\t\t-0.001\n",
      ",'\t0.505\t\t-0.001\n",
      " based\t0.841\t\t0.003\n",
      " on\t0.728\t\t0.002\n",
      " the\t0.879\t\t0.004\n",
      " overall\t0.723\t\t0.002\n",
      " tone\t0.725\t\t0.002\n",
      " and\t0.339\t\t-0.003\n",
      " meaning\t0.494\t\t-0.001\n",
      " of\t0.694\t\t0.001\n",
      " the\t0.489\t\t-0.001\n",
      " sentence\t0.618\t\t0.000\n",
      ".\t0.435\t\t-0.002\n",
      " Do\t0.965\t\t0.005\n",
      " not\t1.000\t\t0.005\n",
      " provide\t0.605\t\t0.000\n",
      " any\t0.967\t\t0.005\n",
      " additional\t0.640\t\t0.001\n",
      " explanation\t0.621\t\t0.000\n",
      ".\t0.605\t\t0.000\n",
      "<|eot_id|>\t0.085\t\t-0.006\n",
      "<|start_header_id|>\t0.532\t\t-0.001\n",
      "sentence\t0.836\t\t0.003\n",
      "<|end_header_id|>\t0.134\t\t-0.006\n",
      "\n",
      "\n",
      "\t0.888\t\t0.004\n",
      "I\t0.670\t\t0.001\n",
      " am\t0.326\t\t-0.003\n",
      " extremely\t0.207\t\t-0.005\n",
      " disappointed\t0.902\t\t0.004\n",
      " with\t0.362\t\t-0.003\n",
      " the\t0.991\t\t0.005\n",
      " quality\t0.641\t\t0.001\n",
      ";\t0.706\t\t0.002\n",
      " it\t0.594\t\t0.000\n",
      " broke\t0.698\t\t0.001\n",
      " after\t0.888\t\t0.004\n",
      " just\t0.766\t\t0.002\n",
      " one\t0.618\t\t0.000\n",
      " day\t0.973\t\t0.005\n",
      ".\t0.874\t\t0.004\n",
      "<|eot_id|>\t0.394\t\t-0.002\n",
      "<|start_header_id|>\t0.598\t\t0.000\n",
      "assistant\t0.871\t\t0.004\n",
      "<|end_header_id|>\t0.494\t\t-0.001\n",
      "\n",
      "\n",
      "\t0.635\t\t0.001\n",
      "negative\t0.000\t\t0.001\n"
     ]
    },
    {
     "data": {
      "text/html": [
       "<div style='font-family: monospace; line-height: 2; background-color: white; padding: 10px;'><span style=\"color: black; background-color: rgba(0, 143, 0, 0.3); padding: 0.2em; margin: 0.1em; border-radius: 3px;\" title=\"MAB: 0.002, Norm: 0.718\"><|begin_of_text|></span><span style=\"color: black; background-color: rgba(0, 143, 0, 0.3); padding: 0.2em; margin: 0.1em; border-radius: 3px;\" title=\"MAB: 0.002, Norm: 0.718\"><|begin_of_text|></span><span style=\"color: black; background-color: rgba(0, 143, 0, 0.3); padding: 0.2em; margin: 0.1em; border-radius: 3px;\" title=\"MAB: 0.002, Norm: 0.718\"><|begin_of_text|></span><span style=\"color: black; background-color: rgba(0, 141, 0, 0.3); padding: 0.2em; margin: 0.1em; border-radius: 3px;\" title=\"MAB: 0.002, Norm: 0.706\"><|start_header_id|></span><span style=\"color: black; background-color: rgba(0, 115, 0, 0.3); padding: 0.2em; margin: 0.1em; border-radius: 3px;\" title=\"MAB: -0.000, Norm: 0.577\">system</span><span style=\"color: black; background-color: rgba(0, 150, 0, 0.3); padding: 0.2em; margin: 0.1em; border-radius: 3px;\" title=\"MAB: 0.002, Norm: 0.754\"><|end_header_id|></span><span style=\"color: black; background-color: rgba(0, 104, 0, 0.3); padding: 0.2em; margin: 0.1em; border-radius: 3px;\" title=\"MAB: -0.001, Norm: 0.521\">\n",
       "\n",
       "</span><span style=\"color: black; background-color: rgba(0, 96, 0, 0.3); padding: 0.2em; margin: 0.1em; border-radius: 3px;\" title=\"MAB: -0.001, Norm: 0.482\">Cut</span><span style=\"color: black; background-color: rgba(0, 84, 0, 0.3); padding: 0.2em; margin: 0.1em; border-radius: 3px;\" title=\"MAB: -0.002, Norm: 0.421\">ting</span><span style=\"color: black; background-color: rgba(0, 0, 0, 0.3); padding: 0.2em; margin: 0.1em; border-radius: 3px;\" title=\"MAB: -0.008, Norm: 0.000\"> Knowledge</span><span style=\"color: black; background-color: rgba(0, 108, 0, 0.3); padding: 0.2em; margin: 0.1em; border-radius: 3px;\" title=\"MAB: -0.001, Norm: 0.542\"> Date</span><span style=\"color: black; background-color: rgba(0, 45, 0, 0.3); padding: 0.2em; margin: 0.1em; border-radius: 3px;\" title=\"MAB: -0.005, Norm: 0.225\">:</span><span style=\"color: black; background-color: rgba(0, 108, 0, 0.3); padding: 0.2em; margin: 0.1em; border-radius: 3px;\" title=\"MAB: -0.001, Norm: 0.544\"> December</span><span style=\"color: black; background-color: rgba(0, 193, 0, 0.3); padding: 0.2em; margin: 0.1em; border-radius: 3px;\" title=\"MAB: 0.005, Norm: 0.966\"> </span><span style=\"color: black; background-color: rgba(0, 122, 0, 0.3); padding: 0.2em; margin: 0.1em; border-radius: 3px;\" title=\"MAB: 0.000, Norm: 0.612\">202</span><span style=\"color: black; background-color: rgba(0, 54, 0, 0.3); padding: 0.2em; margin: 0.1em; border-radius: 3px;\" title=\"MAB: -0.004, Norm: 0.273\">3</span><span style=\"color: black; background-color: rgba(0, 17, 0, 0.3); padding: 0.2em; margin: 0.1em; border-radius: 3px;\" title=\"MAB: -0.006, Norm: 0.090\">\n",
       "</span><span style=\"color: black; background-color: rgba(0, 100, 0, 0.3); padding: 0.2em; margin: 0.1em; border-radius: 3px;\" title=\"MAB: -0.001, Norm: 0.501\">Today</span><span style=\"color: black; background-color: rgba(0, 170, 0, 0.3); padding: 0.2em; margin: 0.1em; border-radius: 3px;\" title=\"MAB: 0.003, Norm: 0.853\"> Date</span><span style=\"color: black; background-color: rgba(0, 52, 0, 0.3); padding: 0.2em; margin: 0.1em; border-radius: 3px;\" title=\"MAB: -0.004, Norm: 0.261\">:</span><span style=\"color: black; background-color: rgba(0, 70, 0, 0.3); padding: 0.2em; margin: 0.1em; border-radius: 3px;\" title=\"MAB: -0.003, Norm: 0.354\"> </span><span style=\"color: black; background-color: rgba(0, 169, 0, 0.3); padding: 0.2em; margin: 0.1em; border-radius: 3px;\" title=\"MAB: 0.003, Norm: 0.848\">26</span><span style=\"color: black; background-color: rgba(0, 200, 0, 0.3); padding: 0.2em; margin: 0.1em; border-radius: 3px;\" title=\"MAB: 0.005, Norm: 1.000\"> Jul</span><span style=\"color: black; background-color: rgba(0, 162, 0, 0.3); padding: 0.2em; margin: 0.1em; border-radius: 3px;\" title=\"MAB: 0.003, Norm: 0.810\"> </span><span style=\"color: black; background-color: rgba(0, 192, 0, 0.3); padding: 0.2em; margin: 0.1em; border-radius: 3px;\" title=\"MAB: 0.005, Norm: 0.962\">202</span><span style=\"color: black; background-color: rgba(0, 113, 0, 0.3); padding: 0.2em; margin: 0.1em; border-radius: 3px;\" title=\"MAB: -0.000, Norm: 0.570\">4</span><span style=\"color: black; background-color: rgba(0, 74, 0, 0.3); padding: 0.2em; margin: 0.1em; border-radius: 3px;\" title=\"MAB: -0.003, Norm: 0.375\">\n",
       "\n",
       "</span><span style=\"color: black; background-color: rgba(0, 68, 0, 0.3); padding: 0.2em; margin: 0.1em; border-radius: 3px;\" title=\"MAB: -0.003, Norm: 0.343\">An</span><span style=\"color: black; background-color: rgba(0, 81, 0, 0.3); padding: 0.2em; margin: 0.1em; border-radius: 3px;\" title=\"MAB: -0.002, Norm: 0.405\">alyze</span><span style=\"color: black; background-color: rgba(0, 116, 0, 0.3); padding: 0.2em; margin: 0.1em; border-radius: 3px;\" title=\"MAB: -0.000, Norm: 0.582\"> the</span><span style=\"color: black; background-color: rgba(0, 121, 0, 0.3); padding: 0.2em; margin: 0.1em; border-radius: 3px;\" title=\"MAB: 0.000, Norm: 0.607\"> sentiment</span><span style=\"color: black; background-color: rgba(0, 104, 0, 0.3); padding: 0.2em; margin: 0.1em; border-radius: 3px;\" title=\"MAB: -0.001, Norm: 0.521\"> of</span><span style=\"color: black; background-color: rgba(0, 127, 0, 0.3); padding: 0.2em; margin: 0.1em; border-radius: 3px;\" title=\"MAB: 0.001, Norm: 0.636\"> the</span><span style=\"color: black; background-color: rgba(0, 134, 0, 0.3); padding: 0.2em; margin: 0.1em; border-radius: 3px;\" title=\"MAB: 0.001, Norm: 0.672\"> following</span><span style=\"color: black; background-color: rgba(0, 137, 0, 0.3); padding: 0.2em; margin: 0.1em; border-radius: 3px;\" title=\"MAB: 0.001, Norm: 0.685\"> sentence</span><span style=\"color: black; background-color: rgba(0, 110, 0, 0.3); padding: 0.2em; margin: 0.1em; border-radius: 3px;\" title=\"MAB: -0.000, Norm: 0.555\"> and</span><span style=\"color: black; background-color: rgba(0, 152, 0, 0.3); padding: 0.2em; margin: 0.1em; border-radius: 3px;\" title=\"MAB: 0.002, Norm: 0.763\"> respond</span><span style=\"color: black; background-color: rgba(0, 105, 0, 0.3); padding: 0.2em; margin: 0.1em; border-radius: 3px;\" title=\"MAB: -0.001, Norm: 0.529\"> with</span><span style=\"color: black; background-color: rgba(0, 151, 0, 0.3); padding: 0.2em; margin: 0.1em; border-radius: 3px;\" title=\"MAB: 0.002, Norm: 0.757\"> only</span><span style=\"color: black; background-color: rgba(0, 140, 0, 0.3); padding: 0.2em; margin: 0.1em; border-radius: 3px;\" title=\"MAB: 0.002, Norm: 0.703\"> one</span><span style=\"color: black; background-color: rgba(0, 67, 0, 0.3); padding: 0.2em; margin: 0.1em; border-radius: 3px;\" title=\"MAB: -0.003, Norm: 0.340\"> word</span><span style=\"color: black; background-color: rgba(0, 75, 0, 0.3); padding: 0.2em; margin: 0.1em; border-radius: 3px;\" title=\"MAB: -0.003, Norm: 0.376\">:</span><span style=\"color: black; background-color: rgba(0, 118, 0, 0.3); padding: 0.2em; margin: 0.1em; border-radius: 3px;\" title=\"MAB: 0.000, Norm: 0.593\"> '</span><span style=\"color: black; background-color: rgba(0, 161, 0, 0.3); padding: 0.2em; margin: 0.1em; border-radius: 3px;\" title=\"MAB: 0.003, Norm: 0.807\">positive</span><span style=\"color: black; background-color: rgba(0, 132, 0, 0.3); padding: 0.2em; margin: 0.1em; border-radius: 3px;\" title=\"MAB: 0.001, Norm: 0.661\">,'</span><span style=\"color: black; background-color: rgba(0, 95, 0, 0.3); padding: 0.2em; margin: 0.1em; border-radius: 3px;\" title=\"MAB: -0.001, Norm: 0.478\"> '</span><span style=\"color: black; background-color: rgba(0, 136, 0, 0.3); padding: 0.2em; margin: 0.1em; border-radius: 3px;\" title=\"MAB: 0.001, Norm: 0.680\">negative</span><span style=\"color: black; background-color: rgba(0, 152, 0, 0.3); padding: 0.2em; margin: 0.1em; border-radius: 3px;\" title=\"MAB: 0.002, Norm: 0.761\">,'</span><span style=\"color: black; background-color: rgba(0, 145, 0, 0.3); padding: 0.2em; margin: 0.1em; border-radius: 3px;\" title=\"MAB: 0.002, Norm: 0.726\"> or</span><span style=\"color: black; background-color: rgba(0, 92, 0, 0.3); padding: 0.2em; margin: 0.1em; border-radius: 3px;\" title=\"MAB: -0.002, Norm: 0.464\"> '</span><span style=\"color: black; background-color: rgba(0, 101, 0, 0.3); padding: 0.2em; margin: 0.1em; border-radius: 3px;\" title=\"MAB: -0.001, Norm: 0.507\">neutral</span><span style=\"color: black; background-color: rgba(0, 100, 0, 0.3); padding: 0.2em; margin: 0.1em; border-radius: 3px;\" title=\"MAB: -0.001, Norm: 0.505\">,'</span><span style=\"color: black; background-color: rgba(0, 168, 0, 0.3); padding: 0.2em; margin: 0.1em; border-radius: 3px;\" title=\"MAB: 0.003, Norm: 0.841\"> based</span><span style=\"color: black; background-color: rgba(0, 145, 0, 0.3); padding: 0.2em; margin: 0.1em; border-radius: 3px;\" title=\"MAB: 0.002, Norm: 0.728\"> on</span><span style=\"color: black; background-color: rgba(0, 175, 0, 0.3); padding: 0.2em; margin: 0.1em; border-radius: 3px;\" title=\"MAB: 0.004, Norm: 0.879\"> the</span><span style=\"color: black; background-color: rgba(0, 144, 0, 0.3); padding: 0.2em; margin: 0.1em; border-radius: 3px;\" title=\"MAB: 0.002, Norm: 0.723\"> overall</span><span style=\"color: black; background-color: rgba(0, 145, 0, 0.3); padding: 0.2em; margin: 0.1em; border-radius: 3px;\" title=\"MAB: 0.002, Norm: 0.725\"> tone</span><span style=\"color: black; background-color: rgba(0, 67, 0, 0.3); padding: 0.2em; margin: 0.1em; border-radius: 3px;\" title=\"MAB: -0.003, Norm: 0.339\"> and</span><span style=\"color: black; background-color: rgba(0, 98, 0, 0.3); padding: 0.2em; margin: 0.1em; border-radius: 3px;\" title=\"MAB: -0.001, Norm: 0.494\"> meaning</span><span style=\"color: black; background-color: rgba(0, 138, 0, 0.3); padding: 0.2em; margin: 0.1em; border-radius: 3px;\" title=\"MAB: 0.001, Norm: 0.694\"> of</span><span style=\"color: black; background-color: rgba(0, 97, 0, 0.3); padding: 0.2em; margin: 0.1em; border-radius: 3px;\" title=\"MAB: -0.001, Norm: 0.489\"> the</span><span style=\"color: black; background-color: rgba(0, 123, 0, 0.3); padding: 0.2em; margin: 0.1em; border-radius: 3px;\" title=\"MAB: 0.000, Norm: 0.618\"> sentence</span><span style=\"color: black; background-color: rgba(0, 86, 0, 0.3); padding: 0.2em; margin: 0.1em; border-radius: 3px;\" title=\"MAB: -0.002, Norm: 0.435\">.</span><span style=\"color: black; background-color: rgba(0, 192, 0, 0.3); padding: 0.2em; margin: 0.1em; border-radius: 3px;\" title=\"MAB: 0.005, Norm: 0.965\"> Do</span><span style=\"color: black; background-color: rgba(0, 199, 0, 0.3); padding: 0.2em; margin: 0.1em; border-radius: 3px;\" title=\"MAB: 0.005, Norm: 1.000\"> not</span><span style=\"color: black; background-color: rgba(0, 121, 0, 0.3); padding: 0.2em; margin: 0.1em; border-radius: 3px;\" title=\"MAB: 0.000, Norm: 0.605\"> provide</span><span style=\"color: black; background-color: rgba(0, 193, 0, 0.3); padding: 0.2em; margin: 0.1em; border-radius: 3px;\" title=\"MAB: 0.005, Norm: 0.967\"> any</span><span style=\"color: black; background-color: rgba(0, 127, 0, 0.3); padding: 0.2em; margin: 0.1em; border-radius: 3px;\" title=\"MAB: 0.001, Norm: 0.640\"> additional</span><span style=\"color: black; background-color: rgba(0, 124, 0, 0.3); padding: 0.2em; margin: 0.1em; border-radius: 3px;\" title=\"MAB: 0.000, Norm: 0.621\"> explanation</span><span style=\"color: black; background-color: rgba(0, 121, 0, 0.3); padding: 0.2em; margin: 0.1em; border-radius: 3px;\" title=\"MAB: 0.000, Norm: 0.605\">.</span><span style=\"color: black; background-color: rgba(0, 16, 0, 0.3); padding: 0.2em; margin: 0.1em; border-radius: 3px;\" title=\"MAB: -0.006, Norm: 0.085\"><|eot_id|></span><span style=\"color: black; background-color: rgba(0, 106, 0, 0.3); padding: 0.2em; margin: 0.1em; border-radius: 3px;\" title=\"MAB: -0.001, Norm: 0.532\"><|start_header_id|></span><span style=\"color: black; background-color: rgba(0, 167, 0, 0.3); padding: 0.2em; margin: 0.1em; border-radius: 3px;\" title=\"MAB: 0.003, Norm: 0.836\">sentence</span><span style=\"color: black; background-color: rgba(0, 26, 0, 0.3); padding: 0.2em; margin: 0.1em; border-radius: 3px;\" title=\"MAB: -0.006, Norm: 0.134\"><|end_header_id|></span><span style=\"color: black; background-color: rgba(0, 177, 0, 0.3); padding: 0.2em; margin: 0.1em; border-radius: 3px;\" title=\"MAB: 0.004, Norm: 0.888\">\n",
       "\n",
       "</span><span style=\"color: black; background-color: rgba(0, 134, 0, 0.3); padding: 0.2em; margin: 0.1em; border-radius: 3px;\" title=\"MAB: 0.001, Norm: 0.670\">I</span><span style=\"color: black; background-color: rgba(0, 65, 0, 0.3); padding: 0.2em; margin: 0.1em; border-radius: 3px;\" title=\"MAB: -0.003, Norm: 0.326\"> am</span><span style=\"color: black; background-color: rgba(0, 41, 0, 0.3); padding: 0.2em; margin: 0.1em; border-radius: 3px;\" title=\"MAB: -0.005, Norm: 0.207\"> extremely</span><span style=\"color: black; background-color: rgba(0, 180, 0, 0.3); padding: 0.2em; margin: 0.1em; border-radius: 3px;\" title=\"MAB: 0.004, Norm: 0.902\"> disappointed</span><span style=\"color: black; background-color: rgba(0, 72, 0, 0.3); padding: 0.2em; margin: 0.1em; border-radius: 3px;\" title=\"MAB: -0.003, Norm: 0.362\"> with</span><span style=\"color: black; background-color: rgba(0, 198, 0, 0.3); padding: 0.2em; margin: 0.1em; border-radius: 3px;\" title=\"MAB: 0.005, Norm: 0.991\"> the</span><span style=\"color: black; background-color: rgba(0, 128, 0, 0.3); padding: 0.2em; margin: 0.1em; border-radius: 3px;\" title=\"MAB: 0.001, Norm: 0.641\"> quality</span><span style=\"color: black; background-color: rgba(0, 141, 0, 0.3); padding: 0.2em; margin: 0.1em; border-radius: 3px;\" title=\"MAB: 0.002, Norm: 0.706\">;</span><span style=\"color: black; background-color: rgba(0, 118, 0, 0.3); padding: 0.2em; margin: 0.1em; border-radius: 3px;\" title=\"MAB: 0.000, Norm: 0.594\"> it</span><span style=\"color: black; background-color: rgba(0, 139, 0, 0.3); padding: 0.2em; margin: 0.1em; border-radius: 3px;\" title=\"MAB: 0.001, Norm: 0.698\"> broke</span><span style=\"color: black; background-color: rgba(0, 177, 0, 0.3); padding: 0.2em; margin: 0.1em; border-radius: 3px;\" title=\"MAB: 0.004, Norm: 0.888\"> after</span><span style=\"color: black; background-color: rgba(0, 153, 0, 0.3); padding: 0.2em; margin: 0.1em; border-radius: 3px;\" title=\"MAB: 0.002, Norm: 0.766\"> just</span><span style=\"color: black; background-color: rgba(0, 123, 0, 0.3); padding: 0.2em; margin: 0.1em; border-radius: 3px;\" title=\"MAB: 0.000, Norm: 0.618\"> one</span><span style=\"color: black; background-color: rgba(0, 194, 0, 0.3); padding: 0.2em; margin: 0.1em; border-radius: 3px;\" title=\"MAB: 0.005, Norm: 0.973\"> day</span><span style=\"color: black; background-color: rgba(0, 174, 0, 0.3); padding: 0.2em; margin: 0.1em; border-radius: 3px;\" title=\"MAB: 0.004, Norm: 0.874\">.</span><span style=\"color: black; background-color: rgba(0, 78, 0, 0.3); padding: 0.2em; margin: 0.1em; border-radius: 3px;\" title=\"MAB: -0.002, Norm: 0.394\"><|eot_id|></span><span style=\"color: black; background-color: rgba(0, 119, 0, 0.3); padding: 0.2em; margin: 0.1em; border-radius: 3px;\" title=\"MAB: 0.000, Norm: 0.598\"><|start_header_id|></span><span style=\"color: black; background-color: rgba(0, 174, 0, 0.3); padding: 0.2em; margin: 0.1em; border-radius: 3px;\" title=\"MAB: 0.004, Norm: 0.871\">assistant</span><span style=\"color: black; background-color: rgba(0, 98, 0, 0.3); padding: 0.2em; margin: 0.1em; border-radius: 3px;\" title=\"MAB: -0.001, Norm: 0.494\"><|end_header_id|></span><span style=\"color: black; background-color: rgba(0, 127, 0, 0.3); padding: 0.2em; margin: 0.1em; border-radius: 3px;\" title=\"MAB: 0.001, Norm: 0.635\">\n",
       "\n",
       "</span><span style=\"color: black; background-color: rgba(0, 0, 0, 0.3); padding: 0.2em; margin: 0.1em; border-radius: 3px;\" title=\"MAB: 0.001, Norm: 0.000\">negative</span></div>"
      ],
      "text/plain": [
       "<IPython.core.display.HTML object>"
      ]
     },
     "metadata": {},
     "output_type": "display_data"
    }
   ],
   "source": [
    "# Usage:\n",
    "visualization = visualize_tokens_with_values(input_ids, mab_values, tokenizer)\n",
    "display(visualization)"
   ]
  },
  {
   "cell_type": "markdown",
   "metadata": {},
   "source": []
  },
  {
   "cell_type": "markdown",
   "metadata": {},
   "source": []
  }
 ],
 "metadata": {
  "kernelspec": {
   "display_name": "transformer_explain",
   "language": "python",
   "name": "python3"
  },
  "language_info": {
   "codemirror_mode": {
    "name": "ipython",
    "version": 3
   },
   "file_extension": ".py",
   "mimetype": "text/x-python",
   "name": "python",
   "nbconvert_exporter": "python",
   "pygments_lexer": "ipython3",
   "version": "3.12.5"
  }
 },
 "nbformat": 4,
 "nbformat_minor": 2
}
