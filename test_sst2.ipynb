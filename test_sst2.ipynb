{
 "cells": [
  {
   "cell_type": "code",
   "execution_count": 46,
   "metadata": {},
   "outputs": [],
   "source": [
    "from llmexp.llm.smollm import LLMWrapper\n",
    "from accelerate import Accelerator\n",
    "import torch\n",
    "\n",
    "# checkpoint = \"meta-llama/Meta-Llama-3-8B-Instruct\"\n",
    "checkpoint = \"meta-llama/Llama-3.2-1B-Instruct\"\n",
    "# checkpoint = \"HuggingFaceTB/SmolLM-1.7B-Instruct\"\n",
    "saved_mab_model = \"checkpoints/mab_model_300.pth\"\n",
    "\n",
    "\n",
    "accelerator = Accelerator()\n",
    "device = accelerator.device\n",
    "\n",
    "\n",
    "llm = LLMWrapper(checkpoint, device=device)\n",
    "tokenizer = llm.tokenizer"
   ]
  },
  {
   "cell_type": "code",
   "execution_count": 47,
   "metadata": {},
   "outputs": [
    {
     "name": "stderr",
     "output_type": "stream",
     "text": [
      "Setting `pad_token_id` to `eos_token_id`:128001 for open-end generation.\n"
     ]
    },
    {
     "name": "stdout",
     "output_type": "stream",
     "text": [
      "<|begin_of_text|><|begin_of_text|><|start_header_id|>system<|end_header_id|>\n",
      "\n",
      "Cutting Knowledge Date: December 2023\n",
      "Today Date: 26 Jul 2024\n",
      "\n",
      "Analyze the sentiment of the following sentence and respond with only one word: 'positive,' 'negative,' or 'neutral,' based on the overall tone and meaning of the sentence. Do not provide any additional explanation.<|eot_id|><|start_header_id|>sentence<|end_header_id|>\n",
      "\n",
      "I like this movie!<|eot_id|><|start_header_id|>assistant<|end_header_id|>\n",
      "\n",
      "positive<|eot_id|>\n"
     ]
    }
   ],
   "source": [
    "# instruction = \"Analyze the sentiment of the following sentence. Be brief.\"\n",
    "instruction = \"Analyze the sentiment of the following sentence and respond with only one word: 'positive,' 'negative,' or 'neutral,' based on the overall tone and meaning of the sentence. Do not provide any additional explanation.\"\n",
    "# user_input = \"I am extremely disappointed with the quality; it broke after just one day.\"\n",
    "# user_input = \"The service at this restaurant was fantastic, and the staff were so friendly.\"\n",
    "user_input = \"I like this movie!\"\n",
    "\n",
    "content = [\n",
    "            {\"role\": \"system\", \n",
    "            \"content\": instruction\n",
    "            },\n",
    "\n",
    "            {\"role\": \"sentence\", \n",
    "            \"content\": user_input\n",
    "            }\n",
    "        ]\n",
    "template = tokenizer.apply_chat_template(content, tokenize=False, add_generation_prompt=True)\n",
    "# print(template)\n",
    "\n",
    "# The generated outputs \n",
    "gen_output = llm.generate_from_texts(template)\n",
    "print(gen_output)"
   ]
  },
  {
   "cell_type": "code",
   "execution_count": 48,
   "metadata": {},
   "outputs": [
    {
     "name": "stderr",
     "output_type": "stream",
     "text": [
      "/tmp/1109382.1.gpu/ipykernel_2399911/3922162976.py:2: FutureWarning: You are using `torch.load` with `weights_only=False` (the current default value), which uses the default pickle module implicitly. It is possible to construct malicious pickle data which will execute arbitrary code during unpickling (See https://github.com/pytorch/pytorch/blob/main/SECURITY.md#untrusted-models for more details). In a future release, the default value for `weights_only` will be flipped to `True`. This limits the functions that could be executed during unpickling. Arbitrary objects will no longer be allowed to be loaded via this mode unless they are explicitly allowlisted by the user via `torch.serialization.add_safe_globals`. We recommend you start setting `weights_only=True` for any use case where you don't have full control of the loaded file. Please open an issue on GitHub for any issues related to this experimental feature.\n",
      "  mab_model = MABModel.load_with_base_model(torch.load(saved_mab_model), llm, hidden_size=1024)\n"
     ]
    },
    {
     "name": "stdout",
     "output_type": "stream",
     "text": [
      "\n"
     ]
    }
   ],
   "source": [
    "from llmexp.explainer.mab_model import MABModel\n",
    "mab_model = MABModel.load_with_base_model(torch.load(saved_mab_model), llm, hidden_size=1024)\n",
    "mab_model.to(device)\n",
    "print()"
   ]
  },
  {
   "cell_type": "code",
   "execution_count": 49,
   "metadata": {},
   "outputs": [],
   "source": [
    "gen_inputs = tokenizer(gen_output, return_tensors=\"pt\").to(device)\n",
    "input_ids = gen_inputs['input_ids'][:, :-1]\n",
    "attention_mask = gen_inputs['attention_mask'][:, :-1]\n",
    "dist, values = mab_model.get_dist_value(input_ids, attention_mask)\n",
    "\n",
    "mab_values = torch.sigmoid(dist.logits)\n",
    "mab_values = dist.logits"
   ]
  },
  {
   "cell_type": "code",
   "execution_count": 50,
   "metadata": {},
   "outputs": [
    {
     "name": "stdout",
     "output_type": "stream",
     "text": [
      "tensor([[ 15.9424,  15.9424,  15.9424, -15.9424, -15.9424, -15.9424,  15.9424,\n",
      "         -15.9424, -15.9424,  15.9424, -15.9424, -15.9424, -15.9424, -12.9262,\n",
      "         -15.9424,  15.9424,  15.9424,  15.9424,  15.9424,  15.9424,  15.9424,\n",
      "          15.9424,   9.9711,  10.8672,  15.9424, -15.9424,  15.9424,   8.3834,\n",
      "         -15.9424, -15.9424, -15.9424, -15.9424, -15.9424, -15.9424, -15.9424,\n",
      "         -15.9424, -15.9424, -15.9424, -15.9424,   6.4719, -15.9424, -15.9424,\n",
      "          15.9424,  15.9424, -15.9424,  15.9424,  15.9424, -15.9424, -15.9424,\n",
      "          15.9424,  15.9424, -15.9424, -15.9424, -15.9424, -15.9424, -15.9424,\n",
      "         -15.9424,  15.9424,  13.3774, -15.9424, -15.9424, -15.9424,   6.3219,\n",
      "           4.3865,  15.9424,  12.0106,  15.2492, -15.9424,   5.9193,  11.4765,\n",
      "         -15.9424,  15.9424, -10.1304,  15.9424,  15.9424,  15.9424,   9.1157,\n",
      "          14.8438,  15.9424,  10.6341, -15.9424,  15.9424, -15.9424,  15.9424,\n",
      "          15.9424]], device='cuda:0', grad_fn=<SubBackward0>)\n",
      "torch.Size([1, 85])\n"
     ]
    }
   ],
   "source": [
    "print(mab_values)\n",
    "print(mab_values.shape)"
   ]
  },
  {
   "cell_type": "code",
   "execution_count": 51,
   "metadata": {},
   "outputs": [
    {
     "name": "stdout",
     "output_type": "stream",
     "text": [
      "tensor([[128000, 128000, 128000, 128006,   9125, 128007,    271,  38766,   1303,\n",
      "          33025,   2696,     25,   6790,    220,   2366,     18,    198,  15724,\n",
      "           2696,     25,    220,   1627,  10263,    220,   2366,     19,    271,\n",
      "           2127,  56956,    279,  27065,    315,    279,   2768,  11914,    323,\n",
      "           6013,    449,   1193,    832,   3492,     25,    364,  31587,   2965,\n",
      "            364,  43324,   2965,    477,    364,  60668,   2965,   3196,    389,\n",
      "            279,   8244,  16630,    323,   7438,    315,    279,  11914,     13,\n",
      "           3234,    539,   3493,    904,   5217,  16540,     13, 128009, 128006,\n",
      "          52989, 128007,    271,     40,   1093,    420,   5818,      0, 128009,\n",
      "         128006,  78191, 128007,    271,  31587]], device='cuda:0')\n",
      "torch.Size([1, 86])\n"
     ]
    }
   ],
   "source": [
    "print(input_ids)\n",
    "print(input_ids.shape)"
   ]
  },
  {
   "cell_type": "code",
   "execution_count": 52,
   "metadata": {},
   "outputs": [],
   "source": [
    "def visualize_tokens_with_values(input_ids, mab_values, tokenizer):\n",
    "    # Decode tokens one by one to preserve alignment\n",
    "    tokens = []\n",
    "    for i in range(input_ids.shape[1]):\n",
    "        token = tokenizer.decode(input_ids[0, i:i+1])\n",
    "        tokens.append(token)\n",
    "    \n",
    "    # Normalize MAB values to [0,1] for color intensity first\n",
    "    normalized_values = (mab_values[0] - mab_values[0].min()) / (mab_values[0].max() - mab_values[0].min())\n",
    "    \n",
    "    # Pad normalized_values with a zero at the end\n",
    "    padded_normalized_values = torch.cat([normalized_values, torch.zeros(1, device=mab_values.device)], dim=0)\n",
    "    # Pad original mab_values with the last actual value\n",
    "    padded_mab_values = torch.cat([mab_values[0], mab_values[0][-1:]], dim=0)\n",
    "    \n",
    "    # Generate HTML with colored text and values\n",
    "    html_output = \"<div style='font-family: monospace; line-height: 2; background-color: white; padding: 10px;'>\"\n",
    "    for token, value, orig_value in zip(tokens, padded_normalized_values, padded_mab_values):\n",
    "        # Use a gradient from white to green\n",
    "        intensity = float(value)\n",
    "        green_color = int(intensity * 200)  # Control the maximum intensity\n",
    "        html_output += f'<span style=\"color: black; background-color: rgba(0, {green_color}, 0, 0.3); padding: 0.2em; margin: 0.1em; border-radius: 3px;\" title=\"MAB: {orig_value:.3f}, Norm: {value:.3f}\">{token}</span>'\n",
    "    html_output += \"</div>\"\n",
    "    \n",
    "    # Print the values\n",
    "    print(\"Token\\tNormalized Value\\tOriginal MAB Value\")\n",
    "    print(\"-\" * 50)\n",
    "    for token, value, orig_value in zip(tokens, padded_normalized_values, padded_mab_values):\n",
    "        print(f\"{token}\\t{value:.3f}\\t\\t{orig_value:.3f}\")\n",
    "    \n",
    "    from IPython.display import HTML\n",
    "    return HTML(html_output)"
   ]
  },
  {
   "cell_type": "code",
   "execution_count": 53,
   "metadata": {},
   "outputs": [
    {
     "name": "stdout",
     "output_type": "stream",
     "text": [
      "Token\tNormalized Value\tOriginal MAB Value\n",
      "--------------------------------------------------\n",
      "<|begin_of_text|>\t1.000\t\t15.942\n",
      "<|begin_of_text|>\t1.000\t\t15.942\n",
      "<|begin_of_text|>\t1.000\t\t15.942\n",
      "<|start_header_id|>\t0.000\t\t-15.942\n",
      "system\t0.000\t\t-15.942\n",
      "<|end_header_id|>\t0.000\t\t-15.942\n",
      "\n",
      "\n",
      "\t1.000\t\t15.942\n",
      "Cut\t0.000\t\t-15.942\n",
      "ting\t0.000\t\t-15.942\n",
      " Knowledge\t1.000\t\t15.942\n",
      " Date\t0.000\t\t-15.942\n",
      ":\t0.000\t\t-15.942\n",
      " December\t0.000\t\t-15.942\n",
      " \t0.095\t\t-12.926\n",
      "202\t0.000\t\t-15.942\n",
      "3\t1.000\t\t15.942\n",
      "\n",
      "\t1.000\t\t15.942\n",
      "Today\t1.000\t\t15.942\n",
      " Date\t1.000\t\t15.942\n",
      ":\t1.000\t\t15.942\n",
      " \t1.000\t\t15.942\n",
      "26\t1.000\t\t15.942\n",
      " Jul\t0.813\t\t9.971\n",
      " \t0.841\t\t10.867\n",
      "202\t1.000\t\t15.942\n",
      "4\t0.000\t\t-15.942\n",
      "\n",
      "\n",
      "\t1.000\t\t15.942\n",
      "An\t0.763\t\t8.383\n",
      "alyze\t0.000\t\t-15.942\n",
      " the\t0.000\t\t-15.942\n",
      " sentiment\t0.000\t\t-15.942\n",
      " of\t0.000\t\t-15.942\n",
      " the\t0.000\t\t-15.942\n",
      " following\t0.000\t\t-15.942\n",
      " sentence\t0.000\t\t-15.942\n",
      " and\t0.000\t\t-15.942\n",
      " respond\t0.000\t\t-15.942\n",
      " with\t0.000\t\t-15.942\n",
      " only\t0.000\t\t-15.942\n",
      " one\t0.703\t\t6.472\n",
      " word\t0.000\t\t-15.942\n",
      ":\t0.000\t\t-15.942\n",
      " '\t1.000\t\t15.942\n",
      "positive\t1.000\t\t15.942\n",
      ",'\t0.000\t\t-15.942\n",
      " '\t1.000\t\t15.942\n",
      "negative\t1.000\t\t15.942\n",
      ",'\t0.000\t\t-15.942\n",
      " or\t0.000\t\t-15.942\n",
      " '\t1.000\t\t15.942\n",
      "neutral\t1.000\t\t15.942\n",
      ",'\t0.000\t\t-15.942\n",
      " based\t0.000\t\t-15.942\n",
      " on\t0.000\t\t-15.942\n",
      " the\t0.000\t\t-15.942\n",
      " overall\t0.000\t\t-15.942\n",
      " tone\t0.000\t\t-15.942\n",
      " and\t1.000\t\t15.942\n",
      " meaning\t0.920\t\t13.377\n",
      " of\t0.000\t\t-15.942\n",
      " the\t0.000\t\t-15.942\n",
      " sentence\t0.000\t\t-15.942\n",
      ".\t0.698\t\t6.322\n",
      " Do\t0.638\t\t4.387\n",
      " not\t1.000\t\t15.942\n",
      " provide\t0.877\t\t12.011\n",
      " any\t0.978\t\t15.249\n",
      " additional\t0.000\t\t-15.942\n",
      " explanation\t0.686\t\t5.919\n",
      ".\t0.860\t\t11.476\n",
      "<|eot_id|>\t0.000\t\t-15.942\n",
      "<|start_header_id|>\t1.000\t\t15.942\n",
      "sentence\t0.182\t\t-10.130\n",
      "<|end_header_id|>\t1.000\t\t15.942\n",
      "\n",
      "\n",
      "\t1.000\t\t15.942\n",
      "I\t1.000\t\t15.942\n",
      " like\t0.786\t\t9.116\n",
      " this\t0.966\t\t14.844\n",
      " movie\t1.000\t\t15.942\n",
      "!\t0.834\t\t10.634\n",
      "<|eot_id|>\t0.000\t\t-15.942\n",
      "<|start_header_id|>\t1.000\t\t15.942\n",
      "assistant\t0.000\t\t-15.942\n",
      "<|end_header_id|>\t1.000\t\t15.942\n",
      "\n",
      "\n",
      "\t1.000\t\t15.942\n",
      "positive\t0.000\t\t15.942\n"
     ]
    },
    {
     "data": {
      "text/html": [
       "<div style='font-family: monospace; line-height: 2; background-color: white; padding: 10px;'><span style=\"color: black; background-color: rgba(0, 200, 0, 0.3); padding: 0.2em; margin: 0.1em; border-radius: 3px;\" title=\"MAB: 15.942, Norm: 1.000\"><|begin_of_text|></span><span style=\"color: black; background-color: rgba(0, 200, 0, 0.3); padding: 0.2em; margin: 0.1em; border-radius: 3px;\" title=\"MAB: 15.942, Norm: 1.000\"><|begin_of_text|></span><span style=\"color: black; background-color: rgba(0, 200, 0, 0.3); padding: 0.2em; margin: 0.1em; border-radius: 3px;\" title=\"MAB: 15.942, Norm: 1.000\"><|begin_of_text|></span><span style=\"color: black; background-color: rgba(0, 0, 0, 0.3); padding: 0.2em; margin: 0.1em; border-radius: 3px;\" title=\"MAB: -15.942, Norm: 0.000\"><|start_header_id|></span><span style=\"color: black; background-color: rgba(0, 0, 0, 0.3); padding: 0.2em; margin: 0.1em; border-radius: 3px;\" title=\"MAB: -15.942, Norm: 0.000\">system</span><span style=\"color: black; background-color: rgba(0, 0, 0, 0.3); padding: 0.2em; margin: 0.1em; border-radius: 3px;\" title=\"MAB: -15.942, Norm: 0.000\"><|end_header_id|></span><span style=\"color: black; background-color: rgba(0, 200, 0, 0.3); padding: 0.2em; margin: 0.1em; border-radius: 3px;\" title=\"MAB: 15.942, Norm: 1.000\">\n",
       "\n",
       "</span><span style=\"color: black; background-color: rgba(0, 0, 0, 0.3); padding: 0.2em; margin: 0.1em; border-radius: 3px;\" title=\"MAB: -15.942, Norm: 0.000\">Cut</span><span style=\"color: black; background-color: rgba(0, 0, 0, 0.3); padding: 0.2em; margin: 0.1em; border-radius: 3px;\" title=\"MAB: -15.942, Norm: 0.000\">ting</span><span style=\"color: black; background-color: rgba(0, 200, 0, 0.3); padding: 0.2em; margin: 0.1em; border-radius: 3px;\" title=\"MAB: 15.942, Norm: 1.000\"> Knowledge</span><span style=\"color: black; background-color: rgba(0, 0, 0, 0.3); padding: 0.2em; margin: 0.1em; border-radius: 3px;\" title=\"MAB: -15.942, Norm: 0.000\"> Date</span><span style=\"color: black; background-color: rgba(0, 0, 0, 0.3); padding: 0.2em; margin: 0.1em; border-radius: 3px;\" title=\"MAB: -15.942, Norm: 0.000\">:</span><span style=\"color: black; background-color: rgba(0, 0, 0, 0.3); padding: 0.2em; margin: 0.1em; border-radius: 3px;\" title=\"MAB: -15.942, Norm: 0.000\"> December</span><span style=\"color: black; background-color: rgba(0, 18, 0, 0.3); padding: 0.2em; margin: 0.1em; border-radius: 3px;\" title=\"MAB: -12.926, Norm: 0.095\"> </span><span style=\"color: black; background-color: rgba(0, 0, 0, 0.3); padding: 0.2em; margin: 0.1em; border-radius: 3px;\" title=\"MAB: -15.942, Norm: 0.000\">202</span><span style=\"color: black; background-color: rgba(0, 200, 0, 0.3); padding: 0.2em; margin: 0.1em; border-radius: 3px;\" title=\"MAB: 15.942, Norm: 1.000\">3</span><span style=\"color: black; background-color: rgba(0, 200, 0, 0.3); padding: 0.2em; margin: 0.1em; border-radius: 3px;\" title=\"MAB: 15.942, Norm: 1.000\">\n",
       "</span><span style=\"color: black; background-color: rgba(0, 200, 0, 0.3); padding: 0.2em; margin: 0.1em; border-radius: 3px;\" title=\"MAB: 15.942, Norm: 1.000\">Today</span><span style=\"color: black; background-color: rgba(0, 200, 0, 0.3); padding: 0.2em; margin: 0.1em; border-radius: 3px;\" title=\"MAB: 15.942, Norm: 1.000\"> Date</span><span style=\"color: black; background-color: rgba(0, 200, 0, 0.3); padding: 0.2em; margin: 0.1em; border-radius: 3px;\" title=\"MAB: 15.942, Norm: 1.000\">:</span><span style=\"color: black; background-color: rgba(0, 200, 0, 0.3); padding: 0.2em; margin: 0.1em; border-radius: 3px;\" title=\"MAB: 15.942, Norm: 1.000\"> </span><span style=\"color: black; background-color: rgba(0, 200, 0, 0.3); padding: 0.2em; margin: 0.1em; border-radius: 3px;\" title=\"MAB: 15.942, Norm: 1.000\">26</span><span style=\"color: black; background-color: rgba(0, 162, 0, 0.3); padding: 0.2em; margin: 0.1em; border-radius: 3px;\" title=\"MAB: 9.971, Norm: 0.813\"> Jul</span><span style=\"color: black; background-color: rgba(0, 168, 0, 0.3); padding: 0.2em; margin: 0.1em; border-radius: 3px;\" title=\"MAB: 10.867, Norm: 0.841\"> </span><span style=\"color: black; background-color: rgba(0, 200, 0, 0.3); padding: 0.2em; margin: 0.1em; border-radius: 3px;\" title=\"MAB: 15.942, Norm: 1.000\">202</span><span style=\"color: black; background-color: rgba(0, 0, 0, 0.3); padding: 0.2em; margin: 0.1em; border-radius: 3px;\" title=\"MAB: -15.942, Norm: 0.000\">4</span><span style=\"color: black; background-color: rgba(0, 200, 0, 0.3); padding: 0.2em; margin: 0.1em; border-radius: 3px;\" title=\"MAB: 15.942, Norm: 1.000\">\n",
       "\n",
       "</span><span style=\"color: black; background-color: rgba(0, 152, 0, 0.3); padding: 0.2em; margin: 0.1em; border-radius: 3px;\" title=\"MAB: 8.383, Norm: 0.763\">An</span><span style=\"color: black; background-color: rgba(0, 0, 0, 0.3); padding: 0.2em; margin: 0.1em; border-radius: 3px;\" title=\"MAB: -15.942, Norm: 0.000\">alyze</span><span style=\"color: black; background-color: rgba(0, 0, 0, 0.3); padding: 0.2em; margin: 0.1em; border-radius: 3px;\" title=\"MAB: -15.942, Norm: 0.000\"> the</span><span style=\"color: black; background-color: rgba(0, 0, 0, 0.3); padding: 0.2em; margin: 0.1em; border-radius: 3px;\" title=\"MAB: -15.942, Norm: 0.000\"> sentiment</span><span style=\"color: black; background-color: rgba(0, 0, 0, 0.3); padding: 0.2em; margin: 0.1em; border-radius: 3px;\" title=\"MAB: -15.942, Norm: 0.000\"> of</span><span style=\"color: black; background-color: rgba(0, 0, 0, 0.3); padding: 0.2em; margin: 0.1em; border-radius: 3px;\" title=\"MAB: -15.942, Norm: 0.000\"> the</span><span style=\"color: black; background-color: rgba(0, 0, 0, 0.3); padding: 0.2em; margin: 0.1em; border-radius: 3px;\" title=\"MAB: -15.942, Norm: 0.000\"> following</span><span style=\"color: black; background-color: rgba(0, 0, 0, 0.3); padding: 0.2em; margin: 0.1em; border-radius: 3px;\" title=\"MAB: -15.942, Norm: 0.000\"> sentence</span><span style=\"color: black; background-color: rgba(0, 0, 0, 0.3); padding: 0.2em; margin: 0.1em; border-radius: 3px;\" title=\"MAB: -15.942, Norm: 0.000\"> and</span><span style=\"color: black; background-color: rgba(0, 0, 0, 0.3); padding: 0.2em; margin: 0.1em; border-radius: 3px;\" title=\"MAB: -15.942, Norm: 0.000\"> respond</span><span style=\"color: black; background-color: rgba(0, 0, 0, 0.3); padding: 0.2em; margin: 0.1em; border-radius: 3px;\" title=\"MAB: -15.942, Norm: 0.000\"> with</span><span style=\"color: black; background-color: rgba(0, 0, 0, 0.3); padding: 0.2em; margin: 0.1em; border-radius: 3px;\" title=\"MAB: -15.942, Norm: 0.000\"> only</span><span style=\"color: black; background-color: rgba(0, 140, 0, 0.3); padding: 0.2em; margin: 0.1em; border-radius: 3px;\" title=\"MAB: 6.472, Norm: 0.703\"> one</span><span style=\"color: black; background-color: rgba(0, 0, 0, 0.3); padding: 0.2em; margin: 0.1em; border-radius: 3px;\" title=\"MAB: -15.942, Norm: 0.000\"> word</span><span style=\"color: black; background-color: rgba(0, 0, 0, 0.3); padding: 0.2em; margin: 0.1em; border-radius: 3px;\" title=\"MAB: -15.942, Norm: 0.000\">:</span><span style=\"color: black; background-color: rgba(0, 200, 0, 0.3); padding: 0.2em; margin: 0.1em; border-radius: 3px;\" title=\"MAB: 15.942, Norm: 1.000\"> '</span><span style=\"color: black; background-color: rgba(0, 200, 0, 0.3); padding: 0.2em; margin: 0.1em; border-radius: 3px;\" title=\"MAB: 15.942, Norm: 1.000\">positive</span><span style=\"color: black; background-color: rgba(0, 0, 0, 0.3); padding: 0.2em; margin: 0.1em; border-radius: 3px;\" title=\"MAB: -15.942, Norm: 0.000\">,'</span><span style=\"color: black; background-color: rgba(0, 200, 0, 0.3); padding: 0.2em; margin: 0.1em; border-radius: 3px;\" title=\"MAB: 15.942, Norm: 1.000\"> '</span><span style=\"color: black; background-color: rgba(0, 200, 0, 0.3); padding: 0.2em; margin: 0.1em; border-radius: 3px;\" title=\"MAB: 15.942, Norm: 1.000\">negative</span><span style=\"color: black; background-color: rgba(0, 0, 0, 0.3); padding: 0.2em; margin: 0.1em; border-radius: 3px;\" title=\"MAB: -15.942, Norm: 0.000\">,'</span><span style=\"color: black; background-color: rgba(0, 0, 0, 0.3); padding: 0.2em; margin: 0.1em; border-radius: 3px;\" title=\"MAB: -15.942, Norm: 0.000\"> or</span><span style=\"color: black; background-color: rgba(0, 200, 0, 0.3); padding: 0.2em; margin: 0.1em; border-radius: 3px;\" title=\"MAB: 15.942, Norm: 1.000\"> '</span><span style=\"color: black; background-color: rgba(0, 200, 0, 0.3); padding: 0.2em; margin: 0.1em; border-radius: 3px;\" title=\"MAB: 15.942, Norm: 1.000\">neutral</span><span style=\"color: black; background-color: rgba(0, 0, 0, 0.3); padding: 0.2em; margin: 0.1em; border-radius: 3px;\" title=\"MAB: -15.942, Norm: 0.000\">,'</span><span style=\"color: black; background-color: rgba(0, 0, 0, 0.3); padding: 0.2em; margin: 0.1em; border-radius: 3px;\" title=\"MAB: -15.942, Norm: 0.000\"> based</span><span style=\"color: black; background-color: rgba(0, 0, 0, 0.3); padding: 0.2em; margin: 0.1em; border-radius: 3px;\" title=\"MAB: -15.942, Norm: 0.000\"> on</span><span style=\"color: black; background-color: rgba(0, 0, 0, 0.3); padding: 0.2em; margin: 0.1em; border-radius: 3px;\" title=\"MAB: -15.942, Norm: 0.000\"> the</span><span style=\"color: black; background-color: rgba(0, 0, 0, 0.3); padding: 0.2em; margin: 0.1em; border-radius: 3px;\" title=\"MAB: -15.942, Norm: 0.000\"> overall</span><span style=\"color: black; background-color: rgba(0, 0, 0, 0.3); padding: 0.2em; margin: 0.1em; border-radius: 3px;\" title=\"MAB: -15.942, Norm: 0.000\"> tone</span><span style=\"color: black; background-color: rgba(0, 200, 0, 0.3); padding: 0.2em; margin: 0.1em; border-radius: 3px;\" title=\"MAB: 15.942, Norm: 1.000\"> and</span><span style=\"color: black; background-color: rgba(0, 183, 0, 0.3); padding: 0.2em; margin: 0.1em; border-radius: 3px;\" title=\"MAB: 13.377, Norm: 0.920\"> meaning</span><span style=\"color: black; background-color: rgba(0, 0, 0, 0.3); padding: 0.2em; margin: 0.1em; border-radius: 3px;\" title=\"MAB: -15.942, Norm: 0.000\"> of</span><span style=\"color: black; background-color: rgba(0, 0, 0, 0.3); padding: 0.2em; margin: 0.1em; border-radius: 3px;\" title=\"MAB: -15.942, Norm: 0.000\"> the</span><span style=\"color: black; background-color: rgba(0, 0, 0, 0.3); padding: 0.2em; margin: 0.1em; border-radius: 3px;\" title=\"MAB: -15.942, Norm: 0.000\"> sentence</span><span style=\"color: black; background-color: rgba(0, 139, 0, 0.3); padding: 0.2em; margin: 0.1em; border-radius: 3px;\" title=\"MAB: 6.322, Norm: 0.698\">.</span><span style=\"color: black; background-color: rgba(0, 127, 0, 0.3); padding: 0.2em; margin: 0.1em; border-radius: 3px;\" title=\"MAB: 4.387, Norm: 0.638\"> Do</span><span style=\"color: black; background-color: rgba(0, 200, 0, 0.3); padding: 0.2em; margin: 0.1em; border-radius: 3px;\" title=\"MAB: 15.942, Norm: 1.000\"> not</span><span style=\"color: black; background-color: rgba(0, 175, 0, 0.3); padding: 0.2em; margin: 0.1em; border-radius: 3px;\" title=\"MAB: 12.011, Norm: 0.877\"> provide</span><span style=\"color: black; background-color: rgba(0, 195, 0, 0.3); padding: 0.2em; margin: 0.1em; border-radius: 3px;\" title=\"MAB: 15.249, Norm: 0.978\"> any</span><span style=\"color: black; background-color: rgba(0, 0, 0, 0.3); padding: 0.2em; margin: 0.1em; border-radius: 3px;\" title=\"MAB: -15.942, Norm: 0.000\"> additional</span><span style=\"color: black; background-color: rgba(0, 137, 0, 0.3); padding: 0.2em; margin: 0.1em; border-radius: 3px;\" title=\"MAB: 5.919, Norm: 0.686\"> explanation</span><span style=\"color: black; background-color: rgba(0, 171, 0, 0.3); padding: 0.2em; margin: 0.1em; border-radius: 3px;\" title=\"MAB: 11.476, Norm: 0.860\">.</span><span style=\"color: black; background-color: rgba(0, 0, 0, 0.3); padding: 0.2em; margin: 0.1em; border-radius: 3px;\" title=\"MAB: -15.942, Norm: 0.000\"><|eot_id|></span><span style=\"color: black; background-color: rgba(0, 200, 0, 0.3); padding: 0.2em; margin: 0.1em; border-radius: 3px;\" title=\"MAB: 15.942, Norm: 1.000\"><|start_header_id|></span><span style=\"color: black; background-color: rgba(0, 36, 0, 0.3); padding: 0.2em; margin: 0.1em; border-radius: 3px;\" title=\"MAB: -10.130, Norm: 0.182\">sentence</span><span style=\"color: black; background-color: rgba(0, 200, 0, 0.3); padding: 0.2em; margin: 0.1em; border-radius: 3px;\" title=\"MAB: 15.942, Norm: 1.000\"><|end_header_id|></span><span style=\"color: black; background-color: rgba(0, 200, 0, 0.3); padding: 0.2em; margin: 0.1em; border-radius: 3px;\" title=\"MAB: 15.942, Norm: 1.000\">\n",
       "\n",
       "</span><span style=\"color: black; background-color: rgba(0, 200, 0, 0.3); padding: 0.2em; margin: 0.1em; border-radius: 3px;\" title=\"MAB: 15.942, Norm: 1.000\">I</span><span style=\"color: black; background-color: rgba(0, 157, 0, 0.3); padding: 0.2em; margin: 0.1em; border-radius: 3px;\" title=\"MAB: 9.116, Norm: 0.786\"> like</span><span style=\"color: black; background-color: rgba(0, 193, 0, 0.3); padding: 0.2em; margin: 0.1em; border-radius: 3px;\" title=\"MAB: 14.844, Norm: 0.966\"> this</span><span style=\"color: black; background-color: rgba(0, 200, 0, 0.3); padding: 0.2em; margin: 0.1em; border-radius: 3px;\" title=\"MAB: 15.942, Norm: 1.000\"> movie</span><span style=\"color: black; background-color: rgba(0, 166, 0, 0.3); padding: 0.2em; margin: 0.1em; border-radius: 3px;\" title=\"MAB: 10.634, Norm: 0.834\">!</span><span style=\"color: black; background-color: rgba(0, 0, 0, 0.3); padding: 0.2em; margin: 0.1em; border-radius: 3px;\" title=\"MAB: -15.942, Norm: 0.000\"><|eot_id|></span><span style=\"color: black; background-color: rgba(0, 200, 0, 0.3); padding: 0.2em; margin: 0.1em; border-radius: 3px;\" title=\"MAB: 15.942, Norm: 1.000\"><|start_header_id|></span><span style=\"color: black; background-color: rgba(0, 0, 0, 0.3); padding: 0.2em; margin: 0.1em; border-radius: 3px;\" title=\"MAB: -15.942, Norm: 0.000\">assistant</span><span style=\"color: black; background-color: rgba(0, 200, 0, 0.3); padding: 0.2em; margin: 0.1em; border-radius: 3px;\" title=\"MAB: 15.942, Norm: 1.000\"><|end_header_id|></span><span style=\"color: black; background-color: rgba(0, 200, 0, 0.3); padding: 0.2em; margin: 0.1em; border-radius: 3px;\" title=\"MAB: 15.942, Norm: 1.000\">\n",
       "\n",
       "</span><span style=\"color: black; background-color: rgba(0, 0, 0, 0.3); padding: 0.2em; margin: 0.1em; border-radius: 3px;\" title=\"MAB: 15.942, Norm: 0.000\">positive</span></div>"
      ],
      "text/plain": [
       "<IPython.core.display.HTML object>"
      ]
     },
     "metadata": {},
     "output_type": "display_data"
    }
   ],
   "source": [
    "# Usage:\n",
    "visualization = visualize_tokens_with_values(input_ids, mab_values, tokenizer)\n",
    "display(visualization)"
   ]
  },
  {
   "cell_type": "markdown",
   "metadata": {},
   "source": []
  },
  {
   "cell_type": "markdown",
   "metadata": {},
   "source": []
  }
 ],
 "metadata": {
  "kernelspec": {
   "display_name": "transformer_explain",
   "language": "python",
   "name": "python3"
  },
  "language_info": {
   "codemirror_mode": {
    "name": "ipython",
    "version": 3
   },
   "file_extension": ".py",
   "mimetype": "text/x-python",
   "name": "python",
   "nbconvert_exporter": "python",
   "pygments_lexer": "ipython3",
   "version": "3.12.5"
  }
 },
 "nbformat": 4,
 "nbformat_minor": 2
}
