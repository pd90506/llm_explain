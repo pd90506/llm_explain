{
 "cells": [
  {
   "cell_type": "code",
   "execution_count": 17,
   "metadata": {},
   "outputs": [],
   "source": [
    "from llmexp.llm.smollm import LLMWrapper\n",
    "from accelerate import Accelerator\n",
    "import torch\n",
    "\n",
    "# checkpoint = \"meta-llama/Meta-Llama-3-8B-Instruct\"\n",
    "checkpoint = \"meta-llama/Llama-3.2-1B-Instruct\"\n",
    "# checkpoint = \"HuggingFaceTB/SmolLM-1.7B-Instruct\"\n",
    "saved_mab_model = \"checkpoints/mab_model_100.pth\"\n",
    "\n",
    "\n",
    "accelerator = Accelerator()\n",
    "device = accelerator.device\n",
    "\n",
    "\n",
    "llm = LLMWrapper(checkpoint, device=device)\n",
    "tokenizer = llm.tokenizer"
   ]
  },
  {
   "cell_type": "code",
   "execution_count": 18,
   "metadata": {},
   "outputs": [
    {
     "name": "stderr",
     "output_type": "stream",
     "text": [
      "Setting `pad_token_id` to `eos_token_id`:128001 for open-end generation.\n"
     ]
    },
    {
     "name": "stdout",
     "output_type": "stream",
     "text": [
      "<|begin_of_text|><|begin_of_text|><|start_header_id|>system<|end_header_id|>\n",
      "\n",
      "Cutting Knowledge Date: December 2023\n",
      "Today Date: 26 Jul 2024\n",
      "\n",
      "Analyze the sentiment of the following sentence and respond with only one word: 'positive,' 'negative,' or 'neutral,' based on the overall tone and meaning of the sentence. Do not provide any additional explanation.<|eot_id|><|start_header_id|>sentence<|end_header_id|>\n",
      "\n",
      "I am extremely disappointed with the quality; it broke after just one day.<|eot_id|><|start_header_id|>assistant<|end_header_id|>\n",
      "\n",
      "negative<|eot_id|>\n"
     ]
    }
   ],
   "source": [
    "# instruction = \"Analyze the sentiment of the following sentence. Be brief.\"\n",
    "instruction = \"Analyze the sentiment of the following sentence and respond with only one word: 'positive,' 'negative,' or 'neutral,' based on the overall tone and meaning of the sentence. Do not provide any additional explanation.\"\n",
    "user_input = \"I am extremely disappointed with the quality; it broke after just one day.\"\n",
    "# user_input = \"The service at this restaurant was fantastic, and the staff were so friendly.\"\n",
    "# user_input = \"I like this movie!\"\n",
    "\n",
    "content = [\n",
    "            {\"role\": \"system\", \n",
    "            \"content\": instruction\n",
    "            },\n",
    "\n",
    "            {\"role\": \"sentence\", \n",
    "            \"content\": user_input\n",
    "            }\n",
    "        ]\n",
    "template = tokenizer.apply_chat_template(content, tokenize=False, add_generation_prompt=True)\n",
    "# print(template)\n",
    "\n",
    "# The generated outputs \n",
    "gen_output = llm.generate_from_texts(template)\n",
    "print(gen_output)"
   ]
  },
  {
   "cell_type": "code",
   "execution_count": 19,
   "metadata": {},
   "outputs": [
    {
     "name": "stdout",
     "output_type": "stream",
     "text": [
      "\n"
     ]
    },
    {
     "name": "stderr",
     "output_type": "stream",
     "text": [
      "/tmp/1109382.1.gpu/ipykernel_2471270/3922162976.py:2: FutureWarning: You are using `torch.load` with `weights_only=False` (the current default value), which uses the default pickle module implicitly. It is possible to construct malicious pickle data which will execute arbitrary code during unpickling (See https://github.com/pytorch/pytorch/blob/main/SECURITY.md#untrusted-models for more details). In a future release, the default value for `weights_only` will be flipped to `True`. This limits the functions that could be executed during unpickling. Arbitrary objects will no longer be allowed to be loaded via this mode unless they are explicitly allowlisted by the user via `torch.serialization.add_safe_globals`. We recommend you start setting `weights_only=True` for any use case where you don't have full control of the loaded file. Please open an issue on GitHub for any issues related to this experimental feature.\n",
      "  mab_model = MABModel.load_with_base_model(torch.load(saved_mab_model), llm, hidden_size=1024)\n"
     ]
    }
   ],
   "source": [
    "from llmexp.explainer.mab_model import MABModel\n",
    "mab_model = MABModel.load_with_base_model(torch.load(saved_mab_model), llm, hidden_size=1024)\n",
    "mab_model.to(device)\n",
    "print()"
   ]
  },
  {
   "cell_type": "code",
   "execution_count": 20,
   "metadata": {},
   "outputs": [],
   "source": [
    "gen_inputs = tokenizer(gen_output, return_tensors=\"pt\").to(device)\n",
    "input_ids = gen_inputs['input_ids'][:, :-1]\n",
    "attention_mask = gen_inputs['attention_mask'][:, :-1]\n",
    "dist, values = mab_model.get_dist_value(input_ids, attention_mask)\n",
    "\n",
    "mab_values = torch.sigmoid(dist.logits)\n",
    "# mab_values = dist.logits"
   ]
  },
  {
   "cell_type": "code",
   "execution_count": 21,
   "metadata": {},
   "outputs": [
    {
     "name": "stdout",
     "output_type": "stream",
     "text": [
      "tensor([[0.6241, 0.6241, 0.6241, 0.4767, 0.4974, 0.5088, 0.8086, 0.9814, 0.9606,\n",
      "         0.8457, 0.4847, 0.9275, 0.5896, 0.9958, 0.6286, 0.9986, 0.3847, 0.9835,\n",
      "         0.8830, 0.5874, 0.5796, 0.4676, 0.5621, 0.8221, 0.9580, 0.7357, 0.4140,\n",
      "         0.9460, 0.9999, 0.9991, 0.9633, 0.9999, 0.9996, 0.9998, 0.9999, 0.9997,\n",
      "         0.9996, 0.9992, 0.9871, 0.7676, 0.8924, 0.9508, 0.7476, 0.9995, 0.9996,\n",
      "         0.6379, 0.9997, 0.9995, 0.9981, 0.6966, 0.9999, 0.9999, 0.9998, 0.9998,\n",
      "         0.9995, 0.9993, 0.9992, 0.9988, 0.9980, 0.9999, 0.9997, 0.9999, 0.9988,\n",
      "         0.9989, 0.3619, 0.9951, 0.9852, 0.9972, 0.9996, 0.9719, 0.4999, 0.5444,\n",
      "         0.9990, 0.4925, 0.5819, 0.9450, 0.9841, 0.9668, 0.9989, 0.9993, 0.9929,\n",
      "         0.9982, 0.9960, 0.9980, 0.9979, 0.9947, 0.9977, 0.9800, 0.9955, 0.9553,\n",
      "         0.5065, 0.5140, 0.4332, 0.5873, 0.5140]], device='cuda:0',\n",
      "       grad_fn=<SigmoidBackward0>)\n",
      "torch.Size([1, 95])\n"
     ]
    }
   ],
   "source": [
    "print(mab_values)\n",
    "print(mab_values.shape)"
   ]
  },
  {
   "cell_type": "code",
   "execution_count": 22,
   "metadata": {},
   "outputs": [
    {
     "name": "stdout",
     "output_type": "stream",
     "text": [
      "tensor([[128000, 128000, 128000, 128006,   9125, 128007,    271,  38766,   1303,\n",
      "          33025,   2696,     25,   6790,    220,   2366,     18,    198,  15724,\n",
      "           2696,     25,    220,   1627,  10263,    220,   2366,     19,    271,\n",
      "           2127,  56956,    279,  27065,    315,    279,   2768,  11914,    323,\n",
      "           6013,    449,   1193,    832,   3492,     25,    364,  31587,   2965,\n",
      "            364,  43324,   2965,    477,    364,  60668,   2965,   3196,    389,\n",
      "            279,   8244,  16630,    323,   7438,    315,    279,  11914,     13,\n",
      "           3234,    539,   3493,    904,   5217,  16540,     13, 128009, 128006,\n",
      "          52989, 128007,    271,     40,   1097,   9193,  25406,    449,    279,\n",
      "           4367,     26,    433,  14760,   1306,   1120,    832,   1938,     13,\n",
      "         128009, 128006,  78191, 128007,    271,  43324]], device='cuda:0')\n",
      "torch.Size([1, 96])\n"
     ]
    }
   ],
   "source": [
    "print(input_ids)\n",
    "print(input_ids.shape)"
   ]
  },
  {
   "cell_type": "code",
   "execution_count": 23,
   "metadata": {},
   "outputs": [],
   "source": [
    "def visualize_tokens_with_values(input_ids, mab_values, tokenizer):\n",
    "    # Decode tokens one by one to preserve alignment\n",
    "    tokens = []\n",
    "    for i in range(input_ids.shape[1]):\n",
    "        token = tokenizer.decode(input_ids[0, i:i+1])\n",
    "        tokens.append(token)\n",
    "    \n",
    "    # Normalize MAB values to [0,1] for color intensity first\n",
    "    normalized_values = (mab_values[0] - mab_values[0].min()) / (mab_values[0].max() - mab_values[0].min())\n",
    "    \n",
    "    # Pad normalized_values with a zero at the end\n",
    "    padded_normalized_values = torch.cat([normalized_values, torch.zeros(1, device=mab_values.device)], dim=0)\n",
    "    # Pad original mab_values with the last actual value\n",
    "    padded_mab_values = torch.cat([mab_values[0], mab_values[0][-1:]], dim=0)\n",
    "    \n",
    "    # Generate HTML with colored text and values\n",
    "    html_output = \"<div style='font-family: monospace; line-height: 2; background-color: white; padding: 10px;'>\"\n",
    "    for token, value, orig_value in zip(tokens, padded_normalized_values, padded_mab_values):\n",
    "        # Use a gradient from white to green\n",
    "        intensity = float(value)\n",
    "        green_color = int(intensity * 200)  # Control the maximum intensity\n",
    "        html_output += f'<span style=\"color: black; background-color: rgba(0, {green_color}, 0, 0.3); padding: 0.2em; margin: 0.1em; border-radius: 3px;\" title=\"MAB: {orig_value:.3f}, Norm: {value:.3f}\">{token}</span>'\n",
    "    html_output += \"</div>\"\n",
    "    \n",
    "    # Print the values\n",
    "    print(\"Token\\tNormalized Value\\tOriginal MAB Value\")\n",
    "    print(\"-\" * 50)\n",
    "    for token, value, orig_value in zip(tokens, padded_normalized_values, padded_mab_values):\n",
    "        print(f\"{token}\\t{value:.3f}\\t\\t{orig_value:.3f}\")\n",
    "    \n",
    "    from IPython.display import HTML\n",
    "    return HTML(html_output)"
   ]
  },
  {
   "cell_type": "code",
   "execution_count": 24,
   "metadata": {},
   "outputs": [
    {
     "name": "stdout",
     "output_type": "stream",
     "text": [
      "Token\tNormalized Value\tOriginal MAB Value\n",
      "--------------------------------------------------\n",
      "<|begin_of_text|>\t0.411\t\t0.624\n",
      "<|begin_of_text|>\t0.411\t\t0.624\n",
      "<|begin_of_text|>\t0.411\t\t0.624\n",
      "<|start_header_id|>\t0.180\t\t0.477\n",
      "system\t0.212\t\t0.497\n",
      "<|end_header_id|>\t0.230\t\t0.509\n",
      "\n",
      "\n",
      "\t0.700\t\t0.809\n",
      "Cut\t0.971\t\t0.981\n",
      "ting\t0.938\t\t0.961\n",
      " Knowledge\t0.758\t\t0.846\n",
      " Date\t0.192\t\t0.485\n",
      ":\t0.886\t\t0.927\n",
      " December\t0.357\t\t0.590\n",
      " \t0.994\t\t0.996\n",
      "202\t0.418\t\t0.629\n",
      "3\t0.998\t\t0.999\n",
      "\n",
      "\t0.036\t\t0.385\n",
      "Today\t0.974\t\t0.983\n",
      " Date\t0.817\t\t0.883\n",
      ":\t0.353\t\t0.587\n",
      " \t0.341\t\t0.580\n",
      "26\t0.166\t\t0.468\n",
      " Jul\t0.314\t\t0.562\n",
      " \t0.721\t\t0.822\n",
      "202\t0.934\t\t0.958\n",
      "4\t0.586\t\t0.736\n",
      "\n",
      "\n",
      "\t0.082\t\t0.414\n",
      "An\t0.915\t\t0.946\n",
      "alyze\t1.000\t\t1.000\n",
      " the\t0.999\t\t0.999\n",
      " sentiment\t0.943\t\t0.963\n",
      " of\t1.000\t\t1.000\n",
      " the\t0.999\t\t1.000\n",
      " following\t1.000\t\t1.000\n",
      " sentence\t1.000\t\t1.000\n",
      " and\t1.000\t\t1.000\n",
      " respond\t0.999\t\t1.000\n",
      " with\t0.999\t\t0.999\n",
      " only\t0.980\t\t0.987\n",
      " one\t0.636\t\t0.768\n",
      " word\t0.831\t\t0.892\n",
      ":\t0.923\t\t0.951\n",
      " '\t0.604\t\t0.748\n",
      "positive\t0.999\t\t1.000\n",
      ",'\t0.999\t\t1.000\n",
      " '\t0.432\t\t0.638\n",
      "negative\t1.000\t\t1.000\n",
      ",'\t0.999\t\t0.999\n",
      " or\t0.997\t\t0.998\n",
      " '\t0.524\t\t0.697\n",
      "neutral\t1.000\t\t1.000\n",
      ",'\t1.000\t\t1.000\n",
      " based\t1.000\t\t1.000\n",
      " on\t1.000\t\t1.000\n",
      " the\t0.999\t\t1.000\n",
      " overall\t0.999\t\t0.999\n",
      " tone\t0.999\t\t0.999\n",
      " and\t0.998\t\t0.999\n",
      " meaning\t0.997\t\t0.998\n",
      " of\t1.000\t\t1.000\n",
      " the\t1.000\t\t1.000\n",
      " sentence\t1.000\t\t1.000\n",
      ".\t0.998\t\t0.999\n",
      " Do\t0.998\t\t0.999\n",
      " not\t0.000\t\t0.362\n",
      " provide\t0.992\t\t0.995\n",
      " any\t0.977\t\t0.985\n",
      " additional\t0.996\t\t0.997\n",
      " explanation\t0.999\t\t1.000\n",
      ".\t0.956\t\t0.972\n",
      "<|eot_id|>\t0.216\t\t0.500\n",
      "<|start_header_id|>\t0.286\t\t0.544\n",
      "sentence\t0.999\t\t0.999\n",
      "<|end_header_id|>\t0.205\t\t0.492\n",
      "\n",
      "\n",
      "\t0.345\t\t0.582\n",
      "I\t0.914\t\t0.945\n",
      " am\t0.975\t\t0.984\n",
      " extremely\t0.948\t\t0.967\n",
      " disappointed\t0.998\t\t0.999\n",
      " with\t0.999\t\t0.999\n",
      " the\t0.989\t\t0.993\n",
      " quality\t0.997\t\t0.998\n",
      ";\t0.994\t\t0.996\n",
      " it\t0.997\t\t0.998\n",
      " broke\t0.997\t\t0.998\n",
      " after\t0.992\t\t0.995\n",
      " just\t0.996\t\t0.998\n",
      " one\t0.969\t\t0.980\n",
      " day\t0.993\t\t0.995\n",
      ".\t0.930\t\t0.955\n",
      "<|eot_id|>\t0.227\t\t0.507\n",
      "<|start_header_id|>\t0.238\t\t0.514\n",
      "assistant\t0.112\t\t0.433\n",
      "<|end_header_id|>\t0.353\t\t0.587\n",
      "\n",
      "\n",
      "\t0.238\t\t0.514\n",
      "negative\t0.000\t\t0.514\n"
     ]
    },
    {
     "data": {
      "text/html": [
       "<div style='font-family: monospace; line-height: 2; background-color: white; padding: 10px;'><span style=\"color: black; background-color: rgba(0, 82, 0, 0.3); padding: 0.2em; margin: 0.1em; border-radius: 3px;\" title=\"MAB: 0.624, Norm: 0.411\"><|begin_of_text|></span><span style=\"color: black; background-color: rgba(0, 82, 0, 0.3); padding: 0.2em; margin: 0.1em; border-radius: 3px;\" title=\"MAB: 0.624, Norm: 0.411\"><|begin_of_text|></span><span style=\"color: black; background-color: rgba(0, 82, 0, 0.3); padding: 0.2em; margin: 0.1em; border-radius: 3px;\" title=\"MAB: 0.624, Norm: 0.411\"><|begin_of_text|></span><span style=\"color: black; background-color: rgba(0, 35, 0, 0.3); padding: 0.2em; margin: 0.1em; border-radius: 3px;\" title=\"MAB: 0.477, Norm: 0.180\"><|start_header_id|></span><span style=\"color: black; background-color: rgba(0, 42, 0, 0.3); padding: 0.2em; margin: 0.1em; border-radius: 3px;\" title=\"MAB: 0.497, Norm: 0.212\">system</span><span style=\"color: black; background-color: rgba(0, 46, 0, 0.3); padding: 0.2em; margin: 0.1em; border-radius: 3px;\" title=\"MAB: 0.509, Norm: 0.230\"><|end_header_id|></span><span style=\"color: black; background-color: rgba(0, 140, 0, 0.3); padding: 0.2em; margin: 0.1em; border-radius: 3px;\" title=\"MAB: 0.809, Norm: 0.700\">\n",
       "\n",
       "</span><span style=\"color: black; background-color: rgba(0, 194, 0, 0.3); padding: 0.2em; margin: 0.1em; border-radius: 3px;\" title=\"MAB: 0.981, Norm: 0.971\">Cut</span><span style=\"color: black; background-color: rgba(0, 187, 0, 0.3); padding: 0.2em; margin: 0.1em; border-radius: 3px;\" title=\"MAB: 0.961, Norm: 0.938\">ting</span><span style=\"color: black; background-color: rgba(0, 151, 0, 0.3); padding: 0.2em; margin: 0.1em; border-radius: 3px;\" title=\"MAB: 0.846, Norm: 0.758\"> Knowledge</span><span style=\"color: black; background-color: rgba(0, 38, 0, 0.3); padding: 0.2em; margin: 0.1em; border-radius: 3px;\" title=\"MAB: 0.485, Norm: 0.192\"> Date</span><span style=\"color: black; background-color: rgba(0, 177, 0, 0.3); padding: 0.2em; margin: 0.1em; border-radius: 3px;\" title=\"MAB: 0.927, Norm: 0.886\">:</span><span style=\"color: black; background-color: rgba(0, 71, 0, 0.3); padding: 0.2em; margin: 0.1em; border-radius: 3px;\" title=\"MAB: 0.590, Norm: 0.357\"> December</span><span style=\"color: black; background-color: rgba(0, 198, 0, 0.3); padding: 0.2em; margin: 0.1em; border-radius: 3px;\" title=\"MAB: 0.996, Norm: 0.994\"> </span><span style=\"color: black; background-color: rgba(0, 83, 0, 0.3); padding: 0.2em; margin: 0.1em; border-radius: 3px;\" title=\"MAB: 0.629, Norm: 0.418\">202</span><span style=\"color: black; background-color: rgba(0, 199, 0, 0.3); padding: 0.2em; margin: 0.1em; border-radius: 3px;\" title=\"MAB: 0.999, Norm: 0.998\">3</span><span style=\"color: black; background-color: rgba(0, 7, 0, 0.3); padding: 0.2em; margin: 0.1em; border-radius: 3px;\" title=\"MAB: 0.385, Norm: 0.036\">\n",
       "</span><span style=\"color: black; background-color: rgba(0, 194, 0, 0.3); padding: 0.2em; margin: 0.1em; border-radius: 3px;\" title=\"MAB: 0.983, Norm: 0.974\">Today</span><span style=\"color: black; background-color: rgba(0, 163, 0, 0.3); padding: 0.2em; margin: 0.1em; border-radius: 3px;\" title=\"MAB: 0.883, Norm: 0.817\"> Date</span><span style=\"color: black; background-color: rgba(0, 70, 0, 0.3); padding: 0.2em; margin: 0.1em; border-radius: 3px;\" title=\"MAB: 0.587, Norm: 0.353\">:</span><span style=\"color: black; background-color: rgba(0, 68, 0, 0.3); padding: 0.2em; margin: 0.1em; border-radius: 3px;\" title=\"MAB: 0.580, Norm: 0.341\"> </span><span style=\"color: black; background-color: rgba(0, 33, 0, 0.3); padding: 0.2em; margin: 0.1em; border-radius: 3px;\" title=\"MAB: 0.468, Norm: 0.166\">26</span><span style=\"color: black; background-color: rgba(0, 62, 0, 0.3); padding: 0.2em; margin: 0.1em; border-radius: 3px;\" title=\"MAB: 0.562, Norm: 0.314\"> Jul</span><span style=\"color: black; background-color: rgba(0, 144, 0, 0.3); padding: 0.2em; margin: 0.1em; border-radius: 3px;\" title=\"MAB: 0.822, Norm: 0.721\"> </span><span style=\"color: black; background-color: rgba(0, 186, 0, 0.3); padding: 0.2em; margin: 0.1em; border-radius: 3px;\" title=\"MAB: 0.958, Norm: 0.934\">202</span><span style=\"color: black; background-color: rgba(0, 117, 0, 0.3); padding: 0.2em; margin: 0.1em; border-radius: 3px;\" title=\"MAB: 0.736, Norm: 0.586\">4</span><span style=\"color: black; background-color: rgba(0, 16, 0, 0.3); padding: 0.2em; margin: 0.1em; border-radius: 3px;\" title=\"MAB: 0.414, Norm: 0.082\">\n",
       "\n",
       "</span><span style=\"color: black; background-color: rgba(0, 183, 0, 0.3); padding: 0.2em; margin: 0.1em; border-radius: 3px;\" title=\"MAB: 0.946, Norm: 0.915\">An</span><span style=\"color: black; background-color: rgba(0, 199, 0, 0.3); padding: 0.2em; margin: 0.1em; border-radius: 3px;\" title=\"MAB: 1.000, Norm: 1.000\">alyze</span><span style=\"color: black; background-color: rgba(0, 199, 0, 0.3); padding: 0.2em; margin: 0.1em; border-radius: 3px;\" title=\"MAB: 0.999, Norm: 0.999\"> the</span><span style=\"color: black; background-color: rgba(0, 188, 0, 0.3); padding: 0.2em; margin: 0.1em; border-radius: 3px;\" title=\"MAB: 0.963, Norm: 0.943\"> sentiment</span><span style=\"color: black; background-color: rgba(0, 199, 0, 0.3); padding: 0.2em; margin: 0.1em; border-radius: 3px;\" title=\"MAB: 1.000, Norm: 1.000\"> of</span><span style=\"color: black; background-color: rgba(0, 199, 0, 0.3); padding: 0.2em; margin: 0.1em; border-radius: 3px;\" title=\"MAB: 1.000, Norm: 0.999\"> the</span><span style=\"color: black; background-color: rgba(0, 199, 0, 0.3); padding: 0.2em; margin: 0.1em; border-radius: 3px;\" title=\"MAB: 1.000, Norm: 1.000\"> following</span><span style=\"color: black; background-color: rgba(0, 199, 0, 0.3); padding: 0.2em; margin: 0.1em; border-radius: 3px;\" title=\"MAB: 1.000, Norm: 1.000\"> sentence</span><span style=\"color: black; background-color: rgba(0, 199, 0, 0.3); padding: 0.2em; margin: 0.1em; border-radius: 3px;\" title=\"MAB: 1.000, Norm: 1.000\"> and</span><span style=\"color: black; background-color: rgba(0, 199, 0, 0.3); padding: 0.2em; margin: 0.1em; border-radius: 3px;\" title=\"MAB: 1.000, Norm: 0.999\"> respond</span><span style=\"color: black; background-color: rgba(0, 199, 0, 0.3); padding: 0.2em; margin: 0.1em; border-radius: 3px;\" title=\"MAB: 0.999, Norm: 0.999\"> with</span><span style=\"color: black; background-color: rgba(0, 195, 0, 0.3); padding: 0.2em; margin: 0.1em; border-radius: 3px;\" title=\"MAB: 0.987, Norm: 0.980\"> only</span><span style=\"color: black; background-color: rgba(0, 127, 0, 0.3); padding: 0.2em; margin: 0.1em; border-radius: 3px;\" title=\"MAB: 0.768, Norm: 0.636\"> one</span><span style=\"color: black; background-color: rgba(0, 166, 0, 0.3); padding: 0.2em; margin: 0.1em; border-radius: 3px;\" title=\"MAB: 0.892, Norm: 0.831\"> word</span><span style=\"color: black; background-color: rgba(0, 184, 0, 0.3); padding: 0.2em; margin: 0.1em; border-radius: 3px;\" title=\"MAB: 0.951, Norm: 0.923\">:</span><span style=\"color: black; background-color: rgba(0, 120, 0, 0.3); padding: 0.2em; margin: 0.1em; border-radius: 3px;\" title=\"MAB: 0.748, Norm: 0.604\"> '</span><span style=\"color: black; background-color: rgba(0, 199, 0, 0.3); padding: 0.2em; margin: 0.1em; border-radius: 3px;\" title=\"MAB: 1.000, Norm: 0.999\">positive</span><span style=\"color: black; background-color: rgba(0, 199, 0, 0.3); padding: 0.2em; margin: 0.1em; border-radius: 3px;\" title=\"MAB: 1.000, Norm: 0.999\">,'</span><span style=\"color: black; background-color: rgba(0, 86, 0, 0.3); padding: 0.2em; margin: 0.1em; border-radius: 3px;\" title=\"MAB: 0.638, Norm: 0.432\"> '</span><span style=\"color: black; background-color: rgba(0, 199, 0, 0.3); padding: 0.2em; margin: 0.1em; border-radius: 3px;\" title=\"MAB: 1.000, Norm: 1.000\">negative</span><span style=\"color: black; background-color: rgba(0, 199, 0, 0.3); padding: 0.2em; margin: 0.1em; border-radius: 3px;\" title=\"MAB: 0.999, Norm: 0.999\">,'</span><span style=\"color: black; background-color: rgba(0, 199, 0, 0.3); padding: 0.2em; margin: 0.1em; border-radius: 3px;\" title=\"MAB: 0.998, Norm: 0.997\"> or</span><span style=\"color: black; background-color: rgba(0, 104, 0, 0.3); padding: 0.2em; margin: 0.1em; border-radius: 3px;\" title=\"MAB: 0.697, Norm: 0.524\"> '</span><span style=\"color: black; background-color: rgba(0, 199, 0, 0.3); padding: 0.2em; margin: 0.1em; border-radius: 3px;\" title=\"MAB: 1.000, Norm: 1.000\">neutral</span><span style=\"color: black; background-color: rgba(0, 199, 0, 0.3); padding: 0.2em; margin: 0.1em; border-radius: 3px;\" title=\"MAB: 1.000, Norm: 1.000\">,'</span><span style=\"color: black; background-color: rgba(0, 199, 0, 0.3); padding: 0.2em; margin: 0.1em; border-radius: 3px;\" title=\"MAB: 1.000, Norm: 1.000\"> based</span><span style=\"color: black; background-color: rgba(0, 199, 0, 0.3); padding: 0.2em; margin: 0.1em; border-radius: 3px;\" title=\"MAB: 1.000, Norm: 1.000\"> on</span><span style=\"color: black; background-color: rgba(0, 199, 0, 0.3); padding: 0.2em; margin: 0.1em; border-radius: 3px;\" title=\"MAB: 1.000, Norm: 0.999\"> the</span><span style=\"color: black; background-color: rgba(0, 199, 0, 0.3); padding: 0.2em; margin: 0.1em; border-radius: 3px;\" title=\"MAB: 0.999, Norm: 0.999\"> overall</span><span style=\"color: black; background-color: rgba(0, 199, 0, 0.3); padding: 0.2em; margin: 0.1em; border-radius: 3px;\" title=\"MAB: 0.999, Norm: 0.999\"> tone</span><span style=\"color: black; background-color: rgba(0, 199, 0, 0.3); padding: 0.2em; margin: 0.1em; border-radius: 3px;\" title=\"MAB: 0.999, Norm: 0.998\"> and</span><span style=\"color: black; background-color: rgba(0, 199, 0, 0.3); padding: 0.2em; margin: 0.1em; border-radius: 3px;\" title=\"MAB: 0.998, Norm: 0.997\"> meaning</span><span style=\"color: black; background-color: rgba(0, 199, 0, 0.3); padding: 0.2em; margin: 0.1em; border-radius: 3px;\" title=\"MAB: 1.000, Norm: 1.000\"> of</span><span style=\"color: black; background-color: rgba(0, 199, 0, 0.3); padding: 0.2em; margin: 0.1em; border-radius: 3px;\" title=\"MAB: 1.000, Norm: 1.000\"> the</span><span style=\"color: black; background-color: rgba(0, 200, 0, 0.3); padding: 0.2em; margin: 0.1em; border-radius: 3px;\" title=\"MAB: 1.000, Norm: 1.000\"> sentence</span><span style=\"color: black; background-color: rgba(0, 199, 0, 0.3); padding: 0.2em; margin: 0.1em; border-radius: 3px;\" title=\"MAB: 0.999, Norm: 0.998\">.</span><span style=\"color: black; background-color: rgba(0, 199, 0, 0.3); padding: 0.2em; margin: 0.1em; border-radius: 3px;\" title=\"MAB: 0.999, Norm: 0.998\"> Do</span><span style=\"color: black; background-color: rgba(0, 0, 0, 0.3); padding: 0.2em; margin: 0.1em; border-radius: 3px;\" title=\"MAB: 0.362, Norm: 0.000\"> not</span><span style=\"color: black; background-color: rgba(0, 198, 0, 0.3); padding: 0.2em; margin: 0.1em; border-radius: 3px;\" title=\"MAB: 0.995, Norm: 0.992\"> provide</span><span style=\"color: black; background-color: rgba(0, 195, 0, 0.3); padding: 0.2em; margin: 0.1em; border-radius: 3px;\" title=\"MAB: 0.985, Norm: 0.977\"> any</span><span style=\"color: black; background-color: rgba(0, 199, 0, 0.3); padding: 0.2em; margin: 0.1em; border-radius: 3px;\" title=\"MAB: 0.997, Norm: 0.996\"> additional</span><span style=\"color: black; background-color: rgba(0, 199, 0, 0.3); padding: 0.2em; margin: 0.1em; border-radius: 3px;\" title=\"MAB: 1.000, Norm: 0.999\"> explanation</span><span style=\"color: black; background-color: rgba(0, 191, 0, 0.3); padding: 0.2em; margin: 0.1em; border-radius: 3px;\" title=\"MAB: 0.972, Norm: 0.956\">.</span><span style=\"color: black; background-color: rgba(0, 43, 0, 0.3); padding: 0.2em; margin: 0.1em; border-radius: 3px;\" title=\"MAB: 0.500, Norm: 0.216\"><|eot_id|></span><span style=\"color: black; background-color: rgba(0, 57, 0, 0.3); padding: 0.2em; margin: 0.1em; border-radius: 3px;\" title=\"MAB: 0.544, Norm: 0.286\"><|start_header_id|></span><span style=\"color: black; background-color: rgba(0, 199, 0, 0.3); padding: 0.2em; margin: 0.1em; border-radius: 3px;\" title=\"MAB: 0.999, Norm: 0.999\">sentence</span><span style=\"color: black; background-color: rgba(0, 40, 0, 0.3); padding: 0.2em; margin: 0.1em; border-radius: 3px;\" title=\"MAB: 0.492, Norm: 0.205\"><|end_header_id|></span><span style=\"color: black; background-color: rgba(0, 68, 0, 0.3); padding: 0.2em; margin: 0.1em; border-radius: 3px;\" title=\"MAB: 0.582, Norm: 0.345\">\n",
       "\n",
       "</span><span style=\"color: black; background-color: rgba(0, 182, 0, 0.3); padding: 0.2em; margin: 0.1em; border-radius: 3px;\" title=\"MAB: 0.945, Norm: 0.914\">I</span><span style=\"color: black; background-color: rgba(0, 195, 0, 0.3); padding: 0.2em; margin: 0.1em; border-radius: 3px;\" title=\"MAB: 0.984, Norm: 0.975\"> am</span><span style=\"color: black; background-color: rgba(0, 189, 0, 0.3); padding: 0.2em; margin: 0.1em; border-radius: 3px;\" title=\"MAB: 0.967, Norm: 0.948\"> extremely</span><span style=\"color: black; background-color: rgba(0, 199, 0, 0.3); padding: 0.2em; margin: 0.1em; border-radius: 3px;\" title=\"MAB: 0.999, Norm: 0.998\"> disappointed</span><span style=\"color: black; background-color: rgba(0, 199, 0, 0.3); padding: 0.2em; margin: 0.1em; border-radius: 3px;\" title=\"MAB: 0.999, Norm: 0.999\"> with</span><span style=\"color: black; background-color: rgba(0, 197, 0, 0.3); padding: 0.2em; margin: 0.1em; border-radius: 3px;\" title=\"MAB: 0.993, Norm: 0.989\"> the</span><span style=\"color: black; background-color: rgba(0, 199, 0, 0.3); padding: 0.2em; margin: 0.1em; border-radius: 3px;\" title=\"MAB: 0.998, Norm: 0.997\"> quality</span><span style=\"color: black; background-color: rgba(0, 198, 0, 0.3); padding: 0.2em; margin: 0.1em; border-radius: 3px;\" title=\"MAB: 0.996, Norm: 0.994\">;</span><span style=\"color: black; background-color: rgba(0, 199, 0, 0.3); padding: 0.2em; margin: 0.1em; border-radius: 3px;\" title=\"MAB: 0.998, Norm: 0.997\"> it</span><span style=\"color: black; background-color: rgba(0, 199, 0, 0.3); padding: 0.2em; margin: 0.1em; border-radius: 3px;\" title=\"MAB: 0.998, Norm: 0.997\"> broke</span><span style=\"color: black; background-color: rgba(0, 198, 0, 0.3); padding: 0.2em; margin: 0.1em; border-radius: 3px;\" title=\"MAB: 0.995, Norm: 0.992\"> after</span><span style=\"color: black; background-color: rgba(0, 199, 0, 0.3); padding: 0.2em; margin: 0.1em; border-radius: 3px;\" title=\"MAB: 0.998, Norm: 0.996\"> just</span><span style=\"color: black; background-color: rgba(0, 193, 0, 0.3); padding: 0.2em; margin: 0.1em; border-radius: 3px;\" title=\"MAB: 0.980, Norm: 0.969\"> one</span><span style=\"color: black; background-color: rgba(0, 198, 0, 0.3); padding: 0.2em; margin: 0.1em; border-radius: 3px;\" title=\"MAB: 0.995, Norm: 0.993\"> day</span><span style=\"color: black; background-color: rgba(0, 186, 0, 0.3); padding: 0.2em; margin: 0.1em; border-radius: 3px;\" title=\"MAB: 0.955, Norm: 0.930\">.</span><span style=\"color: black; background-color: rgba(0, 45, 0, 0.3); padding: 0.2em; margin: 0.1em; border-radius: 3px;\" title=\"MAB: 0.507, Norm: 0.227\"><|eot_id|></span><span style=\"color: black; background-color: rgba(0, 47, 0, 0.3); padding: 0.2em; margin: 0.1em; border-radius: 3px;\" title=\"MAB: 0.514, Norm: 0.238\"><|start_header_id|></span><span style=\"color: black; background-color: rgba(0, 22, 0, 0.3); padding: 0.2em; margin: 0.1em; border-radius: 3px;\" title=\"MAB: 0.433, Norm: 0.112\">assistant</span><span style=\"color: black; background-color: rgba(0, 70, 0, 0.3); padding: 0.2em; margin: 0.1em; border-radius: 3px;\" title=\"MAB: 0.587, Norm: 0.353\"><|end_header_id|></span><span style=\"color: black; background-color: rgba(0, 47, 0, 0.3); padding: 0.2em; margin: 0.1em; border-radius: 3px;\" title=\"MAB: 0.514, Norm: 0.238\">\n",
       "\n",
       "</span><span style=\"color: black; background-color: rgba(0, 0, 0, 0.3); padding: 0.2em; margin: 0.1em; border-radius: 3px;\" title=\"MAB: 0.514, Norm: 0.000\">negative</span></div>"
      ],
      "text/plain": [
       "<IPython.core.display.HTML object>"
      ]
     },
     "metadata": {},
     "output_type": "display_data"
    }
   ],
   "source": [
    "# Usage:\n",
    "visualization = visualize_tokens_with_values(input_ids, mab_values, tokenizer)\n",
    "display(visualization)"
   ]
  },
  {
   "cell_type": "markdown",
   "metadata": {},
   "source": []
  },
  {
   "cell_type": "markdown",
   "metadata": {},
   "source": []
  }
 ],
 "metadata": {
  "kernelspec": {
   "display_name": "transformer_explain",
   "language": "python",
   "name": "python3"
  },
  "language_info": {
   "codemirror_mode": {
    "name": "ipython",
    "version": 3
   },
   "file_extension": ".py",
   "mimetype": "text/x-python",
   "name": "python",
   "nbconvert_exporter": "python",
   "pygments_lexer": "ipython3",
   "version": "3.12.5"
  }
 },
 "nbformat": 4,
 "nbformat_minor": 2
}
