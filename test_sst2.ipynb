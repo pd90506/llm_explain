{
 "cells": [
  {
   "cell_type": "code",
   "execution_count": 1,
   "metadata": {},
   "outputs": [],
   "source": [
    "from llmexp.llm.smollm import LLMWrapper\n",
    "from accelerate import Accelerator\n",
    "import torch\n",
    "\n",
    "# checkpoint = \"meta-llama/Meta-Llama-3-8B-Instruct\"\n",
    "checkpoint = \"meta-llama/Llama-3.2-1B-Instruct\"\n",
    "# checkpoint = \"HuggingFaceTB/SmolLM-1.7B-Instruct\"\n",
    "saved_mab_model = \"checkpoints/mab_model_100.pth\"\n",
    "\n",
    "\n",
    "accelerator = Accelerator()\n",
    "device = accelerator.device\n",
    "\n",
    "\n",
    "llm = LLMWrapper(checkpoint, device=device)\n",
    "tokenizer = llm.tokenizer"
   ]
  },
  {
   "cell_type": "code",
   "execution_count": 9,
   "metadata": {},
   "outputs": [
    {
     "name": "stderr",
     "output_type": "stream",
     "text": [
      "Setting `pad_token_id` to `eos_token_id`:128001 for open-end generation.\n"
     ]
    },
    {
     "name": "stdout",
     "output_type": "stream",
     "text": [
      "<|begin_of_text|><|begin_of_text|><|start_header_id|>system<|end_header_id|>\n",
      "\n",
      "Cutting Knowledge Date: December 2023\n",
      "Today Date: 26 Jul 2024\n",
      "\n",
      "Analyze the sentiment of the following sentence and respond with only one word: 'positive,' 'negative,' or 'neutral,' based on the overall tone and meaning of the sentence. Do not provide any additional explanation.<|eot_id|><|start_header_id|>sentence<|end_header_id|>\n",
      "\n",
      "The service at this restaurant was fantastic, and the staff were so friendly.<|eot_id|><|start_header_id|>assistant<|end_header_id|>\n",
      "\n",
      "positive<|eot_id|>\n"
     ]
    }
   ],
   "source": [
    "# instruction = \"Analyze the sentiment of the following sentence. Be brief.\"\n",
    "instruction = \"Analyze the sentiment of the following sentence and respond with only one word: 'positive,' 'negative,' or 'neutral,' based on the overall tone and meaning of the sentence. Do not provide any additional explanation.\"\n",
    "# user_input = \"I am extremely disappointed with the quality; it broke after just one day.\"\n",
    "user_input = \"The service at this restaurant was fantastic, and the staff were so friendly.\"\n",
    "\n",
    "content = [\n",
    "            {\"role\": \"system\", \n",
    "            \"content\": instruction\n",
    "            },\n",
    "\n",
    "            {\"role\": \"sentence\", \n",
    "            \"content\": user_input\n",
    "            }\n",
    "        ]\n",
    "template = tokenizer.apply_chat_template(content, tokenize=False, add_generation_prompt=True)\n",
    "# print(template)\n",
    "\n",
    "# The generated outputs \n",
    "gen_output = llm.generate_from_texts(template)\n",
    "print(gen_output)"
   ]
  },
  {
   "cell_type": "code",
   "execution_count": 10,
   "metadata": {},
   "outputs": [
    {
     "name": "stdout",
     "output_type": "stream",
     "text": [
      "\n"
     ]
    },
    {
     "name": "stderr",
     "output_type": "stream",
     "text": [
      "/tmp/1107694.1.gpu/ipykernel_569032/3922162976.py:2: FutureWarning: You are using `torch.load` with `weights_only=False` (the current default value), which uses the default pickle module implicitly. It is possible to construct malicious pickle data which will execute arbitrary code during unpickling (See https://github.com/pytorch/pytorch/blob/main/SECURITY.md#untrusted-models for more details). In a future release, the default value for `weights_only` will be flipped to `True`. This limits the functions that could be executed during unpickling. Arbitrary objects will no longer be allowed to be loaded via this mode unless they are explicitly allowlisted by the user via `torch.serialization.add_safe_globals`. We recommend you start setting `weights_only=True` for any use case where you don't have full control of the loaded file. Please open an issue on GitHub for any issues related to this experimental feature.\n",
      "  mab_model = MABModel.load_with_base_model(torch.load(saved_mab_model), llm, hidden_size=1024)\n"
     ]
    }
   ],
   "source": [
    "from llmexp.explainer.mab_model import MABModel\n",
    "mab_model = MABModel.load_with_base_model(torch.load(saved_mab_model), llm, hidden_size=1024)\n",
    "mab_model.to(device)\n",
    "print()"
   ]
  },
  {
   "cell_type": "code",
   "execution_count": 11,
   "metadata": {},
   "outputs": [],
   "source": [
    "gen_inputs = tokenizer(gen_output, return_tensors=\"pt\").to(device)\n",
    "input_ids = gen_inputs['input_ids'][:, :-1]\n",
    "attention_mask = gen_inputs['attention_mask'][:, :-1]\n",
    "_, mab_values, _ = mab_model.get_dist_value(input_ids, attention_mask)\n",
    "\n"
   ]
  },
  {
   "cell_type": "code",
   "execution_count": 12,
   "metadata": {},
   "outputs": [
    {
     "name": "stdout",
     "output_type": "stream",
     "text": [
      "tensor([[-0.0407, -0.0407, -0.0407, -0.0376, -0.0316, -0.0332, -0.0333, -0.0410,\n",
      "         -0.0386, -0.0382, -0.0334, -0.0419, -0.0348, -0.0196, -0.0374, -0.0280,\n",
      "         -0.0327, -0.0323, -0.0312, -0.0361, -0.0414, -0.0362, -0.0299, -0.0319,\n",
      "         -0.0188, -0.0340, -0.0276, -0.0286, -0.0297, -0.0358, -0.0263, -0.0283,\n",
      "         -0.0377, -0.0306, -0.0378, -0.0300, -0.0294, -0.0252, -0.0262, -0.0304,\n",
      "         -0.0288, -0.0300, -0.0308, -0.0256, -0.0259, -0.0289, -0.0331, -0.0264,\n",
      "         -0.0267, -0.0296, -0.0311, -0.0342, -0.0308, -0.0304, -0.0273, -0.0255,\n",
      "         -0.0316, -0.0271, -0.0360, -0.0270, -0.0293, -0.0304, -0.0265, -0.0325,\n",
      "         -0.0283, -0.0296, -0.0316, -0.0344, -0.0296, -0.0291, -0.0325, -0.0344,\n",
      "         -0.0290, -0.0311, -0.0232, -0.0306, -0.0379, -0.0391, -0.0392, -0.0330,\n",
      "         -0.0355, -0.0353, -0.0317, -0.0332, -0.0412, -0.0407, -0.0362, -0.0333,\n",
      "         -0.0336, -0.0312, -0.0327, -0.0291, -0.0286, -0.0300, -0.0258]],\n",
      "       device='cuda:0', grad_fn=<SqueezeBackward1>)\n",
      "torch.Size([1, 95])\n"
     ]
    }
   ],
   "source": [
    "print(mab_values)\n",
    "print(mab_values.shape)"
   ]
  },
  {
   "cell_type": "code",
   "execution_count": 13,
   "metadata": {},
   "outputs": [
    {
     "name": "stdout",
     "output_type": "stream",
     "text": [
      "tensor([[128000, 128000, 128000, 128006,   9125, 128007,    271,  38766,   1303,\n",
      "          33025,   2696,     25,   6790,    220,   2366,     18,    198,  15724,\n",
      "           2696,     25,    220,   1627,  10263,    220,   2366,     19,    271,\n",
      "           2127,  56956,    279,  27065,    315,    279,   2768,  11914,    323,\n",
      "           6013,    449,   1193,    832,   3492,     25,    364,  31587,   2965,\n",
      "            364,  43324,   2965,    477,    364,  60668,   2965,   3196,    389,\n",
      "            279,   8244,  16630,    323,   7438,    315,    279,  11914,     13,\n",
      "           3234,    539,   3493,    904,   5217,  16540,     13, 128009, 128006,\n",
      "          52989, 128007,    271,    791,   2532,    520,    420,  10960,    574,\n",
      "          14964,     11,    323,    279,   5687,   1051,    779,  11919,     13,\n",
      "         128009, 128006,  78191, 128007,    271,  31587]], device='cuda:0')\n",
      "torch.Size([1, 96])\n"
     ]
    }
   ],
   "source": [
    "print(input_ids)\n",
    "print(input_ids.shape)"
   ]
  },
  {
   "cell_type": "code",
   "execution_count": 14,
   "metadata": {},
   "outputs": [],
   "source": [
    "def visualize_tokens_with_values(input_ids, mab_values, tokenizer):\n",
    "    # Decode tokens one by one to preserve alignment\n",
    "    tokens = []\n",
    "    for i in range(input_ids.shape[1]):\n",
    "        token = tokenizer.decode(input_ids[0, i:i+1])\n",
    "        tokens.append(token)\n",
    "    \n",
    "    # Normalize MAB values to [0,1] for color intensity first\n",
    "    normalized_values = (mab_values[0] - mab_values[0].min()) / (mab_values[0].max() - mab_values[0].min())\n",
    "    \n",
    "    # Pad normalized_values with a zero at the end\n",
    "    padded_normalized_values = torch.cat([normalized_values, torch.zeros(1, device=mab_values.device)], dim=0)\n",
    "    # Pad original mab_values with the last actual value\n",
    "    padded_mab_values = torch.cat([mab_values[0], mab_values[0][-1:]], dim=0)\n",
    "    \n",
    "    # Generate HTML with colored text and values\n",
    "    html_output = \"<div style='font-family: monospace; line-height: 2; background-color: white; padding: 10px;'>\"\n",
    "    for token, value, orig_value in zip(tokens, padded_normalized_values, padded_mab_values):\n",
    "        # Use a gradient from white to green\n",
    "        intensity = float(value)\n",
    "        green_color = int(intensity * 200)  # Control the maximum intensity\n",
    "        html_output += f'<span style=\"color: black; background-color: rgba(0, {green_color}, 0, 0.3); padding: 0.2em; margin: 0.1em; border-radius: 3px;\" title=\"MAB: {orig_value:.3f}, Norm: {value:.3f}\">{token}</span>'\n",
    "    html_output += \"</div>\"\n",
    "    \n",
    "    # Print the values\n",
    "    print(\"Token\\tNormalized Value\\tOriginal MAB Value\")\n",
    "    print(\"-\" * 50)\n",
    "    for token, value, orig_value in zip(tokens, padded_normalized_values, padded_mab_values):\n",
    "        print(f\"{token}\\t{value:.3f}\\t\\t{orig_value:.3f}\")\n",
    "    \n",
    "    from IPython.display import HTML\n",
    "    return HTML(html_output)"
   ]
  },
  {
   "cell_type": "code",
   "execution_count": 15,
   "metadata": {},
   "outputs": [
    {
     "name": "stdout",
     "output_type": "stream",
     "text": [
      "Token\tNormalized Value\tOriginal MAB Value\n",
      "--------------------------------------------------\n",
      "<|begin_of_text|>\t0.050\t\t-0.041\n",
      "<|begin_of_text|>\t0.050\t\t-0.041\n",
      "<|begin_of_text|>\t0.050\t\t-0.041\n",
      "<|start_header_id|>\t0.185\t\t-0.038\n",
      "system\t0.445\t\t-0.032\n",
      "<|end_header_id|>\t0.375\t\t-0.033\n",
      "\n",
      "\n",
      "\t0.372\t\t-0.033\n",
      "Cut\t0.039\t\t-0.041\n",
      "ting\t0.144\t\t-0.039\n",
      " Knowledge\t0.162\t\t-0.038\n",
      " Date\t0.366\t\t-0.033\n",
      ":\t0.000\t\t-0.042\n",
      " December\t0.308\t\t-0.035\n",
      " \t0.967\t\t-0.020\n",
      "202\t0.194\t\t-0.037\n",
      "3\t0.602\t\t-0.028\n",
      "\n",
      "\t0.399\t\t-0.033\n",
      "Today\t0.416\t\t-0.032\n",
      " Date\t0.461\t\t-0.031\n",
      ":\t0.250\t\t-0.036\n",
      " \t0.019\t\t-0.041\n",
      "26\t0.248\t\t-0.036\n",
      " Jul\t0.518\t\t-0.030\n",
      " \t0.432\t\t-0.032\n",
      "202\t1.000\t\t-0.019\n",
      "4\t0.342\t\t-0.034\n",
      "\n",
      "\n",
      "\t0.619\t\t-0.028\n",
      "An\t0.576\t\t-0.029\n",
      "alyze\t0.528\t\t-0.030\n",
      " the\t0.264\t\t-0.036\n",
      " sentiment\t0.674\t\t-0.026\n",
      " of\t0.590\t\t-0.028\n",
      " the\t0.180\t\t-0.038\n",
      " following\t0.491\t\t-0.031\n",
      " sentence\t0.178\t\t-0.038\n",
      " and\t0.516\t\t-0.030\n",
      " respond\t0.540\t\t-0.029\n",
      " with\t0.722\t\t-0.025\n",
      " only\t0.680\t\t-0.026\n",
      " one\t0.499\t\t-0.030\n",
      " word\t0.567\t\t-0.029\n",
      ":\t0.517\t\t-0.030\n",
      " '\t0.483\t\t-0.031\n",
      "positive\t0.707\t\t-0.026\n",
      ",'\t0.694\t\t-0.026\n",
      " '\t0.563\t\t-0.029\n",
      "negative\t0.380\t\t-0.033\n",
      ",'\t0.670\t\t-0.026\n",
      " or\t0.657\t\t-0.027\n",
      " '\t0.534\t\t-0.030\n",
      "neutral\t0.469\t\t-0.031\n",
      ",'\t0.334\t\t-0.034\n",
      " based\t0.481\t\t-0.031\n",
      " on\t0.499\t\t-0.030\n",
      " the\t0.635\t\t-0.027\n",
      " overall\t0.709\t\t-0.026\n",
      " tone\t0.447\t\t-0.032\n",
      " and\t0.643\t\t-0.027\n",
      " meaning\t0.256\t\t-0.036\n",
      " of\t0.647\t\t-0.027\n",
      " the\t0.546\t\t-0.029\n",
      " sentence\t0.496\t\t-0.030\n",
      ".\t0.665\t\t-0.027\n",
      " Do\t0.409\t\t-0.032\n",
      " not\t0.589\t\t-0.028\n",
      " provide\t0.534\t\t-0.030\n",
      " any\t0.444\t\t-0.032\n",
      " additional\t0.326\t\t-0.034\n",
      " explanation\t0.535\t\t-0.030\n",
      ".\t0.554\t\t-0.029\n",
      "<|eot_id|>\t0.406\t\t-0.033\n",
      "<|start_header_id|>\t0.325\t\t-0.034\n",
      "sentence\t0.560\t\t-0.029\n",
      "<|end_header_id|>\t0.468\t\t-0.031\n",
      "\n",
      "\n",
      "\t0.811\t\t-0.023\n",
      "The\t0.488\t\t-0.031\n",
      " service\t0.171\t\t-0.038\n",
      " at\t0.120\t\t-0.039\n",
      " this\t0.117\t\t-0.039\n",
      " restaurant\t0.387\t\t-0.033\n",
      " was\t0.278\t\t-0.035\n",
      " fantastic\t0.286\t\t-0.035\n",
      ",\t0.441\t\t-0.032\n",
      " and\t0.379\t\t-0.033\n",
      " the\t0.028\t\t-0.041\n",
      " staff\t0.051\t\t-0.041\n",
      " were\t0.248\t\t-0.036\n",
      " so\t0.374\t\t-0.033\n",
      " friendly\t0.357\t\t-0.034\n",
      ".\t0.462\t\t-0.031\n",
      "<|eot_id|>\t0.400\t\t-0.033\n",
      "<|start_header_id|>\t0.553\t\t-0.029\n",
      "assistant\t0.575\t\t-0.029\n",
      "<|end_header_id|>\t0.517\t\t-0.030\n",
      "\n",
      "\n",
      "\t0.699\t\t-0.026\n",
      "positive\t0.000\t\t-0.026\n"
     ]
    },
    {
     "data": {
      "text/html": [
       "<div style='font-family: monospace; line-height: 2; background-color: white; padding: 10px;'><span style=\"color: black; background-color: rgba(0, 9, 0, 0.3); padding: 0.2em; margin: 0.1em; border-radius: 3px;\" title=\"MAB: -0.041, Norm: 0.050\"><|begin_of_text|></span><span style=\"color: black; background-color: rgba(0, 9, 0, 0.3); padding: 0.2em; margin: 0.1em; border-radius: 3px;\" title=\"MAB: -0.041, Norm: 0.050\"><|begin_of_text|></span><span style=\"color: black; background-color: rgba(0, 9, 0, 0.3); padding: 0.2em; margin: 0.1em; border-radius: 3px;\" title=\"MAB: -0.041, Norm: 0.050\"><|begin_of_text|></span><span style=\"color: black; background-color: rgba(0, 37, 0, 0.3); padding: 0.2em; margin: 0.1em; border-radius: 3px;\" title=\"MAB: -0.038, Norm: 0.185\"><|start_header_id|></span><span style=\"color: black; background-color: rgba(0, 89, 0, 0.3); padding: 0.2em; margin: 0.1em; border-radius: 3px;\" title=\"MAB: -0.032, Norm: 0.445\">system</span><span style=\"color: black; background-color: rgba(0, 74, 0, 0.3); padding: 0.2em; margin: 0.1em; border-radius: 3px;\" title=\"MAB: -0.033, Norm: 0.375\"><|end_header_id|></span><span style=\"color: black; background-color: rgba(0, 74, 0, 0.3); padding: 0.2em; margin: 0.1em; border-radius: 3px;\" title=\"MAB: -0.033, Norm: 0.372\">\n",
       "\n",
       "</span><span style=\"color: black; background-color: rgba(0, 7, 0, 0.3); padding: 0.2em; margin: 0.1em; border-radius: 3px;\" title=\"MAB: -0.041, Norm: 0.039\">Cut</span><span style=\"color: black; background-color: rgba(0, 28, 0, 0.3); padding: 0.2em; margin: 0.1em; border-radius: 3px;\" title=\"MAB: -0.039, Norm: 0.144\">ting</span><span style=\"color: black; background-color: rgba(0, 32, 0, 0.3); padding: 0.2em; margin: 0.1em; border-radius: 3px;\" title=\"MAB: -0.038, Norm: 0.162\"> Knowledge</span><span style=\"color: black; background-color: rgba(0, 73, 0, 0.3); padding: 0.2em; margin: 0.1em; border-radius: 3px;\" title=\"MAB: -0.033, Norm: 0.366\"> Date</span><span style=\"color: black; background-color: rgba(0, 0, 0, 0.3); padding: 0.2em; margin: 0.1em; border-radius: 3px;\" title=\"MAB: -0.042, Norm: 0.000\">:</span><span style=\"color: black; background-color: rgba(0, 61, 0, 0.3); padding: 0.2em; margin: 0.1em; border-radius: 3px;\" title=\"MAB: -0.035, Norm: 0.308\"> December</span><span style=\"color: black; background-color: rgba(0, 193, 0, 0.3); padding: 0.2em; margin: 0.1em; border-radius: 3px;\" title=\"MAB: -0.020, Norm: 0.967\"> </span><span style=\"color: black; background-color: rgba(0, 38, 0, 0.3); padding: 0.2em; margin: 0.1em; border-radius: 3px;\" title=\"MAB: -0.037, Norm: 0.194\">202</span><span style=\"color: black; background-color: rgba(0, 120, 0, 0.3); padding: 0.2em; margin: 0.1em; border-radius: 3px;\" title=\"MAB: -0.028, Norm: 0.602\">3</span><span style=\"color: black; background-color: rgba(0, 79, 0, 0.3); padding: 0.2em; margin: 0.1em; border-radius: 3px;\" title=\"MAB: -0.033, Norm: 0.399\">\n",
       "</span><span style=\"color: black; background-color: rgba(0, 83, 0, 0.3); padding: 0.2em; margin: 0.1em; border-radius: 3px;\" title=\"MAB: -0.032, Norm: 0.416\">Today</span><span style=\"color: black; background-color: rgba(0, 92, 0, 0.3); padding: 0.2em; margin: 0.1em; border-radius: 3px;\" title=\"MAB: -0.031, Norm: 0.461\"> Date</span><span style=\"color: black; background-color: rgba(0, 49, 0, 0.3); padding: 0.2em; margin: 0.1em; border-radius: 3px;\" title=\"MAB: -0.036, Norm: 0.250\">:</span><span style=\"color: black; background-color: rgba(0, 3, 0, 0.3); padding: 0.2em; margin: 0.1em; border-radius: 3px;\" title=\"MAB: -0.041, Norm: 0.019\"> </span><span style=\"color: black; background-color: rgba(0, 49, 0, 0.3); padding: 0.2em; margin: 0.1em; border-radius: 3px;\" title=\"MAB: -0.036, Norm: 0.248\">26</span><span style=\"color: black; background-color: rgba(0, 103, 0, 0.3); padding: 0.2em; margin: 0.1em; border-radius: 3px;\" title=\"MAB: -0.030, Norm: 0.518\"> Jul</span><span style=\"color: black; background-color: rgba(0, 86, 0, 0.3); padding: 0.2em; margin: 0.1em; border-radius: 3px;\" title=\"MAB: -0.032, Norm: 0.432\"> </span><span style=\"color: black; background-color: rgba(0, 200, 0, 0.3); padding: 0.2em; margin: 0.1em; border-radius: 3px;\" title=\"MAB: -0.019, Norm: 1.000\">202</span><span style=\"color: black; background-color: rgba(0, 68, 0, 0.3); padding: 0.2em; margin: 0.1em; border-radius: 3px;\" title=\"MAB: -0.034, Norm: 0.342\">4</span><span style=\"color: black; background-color: rgba(0, 123, 0, 0.3); padding: 0.2em; margin: 0.1em; border-radius: 3px;\" title=\"MAB: -0.028, Norm: 0.619\">\n",
       "\n",
       "</span><span style=\"color: black; background-color: rgba(0, 115, 0, 0.3); padding: 0.2em; margin: 0.1em; border-radius: 3px;\" title=\"MAB: -0.029, Norm: 0.576\">An</span><span style=\"color: black; background-color: rgba(0, 105, 0, 0.3); padding: 0.2em; margin: 0.1em; border-radius: 3px;\" title=\"MAB: -0.030, Norm: 0.528\">alyze</span><span style=\"color: black; background-color: rgba(0, 52, 0, 0.3); padding: 0.2em; margin: 0.1em; border-radius: 3px;\" title=\"MAB: -0.036, Norm: 0.264\"> the</span><span style=\"color: black; background-color: rgba(0, 134, 0, 0.3); padding: 0.2em; margin: 0.1em; border-radius: 3px;\" title=\"MAB: -0.026, Norm: 0.674\"> sentiment</span><span style=\"color: black; background-color: rgba(0, 118, 0, 0.3); padding: 0.2em; margin: 0.1em; border-radius: 3px;\" title=\"MAB: -0.028, Norm: 0.590\"> of</span><span style=\"color: black; background-color: rgba(0, 35, 0, 0.3); padding: 0.2em; margin: 0.1em; border-radius: 3px;\" title=\"MAB: -0.038, Norm: 0.180\"> the</span><span style=\"color: black; background-color: rgba(0, 98, 0, 0.3); padding: 0.2em; margin: 0.1em; border-radius: 3px;\" title=\"MAB: -0.031, Norm: 0.491\"> following</span><span style=\"color: black; background-color: rgba(0, 35, 0, 0.3); padding: 0.2em; margin: 0.1em; border-radius: 3px;\" title=\"MAB: -0.038, Norm: 0.178\"> sentence</span><span style=\"color: black; background-color: rgba(0, 103, 0, 0.3); padding: 0.2em; margin: 0.1em; border-radius: 3px;\" title=\"MAB: -0.030, Norm: 0.516\"> and</span><span style=\"color: black; background-color: rgba(0, 107, 0, 0.3); padding: 0.2em; margin: 0.1em; border-radius: 3px;\" title=\"MAB: -0.029, Norm: 0.540\"> respond</span><span style=\"color: black; background-color: rgba(0, 144, 0, 0.3); padding: 0.2em; margin: 0.1em; border-radius: 3px;\" title=\"MAB: -0.025, Norm: 0.722\"> with</span><span style=\"color: black; background-color: rgba(0, 136, 0, 0.3); padding: 0.2em; margin: 0.1em; border-radius: 3px;\" title=\"MAB: -0.026, Norm: 0.680\"> only</span><span style=\"color: black; background-color: rgba(0, 99, 0, 0.3); padding: 0.2em; margin: 0.1em; border-radius: 3px;\" title=\"MAB: -0.030, Norm: 0.499\"> one</span><span style=\"color: black; background-color: rgba(0, 113, 0, 0.3); padding: 0.2em; margin: 0.1em; border-radius: 3px;\" title=\"MAB: -0.029, Norm: 0.567\"> word</span><span style=\"color: black; background-color: rgba(0, 103, 0, 0.3); padding: 0.2em; margin: 0.1em; border-radius: 3px;\" title=\"MAB: -0.030, Norm: 0.517\">:</span><span style=\"color: black; background-color: rgba(0, 96, 0, 0.3); padding: 0.2em; margin: 0.1em; border-radius: 3px;\" title=\"MAB: -0.031, Norm: 0.483\"> '</span><span style=\"color: black; background-color: rgba(0, 141, 0, 0.3); padding: 0.2em; margin: 0.1em; border-radius: 3px;\" title=\"MAB: -0.026, Norm: 0.707\">positive</span><span style=\"color: black; background-color: rgba(0, 138, 0, 0.3); padding: 0.2em; margin: 0.1em; border-radius: 3px;\" title=\"MAB: -0.026, Norm: 0.694\">,'</span><span style=\"color: black; background-color: rgba(0, 112, 0, 0.3); padding: 0.2em; margin: 0.1em; border-radius: 3px;\" title=\"MAB: -0.029, Norm: 0.563\"> '</span><span style=\"color: black; background-color: rgba(0, 76, 0, 0.3); padding: 0.2em; margin: 0.1em; border-radius: 3px;\" title=\"MAB: -0.033, Norm: 0.380\">negative</span><span style=\"color: black; background-color: rgba(0, 134, 0, 0.3); padding: 0.2em; margin: 0.1em; border-radius: 3px;\" title=\"MAB: -0.026, Norm: 0.670\">,'</span><span style=\"color: black; background-color: rgba(0, 131, 0, 0.3); padding: 0.2em; margin: 0.1em; border-radius: 3px;\" title=\"MAB: -0.027, Norm: 0.657\"> or</span><span style=\"color: black; background-color: rgba(0, 106, 0, 0.3); padding: 0.2em; margin: 0.1em; border-radius: 3px;\" title=\"MAB: -0.030, Norm: 0.534\"> '</span><span style=\"color: black; background-color: rgba(0, 93, 0, 0.3); padding: 0.2em; margin: 0.1em; border-radius: 3px;\" title=\"MAB: -0.031, Norm: 0.469\">neutral</span><span style=\"color: black; background-color: rgba(0, 66, 0, 0.3); padding: 0.2em; margin: 0.1em; border-radius: 3px;\" title=\"MAB: -0.034, Norm: 0.334\">,'</span><span style=\"color: black; background-color: rgba(0, 96, 0, 0.3); padding: 0.2em; margin: 0.1em; border-radius: 3px;\" title=\"MAB: -0.031, Norm: 0.481\"> based</span><span style=\"color: black; background-color: rgba(0, 99, 0, 0.3); padding: 0.2em; margin: 0.1em; border-radius: 3px;\" title=\"MAB: -0.030, Norm: 0.499\"> on</span><span style=\"color: black; background-color: rgba(0, 126, 0, 0.3); padding: 0.2em; margin: 0.1em; border-radius: 3px;\" title=\"MAB: -0.027, Norm: 0.635\"> the</span><span style=\"color: black; background-color: rgba(0, 141, 0, 0.3); padding: 0.2em; margin: 0.1em; border-radius: 3px;\" title=\"MAB: -0.026, Norm: 0.709\"> overall</span><span style=\"color: black; background-color: rgba(0, 89, 0, 0.3); padding: 0.2em; margin: 0.1em; border-radius: 3px;\" title=\"MAB: -0.032, Norm: 0.447\"> tone</span><span style=\"color: black; background-color: rgba(0, 128, 0, 0.3); padding: 0.2em; margin: 0.1em; border-radius: 3px;\" title=\"MAB: -0.027, Norm: 0.643\"> and</span><span style=\"color: black; background-color: rgba(0, 51, 0, 0.3); padding: 0.2em; margin: 0.1em; border-radius: 3px;\" title=\"MAB: -0.036, Norm: 0.256\"> meaning</span><span style=\"color: black; background-color: rgba(0, 129, 0, 0.3); padding: 0.2em; margin: 0.1em; border-radius: 3px;\" title=\"MAB: -0.027, Norm: 0.647\"> of</span><span style=\"color: black; background-color: rgba(0, 109, 0, 0.3); padding: 0.2em; margin: 0.1em; border-radius: 3px;\" title=\"MAB: -0.029, Norm: 0.546\"> the</span><span style=\"color: black; background-color: rgba(0, 99, 0, 0.3); padding: 0.2em; margin: 0.1em; border-radius: 3px;\" title=\"MAB: -0.030, Norm: 0.496\"> sentence</span><span style=\"color: black; background-color: rgba(0, 133, 0, 0.3); padding: 0.2em; margin: 0.1em; border-radius: 3px;\" title=\"MAB: -0.027, Norm: 0.665\">.</span><span style=\"color: black; background-color: rgba(0, 81, 0, 0.3); padding: 0.2em; margin: 0.1em; border-radius: 3px;\" title=\"MAB: -0.032, Norm: 0.409\"> Do</span><span style=\"color: black; background-color: rgba(0, 117, 0, 0.3); padding: 0.2em; margin: 0.1em; border-radius: 3px;\" title=\"MAB: -0.028, Norm: 0.589\"> not</span><span style=\"color: black; background-color: rgba(0, 106, 0, 0.3); padding: 0.2em; margin: 0.1em; border-radius: 3px;\" title=\"MAB: -0.030, Norm: 0.534\"> provide</span><span style=\"color: black; background-color: rgba(0, 88, 0, 0.3); padding: 0.2em; margin: 0.1em; border-radius: 3px;\" title=\"MAB: -0.032, Norm: 0.444\"> any</span><span style=\"color: black; background-color: rgba(0, 65, 0, 0.3); padding: 0.2em; margin: 0.1em; border-radius: 3px;\" title=\"MAB: -0.034, Norm: 0.326\"> additional</span><span style=\"color: black; background-color: rgba(0, 106, 0, 0.3); padding: 0.2em; margin: 0.1em; border-radius: 3px;\" title=\"MAB: -0.030, Norm: 0.535\"> explanation</span><span style=\"color: black; background-color: rgba(0, 110, 0, 0.3); padding: 0.2em; margin: 0.1em; border-radius: 3px;\" title=\"MAB: -0.029, Norm: 0.554\">.</span><span style=\"color: black; background-color: rgba(0, 81, 0, 0.3); padding: 0.2em; margin: 0.1em; border-radius: 3px;\" title=\"MAB: -0.033, Norm: 0.406\"><|eot_id|></span><span style=\"color: black; background-color: rgba(0, 64, 0, 0.3); padding: 0.2em; margin: 0.1em; border-radius: 3px;\" title=\"MAB: -0.034, Norm: 0.325\"><|start_header_id|></span><span style=\"color: black; background-color: rgba(0, 112, 0, 0.3); padding: 0.2em; margin: 0.1em; border-radius: 3px;\" title=\"MAB: -0.029, Norm: 0.560\">sentence</span><span style=\"color: black; background-color: rgba(0, 93, 0, 0.3); padding: 0.2em; margin: 0.1em; border-radius: 3px;\" title=\"MAB: -0.031, Norm: 0.468\"><|end_header_id|></span><span style=\"color: black; background-color: rgba(0, 162, 0, 0.3); padding: 0.2em; margin: 0.1em; border-radius: 3px;\" title=\"MAB: -0.023, Norm: 0.811\">\n",
       "\n",
       "</span><span style=\"color: black; background-color: rgba(0, 97, 0, 0.3); padding: 0.2em; margin: 0.1em; border-radius: 3px;\" title=\"MAB: -0.031, Norm: 0.488\">The</span><span style=\"color: black; background-color: rgba(0, 34, 0, 0.3); padding: 0.2em; margin: 0.1em; border-radius: 3px;\" title=\"MAB: -0.038, Norm: 0.171\"> service</span><span style=\"color: black; background-color: rgba(0, 23, 0, 0.3); padding: 0.2em; margin: 0.1em; border-radius: 3px;\" title=\"MAB: -0.039, Norm: 0.120\"> at</span><span style=\"color: black; background-color: rgba(0, 23, 0, 0.3); padding: 0.2em; margin: 0.1em; border-radius: 3px;\" title=\"MAB: -0.039, Norm: 0.117\"> this</span><span style=\"color: black; background-color: rgba(0, 77, 0, 0.3); padding: 0.2em; margin: 0.1em; border-radius: 3px;\" title=\"MAB: -0.033, Norm: 0.387\"> restaurant</span><span style=\"color: black; background-color: rgba(0, 55, 0, 0.3); padding: 0.2em; margin: 0.1em; border-radius: 3px;\" title=\"MAB: -0.035, Norm: 0.278\"> was</span><span style=\"color: black; background-color: rgba(0, 57, 0, 0.3); padding: 0.2em; margin: 0.1em; border-radius: 3px;\" title=\"MAB: -0.035, Norm: 0.286\"> fantastic</span><span style=\"color: black; background-color: rgba(0, 88, 0, 0.3); padding: 0.2em; margin: 0.1em; border-radius: 3px;\" title=\"MAB: -0.032, Norm: 0.441\">,</span><span style=\"color: black; background-color: rgba(0, 75, 0, 0.3); padding: 0.2em; margin: 0.1em; border-radius: 3px;\" title=\"MAB: -0.033, Norm: 0.379\"> and</span><span style=\"color: black; background-color: rgba(0, 5, 0, 0.3); padding: 0.2em; margin: 0.1em; border-radius: 3px;\" title=\"MAB: -0.041, Norm: 0.028\"> the</span><span style=\"color: black; background-color: rgba(0, 10, 0, 0.3); padding: 0.2em; margin: 0.1em; border-radius: 3px;\" title=\"MAB: -0.041, Norm: 0.051\"> staff</span><span style=\"color: black; background-color: rgba(0, 49, 0, 0.3); padding: 0.2em; margin: 0.1em; border-radius: 3px;\" title=\"MAB: -0.036, Norm: 0.248\"> were</span><span style=\"color: black; background-color: rgba(0, 74, 0, 0.3); padding: 0.2em; margin: 0.1em; border-radius: 3px;\" title=\"MAB: -0.033, Norm: 0.374\"> so</span><span style=\"color: black; background-color: rgba(0, 71, 0, 0.3); padding: 0.2em; margin: 0.1em; border-radius: 3px;\" title=\"MAB: -0.034, Norm: 0.357\"> friendly</span><span style=\"color: black; background-color: rgba(0, 92, 0, 0.3); padding: 0.2em; margin: 0.1em; border-radius: 3px;\" title=\"MAB: -0.031, Norm: 0.462\">.</span><span style=\"color: black; background-color: rgba(0, 80, 0, 0.3); padding: 0.2em; margin: 0.1em; border-radius: 3px;\" title=\"MAB: -0.033, Norm: 0.400\"><|eot_id|></span><span style=\"color: black; background-color: rgba(0, 110, 0, 0.3); padding: 0.2em; margin: 0.1em; border-radius: 3px;\" title=\"MAB: -0.029, Norm: 0.553\"><|start_header_id|></span><span style=\"color: black; background-color: rgba(0, 114, 0, 0.3); padding: 0.2em; margin: 0.1em; border-radius: 3px;\" title=\"MAB: -0.029, Norm: 0.575\">assistant</span><span style=\"color: black; background-color: rgba(0, 103, 0, 0.3); padding: 0.2em; margin: 0.1em; border-radius: 3px;\" title=\"MAB: -0.030, Norm: 0.517\"><|end_header_id|></span><span style=\"color: black; background-color: rgba(0, 139, 0, 0.3); padding: 0.2em; margin: 0.1em; border-radius: 3px;\" title=\"MAB: -0.026, Norm: 0.699\">\n",
       "\n",
       "</span><span style=\"color: black; background-color: rgba(0, 0, 0, 0.3); padding: 0.2em; margin: 0.1em; border-radius: 3px;\" title=\"MAB: -0.026, Norm: 0.000\">positive</span></div>"
      ],
      "text/plain": [
       "<IPython.core.display.HTML object>"
      ]
     },
     "metadata": {},
     "output_type": "display_data"
    }
   ],
   "source": [
    "# Usage:\n",
    "visualization = visualize_tokens_with_values(input_ids, mab_values, tokenizer)\n",
    "display(visualization)"
   ]
  },
  {
   "cell_type": "markdown",
   "metadata": {},
   "source": []
  },
  {
   "cell_type": "markdown",
   "metadata": {},
   "source": []
  }
 ],
 "metadata": {
  "kernelspec": {
   "display_name": "transformer_explain",
   "language": "python",
   "name": "python3"
  },
  "language_info": {
   "codemirror_mode": {
    "name": "ipython",
    "version": 3
   },
   "file_extension": ".py",
   "mimetype": "text/x-python",
   "name": "python",
   "nbconvert_exporter": "python",
   "pygments_lexer": "ipython3",
   "version": "3.12.5"
  }
 },
 "nbformat": 4,
 "nbformat_minor": 2
}
