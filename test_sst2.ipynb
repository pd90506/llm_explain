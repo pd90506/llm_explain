{
 "cells": [
  {
   "cell_type": "code",
   "execution_count": 9,
   "metadata": {},
   "outputs": [],
   "source": [
    "from llmexp.llm.smollm import LLMWrapper\n",
    "from accelerate import Accelerator\n",
    "import torch\n",
    "\n",
    "# checkpoint = \"meta-llama/Meta-Llama-3-8B-Instruct\"\n",
    "checkpoint = \"meta-llama/Llama-3.2-1B-Instruct\"\n",
    "# checkpoint = \"HuggingFaceTB/SmolLM-1.7B-Instruct\"\n",
    "saved_mab_model = \"checkpoints/mab_model_200.pth\"\n",
    "\n",
    "\n",
    "accelerator = Accelerator()\n",
    "device = accelerator.device\n",
    "\n",
    "\n",
    "llm = LLMWrapper(checkpoint, device=device)\n",
    "tokenizer = llm.tokenizer"
   ]
  },
  {
   "cell_type": "code",
   "execution_count": 52,
   "metadata": {},
   "outputs": [
    {
     "name": "stderr",
     "output_type": "stream",
     "text": [
      "Setting `pad_token_id` to `eos_token_id`:128001 for open-end generation.\n"
     ]
    },
    {
     "name": "stdout",
     "output_type": "stream",
     "text": [
      "<|begin_of_text|><|begin_of_text|><|start_header_id|>system<|end_header_id|>\n",
      "\n",
      "Cutting Knowledge Date: December 2023\n",
      "Today Date: 26 Jul 2024\n",
      "\n",
      "Analyze the sentiment of the following sentence and respond with only one word: 'positive,' 'negative,' or 'neutral,' based on the overall tone and meaning of the sentence. Do not provide any additional explanation.<|eot_id|><|start_header_id|>sentence<|end_header_id|>\n",
      "\n",
      "I am extremely disappointed with the quality; it broke after just one day.<|eot_id|><|start_header_id|>assistant<|end_header_id|>\n",
      "\n",
      "negative<|eot_id|>\n"
     ]
    }
   ],
   "source": [
    "# instruction = \"Analyze the sentiment of the following sentence. Be brief.\"\n",
    "instruction = \"Analyze the sentiment of the following sentence and respond with only one word: 'positive,' 'negative,' or 'neutral,' based on the overall tone and meaning of the sentence. Do not provide any additional explanation.\"\n",
    "user_input = \"I am extremely disappointed with the quality; it broke after just one day.\"\n",
    "\n",
    "content = [\n",
    "            {\"role\": \"system\", \n",
    "            \"content\": instruction\n",
    "            },\n",
    "\n",
    "            {\"role\": \"sentence\", \n",
    "            \"content\": user_input\n",
    "            }\n",
    "        ]\n",
    "template = tokenizer.apply_chat_template(content, tokenize=False, add_generation_prompt=True)\n",
    "# print(template)\n",
    "\n",
    "# The generated outputs \n",
    "gen_output = llm.generate_from_texts(template)\n",
    "print(gen_output)"
   ]
  },
  {
   "cell_type": "code",
   "execution_count": 53,
   "metadata": {},
   "outputs": [
    {
     "name": "stderr",
     "output_type": "stream",
     "text": [
      "/tmp/1104405.1.gpu/ipykernel_2110940/3922162976.py:2: FutureWarning: You are using `torch.load` with `weights_only=False` (the current default value), which uses the default pickle module implicitly. It is possible to construct malicious pickle data which will execute arbitrary code during unpickling (See https://github.com/pytorch/pytorch/blob/main/SECURITY.md#untrusted-models for more details). In a future release, the default value for `weights_only` will be flipped to `True`. This limits the functions that could be executed during unpickling. Arbitrary objects will no longer be allowed to be loaded via this mode unless they are explicitly allowlisted by the user via `torch.serialization.add_safe_globals`. We recommend you start setting `weights_only=True` for any use case where you don't have full control of the loaded file. Please open an issue on GitHub for any issues related to this experimental feature.\n",
      "  mab_model = MABModel.load_with_base_model(torch.load(saved_mab_model), llm, hidden_size=1024)\n"
     ]
    },
    {
     "name": "stdout",
     "output_type": "stream",
     "text": [
      "\n"
     ]
    }
   ],
   "source": [
    "from llmexp.explainer.mab_model import MABModel\n",
    "mab_model = MABModel.load_with_base_model(torch.load(saved_mab_model), llm, hidden_size=1024)\n",
    "mab_model.to(device)\n",
    "print()"
   ]
  },
  {
   "cell_type": "code",
   "execution_count": 54,
   "metadata": {},
   "outputs": [],
   "source": [
    "gen_inputs = tokenizer(gen_output, return_tensors=\"pt\").to(device)\n",
    "input_ids = gen_inputs['input_ids'][:, :-1]\n",
    "attention_mask = gen_inputs['attention_mask'][:, :-1]\n",
    "_, mab_values, _ = mab_model.get_dist_value(input_ids, attention_mask)\n",
    "\n"
   ]
  },
  {
   "cell_type": "code",
   "execution_count": 55,
   "metadata": {},
   "outputs": [
    {
     "name": "stdout",
     "output_type": "stream",
     "text": [
      "tensor([[-0.0048, -0.0048, -0.0048, -0.0195, -0.0108, -0.0115, -0.0037, -0.0281,\n",
      "         -0.0132, -0.0254,  0.0010, -0.0036, -0.0132, -0.0204, -0.0094, -0.0220,\n",
      "         -0.0097, -0.0097, -0.0091,  0.0034, -0.0053, -0.0037, -0.0249, -0.0055,\n",
      "         -0.0102, -0.0329, -0.0148, -0.0046, -0.0128, -0.0081, -0.0189, -0.0085,\n",
      "         -0.0114, -0.0161, -0.0225, -0.0132, -0.0071, -0.0023, -0.0066, -0.0093,\n",
      "         -0.0100, -0.0085, -0.0133, -0.0178,  0.0026, -0.0078, -0.0145, -0.0023,\n",
      "         -0.0010,  0.0029, -0.0092, -0.0080, -0.0131, -0.0132, -0.0084, -0.0125,\n",
      "         -0.0145, -0.0141, -0.0102, -0.0163, -0.0077, -0.0102, -0.0158, -0.0158,\n",
      "         -0.0085, -0.0127, -0.0113, -0.0081, -0.0071, -0.0152, -0.0093, -0.0006,\n",
      "         -0.0461, -0.0133, -0.0203, -0.0335,  0.0086,  0.0023, -0.0046, -0.0136,\n",
      "         -0.0241, -0.0340, -0.0138,  0.0002, -0.0109, -0.0107, -0.0188, -0.0308,\n",
      "         -0.0182, -0.0201, -0.0178, -0.0178,  0.0136, -0.0051, -0.0090]],\n",
      "       device='cuda:0', grad_fn=<SqueezeBackward1>)\n",
      "torch.Size([1, 95])\n"
     ]
    }
   ],
   "source": [
    "print(mab_values)\n",
    "print(mab_values.shape)"
   ]
  },
  {
   "cell_type": "code",
   "execution_count": 56,
   "metadata": {},
   "outputs": [
    {
     "name": "stdout",
     "output_type": "stream",
     "text": [
      "tensor([[128000, 128000, 128000, 128006,   9125, 128007,    271,  38766,   1303,\n",
      "          33025,   2696,     25,   6790,    220,   2366,     18,    198,  15724,\n",
      "           2696,     25,    220,   1627,  10263,    220,   2366,     19,    271,\n",
      "           2127,  56956,    279,  27065,    315,    279,   2768,  11914,    323,\n",
      "           6013,    449,   1193,    832,   3492,     25,    364,  31587,   2965,\n",
      "            364,  43324,   2965,    477,    364,  60668,   2965,   3196,    389,\n",
      "            279,   8244,  16630,    323,   7438,    315,    279,  11914,     13,\n",
      "           3234,    539,   3493,    904,   5217,  16540,     13, 128009, 128006,\n",
      "          52989, 128007,    271,     40,   1097,   9193,  25406,    449,    279,\n",
      "           4367,     26,    433,  14760,   1306,   1120,    832,   1938,     13,\n",
      "         128009, 128006,  78191, 128007,    271,  43324]], device='cuda:0')\n",
      "torch.Size([1, 96])\n"
     ]
    }
   ],
   "source": [
    "print(input_ids)\n",
    "print(input_ids.shape)"
   ]
  },
  {
   "cell_type": "code",
   "execution_count": 57,
   "metadata": {},
   "outputs": [],
   "source": [
    "def visualize_tokens_with_values(input_ids, mab_values, tokenizer):\n",
    "    # Decode tokens one by one to preserve alignment\n",
    "    tokens = []\n",
    "    for i in range(input_ids.shape[1]):\n",
    "        token = tokenizer.decode(input_ids[0, i:i+1])\n",
    "        tokens.append(token)\n",
    "    \n",
    "    # Normalize MAB values to [0,1] for color intensity first\n",
    "    normalized_values = (mab_values[0] - mab_values[0].min()) / (mab_values[0].max() - mab_values[0].min())\n",
    "    \n",
    "    # Pad normalized_values with a zero at the end\n",
    "    padded_normalized_values = torch.cat([normalized_values, torch.zeros(1, device=mab_values.device)], dim=0)\n",
    "    # Pad original mab_values with the last actual value\n",
    "    padded_mab_values = torch.cat([mab_values[0], mab_values[0][-1:]], dim=0)\n",
    "    \n",
    "    # Generate HTML with colored text and values\n",
    "    html_output = \"<div style='font-family: monospace; line-height: 2; background-color: white; padding: 10px;'>\"\n",
    "    for token, value, orig_value in zip(tokens, padded_normalized_values, padded_mab_values):\n",
    "        # Use a gradient from white to green\n",
    "        intensity = float(value)\n",
    "        green_color = int(intensity * 200)  # Control the maximum intensity\n",
    "        html_output += f'<span style=\"color: black; background-color: rgba(0, {green_color}, 0, 0.3); padding: 0.2em; margin: 0.1em; border-radius: 3px;\" title=\"MAB: {orig_value:.3f}, Norm: {value:.3f}\">{token}</span>'\n",
    "    html_output += \"</div>\"\n",
    "    \n",
    "    # Print the values\n",
    "    print(\"Token\\tNormalized Value\\tOriginal MAB Value\")\n",
    "    print(\"-\" * 50)\n",
    "    for token, value, orig_value in zip(tokens, padded_normalized_values, padded_mab_values):\n",
    "        print(f\"{token}\\t{value:.3f}\\t\\t{orig_value:.3f}\")\n",
    "    \n",
    "    from IPython.display import HTML\n",
    "    return HTML(html_output)"
   ]
  },
  {
   "cell_type": "code",
   "execution_count": 58,
   "metadata": {},
   "outputs": [
    {
     "name": "stdout",
     "output_type": "stream",
     "text": [
      "Token\tNormalized Value\tOriginal MAB Value\n",
      "--------------------------------------------------\n",
      "<|begin_of_text|>\t0.691\t\t-0.005\n",
      "<|begin_of_text|>\t0.691\t\t-0.005\n",
      "<|begin_of_text|>\t0.691\t\t-0.005\n",
      "<|start_header_id|>\t0.445\t\t-0.020\n",
      "system\t0.591\t\t-0.011\n",
      "<|end_header_id|>\t0.579\t\t-0.012\n",
      "\n",
      "\n",
      "\t0.710\t\t-0.004\n",
      "Cut\t0.302\t\t-0.028\n",
      "ting\t0.551\t\t-0.013\n",
      " Knowledge\t0.346\t\t-0.025\n",
      " Date\t0.789\t\t0.001\n",
      ":\t0.712\t\t-0.004\n",
      " December\t0.551\t\t-0.013\n",
      " \t0.430\t\t-0.020\n",
      "202\t0.615\t\t-0.009\n",
      "3\t0.404\t\t-0.022\n",
      "\n",
      "\t0.609\t\t-0.010\n",
      "Today\t0.610\t\t-0.010\n",
      " Date\t0.619\t\t-0.009\n",
      ":\t0.829\t\t0.003\n",
      " \t0.683\t\t-0.005\n",
      "26\t0.710\t\t-0.004\n",
      " Jul\t0.355\t\t-0.025\n",
      " \t0.680\t\t-0.005\n",
      "202\t0.601\t\t-0.010\n",
      "4\t0.222\t\t-0.033\n",
      "\n",
      "\n",
      "\t0.525\t\t-0.015\n",
      "An\t0.695\t\t-0.005\n",
      "alyze\t0.557\t\t-0.013\n",
      " the\t0.636\t\t-0.008\n",
      " sentiment\t0.455\t\t-0.019\n",
      " of\t0.629\t\t-0.009\n",
      " the\t0.582\t\t-0.011\n",
      " following\t0.502\t\t-0.016\n",
      " sentence\t0.396\t\t-0.022\n",
      " and\t0.551\t\t-0.013\n",
      " respond\t0.653\t\t-0.007\n",
      " with\t0.733\t\t-0.002\n",
      " only\t0.662\t\t-0.007\n",
      " one\t0.617\t\t-0.009\n",
      " word\t0.605\t\t-0.010\n",
      ":\t0.630\t\t-0.008\n",
      " '\t0.550\t\t-0.013\n",
      "positive\t0.473\t\t-0.018\n",
      ",'\t0.815\t\t0.003\n",
      " '\t0.642\t\t-0.008\n",
      "negative\t0.530\t\t-0.014\n",
      ",'\t0.733\t\t-0.002\n",
      " or\t0.756\t\t-0.001\n",
      " '\t0.821\t\t0.003\n",
      "neutral\t0.619\t\t-0.009\n",
      ",'\t0.638\t\t-0.008\n",
      " based\t0.553\t\t-0.013\n",
      " on\t0.550\t\t-0.013\n",
      " the\t0.631\t\t-0.008\n",
      " overall\t0.562\t\t-0.013\n",
      " tone\t0.528\t\t-0.015\n",
      " and\t0.537\t\t-0.014\n",
      " meaning\t0.601\t\t-0.010\n",
      " of\t0.499\t\t-0.016\n",
      " the\t0.644\t\t-0.008\n",
      " sentence\t0.601\t\t-0.010\n",
      ".\t0.507\t\t-0.016\n",
      " Do\t0.507\t\t-0.016\n",
      " not\t0.629\t\t-0.009\n",
      " provide\t0.559\t\t-0.013\n",
      " any\t0.582\t\t-0.011\n",
      " additional\t0.637\t\t-0.008\n",
      " explanation\t0.652\t\t-0.007\n",
      ".\t0.517\t\t-0.015\n",
      "<|eot_id|>\t0.616\t\t-0.009\n",
      "<|start_header_id|>\t0.761\t\t-0.001\n",
      "sentence\t0.000\t\t-0.046\n",
      "<|end_header_id|>\t0.549\t\t-0.013\n",
      "\n",
      "\n",
      "\t0.433\t\t-0.020\n",
      "I\t0.211\t\t-0.033\n",
      " am\t0.916\t\t0.009\n",
      " extremely\t0.811\t\t0.002\n",
      " disappointed\t0.695\t\t-0.005\n",
      " with\t0.544\t\t-0.014\n",
      " the\t0.369\t\t-0.024\n",
      " quality\t0.202\t\t-0.034\n",
      ";\t0.541\t\t-0.014\n",
      " it\t0.776\t\t0.000\n",
      " broke\t0.589\t\t-0.011\n",
      " after\t0.593\t\t-0.011\n",
      " just\t0.457\t\t-0.019\n",
      " one\t0.255\t\t-0.031\n",
      " day\t0.467\t\t-0.018\n",
      ".\t0.436\t\t-0.020\n",
      "<|eot_id|>\t0.474\t\t-0.018\n",
      "<|start_header_id|>\t0.474\t\t-0.018\n",
      "assistant\t1.000\t\t0.014\n",
      "<|end_header_id|>\t0.686\t\t-0.005\n",
      "\n",
      "\n",
      "\t0.622\t\t-0.009\n",
      "negative\t0.000\t\t-0.009\n"
     ]
    },
    {
     "data": {
      "text/html": [
       "<div style='font-family: monospace; line-height: 2; background-color: white; padding: 10px;'><span style=\"color: black; background-color: rgba(0, 138, 0, 0.3); padding: 0.2em; margin: 0.1em; border-radius: 3px;\" title=\"MAB: -0.005, Norm: 0.691\"><|begin_of_text|></span><span style=\"color: black; background-color: rgba(0, 138, 0, 0.3); padding: 0.2em; margin: 0.1em; border-radius: 3px;\" title=\"MAB: -0.005, Norm: 0.691\"><|begin_of_text|></span><span style=\"color: black; background-color: rgba(0, 138, 0, 0.3); padding: 0.2em; margin: 0.1em; border-radius: 3px;\" title=\"MAB: -0.005, Norm: 0.691\"><|begin_of_text|></span><span style=\"color: black; background-color: rgba(0, 89, 0, 0.3); padding: 0.2em; margin: 0.1em; border-radius: 3px;\" title=\"MAB: -0.020, Norm: 0.445\"><|start_header_id|></span><span style=\"color: black; background-color: rgba(0, 118, 0, 0.3); padding: 0.2em; margin: 0.1em; border-radius: 3px;\" title=\"MAB: -0.011, Norm: 0.591\">system</span><span style=\"color: black; background-color: rgba(0, 115, 0, 0.3); padding: 0.2em; margin: 0.1em; border-radius: 3px;\" title=\"MAB: -0.012, Norm: 0.579\"><|end_header_id|></span><span style=\"color: black; background-color: rgba(0, 141, 0, 0.3); padding: 0.2em; margin: 0.1em; border-radius: 3px;\" title=\"MAB: -0.004, Norm: 0.710\">\n",
       "\n",
       "</span><span style=\"color: black; background-color: rgba(0, 60, 0, 0.3); padding: 0.2em; margin: 0.1em; border-radius: 3px;\" title=\"MAB: -0.028, Norm: 0.302\">Cut</span><span style=\"color: black; background-color: rgba(0, 110, 0, 0.3); padding: 0.2em; margin: 0.1em; border-radius: 3px;\" title=\"MAB: -0.013, Norm: 0.551\">ting</span><span style=\"color: black; background-color: rgba(0, 69, 0, 0.3); padding: 0.2em; margin: 0.1em; border-radius: 3px;\" title=\"MAB: -0.025, Norm: 0.346\"> Knowledge</span><span style=\"color: black; background-color: rgba(0, 157, 0, 0.3); padding: 0.2em; margin: 0.1em; border-radius: 3px;\" title=\"MAB: 0.001, Norm: 0.789\"> Date</span><span style=\"color: black; background-color: rgba(0, 142, 0, 0.3); padding: 0.2em; margin: 0.1em; border-radius: 3px;\" title=\"MAB: -0.004, Norm: 0.712\">:</span><span style=\"color: black; background-color: rgba(0, 110, 0, 0.3); padding: 0.2em; margin: 0.1em; border-radius: 3px;\" title=\"MAB: -0.013, Norm: 0.551\"> December</span><span style=\"color: black; background-color: rgba(0, 85, 0, 0.3); padding: 0.2em; margin: 0.1em; border-radius: 3px;\" title=\"MAB: -0.020, Norm: 0.430\"> </span><span style=\"color: black; background-color: rgba(0, 122, 0, 0.3); padding: 0.2em; margin: 0.1em; border-radius: 3px;\" title=\"MAB: -0.009, Norm: 0.615\">202</span><span style=\"color: black; background-color: rgba(0, 80, 0, 0.3); padding: 0.2em; margin: 0.1em; border-radius: 3px;\" title=\"MAB: -0.022, Norm: 0.404\">3</span><span style=\"color: black; background-color: rgba(0, 121, 0, 0.3); padding: 0.2em; margin: 0.1em; border-radius: 3px;\" title=\"MAB: -0.010, Norm: 0.609\">\n",
       "</span><span style=\"color: black; background-color: rgba(0, 121, 0, 0.3); padding: 0.2em; margin: 0.1em; border-radius: 3px;\" title=\"MAB: -0.010, Norm: 0.610\">Today</span><span style=\"color: black; background-color: rgba(0, 123, 0, 0.3); padding: 0.2em; margin: 0.1em; border-radius: 3px;\" title=\"MAB: -0.009, Norm: 0.619\"> Date</span><span style=\"color: black; background-color: rgba(0, 165, 0, 0.3); padding: 0.2em; margin: 0.1em; border-radius: 3px;\" title=\"MAB: 0.003, Norm: 0.829\">:</span><span style=\"color: black; background-color: rgba(0, 136, 0, 0.3); padding: 0.2em; margin: 0.1em; border-radius: 3px;\" title=\"MAB: -0.005, Norm: 0.683\"> </span><span style=\"color: black; background-color: rgba(0, 141, 0, 0.3); padding: 0.2em; margin: 0.1em; border-radius: 3px;\" title=\"MAB: -0.004, Norm: 0.710\">26</span><span style=\"color: black; background-color: rgba(0, 71, 0, 0.3); padding: 0.2em; margin: 0.1em; border-radius: 3px;\" title=\"MAB: -0.025, Norm: 0.355\"> Jul</span><span style=\"color: black; background-color: rgba(0, 136, 0, 0.3); padding: 0.2em; margin: 0.1em; border-radius: 3px;\" title=\"MAB: -0.005, Norm: 0.680\"> </span><span style=\"color: black; background-color: rgba(0, 120, 0, 0.3); padding: 0.2em; margin: 0.1em; border-radius: 3px;\" title=\"MAB: -0.010, Norm: 0.601\">202</span><span style=\"color: black; background-color: rgba(0, 44, 0, 0.3); padding: 0.2em; margin: 0.1em; border-radius: 3px;\" title=\"MAB: -0.033, Norm: 0.222\">4</span><span style=\"color: black; background-color: rgba(0, 104, 0, 0.3); padding: 0.2em; margin: 0.1em; border-radius: 3px;\" title=\"MAB: -0.015, Norm: 0.525\">\n",
       "\n",
       "</span><span style=\"color: black; background-color: rgba(0, 139, 0, 0.3); padding: 0.2em; margin: 0.1em; border-radius: 3px;\" title=\"MAB: -0.005, Norm: 0.695\">An</span><span style=\"color: black; background-color: rgba(0, 111, 0, 0.3); padding: 0.2em; margin: 0.1em; border-radius: 3px;\" title=\"MAB: -0.013, Norm: 0.557\">alyze</span><span style=\"color: black; background-color: rgba(0, 127, 0, 0.3); padding: 0.2em; margin: 0.1em; border-radius: 3px;\" title=\"MAB: -0.008, Norm: 0.636\"> the</span><span style=\"color: black; background-color: rgba(0, 91, 0, 0.3); padding: 0.2em; margin: 0.1em; border-radius: 3px;\" title=\"MAB: -0.019, Norm: 0.455\"> sentiment</span><span style=\"color: black; background-color: rgba(0, 125, 0, 0.3); padding: 0.2em; margin: 0.1em; border-radius: 3px;\" title=\"MAB: -0.009, Norm: 0.629\"> of</span><span style=\"color: black; background-color: rgba(0, 116, 0, 0.3); padding: 0.2em; margin: 0.1em; border-radius: 3px;\" title=\"MAB: -0.011, Norm: 0.582\"> the</span><span style=\"color: black; background-color: rgba(0, 100, 0, 0.3); padding: 0.2em; margin: 0.1em; border-radius: 3px;\" title=\"MAB: -0.016, Norm: 0.502\"> following</span><span style=\"color: black; background-color: rgba(0, 79, 0, 0.3); padding: 0.2em; margin: 0.1em; border-radius: 3px;\" title=\"MAB: -0.022, Norm: 0.396\"> sentence</span><span style=\"color: black; background-color: rgba(0, 110, 0, 0.3); padding: 0.2em; margin: 0.1em; border-radius: 3px;\" title=\"MAB: -0.013, Norm: 0.551\"> and</span><span style=\"color: black; background-color: rgba(0, 130, 0, 0.3); padding: 0.2em; margin: 0.1em; border-radius: 3px;\" title=\"MAB: -0.007, Norm: 0.653\"> respond</span><span style=\"color: black; background-color: rgba(0, 146, 0, 0.3); padding: 0.2em; margin: 0.1em; border-radius: 3px;\" title=\"MAB: -0.002, Norm: 0.733\"> with</span><span style=\"color: black; background-color: rgba(0, 132, 0, 0.3); padding: 0.2em; margin: 0.1em; border-radius: 3px;\" title=\"MAB: -0.007, Norm: 0.662\"> only</span><span style=\"color: black; background-color: rgba(0, 123, 0, 0.3); padding: 0.2em; margin: 0.1em; border-radius: 3px;\" title=\"MAB: -0.009, Norm: 0.617\"> one</span><span style=\"color: black; background-color: rgba(0, 120, 0, 0.3); padding: 0.2em; margin: 0.1em; border-radius: 3px;\" title=\"MAB: -0.010, Norm: 0.605\"> word</span><span style=\"color: black; background-color: rgba(0, 125, 0, 0.3); padding: 0.2em; margin: 0.1em; border-radius: 3px;\" title=\"MAB: -0.008, Norm: 0.630\">:</span><span style=\"color: black; background-color: rgba(0, 109, 0, 0.3); padding: 0.2em; margin: 0.1em; border-radius: 3px;\" title=\"MAB: -0.013, Norm: 0.550\"> '</span><span style=\"color: black; background-color: rgba(0, 94, 0, 0.3); padding: 0.2em; margin: 0.1em; border-radius: 3px;\" title=\"MAB: -0.018, Norm: 0.473\">positive</span><span style=\"color: black; background-color: rgba(0, 162, 0, 0.3); padding: 0.2em; margin: 0.1em; border-radius: 3px;\" title=\"MAB: 0.003, Norm: 0.815\">,'</span><span style=\"color: black; background-color: rgba(0, 128, 0, 0.3); padding: 0.2em; margin: 0.1em; border-radius: 3px;\" title=\"MAB: -0.008, Norm: 0.642\"> '</span><span style=\"color: black; background-color: rgba(0, 105, 0, 0.3); padding: 0.2em; margin: 0.1em; border-radius: 3px;\" title=\"MAB: -0.014, Norm: 0.530\">negative</span><span style=\"color: black; background-color: rgba(0, 146, 0, 0.3); padding: 0.2em; margin: 0.1em; border-radius: 3px;\" title=\"MAB: -0.002, Norm: 0.733\">,'</span><span style=\"color: black; background-color: rgba(0, 151, 0, 0.3); padding: 0.2em; margin: 0.1em; border-radius: 3px;\" title=\"MAB: -0.001, Norm: 0.756\"> or</span><span style=\"color: black; background-color: rgba(0, 164, 0, 0.3); padding: 0.2em; margin: 0.1em; border-radius: 3px;\" title=\"MAB: 0.003, Norm: 0.821\"> '</span><span style=\"color: black; background-color: rgba(0, 123, 0, 0.3); padding: 0.2em; margin: 0.1em; border-radius: 3px;\" title=\"MAB: -0.009, Norm: 0.619\">neutral</span><span style=\"color: black; background-color: rgba(0, 127, 0, 0.3); padding: 0.2em; margin: 0.1em; border-radius: 3px;\" title=\"MAB: -0.008, Norm: 0.638\">,'</span><span style=\"color: black; background-color: rgba(0, 110, 0, 0.3); padding: 0.2em; margin: 0.1em; border-radius: 3px;\" title=\"MAB: -0.013, Norm: 0.553\"> based</span><span style=\"color: black; background-color: rgba(0, 110, 0, 0.3); padding: 0.2em; margin: 0.1em; border-radius: 3px;\" title=\"MAB: -0.013, Norm: 0.550\"> on</span><span style=\"color: black; background-color: rgba(0, 126, 0, 0.3); padding: 0.2em; margin: 0.1em; border-radius: 3px;\" title=\"MAB: -0.008, Norm: 0.631\"> the</span><span style=\"color: black; background-color: rgba(0, 112, 0, 0.3); padding: 0.2em; margin: 0.1em; border-radius: 3px;\" title=\"MAB: -0.013, Norm: 0.562\"> overall</span><span style=\"color: black; background-color: rgba(0, 105, 0, 0.3); padding: 0.2em; margin: 0.1em; border-radius: 3px;\" title=\"MAB: -0.015, Norm: 0.528\"> tone</span><span style=\"color: black; background-color: rgba(0, 107, 0, 0.3); padding: 0.2em; margin: 0.1em; border-radius: 3px;\" title=\"MAB: -0.014, Norm: 0.537\"> and</span><span style=\"color: black; background-color: rgba(0, 120, 0, 0.3); padding: 0.2em; margin: 0.1em; border-radius: 3px;\" title=\"MAB: -0.010, Norm: 0.601\"> meaning</span><span style=\"color: black; background-color: rgba(0, 99, 0, 0.3); padding: 0.2em; margin: 0.1em; border-radius: 3px;\" title=\"MAB: -0.016, Norm: 0.499\"> of</span><span style=\"color: black; background-color: rgba(0, 128, 0, 0.3); padding: 0.2em; margin: 0.1em; border-radius: 3px;\" title=\"MAB: -0.008, Norm: 0.644\"> the</span><span style=\"color: black; background-color: rgba(0, 120, 0, 0.3); padding: 0.2em; margin: 0.1em; border-radius: 3px;\" title=\"MAB: -0.010, Norm: 0.601\"> sentence</span><span style=\"color: black; background-color: rgba(0, 101, 0, 0.3); padding: 0.2em; margin: 0.1em; border-radius: 3px;\" title=\"MAB: -0.016, Norm: 0.507\">.</span><span style=\"color: black; background-color: rgba(0, 101, 0, 0.3); padding: 0.2em; margin: 0.1em; border-radius: 3px;\" title=\"MAB: -0.016, Norm: 0.507\"> Do</span><span style=\"color: black; background-color: rgba(0, 125, 0, 0.3); padding: 0.2em; margin: 0.1em; border-radius: 3px;\" title=\"MAB: -0.009, Norm: 0.629\"> not</span><span style=\"color: black; background-color: rgba(0, 111, 0, 0.3); padding: 0.2em; margin: 0.1em; border-radius: 3px;\" title=\"MAB: -0.013, Norm: 0.559\"> provide</span><span style=\"color: black; background-color: rgba(0, 116, 0, 0.3); padding: 0.2em; margin: 0.1em; border-radius: 3px;\" title=\"MAB: -0.011, Norm: 0.582\"> any</span><span style=\"color: black; background-color: rgba(0, 127, 0, 0.3); padding: 0.2em; margin: 0.1em; border-radius: 3px;\" title=\"MAB: -0.008, Norm: 0.637\"> additional</span><span style=\"color: black; background-color: rgba(0, 130, 0, 0.3); padding: 0.2em; margin: 0.1em; border-radius: 3px;\" title=\"MAB: -0.007, Norm: 0.652\"> explanation</span><span style=\"color: black; background-color: rgba(0, 103, 0, 0.3); padding: 0.2em; margin: 0.1em; border-radius: 3px;\" title=\"MAB: -0.015, Norm: 0.517\">.</span><span style=\"color: black; background-color: rgba(0, 123, 0, 0.3); padding: 0.2em; margin: 0.1em; border-radius: 3px;\" title=\"MAB: -0.009, Norm: 0.616\"><|eot_id|></span><span style=\"color: black; background-color: rgba(0, 152, 0, 0.3); padding: 0.2em; margin: 0.1em; border-radius: 3px;\" title=\"MAB: -0.001, Norm: 0.761\"><|start_header_id|></span><span style=\"color: black; background-color: rgba(0, 0, 0, 0.3); padding: 0.2em; margin: 0.1em; border-radius: 3px;\" title=\"MAB: -0.046, Norm: 0.000\">sentence</span><span style=\"color: black; background-color: rgba(0, 109, 0, 0.3); padding: 0.2em; margin: 0.1em; border-radius: 3px;\" title=\"MAB: -0.013, Norm: 0.549\"><|end_header_id|></span><span style=\"color: black; background-color: rgba(0, 86, 0, 0.3); padding: 0.2em; margin: 0.1em; border-radius: 3px;\" title=\"MAB: -0.020, Norm: 0.433\">\n",
       "\n",
       "</span><span style=\"color: black; background-color: rgba(0, 42, 0, 0.3); padding: 0.2em; margin: 0.1em; border-radius: 3px;\" title=\"MAB: -0.033, Norm: 0.211\">I</span><span style=\"color: black; background-color: rgba(0, 183, 0, 0.3); padding: 0.2em; margin: 0.1em; border-radius: 3px;\" title=\"MAB: 0.009, Norm: 0.916\"> am</span><span style=\"color: black; background-color: rgba(0, 162, 0, 0.3); padding: 0.2em; margin: 0.1em; border-radius: 3px;\" title=\"MAB: 0.002, Norm: 0.811\"> extremely</span><span style=\"color: black; background-color: rgba(0, 138, 0, 0.3); padding: 0.2em; margin: 0.1em; border-radius: 3px;\" title=\"MAB: -0.005, Norm: 0.695\"> disappointed</span><span style=\"color: black; background-color: rgba(0, 108, 0, 0.3); padding: 0.2em; margin: 0.1em; border-radius: 3px;\" title=\"MAB: -0.014, Norm: 0.544\"> with</span><span style=\"color: black; background-color: rgba(0, 73, 0, 0.3); padding: 0.2em; margin: 0.1em; border-radius: 3px;\" title=\"MAB: -0.024, Norm: 0.369\"> the</span><span style=\"color: black; background-color: rgba(0, 40, 0, 0.3); padding: 0.2em; margin: 0.1em; border-radius: 3px;\" title=\"MAB: -0.034, Norm: 0.202\"> quality</span><span style=\"color: black; background-color: rgba(0, 108, 0, 0.3); padding: 0.2em; margin: 0.1em; border-radius: 3px;\" title=\"MAB: -0.014, Norm: 0.541\">;</span><span style=\"color: black; background-color: rgba(0, 155, 0, 0.3); padding: 0.2em; margin: 0.1em; border-radius: 3px;\" title=\"MAB: 0.000, Norm: 0.776\"> it</span><span style=\"color: black; background-color: rgba(0, 117, 0, 0.3); padding: 0.2em; margin: 0.1em; border-radius: 3px;\" title=\"MAB: -0.011, Norm: 0.589\"> broke</span><span style=\"color: black; background-color: rgba(0, 118, 0, 0.3); padding: 0.2em; margin: 0.1em; border-radius: 3px;\" title=\"MAB: -0.011, Norm: 0.593\"> after</span><span style=\"color: black; background-color: rgba(0, 91, 0, 0.3); padding: 0.2em; margin: 0.1em; border-radius: 3px;\" title=\"MAB: -0.019, Norm: 0.457\"> just</span><span style=\"color: black; background-color: rgba(0, 51, 0, 0.3); padding: 0.2em; margin: 0.1em; border-radius: 3px;\" title=\"MAB: -0.031, Norm: 0.255\"> one</span><span style=\"color: black; background-color: rgba(0, 93, 0, 0.3); padding: 0.2em; margin: 0.1em; border-radius: 3px;\" title=\"MAB: -0.018, Norm: 0.467\"> day</span><span style=\"color: black; background-color: rgba(0, 87, 0, 0.3); padding: 0.2em; margin: 0.1em; border-radius: 3px;\" title=\"MAB: -0.020, Norm: 0.436\">.</span><span style=\"color: black; background-color: rgba(0, 94, 0, 0.3); padding: 0.2em; margin: 0.1em; border-radius: 3px;\" title=\"MAB: -0.018, Norm: 0.474\"><|eot_id|></span><span style=\"color: black; background-color: rgba(0, 94, 0, 0.3); padding: 0.2em; margin: 0.1em; border-radius: 3px;\" title=\"MAB: -0.018, Norm: 0.474\"><|start_header_id|></span><span style=\"color: black; background-color: rgba(0, 200, 0, 0.3); padding: 0.2em; margin: 0.1em; border-radius: 3px;\" title=\"MAB: 0.014, Norm: 1.000\">assistant</span><span style=\"color: black; background-color: rgba(0, 137, 0, 0.3); padding: 0.2em; margin: 0.1em; border-radius: 3px;\" title=\"MAB: -0.005, Norm: 0.686\"><|end_header_id|></span><span style=\"color: black; background-color: rgba(0, 124, 0, 0.3); padding: 0.2em; margin: 0.1em; border-radius: 3px;\" title=\"MAB: -0.009, Norm: 0.622\">\n",
       "\n",
       "</span><span style=\"color: black; background-color: rgba(0, 0, 0, 0.3); padding: 0.2em; margin: 0.1em; border-radius: 3px;\" title=\"MAB: -0.009, Norm: 0.000\">negative</span></div>"
      ],
      "text/plain": [
       "<IPython.core.display.HTML object>"
      ]
     },
     "metadata": {},
     "output_type": "display_data"
    }
   ],
   "source": [
    "# Usage:\n",
    "visualization = visualize_tokens_with_values(input_ids, mab_values, tokenizer)\n",
    "display(visualization)"
   ]
  },
  {
   "cell_type": "markdown",
   "metadata": {},
   "source": []
  },
  {
   "cell_type": "markdown",
   "metadata": {},
   "source": []
  }
 ],
 "metadata": {
  "kernelspec": {
   "display_name": "transformer_explain",
   "language": "python",
   "name": "python3"
  },
  "language_info": {
   "codemirror_mode": {
    "name": "ipython",
    "version": 3
   },
   "file_extension": ".py",
   "mimetype": "text/x-python",
   "name": "python",
   "nbconvert_exporter": "python",
   "pygments_lexer": "ipython3",
   "version": "3.12.5"
  }
 },
 "nbformat": 4,
 "nbformat_minor": 2
}
