{
 "cells": [
  {
   "cell_type": "code",
   "execution_count": 89,
   "metadata": {},
   "outputs": [],
   "source": [
    "from llmexp.llm.smollm import LLMWrapper\n",
    "from accelerate import Accelerator\n",
    "import torch\n",
    "\n",
    "# checkpoint = \"meta-llama/Meta-Llama-3-8B-Instruct\"\n",
    "checkpoint = \"meta-llama/Llama-3.2-1B-Instruct\"\n",
    "# checkpoint = \"HuggingFaceTB/SmolLM-1.7B-Instruct\"\n",
    "# saved_mab_model = \"checkpoints/mab_model_100.pth\"\n",
    "saved_mab_model = \"checkpoints/mab_model_40.pth\"\n",
    "\n",
    "\n",
    "accelerator = Accelerator()\n",
    "device = accelerator.device\n",
    "\n",
    "\n",
    "llm = LLMWrapper(checkpoint, device=device)\n",
    "tokenizer = llm.tokenizer"
   ]
  },
  {
   "cell_type": "code",
   "execution_count": 119,
   "metadata": {},
   "outputs": [
    {
     "name": "stdout",
     "output_type": "stream",
     "text": [
      "<|begin_of_text|><|start_header_id|>system<|end_header_id|>\n",
      "\n",
      "Cutting Knowledge Date: December 2023\n",
      "Today Date: 26 Jul 2024\n",
      "\n",
      "Analyze the sentiment of the following sentence and respond with only one word: 'positive', 'negative', or 'neutral', based on the overall tone and meaning of the sentence, if no enough information provided, respond with 'not clear' with an explanation.<|eot_id|><|start_header_id|>sentence<|end_header_id|>\n",
      "\n",
      "I am extremely disappointed with the quality; it broke after just one day.<|eot_id|><|start_header_id|>assistant<|end_header_id|>\n",
      "\n",
      "\n",
      "<|begin_of_text|><|start_header_id|>system<|end_header_id|>\n",
      "\n",
      "Cutting Knowledge Date: December 2023\n",
      "Today Date: 26 Jul 2024\n",
      "\n",
      "Analyze the sentiment of the following sentence and respond with only one word: 'positive', 'negative', or 'neutral', based on the overall tone and meaning of the sentence, if no enough information provided, respond with 'not clear' with an explanation.<|eot_id|><|start_header_id|>sentence<|end_header_id|>\n",
      "\n",
      "I am extremely disappointed with the quality; it broke after just one day.<|eot_id|><|start_header_id|>assistant<|end_header_id|>\n",
      "\n",
      "negative<|eot_id|>\n"
     ]
    }
   ],
   "source": [
    "# instruction = \"Analyze the sentiment of the following sentence. Be brief.\"\n",
    "instruction = \"Analyze the sentiment of the following sentence and respond with only one word: 'positive', 'negative', or 'neutral', based on the overall tone and meaning of the sentence, if no enough information provided, respond with 'not clear' with an explanation.\"\n",
    "user_input = \"I am extremely disappointed with the quality; it broke after just one day.\"\n",
    "# user_input = \"The service at this restaurant was fantastic, and the staff were so friendly.\"\n",
    "# user_input = \"<|eot_id|><|eot_id|><|eot_id|><|eot_id|><|eot_id|><|eot_id|><|eot_id|><|eot_id|><|eot_id|><|eot_id|><|eot_id|><|eot_id|>\"\n",
    "# user_input = \"I'm so happy with the product!\"\n",
    "# user_input = \"The bright sunshine and gentle breeze made my afternoon truly delightful.\"\n",
    "# user_input = \"I felt deeply disappointed and frustrated after the meeting went completely off track.\"\n",
    "# user_input = \"Although the food at the restaurant was excellent, the service left much to be desired.\"\n",
    "\n",
    "\n",
    "content = [\n",
    "            {\"role\": \"system\", \n",
    "            \"content\": instruction\n",
    "            },\n",
    "\n",
    "            {\"role\": \"sentence\", \n",
    "            \"content\": user_input\n",
    "            }\n",
    "        ]\n",
    "template = tokenizer.apply_chat_template(content, tokenize=False, add_generation_prompt=True)\n",
    "# print(template)\n",
    "\n",
    "# The generated outputs \n",
    "gen_output = llm.generate_from_texts(template)\n",
    "print(template)\n",
    "print(gen_output)"
   ]
  },
  {
   "cell_type": "code",
   "execution_count": 120,
   "metadata": {},
   "outputs": [
    {
     "name": "stdout",
     "output_type": "stream",
     "text": [
      "positive probability:  tensor(0.0643, device='cuda:0')\n",
      "negative probability:  tensor(0.6613, device='cuda:0')\n",
      "neutral probability:  tensor(0.0726, device='cuda:0')\n",
      "not clear probability:  tensor(0.0037, device='cuda:0')\n"
     ]
    }
   ],
   "source": [
    "# get the probabilities 'positive', 'negative' and 'neutral'\n",
    "inputs = tokenizer(gen_output, return_tensors='pt', add_special_tokens=False).to(device)\n",
    "logits = llm.model(inputs['input_ids'], inputs['attention_mask']).logits\n",
    "logits = logits[:, -3, :]\n",
    "# print(logits)\n",
    "# # get the probabilities of 'positive', 'negative' and 'neutral'\n",
    "probs = torch.softmax(logits, dim=-1)\n",
    "print(\"positive probability: \", probs[0, 31587])\n",
    "print(\"negative probability: \", probs[0, 43324])\n",
    "print(\"neutral probability: \", probs[0, 60668])\n",
    "print(\"not clear probability: \", probs[0, 1962])\n"
   ]
  },
  {
   "cell_type": "code",
   "execution_count": 121,
   "metadata": {},
   "outputs": [
    {
     "name": "stdout",
     "output_type": "stream",
     "text": [
      "<|begin_of_text|><|start_header_id|>system<|end_header_id|>\n",
      "\n",
      "Cutting Knowledge Date: December 2023\n",
      "Today Date: 26 Jul 2024\n",
      "\n",
      "Analyze the sentiment of the following sentence and respond with only one word: 'positive', 'negative', or 'neutral', based on the overall tone and meaning of the sentence, if no enough information provided, respond with 'not clear' with an explanation.<|eot_id|><|start_header_id|>sentence<|end_header_id|>\n",
      "\n",
      "I am extremely disappointed with the quality; it broke after just one day.<|eot_id|><|start_header_id|>assistant<|end_header_id|>\n",
      "\n",
      "negative<|eot_id|>\n"
     ]
    }
   ],
   "source": [
    "decoded_tokens = tokenizer.decode(inputs['input_ids'].tolist()[0])\n",
    "print(decoded_tokens)"
   ]
  },
  {
   "cell_type": "code",
   "execution_count": 122,
   "metadata": {},
   "outputs": [
    {
     "data": {
      "text/plain": [
       "\"<|begin_of_text|><|start_header_id|>system<|end_header_id|>\\n\\nCutting Knowledge Date: December 2023\\nToday Date: 26 Jul 2024\\n\\nAnalyze the sentiment of the following sentence and respond with only one word: 'positive', 'negative', or 'neutral', based on the overall tone and meaning of the sentence, if no enough information provided, respond with 'not clear' with an explanation.<|eot_id|><|start_header_id|>sentence<|end_header_id|>\\n\\nI am extremely disappointed with the quality; it broke after just one day.<|eot_id|><|start_header_id|>assistant<|end_header_id|>\\n\\nnegative<|eot_id|>\""
      ]
     },
     "execution_count": 122,
     "metadata": {},
     "output_type": "execute_result"
    }
   ],
   "source": [
    "decoded_tokens\n"
   ]
  },
  {
   "cell_type": "code",
   "execution_count": 123,
   "metadata": {},
   "outputs": [
    {
     "name": "stdout",
     "output_type": "stream",
     "text": [
      "Positive: [128000, 31587]\n",
      "Negative: [128000, 43324]\n",
      "Neutral: [128000, 60668]\n",
      "Not clear: [128000, 1962, 2867]\n"
     ]
    }
   ],
   "source": [
    "# Add this code to check the token IDs\n",
    "print(\"Positive:\", tokenizer.encode(\"positive\"))\n",
    "print(\"Negative:\", tokenizer.encode(\"negative\"))\n",
    "print(\"Neutral:\", tokenizer.encode(\"neutral\"))\n",
    "print(\"Not clear:\", tokenizer.encode(\"not clear\"))"
   ]
  },
  {
   "cell_type": "code",
   "execution_count": 124,
   "metadata": {},
   "outputs": [
    {
     "data": {
      "text/plain": [
       "tensor(43324, device='cuda:0')"
      ]
     },
     "execution_count": 124,
     "metadata": {},
     "output_type": "execute_result"
    }
   ],
   "source": [
    "inputs['input_ids'][0,-2]"
   ]
  },
  {
   "cell_type": "code",
   "execution_count": 125,
   "metadata": {},
   "outputs": [
    {
     "data": {
      "text/plain": [
       "tensor([[128000, 128006,   9125, 128007,    271,  38766,   1303,  33025,   2696,\n",
       "             25,   6790,    220,   2366,     18,    198,  15724,   2696,     25,\n",
       "            220,   1627,  10263,    220,   2366,     19,    271,   2127,  56956,\n",
       "            279,  27065,    315,    279,   2768,  11914,    323,   6013,    449,\n",
       "           1193,    832,   3492,     25,    364,  31587,    518,    364,  43324,\n",
       "            518,    477,    364,  60668,    518,   3196,    389,    279,   8244,\n",
       "          16630,    323,   7438,    315,    279,  11914,     11,    422,    912,\n",
       "           3403,   2038,   3984,     11,   6013,    449,    364,   1962,   2867,\n",
       "              6,    449,    459,  16540,     13, 128009, 128006,  52989, 128007,\n",
       "            271,     40,   1097,   9193,  25406,    449,    279,   4367,     26,\n",
       "            433,  14760,   1306,   1120,    832,   1938,     13, 128009, 128006,\n",
       "          78191, 128007,    271,  43324, 128009]], device='cuda:0')"
      ]
     },
     "execution_count": 125,
     "metadata": {},
     "output_type": "execute_result"
    }
   ],
   "source": [
    "inputs['input_ids']"
   ]
  },
  {
   "cell_type": "code",
   "execution_count": 126,
   "metadata": {},
   "outputs": [
    {
     "data": {
      "text/plain": [
       "{'input_ids': tensor([[128000, 128006,   9125, 128007,    271,  38766,   1303,  33025,   2696,\n",
       "             25,   6790,    220,   2366,     18,    198,  15724,   2696,     25,\n",
       "            220,   1627,  10263,    220,   2366,     19,    271,   2127,  56956,\n",
       "            279,  27065,    315,    279,   2768,  11914,    323,   6013,    449,\n",
       "           1193,    832,   3492,     25,    364,  31587,    518,    364,  43324,\n",
       "            518,    477,    364,  60668,    518,   3196,    389,    279,   8244,\n",
       "          16630,    323,   7438,    315,    279,  11914,     11,    422,    912,\n",
       "           3403,   2038,   3984,     11,   6013,    449,    364,   1962,   2867,\n",
       "              6,    449,    459,  16540,     13, 128009, 128006,  52989, 128007,\n",
       "            271,     40,   1097,   9193,  25406,    449,    279,   4367,     26,\n",
       "            433,  14760,   1306,   1120,    832,   1938,     13, 128009, 128006,\n",
       "          78191, 128007,    271,  43324, 128009]], device='cuda:0'), 'attention_mask': tensor([[1, 1, 1, 1, 1, 1, 1, 1, 1, 1, 1, 1, 1, 1, 1, 1, 1, 1, 1, 1, 1, 1, 1, 1,\n",
       "         1, 1, 1, 1, 1, 1, 1, 1, 1, 1, 1, 1, 1, 1, 1, 1, 1, 1, 1, 1, 1, 1, 1, 1,\n",
       "         1, 1, 1, 1, 1, 1, 1, 1, 1, 1, 1, 1, 1, 1, 1, 1, 1, 1, 1, 1, 1, 1, 1, 1,\n",
       "         1, 1, 1, 1, 1, 1, 1, 1, 1, 1, 1, 1, 1, 1, 1, 1, 1, 1, 1, 1, 1, 1, 1, 1,\n",
       "         1, 1, 1, 1, 1, 1, 1, 1]], device='cuda:0')}"
      ]
     },
     "execution_count": 126,
     "metadata": {},
     "output_type": "execute_result"
    }
   ],
   "source": [
    "inputs"
   ]
  },
  {
   "cell_type": "code",
   "execution_count": 127,
   "metadata": {},
   "outputs": [
    {
     "name": "stdout",
     "output_type": "stream",
     "text": [
      "{'input_ids': tensor([[128000, 128006,   9125, 128007,    271,  38766,   1303,  33025,   2696,\n",
      "             25,   6790,    220,   2366,     18,    198,  15724,   2696,     25,\n",
      "            220,   1627,  10263,    220,   2366,     19,    271,   2127,  56956,\n",
      "            279,  27065,    315,    279,   2768,  11914,    323,   6013,    449,\n",
      "           1193,    832,   3492,     25,    364,  31587,    518,    364,  43324,\n",
      "            518,    477,    364,  60668,    518,   3196,    389,    279,   8244,\n",
      "          16630,    323,   7438,    315,    279,  11914,     11,    422,    912,\n",
      "           3403,   2038,   3984,     11,   6013,    449,    364,   1962,   2867,\n",
      "              6,    449,    459,  16540,     13, 128009, 128006,  52989, 128007,\n",
      "            271,     40,   1097,   9193,  25406,    449,    279,   4367,     26,\n",
      "            433,  14760,   1306,   1120,    832,   1938,     13, 128009, 128006,\n",
      "          78191, 128007]], device='cuda:0'), 'attention_mask': tensor([[1, 1, 1, 1, 1, 1, 1, 1, 1, 1, 1, 1, 1, 1, 1, 1, 1, 1, 1, 1, 1, 1, 1, 1,\n",
      "         1, 1, 1, 1, 1, 1, 1, 1, 1, 1, 1, 1, 1, 1, 1, 1, 1, 1, 1, 1, 1, 1, 1, 1,\n",
      "         1, 1, 1, 1, 1, 1, 1, 1, 1, 1, 1, 1, 1, 1, 1, 1, 1, 1, 1, 1, 1, 1, 1, 1,\n",
      "         1, 1, 1, 1, 1, 1, 1, 1, 1, 1, 1, 1, 1, 1, 1, 1, 1, 1, 1, 1, 1, 1, 1, 1,\n",
      "         1, 1, 1, 1, 1]], device='cuda:0'), 'context_mask': tensor([[0, 0, 0, 0, 0, 0, 0, 0, 0, 0, 0, 0, 0, 0, 0, 0, 0, 0, 0, 0, 0, 0, 0, 0,\n",
      "         0, 0, 0, 0, 0, 0, 0, 0, 0, 0, 0, 0, 0, 0, 0, 0, 0, 0, 0, 0, 0, 0, 0, 0,\n",
      "         0, 0, 0, 0, 0, 0, 0, 0, 0, 0, 0, 0, 0, 0, 0, 0, 0, 0, 0, 0, 0, 0, 0, 0,\n",
      "         0, 0, 0, 0, 0, 0, 0, 0, 0, 0, 1, 1, 1, 1, 1, 1, 1, 1, 1, 1, 1, 1, 1, 1,\n",
      "         1, 0, 0, 0, 0]], device='cuda:0'), 'labels': tensor([1], device='cuda:0')}\n"
     ]
    }
   ],
   "source": [
    "from llmexp.utils.data_utils import DataCollator\n",
    "data_collator = DataCollator(tokenizer, max_length=512, instruction=instruction)\n",
    "\n",
    "example = {\n",
    "    'sentence': user_input,\n",
    "    'label': 1\n",
    "}\n",
    "\n",
    "example = data_collator([example]).to(device)\n",
    "print(example)\n"
   ]
  },
  {
   "cell_type": "code",
   "execution_count": 128,
   "metadata": {},
   "outputs": [
    {
     "name": "stdout",
     "output_type": "stream",
     "text": [
      "<|begin_of_text|><|start_header_id|>system<|end_header_id|>\n",
      "\n",
      "Cutting Knowledge Date: December 2023\n",
      "Today Date: 26 Jul 2024\n",
      "\n",
      "Analyze the sentiment of the following sentence and respond with only one word: 'positive', 'negative', or 'neutral', based on the overall tone and meaning of the sentence, if no enough information provided, respond with 'not clear' with an explanation.<|eot_id|><|start_header_id|>sentence<|end_header_id|>\n",
      "\n",
      "I am extremely disappointed with the quality; it broke after just one day.<|eot_id|><|start_header_id|>assistant<|end_header_id|>\n"
     ]
    }
   ],
   "source": [
    "print(tokenizer.decode(example['input_ids'][0] * example['attention_mask'][0]))"
   ]
  },
  {
   "cell_type": "code",
   "execution_count": 129,
   "metadata": {},
   "outputs": [
    {
     "name": "stdout",
     "output_type": "stream",
     "text": [
      "{'input_ids': tensor([[128000, 128006,   9125, 128007,    271,  38766,   1303,  33025,   2696,\n",
      "             25,   6790,    220,   2366,     18,    198,  15724,   2696,     25,\n",
      "            220,   1627,  10263,    220,   2366,     19,    271,   2127,  56956,\n",
      "            279,  27065,    315,    279,   2768,  11914,    323,   6013,    449,\n",
      "           1193,    832,   3492,     25,    364,  31587,    518,    364,  43324,\n",
      "            518,    477,    364,  60668,    518,   3196,    389,    279,   8244,\n",
      "          16630,    323,   7438,    315,    279,  11914,     11,    422,    912,\n",
      "           3403,   2038,   3984,     11,   6013,    449,    364,   1962,   2867,\n",
      "              6,    449,    459,  16540,     13, 128009, 128006,  52989, 128007,\n",
      "            271,     40,   1097,   9193,  25406,    449,    279,   4367,     26,\n",
      "            433,  14760,   1306,   1120,    832,   1938,     13, 128009, 128006,\n",
      "          78191, 128007,    271,  43324, 128009]], device='cuda:0'), 'attention_mask': tensor([[1, 1, 1, 1, 1, 1, 1, 1, 1, 1, 1, 1, 1, 1, 1, 1, 1, 1, 1, 1, 1, 1, 1, 1,\n",
      "         1, 1, 1, 1, 1, 1, 1, 1, 1, 1, 1, 1, 1, 1, 1, 1, 1, 1, 1, 1, 1, 1, 1, 1,\n",
      "         1, 1, 1, 1, 1, 1, 1, 1, 1, 1, 1, 1, 1, 1, 1, 1, 1, 1, 1, 1, 1, 1, 1, 1,\n",
      "         1, 1, 1, 1, 1, 1, 1, 1, 1, 1, 1, 1, 1, 1, 1, 1, 1, 1, 1, 1, 1, 1, 1, 1,\n",
      "         1, 1, 1, 1, 1, 1, 1, 0]], device='cuda:0')}\n"
     ]
    }
   ],
   "source": [
    "gen_output = llm.generate(example['input_ids'], example['attention_mask'])\n",
    "print(gen_output)"
   ]
  },
  {
   "cell_type": "code",
   "execution_count": 130,
   "metadata": {},
   "outputs": [
    {
     "data": {
      "text/plain": [
       "tensor([128000, 128006,   9125, 128007,    271,  38766,   1303,  33025,   2696,\n",
       "            25,   6790,    220,   2366,     18,    198,  15724,   2696,     25,\n",
       "           220,   1627,  10263,    220,   2366,     19,    271,   2127,  56956,\n",
       "           279,  27065,    315,    279,   2768,  11914,    323,   6013,    449,\n",
       "          1193,    832,   3492,     25,    364,  31587,    518,    364,  43324,\n",
       "           518,    477,    364,  60668,    518,   3196,    389,    279,   8244,\n",
       "         16630,    323,   7438,    315,    279,  11914,     11,    422,    912,\n",
       "          3403,   2038,   3984,     11,   6013,    449,    364,   1962,   2867,\n",
       "             6,    449,    459,  16540,     13, 128009, 128006,  52989, 128007,\n",
       "           271,     40,   1097,   9193,  25406,    449,    279,   4367,     26,\n",
       "           433,  14760,   1306,   1120,    832,   1938,     13, 128009, 128006,\n",
       "         78191, 128007,    271,  43324, 128009], device='cuda:0')"
      ]
     },
     "execution_count": 130,
     "metadata": {},
     "output_type": "execute_result"
    }
   ],
   "source": [
    "gen_output['input_ids'][0]"
   ]
  },
  {
   "cell_type": "code",
   "execution_count": 131,
   "metadata": {},
   "outputs": [
    {
     "data": {
      "text/plain": [
       "'<|eot_id|>'"
      ]
     },
     "execution_count": 131,
     "metadata": {},
     "output_type": "execute_result"
    }
   ],
   "source": [
    "tokenizer.decode(inputs['input_ids'][0,-1])"
   ]
  },
  {
   "cell_type": "code",
   "execution_count": 132,
   "metadata": {},
   "outputs": [],
   "source": [
    "# inputs['input_ids'][0] == gen_output['input_ids'][0]"
   ]
  },
  {
   "cell_type": "code",
   "execution_count": 133,
   "metadata": {},
   "outputs": [],
   "source": [
    "# inputs['attention_mask'][0] == gen_output['attention_mask'][0]"
   ]
  },
  {
   "cell_type": "code",
   "execution_count": 134,
   "metadata": {},
   "outputs": [],
   "source": [
    "# gen_output['attention_mask'][0]"
   ]
  },
  {
   "cell_type": "code",
   "execution_count": 135,
   "metadata": {},
   "outputs": [
    {
     "data": {
      "text/plain": [
       "{'input_ids': tensor([[128000, 128006,   9125, 128007,    271,  38766,   1303,  33025,   2696,\n",
       "              25,   6790,    220,   2366,     18,    198,  15724,   2696,     25,\n",
       "             220,   1627,  10263,    220,   2366,     19,    271,   2127,  56956,\n",
       "             279,  27065,    315,    279,   2768,  11914,    323,   6013,    449,\n",
       "            1193,    832,   3492,     25,    364,  31587,    518,    364,  43324,\n",
       "             518,    477,    364,  60668,    518,   3196,    389,    279,   8244,\n",
       "           16630,    323,   7438,    315,    279,  11914,     11,    422,    912,\n",
       "            3403,   2038,   3984,     11,   6013,    449,    364,   1962,   2867,\n",
       "               6,    449,    459,  16540,     13, 128009, 128006,  52989, 128007,\n",
       "             271,     40,   1097,   9193,  25406,    449,    279,   4367,     26,\n",
       "             433,  14760,   1306,   1120,    832,   1938,     13, 128009, 128006,\n",
       "           78191, 128007,    271,  43324, 128009]], device='cuda:0'),\n",
       " 'attention_mask': tensor([[1, 1, 1, 1, 1, 1, 1, 1, 1, 1, 1, 1, 1, 1, 1, 1, 1, 1, 1, 1, 1, 1, 1, 1,\n",
       "          1, 1, 1, 1, 1, 1, 1, 1, 1, 1, 1, 1, 1, 1, 1, 1, 1, 1, 1, 1, 1, 1, 1, 1,\n",
       "          1, 1, 1, 1, 1, 1, 1, 1, 1, 1, 1, 1, 1, 1, 1, 1, 1, 1, 1, 1, 1, 1, 1, 1,\n",
       "          1, 1, 1, 1, 1, 1, 1, 1, 1, 1, 1, 1, 1, 1, 1, 1, 1, 1, 1, 1, 1, 1, 1, 1,\n",
       "          1, 1, 1, 1, 1, 1, 1, 0]], device='cuda:0')}"
      ]
     },
     "execution_count": 135,
     "metadata": {},
     "output_type": "execute_result"
    }
   ],
   "source": [
    "# inputs['attention_mask'][0]\n",
    "gen_output"
   ]
  },
  {
   "cell_type": "code",
   "execution_count": 136,
   "metadata": {},
   "outputs": [
    {
     "name": "stdout",
     "output_type": "stream",
     "text": [
      "positive probability:  tensor(0.0643, device='cuda:0')\n",
      "negative probability:  tensor(0.6613, device='cuda:0')\n",
      "neutral probability:  tensor(0.0726, device='cuda:0')\n",
      "not clear probability:  tensor(0.0037, device='cuda:0')\n"
     ]
    }
   ],
   "source": [
    "logits = llm.model(gen_output['input_ids'][:,:-2], gen_output['attention_mask'][:,:-2]).logits\n",
    "logits = logits[:, -1, :]\n",
    "# # get the probabilities of 'positive', 'negative' and 'neutral'\n",
    "probs = torch.softmax(logits, dim=-1)\n",
    "print(\"positive probability: \", probs[0, 31587])\n",
    "print(\"negative probability: \", probs[0, 43324])\n",
    "print(\"neutral probability: \", probs[0, 60668])\n",
    "print(\"not clear probability: \", probs[0, 1962])"
   ]
  },
  {
   "cell_type": "code",
   "execution_count": 137,
   "metadata": {},
   "outputs": [
    {
     "name": "stdout",
     "output_type": "stream",
     "text": [
      "<|begin_of_text|><|start_header_id|>system<|end_header_id|>\n",
      "\n",
      "Cutting Knowledge Date: December 2023\n",
      "Today Date: 26 Jul 2024\n",
      "\n",
      "Analyze the sentiment of the following sentence and respond with only one word: 'positive', 'negative', or 'neutral', based on the overall tone and meaning of the sentence, if no enough information provided, respond with 'not clear' with an explanation.<|eot_id|><|start_header_id|>sentence<|end_header_id|>\n",
      "\n",
      "I am extremely disappointed with the quality; it broke after just one day.<|eot_id|><|start_header_id|>assistant<|end_header_id|>\n",
      "\n",
      "negative!\n",
      "<|begin_of_text|><|start_header_id|>system<|end_header_id|>\n",
      "\n",
      "Cutting Knowledge Date: December 2023\n",
      "Today Date: 26 Jul 2024\n",
      "\n",
      "Analyze the sentiment of the following sentence and respond with only one word: 'positive', 'negative', or 'neutral', based on the overall tone and meaning of the sentence, if no enough information provided, respond with 'not clear' with an explanation.<|eot_id|><|start_header_id|>sentence<|end_header_id|>\n",
      "\n",
      "I am extremely disappointed with the quality; it broke after just one day.<|eot_id|><|start_header_id|>assistant<|end_header_id|>\n",
      "\n",
      "negative<|eot_id|>\n"
     ]
    }
   ],
   "source": [
    "print(tokenizer.decode(gen_output['input_ids'][0] * gen_output['attention_mask'][0]))\n",
    "print(tokenizer.decode(inputs['input_ids'][0] * inputs['attention_mask'][0]))"
   ]
  },
  {
   "cell_type": "code",
   "execution_count": 138,
   "metadata": {},
   "outputs": [
    {
     "name": "stdout",
     "output_type": "stream",
     "text": [
      "<|begin_of_text|><|start_header_id|>system<|end_header_id|>\n",
      "\n",
      "Cutting Knowledge Date: December 2023\n",
      "Today Date: 26 Jul 2024\n",
      "\n",
      "Analyze the sentiment of the following sentence and respond with only one word: 'positive', 'negative', or 'neutral', based on the overall tone and meaning of the sentence, if no enough information provided, respond with 'not clear' with an explanation.<|eot_id|><|start_header_id|>sentence<|end_header_id|>\n",
      "\n",
      "I am extremely disappointed with the quality; it broke after just one day.<|eot_id|><|start_header_id|>assistant<|end_header_id|>\n",
      "\n",
      "negative<|eot_id|>\n"
     ]
    }
   ],
   "source": [
    "print(tokenizer.decode(gen_output['input_ids'][0]))"
   ]
  },
  {
   "cell_type": "code",
   "execution_count": 139,
   "metadata": {},
   "outputs": [
    {
     "name": "stdout",
     "output_type": "stream",
     "text": [
      "{'input_ids': tensor([[128000, 128006,   9125, 128007,    271,  38766,   1303,  33025,   2696,\n",
      "             25,   6790,    220,   2366,     18,    198,  15724,   2696,     25,\n",
      "            220,   1627,  10263,    220,   2366,     19,    271,   2127,  56956,\n",
      "            279,  27065,    315,    279,   2768,  11914,    323,   6013,    449,\n",
      "           1193,    832,   3492,     25,    364,  31587,    518,    364,  43324,\n",
      "            518,    477,    364,  60668,    518,   3196,    389,    279,   8244,\n",
      "          16630,    323,   7438,    315,    279,  11914,     11,    422,    912,\n",
      "           3403,   2038,   3984,     11,   6013,    449,    364,   1962,   2867,\n",
      "              6,    449,    459,  16540,     13, 128009, 128006,  52989, 128007,\n",
      "            271,     40,   1097,   9193,  25406,    449,    279,   4367,     26,\n",
      "            433,  14760,   1306,   1120,    832,   1938,     13, 128009, 128006,\n",
      "          78191, 128007,    271,  43324]], device='cuda:0'), 'attention_mask': tensor([[1, 1, 1, 1, 1, 1, 1, 1, 1, 1, 1, 1, 1, 1, 1, 1, 1, 1, 1, 1, 1, 1, 1, 1,\n",
      "         1, 1, 1, 1, 1, 1, 1, 1, 1, 1, 1, 1, 1, 1, 1, 1, 1, 1, 1, 1, 1, 1, 1, 1,\n",
      "         1, 1, 1, 1, 1, 1, 1, 1, 1, 1, 1, 1, 1, 1, 1, 1, 1, 1, 1, 1, 1, 1, 1, 1,\n",
      "         1, 1, 1, 1, 1, 1, 1, 1, 1, 1, 1, 1, 1, 1, 1, 1, 1, 1, 1, 1, 1, 1, 1, 1,\n",
      "         1, 1, 1, 1, 1, 1, 1]], device='cuda:0'), 'context_mask': tensor([[0, 0, 0, 0, 0, 0, 0, 0, 0, 0, 0, 0, 0, 0, 0, 0, 0, 0, 0, 0, 0, 0, 0, 0,\n",
      "         0, 0, 0, 0, 0, 0, 0, 0, 0, 0, 0, 0, 0, 0, 0, 0, 0, 0, 0, 0, 0, 0, 0, 0,\n",
      "         0, 0, 0, 0, 0, 0, 0, 0, 0, 0, 0, 0, 0, 0, 0, 0, 0, 0, 0, 0, 0, 0, 0, 0,\n",
      "         0, 0, 0, 0, 0, 0, 0, 0, 0, 0, 1, 1, 1, 1, 1, 1, 1, 1, 1, 1, 1, 1, 1, 1,\n",
      "         1, 0, 0, 0, 0, 0, 0]], device='cuda:0')}\n"
     ]
    }
   ],
   "source": [
    "from llmexp.trainer.mab_trainer import randomly_cut_and_pad_generations\n",
    "cut_and_pad_gen_output = randomly_cut_and_pad_generations(example, gen_output, tokenizer)\n",
    "print(cut_and_pad_gen_output)\n"
   ]
  },
  {
   "cell_type": "code",
   "execution_count": 140,
   "metadata": {},
   "outputs": [
    {
     "name": "stdout",
     "output_type": "stream",
     "text": [
      "<|begin_of_text|><|start_header_id|>system<|end_header_id|>\n",
      "\n",
      "Cutting Knowledge Date: December 2023\n",
      "Today Date: 26 Jul 2024\n",
      "\n",
      "Analyze the sentiment of the following sentence and respond with only one word: 'positive', 'negative', or 'neutral', based on the overall tone and meaning of the sentence, if no enough information provided, respond with 'not clear' with an explanation.<|eot_id|><|start_header_id|>sentence<|end_header_id|>\n",
      "\n",
      "I am extremely disappointed with the quality; it broke after just one day.<|eot_id|><|start_header_id|>assistant<|end_header_id|>\n",
      "\n",
      "negative\n"
     ]
    }
   ],
   "source": [
    "print(tokenizer.decode(cut_and_pad_gen_output['input_ids'][0]))"
   ]
  },
  {
   "cell_type": "code",
   "execution_count": 141,
   "metadata": {},
   "outputs": [
    {
     "name": "stdout",
     "output_type": "stream",
     "text": [
      "\n"
     ]
    },
    {
     "name": "stderr",
     "output_type": "stream",
     "text": [
      "/tmp/1123470.1.gpu/ipykernel_2560790/3922162976.py:2: FutureWarning: You are using `torch.load` with `weights_only=False` (the current default value), which uses the default pickle module implicitly. It is possible to construct malicious pickle data which will execute arbitrary code during unpickling (See https://github.com/pytorch/pytorch/blob/main/SECURITY.md#untrusted-models for more details). In a future release, the default value for `weights_only` will be flipped to `True`. This limits the functions that could be executed during unpickling. Arbitrary objects will no longer be allowed to be loaded via this mode unless they are explicitly allowlisted by the user via `torch.serialization.add_safe_globals`. We recommend you start setting `weights_only=True` for any use case where you don't have full control of the loaded file. Please open an issue on GitHub for any issues related to this experimental feature.\n",
      "  mab_model = MABModel.load_with_base_model(torch.load(saved_mab_model), llm, hidden_size=1024)\n"
     ]
    }
   ],
   "source": [
    "from llmexp.explainer.mab_model import MABModel\n",
    "mab_model = MABModel.load_with_base_model(torch.load(saved_mab_model), llm, hidden_size=1024)\n",
    "mab_model.to(device)\n",
    "print()"
   ]
  },
  {
   "cell_type": "code",
   "execution_count": 142,
   "metadata": {},
   "outputs": [],
   "source": [
    "input_ids = cut_and_pad_gen_output['input_ids']\n",
    "attention_mask = cut_and_pad_gen_output['attention_mask']\n",
    "logits, values = mab_model.get_logits_value(input_ids, attention_mask)\n",
    "\n",
    "\n",
    "# mab_values = torch.softmax(logits, dim=-1)\n",
    "\n",
    "context_mask = cut_and_pad_gen_output['context_mask']\n",
    "# fill the \n",
    "masked_logits = logits.masked_fill(~context_mask[:,:-1].bool(), float('-inf'))\n",
    "mab_values = torch.softmax(masked_logits, dim=-1)\n",
    "# mab_values = torch.sigmoid(masked_logits)\n",
    "# mab_values = dist.logits"
   ]
  },
  {
   "cell_type": "code",
   "execution_count": 143,
   "metadata": {},
   "outputs": [
    {
     "data": {
      "text/plain": [
       "tensor([1.0000], device='cuda:0', grad_fn=<SumBackward1>)"
      ]
     },
     "execution_count": 143,
     "metadata": {},
     "output_type": "execute_result"
    }
   ],
   "source": [
    "mab_values.sum(-1)"
   ]
  },
  {
   "cell_type": "code",
   "execution_count": 144,
   "metadata": {},
   "outputs": [
    {
     "name": "stdout",
     "output_type": "stream",
     "text": [
      "tensor([[0.0000, 0.0000, 0.0000, 0.0000, 0.0000, 0.0000, 0.0000, 0.0000, 0.0000,\n",
      "         0.0000, 0.0000, 0.0000, 0.0000, 0.0000, 0.0000, 0.0000, 0.0000, 0.0000,\n",
      "         0.0000, 0.0000, 0.0000, 0.0000, 0.0000, 0.0000, 0.0000, 0.0000, 0.0000,\n",
      "         0.0000, 0.0000, 0.0000, 0.0000, 0.0000, 0.0000, 0.0000, 0.0000, 0.0000,\n",
      "         0.0000, 0.0000, 0.0000, 0.0000, 0.0000, 0.0000, 0.0000, 0.0000, 0.0000,\n",
      "         0.0000, 0.0000, 0.0000, 0.0000, 0.0000, 0.0000, 0.0000, 0.0000, 0.0000,\n",
      "         0.0000, 0.0000, 0.0000, 0.0000, 0.0000, 0.0000, 0.0000, 0.0000, 0.0000,\n",
      "         0.0000, 0.0000, 0.0000, 0.0000, 0.0000, 0.0000, 0.0000, 0.0000, 0.0000,\n",
      "         0.0000, 0.0000, 0.0000, 0.0000, 0.0000, 0.0000, 0.0000, 0.0000, 0.0000,\n",
      "         0.0000, 0.1032, 0.0408, 0.1461, 0.1510, 0.0450, 0.1591, 0.0385, 0.0697,\n",
      "         0.0376, 0.0595, 0.0130, 0.0100, 0.0231, 0.0264, 0.0771, 0.0000, 0.0000,\n",
      "         0.0000, 0.0000, 0.0000]], device='cuda:0', grad_fn=<SoftmaxBackward0>)\n",
      "torch.Size([1, 102])\n"
     ]
    }
   ],
   "source": [
    "print(mab_values)\n",
    "print(mab_values.shape)"
   ]
  },
  {
   "cell_type": "code",
   "execution_count": 145,
   "metadata": {},
   "outputs": [
    {
     "name": "stdout",
     "output_type": "stream",
     "text": [
      "tensor([[128000, 128006,   9125, 128007,    271,  38766,   1303,  33025,   2696,\n",
      "             25,   6790,    220,   2366,     18,    198,  15724,   2696,     25,\n",
      "            220,   1627,  10263,    220,   2366,     19,    271,   2127,  56956,\n",
      "            279,  27065,    315,    279,   2768,  11914,    323,   6013,    449,\n",
      "           1193,    832,   3492,     25,    364,  31587,    518,    364,  43324,\n",
      "            518,    477,    364,  60668,    518,   3196,    389,    279,   8244,\n",
      "          16630,    323,   7438,    315,    279,  11914,     11,    422,    912,\n",
      "           3403,   2038,   3984,     11,   6013,    449,    364,   1962,   2867,\n",
      "              6,    449,    459,  16540,     13, 128009, 128006,  52989, 128007,\n",
      "            271,     40,   1097,   9193,  25406,    449,    279,   4367,     26,\n",
      "            433,  14760,   1306,   1120,    832,   1938,     13, 128009, 128006,\n",
      "          78191, 128007,    271,  43324]], device='cuda:0')\n",
      "torch.Size([1, 103])\n"
     ]
    }
   ],
   "source": [
    "print(input_ids)\n",
    "print(input_ids.shape)"
   ]
  },
  {
   "cell_type": "code",
   "execution_count": 146,
   "metadata": {},
   "outputs": [],
   "source": [
    "def visualize_tokens_with_values(input_ids, mab_values, context_mask, tokenizer):\n",
    "    # Decode tokens one by one to preserve alignment\n",
    "    tokens = []\n",
    "    for i in range(input_ids.shape[1]):\n",
    "        token = tokenizer.decode(input_ids[0, i:i+1])\n",
    "        tokens.append(token)\n",
    "    \n",
    "    # Normalize MAB values to [0,1] for color intensity first\n",
    "    mab_values = mab_values * context_mask[:,:-1]\n",
    "    # Create a mask for non-zero values\n",
    "    non_zero_mask = mab_values[0] != 0\n",
    "    # normalized_values = (mab_values[0] - mab_values[0].min()) / (mab_values[0].max() - mab_values[0].min())\n",
    "    normalized_values = torch.zeros_like(mab_values[0])\n",
    "    # Only normalize non-zero values\n",
    "    if non_zero_mask.any():  # Check if there are any non-zero values\n",
    "        non_zero_values = mab_values[0][non_zero_mask]\n",
    "        normalized_non_zero = (non_zero_values - non_zero_values.min()) / (non_zero_values.max() - non_zero_values.min())\n",
    "        normalized_values[non_zero_mask] = normalized_non_zero\n",
    "    \n",
    "    # Pad normalized_values with a zero at the end\n",
    "    padded_normalized_values = torch.cat([normalized_values, torch.zeros(1, device=mab_values.device)], dim=0)\n",
    "    # Pad original mab_values with the last actual value\n",
    "    padded_mab_values = torch.cat([mab_values[0], mab_values[0][-1:]], dim=0)\n",
    "    \n",
    "    # Generate HTML with colored text and values\n",
    "    html_output = \"<div style='font-family: monospace; line-height: 2; background-color: white; padding: 10px;'>\"\n",
    "    for token, value, orig_value in zip(tokens, padded_normalized_values, padded_mab_values):\n",
    "        # Use a gradient from white to green\n",
    "        intensity = float(value)\n",
    "        green_color = int(intensity * 200)  # Control the maximum intensity\n",
    "        html_output += f'<span style=\"color: black; background-color: rgba(0, {green_color}, 0, 0.3); padding: 0.2em; margin: 0.1em; border-radius: 3px;\" title=\"MAB: {orig_value:.3f}, Norm: {value:.3f}\">{token}</span>'\n",
    "    html_output += \"</div>\"\n",
    "    \n",
    "    # Print the values\n",
    "    print(\"Token\\tNormalized Value\\tOriginal MAB Value\")\n",
    "    print(\"-\" * 50)\n",
    "    for token, value, orig_value in zip(tokens, padded_normalized_values, padded_mab_values):\n",
    "        print(f\"{token}\\t{value:.3f}\\t\\t{orig_value:.3f}\")\n",
    "    \n",
    "    from IPython.display import HTML\n",
    "    return HTML(html_output)"
   ]
  },
  {
   "cell_type": "code",
   "execution_count": 147,
   "metadata": {},
   "outputs": [
    {
     "name": "stdout",
     "output_type": "stream",
     "text": [
      "Token\tNormalized Value\tOriginal MAB Value\n",
      "--------------------------------------------------\n",
      "<|begin_of_text|>\t0.000\t\t0.000\n",
      "<|start_header_id|>\t0.000\t\t0.000\n",
      "system\t0.000\t\t0.000\n",
      "<|end_header_id|>\t0.000\t\t0.000\n",
      "\n",
      "\n",
      "\t0.000\t\t0.000\n",
      "Cut\t0.000\t\t0.000\n",
      "ting\t0.000\t\t0.000\n",
      " Knowledge\t0.000\t\t0.000\n",
      " Date\t0.000\t\t0.000\n",
      ":\t0.000\t\t0.000\n",
      " December\t0.000\t\t0.000\n",
      " \t0.000\t\t0.000\n",
      "202\t0.000\t\t0.000\n",
      "3\t0.000\t\t0.000\n",
      "\n",
      "\t0.000\t\t0.000\n",
      "Today\t0.000\t\t0.000\n",
      " Date\t0.000\t\t0.000\n",
      ":\t0.000\t\t0.000\n",
      " \t0.000\t\t0.000\n",
      "26\t0.000\t\t0.000\n",
      " Jul\t0.000\t\t0.000\n",
      " \t0.000\t\t0.000\n",
      "202\t0.000\t\t0.000\n",
      "4\t0.000\t\t0.000\n",
      "\n",
      "\n",
      "\t0.000\t\t0.000\n",
      "An\t0.000\t\t0.000\n",
      "alyze\t0.000\t\t0.000\n",
      " the\t0.000\t\t0.000\n",
      " sentiment\t0.000\t\t0.000\n",
      " of\t0.000\t\t0.000\n",
      " the\t0.000\t\t0.000\n",
      " following\t0.000\t\t0.000\n",
      " sentence\t0.000\t\t0.000\n",
      " and\t0.000\t\t0.000\n",
      " respond\t0.000\t\t0.000\n",
      " with\t0.000\t\t0.000\n",
      " only\t0.000\t\t0.000\n",
      " one\t0.000\t\t0.000\n",
      " word\t0.000\t\t0.000\n",
      ":\t0.000\t\t0.000\n",
      " '\t0.000\t\t0.000\n",
      "positive\t0.000\t\t0.000\n",
      "',\t0.000\t\t0.000\n",
      " '\t0.000\t\t0.000\n",
      "negative\t0.000\t\t0.000\n",
      "',\t0.000\t\t0.000\n",
      " or\t0.000\t\t0.000\n",
      " '\t0.000\t\t0.000\n",
      "neutral\t0.000\t\t0.000\n",
      "',\t0.000\t\t0.000\n",
      " based\t0.000\t\t0.000\n",
      " on\t0.000\t\t0.000\n",
      " the\t0.000\t\t0.000\n",
      " overall\t0.000\t\t0.000\n",
      " tone\t0.000\t\t0.000\n",
      " and\t0.000\t\t0.000\n",
      " meaning\t0.000\t\t0.000\n",
      " of\t0.000\t\t0.000\n",
      " the\t0.000\t\t0.000\n",
      " sentence\t0.000\t\t0.000\n",
      ",\t0.000\t\t0.000\n",
      " if\t0.000\t\t0.000\n",
      " no\t0.000\t\t0.000\n",
      " enough\t0.000\t\t0.000\n",
      " information\t0.000\t\t0.000\n",
      " provided\t0.000\t\t0.000\n",
      ",\t0.000\t\t0.000\n",
      " respond\t0.000\t\t0.000\n",
      " with\t0.000\t\t0.000\n",
      " '\t0.000\t\t0.000\n",
      "not\t0.000\t\t0.000\n",
      " clear\t0.000\t\t0.000\n",
      "'\t0.000\t\t0.000\n",
      " with\t0.000\t\t0.000\n",
      " an\t0.000\t\t0.000\n",
      " explanation\t0.000\t\t0.000\n",
      ".\t0.000\t\t0.000\n",
      "<|eot_id|>\t0.000\t\t0.000\n",
      "<|start_header_id|>\t0.000\t\t0.000\n",
      "sentence\t0.000\t\t0.000\n",
      "<|end_header_id|>\t0.000\t\t0.000\n",
      "\n",
      "\n",
      "\t0.000\t\t0.000\n",
      "I\t0.625\t\t0.103\n",
      " am\t0.206\t\t0.041\n",
      " extremely\t0.913\t\t0.146\n",
      " disappointed\t0.946\t\t0.151\n",
      " with\t0.235\t\t0.045\n",
      " the\t1.000\t\t0.159\n",
      " quality\t0.191\t\t0.038\n",
      ";\t0.400\t\t0.070\n",
      " it\t0.185\t\t0.038\n",
      " broke\t0.332\t\t0.059\n",
      " after\t0.020\t\t0.013\n",
      " just\t0.000\t\t0.010\n",
      " one\t0.087\t\t0.023\n",
      " day\t0.109\t\t0.026\n",
      ".\t0.450\t\t0.077\n",
      "<|eot_id|>\t0.000\t\t0.000\n",
      "<|start_header_id|>\t0.000\t\t0.000\n",
      "assistant\t0.000\t\t0.000\n",
      "<|end_header_id|>\t0.000\t\t0.000\n",
      "\n",
      "\n",
      "\t0.000\t\t0.000\n",
      "negative\t0.000\t\t0.000\n"
     ]
    },
    {
     "data": {
      "text/html": [
       "<div style='font-family: monospace; line-height: 2; background-color: white; padding: 10px;'><span style=\"color: black; background-color: rgba(0, 0, 0, 0.3); padding: 0.2em; margin: 0.1em; border-radius: 3px;\" title=\"MAB: 0.000, Norm: 0.000\"><|begin_of_text|></span><span style=\"color: black; background-color: rgba(0, 0, 0, 0.3); padding: 0.2em; margin: 0.1em; border-radius: 3px;\" title=\"MAB: 0.000, Norm: 0.000\"><|start_header_id|></span><span style=\"color: black; background-color: rgba(0, 0, 0, 0.3); padding: 0.2em; margin: 0.1em; border-radius: 3px;\" title=\"MAB: 0.000, Norm: 0.000\">system</span><span style=\"color: black; background-color: rgba(0, 0, 0, 0.3); padding: 0.2em; margin: 0.1em; border-radius: 3px;\" title=\"MAB: 0.000, Norm: 0.000\"><|end_header_id|></span><span style=\"color: black; background-color: rgba(0, 0, 0, 0.3); padding: 0.2em; margin: 0.1em; border-radius: 3px;\" title=\"MAB: 0.000, Norm: 0.000\">\n",
       "\n",
       "</span><span style=\"color: black; background-color: rgba(0, 0, 0, 0.3); padding: 0.2em; margin: 0.1em; border-radius: 3px;\" title=\"MAB: 0.000, Norm: 0.000\">Cut</span><span style=\"color: black; background-color: rgba(0, 0, 0, 0.3); padding: 0.2em; margin: 0.1em; border-radius: 3px;\" title=\"MAB: 0.000, Norm: 0.000\">ting</span><span style=\"color: black; background-color: rgba(0, 0, 0, 0.3); padding: 0.2em; margin: 0.1em; border-radius: 3px;\" title=\"MAB: 0.000, Norm: 0.000\"> Knowledge</span><span style=\"color: black; background-color: rgba(0, 0, 0, 0.3); padding: 0.2em; margin: 0.1em; border-radius: 3px;\" title=\"MAB: 0.000, Norm: 0.000\"> Date</span><span style=\"color: black; background-color: rgba(0, 0, 0, 0.3); padding: 0.2em; margin: 0.1em; border-radius: 3px;\" title=\"MAB: 0.000, Norm: 0.000\">:</span><span style=\"color: black; background-color: rgba(0, 0, 0, 0.3); padding: 0.2em; margin: 0.1em; border-radius: 3px;\" title=\"MAB: 0.000, Norm: 0.000\"> December</span><span style=\"color: black; background-color: rgba(0, 0, 0, 0.3); padding: 0.2em; margin: 0.1em; border-radius: 3px;\" title=\"MAB: 0.000, Norm: 0.000\"> </span><span style=\"color: black; background-color: rgba(0, 0, 0, 0.3); padding: 0.2em; margin: 0.1em; border-radius: 3px;\" title=\"MAB: 0.000, Norm: 0.000\">202</span><span style=\"color: black; background-color: rgba(0, 0, 0, 0.3); padding: 0.2em; margin: 0.1em; border-radius: 3px;\" title=\"MAB: 0.000, Norm: 0.000\">3</span><span style=\"color: black; background-color: rgba(0, 0, 0, 0.3); padding: 0.2em; margin: 0.1em; border-radius: 3px;\" title=\"MAB: 0.000, Norm: 0.000\">\n",
       "</span><span style=\"color: black; background-color: rgba(0, 0, 0, 0.3); padding: 0.2em; margin: 0.1em; border-radius: 3px;\" title=\"MAB: 0.000, Norm: 0.000\">Today</span><span style=\"color: black; background-color: rgba(0, 0, 0, 0.3); padding: 0.2em; margin: 0.1em; border-radius: 3px;\" title=\"MAB: 0.000, Norm: 0.000\"> Date</span><span style=\"color: black; background-color: rgba(0, 0, 0, 0.3); padding: 0.2em; margin: 0.1em; border-radius: 3px;\" title=\"MAB: 0.000, Norm: 0.000\">:</span><span style=\"color: black; background-color: rgba(0, 0, 0, 0.3); padding: 0.2em; margin: 0.1em; border-radius: 3px;\" title=\"MAB: 0.000, Norm: 0.000\"> </span><span style=\"color: black; background-color: rgba(0, 0, 0, 0.3); padding: 0.2em; margin: 0.1em; border-radius: 3px;\" title=\"MAB: 0.000, Norm: 0.000\">26</span><span style=\"color: black; background-color: rgba(0, 0, 0, 0.3); padding: 0.2em; margin: 0.1em; border-radius: 3px;\" title=\"MAB: 0.000, Norm: 0.000\"> Jul</span><span style=\"color: black; background-color: rgba(0, 0, 0, 0.3); padding: 0.2em; margin: 0.1em; border-radius: 3px;\" title=\"MAB: 0.000, Norm: 0.000\"> </span><span style=\"color: black; background-color: rgba(0, 0, 0, 0.3); padding: 0.2em; margin: 0.1em; border-radius: 3px;\" title=\"MAB: 0.000, Norm: 0.000\">202</span><span style=\"color: black; background-color: rgba(0, 0, 0, 0.3); padding: 0.2em; margin: 0.1em; border-radius: 3px;\" title=\"MAB: 0.000, Norm: 0.000\">4</span><span style=\"color: black; background-color: rgba(0, 0, 0, 0.3); padding: 0.2em; margin: 0.1em; border-radius: 3px;\" title=\"MAB: 0.000, Norm: 0.000\">\n",
       "\n",
       "</span><span style=\"color: black; background-color: rgba(0, 0, 0, 0.3); padding: 0.2em; margin: 0.1em; border-radius: 3px;\" title=\"MAB: 0.000, Norm: 0.000\">An</span><span style=\"color: black; background-color: rgba(0, 0, 0, 0.3); padding: 0.2em; margin: 0.1em; border-radius: 3px;\" title=\"MAB: 0.000, Norm: 0.000\">alyze</span><span style=\"color: black; background-color: rgba(0, 0, 0, 0.3); padding: 0.2em; margin: 0.1em; border-radius: 3px;\" title=\"MAB: 0.000, Norm: 0.000\"> the</span><span style=\"color: black; background-color: rgba(0, 0, 0, 0.3); padding: 0.2em; margin: 0.1em; border-radius: 3px;\" title=\"MAB: 0.000, Norm: 0.000\"> sentiment</span><span style=\"color: black; background-color: rgba(0, 0, 0, 0.3); padding: 0.2em; margin: 0.1em; border-radius: 3px;\" title=\"MAB: 0.000, Norm: 0.000\"> of</span><span style=\"color: black; background-color: rgba(0, 0, 0, 0.3); padding: 0.2em; margin: 0.1em; border-radius: 3px;\" title=\"MAB: 0.000, Norm: 0.000\"> the</span><span style=\"color: black; background-color: rgba(0, 0, 0, 0.3); padding: 0.2em; margin: 0.1em; border-radius: 3px;\" title=\"MAB: 0.000, Norm: 0.000\"> following</span><span style=\"color: black; background-color: rgba(0, 0, 0, 0.3); padding: 0.2em; margin: 0.1em; border-radius: 3px;\" title=\"MAB: 0.000, Norm: 0.000\"> sentence</span><span style=\"color: black; background-color: rgba(0, 0, 0, 0.3); padding: 0.2em; margin: 0.1em; border-radius: 3px;\" title=\"MAB: 0.000, Norm: 0.000\"> and</span><span style=\"color: black; background-color: rgba(0, 0, 0, 0.3); padding: 0.2em; margin: 0.1em; border-radius: 3px;\" title=\"MAB: 0.000, Norm: 0.000\"> respond</span><span style=\"color: black; background-color: rgba(0, 0, 0, 0.3); padding: 0.2em; margin: 0.1em; border-radius: 3px;\" title=\"MAB: 0.000, Norm: 0.000\"> with</span><span style=\"color: black; background-color: rgba(0, 0, 0, 0.3); padding: 0.2em; margin: 0.1em; border-radius: 3px;\" title=\"MAB: 0.000, Norm: 0.000\"> only</span><span style=\"color: black; background-color: rgba(0, 0, 0, 0.3); padding: 0.2em; margin: 0.1em; border-radius: 3px;\" title=\"MAB: 0.000, Norm: 0.000\"> one</span><span style=\"color: black; background-color: rgba(0, 0, 0, 0.3); padding: 0.2em; margin: 0.1em; border-radius: 3px;\" title=\"MAB: 0.000, Norm: 0.000\"> word</span><span style=\"color: black; background-color: rgba(0, 0, 0, 0.3); padding: 0.2em; margin: 0.1em; border-radius: 3px;\" title=\"MAB: 0.000, Norm: 0.000\">:</span><span style=\"color: black; background-color: rgba(0, 0, 0, 0.3); padding: 0.2em; margin: 0.1em; border-radius: 3px;\" title=\"MAB: 0.000, Norm: 0.000\"> '</span><span style=\"color: black; background-color: rgba(0, 0, 0, 0.3); padding: 0.2em; margin: 0.1em; border-radius: 3px;\" title=\"MAB: 0.000, Norm: 0.000\">positive</span><span style=\"color: black; background-color: rgba(0, 0, 0, 0.3); padding: 0.2em; margin: 0.1em; border-radius: 3px;\" title=\"MAB: 0.000, Norm: 0.000\">',</span><span style=\"color: black; background-color: rgba(0, 0, 0, 0.3); padding: 0.2em; margin: 0.1em; border-radius: 3px;\" title=\"MAB: 0.000, Norm: 0.000\"> '</span><span style=\"color: black; background-color: rgba(0, 0, 0, 0.3); padding: 0.2em; margin: 0.1em; border-radius: 3px;\" title=\"MAB: 0.000, Norm: 0.000\">negative</span><span style=\"color: black; background-color: rgba(0, 0, 0, 0.3); padding: 0.2em; margin: 0.1em; border-radius: 3px;\" title=\"MAB: 0.000, Norm: 0.000\">',</span><span style=\"color: black; background-color: rgba(0, 0, 0, 0.3); padding: 0.2em; margin: 0.1em; border-radius: 3px;\" title=\"MAB: 0.000, Norm: 0.000\"> or</span><span style=\"color: black; background-color: rgba(0, 0, 0, 0.3); padding: 0.2em; margin: 0.1em; border-radius: 3px;\" title=\"MAB: 0.000, Norm: 0.000\"> '</span><span style=\"color: black; background-color: rgba(0, 0, 0, 0.3); padding: 0.2em; margin: 0.1em; border-radius: 3px;\" title=\"MAB: 0.000, Norm: 0.000\">neutral</span><span style=\"color: black; background-color: rgba(0, 0, 0, 0.3); padding: 0.2em; margin: 0.1em; border-radius: 3px;\" title=\"MAB: 0.000, Norm: 0.000\">',</span><span style=\"color: black; background-color: rgba(0, 0, 0, 0.3); padding: 0.2em; margin: 0.1em; border-radius: 3px;\" title=\"MAB: 0.000, Norm: 0.000\"> based</span><span style=\"color: black; background-color: rgba(0, 0, 0, 0.3); padding: 0.2em; margin: 0.1em; border-radius: 3px;\" title=\"MAB: 0.000, Norm: 0.000\"> on</span><span style=\"color: black; background-color: rgba(0, 0, 0, 0.3); padding: 0.2em; margin: 0.1em; border-radius: 3px;\" title=\"MAB: 0.000, Norm: 0.000\"> the</span><span style=\"color: black; background-color: rgba(0, 0, 0, 0.3); padding: 0.2em; margin: 0.1em; border-radius: 3px;\" title=\"MAB: 0.000, Norm: 0.000\"> overall</span><span style=\"color: black; background-color: rgba(0, 0, 0, 0.3); padding: 0.2em; margin: 0.1em; border-radius: 3px;\" title=\"MAB: 0.000, Norm: 0.000\"> tone</span><span style=\"color: black; background-color: rgba(0, 0, 0, 0.3); padding: 0.2em; margin: 0.1em; border-radius: 3px;\" title=\"MAB: 0.000, Norm: 0.000\"> and</span><span style=\"color: black; background-color: rgba(0, 0, 0, 0.3); padding: 0.2em; margin: 0.1em; border-radius: 3px;\" title=\"MAB: 0.000, Norm: 0.000\"> meaning</span><span style=\"color: black; background-color: rgba(0, 0, 0, 0.3); padding: 0.2em; margin: 0.1em; border-radius: 3px;\" title=\"MAB: 0.000, Norm: 0.000\"> of</span><span style=\"color: black; background-color: rgba(0, 0, 0, 0.3); padding: 0.2em; margin: 0.1em; border-radius: 3px;\" title=\"MAB: 0.000, Norm: 0.000\"> the</span><span style=\"color: black; background-color: rgba(0, 0, 0, 0.3); padding: 0.2em; margin: 0.1em; border-radius: 3px;\" title=\"MAB: 0.000, Norm: 0.000\"> sentence</span><span style=\"color: black; background-color: rgba(0, 0, 0, 0.3); padding: 0.2em; margin: 0.1em; border-radius: 3px;\" title=\"MAB: 0.000, Norm: 0.000\">,</span><span style=\"color: black; background-color: rgba(0, 0, 0, 0.3); padding: 0.2em; margin: 0.1em; border-radius: 3px;\" title=\"MAB: 0.000, Norm: 0.000\"> if</span><span style=\"color: black; background-color: rgba(0, 0, 0, 0.3); padding: 0.2em; margin: 0.1em; border-radius: 3px;\" title=\"MAB: 0.000, Norm: 0.000\"> no</span><span style=\"color: black; background-color: rgba(0, 0, 0, 0.3); padding: 0.2em; margin: 0.1em; border-radius: 3px;\" title=\"MAB: 0.000, Norm: 0.000\"> enough</span><span style=\"color: black; background-color: rgba(0, 0, 0, 0.3); padding: 0.2em; margin: 0.1em; border-radius: 3px;\" title=\"MAB: 0.000, Norm: 0.000\"> information</span><span style=\"color: black; background-color: rgba(0, 0, 0, 0.3); padding: 0.2em; margin: 0.1em; border-radius: 3px;\" title=\"MAB: 0.000, Norm: 0.000\"> provided</span><span style=\"color: black; background-color: rgba(0, 0, 0, 0.3); padding: 0.2em; margin: 0.1em; border-radius: 3px;\" title=\"MAB: 0.000, Norm: 0.000\">,</span><span style=\"color: black; background-color: rgba(0, 0, 0, 0.3); padding: 0.2em; margin: 0.1em; border-radius: 3px;\" title=\"MAB: 0.000, Norm: 0.000\"> respond</span><span style=\"color: black; background-color: rgba(0, 0, 0, 0.3); padding: 0.2em; margin: 0.1em; border-radius: 3px;\" title=\"MAB: 0.000, Norm: 0.000\"> with</span><span style=\"color: black; background-color: rgba(0, 0, 0, 0.3); padding: 0.2em; margin: 0.1em; border-radius: 3px;\" title=\"MAB: 0.000, Norm: 0.000\"> '</span><span style=\"color: black; background-color: rgba(0, 0, 0, 0.3); padding: 0.2em; margin: 0.1em; border-radius: 3px;\" title=\"MAB: 0.000, Norm: 0.000\">not</span><span style=\"color: black; background-color: rgba(0, 0, 0, 0.3); padding: 0.2em; margin: 0.1em; border-radius: 3px;\" title=\"MAB: 0.000, Norm: 0.000\"> clear</span><span style=\"color: black; background-color: rgba(0, 0, 0, 0.3); padding: 0.2em; margin: 0.1em; border-radius: 3px;\" title=\"MAB: 0.000, Norm: 0.000\">'</span><span style=\"color: black; background-color: rgba(0, 0, 0, 0.3); padding: 0.2em; margin: 0.1em; border-radius: 3px;\" title=\"MAB: 0.000, Norm: 0.000\"> with</span><span style=\"color: black; background-color: rgba(0, 0, 0, 0.3); padding: 0.2em; margin: 0.1em; border-radius: 3px;\" title=\"MAB: 0.000, Norm: 0.000\"> an</span><span style=\"color: black; background-color: rgba(0, 0, 0, 0.3); padding: 0.2em; margin: 0.1em; border-radius: 3px;\" title=\"MAB: 0.000, Norm: 0.000\"> explanation</span><span style=\"color: black; background-color: rgba(0, 0, 0, 0.3); padding: 0.2em; margin: 0.1em; border-radius: 3px;\" title=\"MAB: 0.000, Norm: 0.000\">.</span><span style=\"color: black; background-color: rgba(0, 0, 0, 0.3); padding: 0.2em; margin: 0.1em; border-radius: 3px;\" title=\"MAB: 0.000, Norm: 0.000\"><|eot_id|></span><span style=\"color: black; background-color: rgba(0, 0, 0, 0.3); padding: 0.2em; margin: 0.1em; border-radius: 3px;\" title=\"MAB: 0.000, Norm: 0.000\"><|start_header_id|></span><span style=\"color: black; background-color: rgba(0, 0, 0, 0.3); padding: 0.2em; margin: 0.1em; border-radius: 3px;\" title=\"MAB: 0.000, Norm: 0.000\">sentence</span><span style=\"color: black; background-color: rgba(0, 0, 0, 0.3); padding: 0.2em; margin: 0.1em; border-radius: 3px;\" title=\"MAB: 0.000, Norm: 0.000\"><|end_header_id|></span><span style=\"color: black; background-color: rgba(0, 0, 0, 0.3); padding: 0.2em; margin: 0.1em; border-radius: 3px;\" title=\"MAB: 0.000, Norm: 0.000\">\n",
       "\n",
       "</span><span style=\"color: black; background-color: rgba(0, 125, 0, 0.3); padding: 0.2em; margin: 0.1em; border-radius: 3px;\" title=\"MAB: 0.103, Norm: 0.625\">I</span><span style=\"color: black; background-color: rgba(0, 41, 0, 0.3); padding: 0.2em; margin: 0.1em; border-radius: 3px;\" title=\"MAB: 0.041, Norm: 0.206\"> am</span><span style=\"color: black; background-color: rgba(0, 182, 0, 0.3); padding: 0.2em; margin: 0.1em; border-radius: 3px;\" title=\"MAB: 0.146, Norm: 0.913\"> extremely</span><span style=\"color: black; background-color: rgba(0, 189, 0, 0.3); padding: 0.2em; margin: 0.1em; border-radius: 3px;\" title=\"MAB: 0.151, Norm: 0.946\"> disappointed</span><span style=\"color: black; background-color: rgba(0, 46, 0, 0.3); padding: 0.2em; margin: 0.1em; border-radius: 3px;\" title=\"MAB: 0.045, Norm: 0.235\"> with</span><span style=\"color: black; background-color: rgba(0, 200, 0, 0.3); padding: 0.2em; margin: 0.1em; border-radius: 3px;\" title=\"MAB: 0.159, Norm: 1.000\"> the</span><span style=\"color: black; background-color: rgba(0, 38, 0, 0.3); padding: 0.2em; margin: 0.1em; border-radius: 3px;\" title=\"MAB: 0.038, Norm: 0.191\"> quality</span><span style=\"color: black; background-color: rgba(0, 80, 0, 0.3); padding: 0.2em; margin: 0.1em; border-radius: 3px;\" title=\"MAB: 0.070, Norm: 0.400\">;</span><span style=\"color: black; background-color: rgba(0, 36, 0, 0.3); padding: 0.2em; margin: 0.1em; border-radius: 3px;\" title=\"MAB: 0.038, Norm: 0.185\"> it</span><span style=\"color: black; background-color: rgba(0, 66, 0, 0.3); padding: 0.2em; margin: 0.1em; border-radius: 3px;\" title=\"MAB: 0.059, Norm: 0.332\"> broke</span><span style=\"color: black; background-color: rgba(0, 3, 0, 0.3); padding: 0.2em; margin: 0.1em; border-radius: 3px;\" title=\"MAB: 0.013, Norm: 0.020\"> after</span><span style=\"color: black; background-color: rgba(0, 0, 0, 0.3); padding: 0.2em; margin: 0.1em; border-radius: 3px;\" title=\"MAB: 0.010, Norm: 0.000\"> just</span><span style=\"color: black; background-color: rgba(0, 17, 0, 0.3); padding: 0.2em; margin: 0.1em; border-radius: 3px;\" title=\"MAB: 0.023, Norm: 0.087\"> one</span><span style=\"color: black; background-color: rgba(0, 21, 0, 0.3); padding: 0.2em; margin: 0.1em; border-radius: 3px;\" title=\"MAB: 0.026, Norm: 0.109\"> day</span><span style=\"color: black; background-color: rgba(0, 90, 0, 0.3); padding: 0.2em; margin: 0.1em; border-radius: 3px;\" title=\"MAB: 0.077, Norm: 0.450\">.</span><span style=\"color: black; background-color: rgba(0, 0, 0, 0.3); padding: 0.2em; margin: 0.1em; border-radius: 3px;\" title=\"MAB: 0.000, Norm: 0.000\"><|eot_id|></span><span style=\"color: black; background-color: rgba(0, 0, 0, 0.3); padding: 0.2em; margin: 0.1em; border-radius: 3px;\" title=\"MAB: 0.000, Norm: 0.000\"><|start_header_id|></span><span style=\"color: black; background-color: rgba(0, 0, 0, 0.3); padding: 0.2em; margin: 0.1em; border-radius: 3px;\" title=\"MAB: 0.000, Norm: 0.000\">assistant</span><span style=\"color: black; background-color: rgba(0, 0, 0, 0.3); padding: 0.2em; margin: 0.1em; border-radius: 3px;\" title=\"MAB: 0.000, Norm: 0.000\"><|end_header_id|></span><span style=\"color: black; background-color: rgba(0, 0, 0, 0.3); padding: 0.2em; margin: 0.1em; border-radius: 3px;\" title=\"MAB: 0.000, Norm: 0.000\">\n",
       "\n",
       "</span><span style=\"color: black; background-color: rgba(0, 0, 0, 0.3); padding: 0.2em; margin: 0.1em; border-radius: 3px;\" title=\"MAB: 0.000, Norm: 0.000\">negative</span></div>"
      ],
      "text/plain": [
       "<IPython.core.display.HTML object>"
      ]
     },
     "metadata": {},
     "output_type": "display_data"
    }
   ],
   "source": [
    "# Usage:\n",
    "visualization = visualize_tokens_with_values(input_ids, mab_values, context_mask, tokenizer)\n",
    "display(visualization)"
   ]
  },
  {
   "cell_type": "markdown",
   "metadata": {},
   "source": []
  },
  {
   "cell_type": "markdown",
   "metadata": {},
   "source": []
  },
  {
   "cell_type": "markdown",
   "metadata": {},
   "source": []
  }
 ],
 "metadata": {
  "kernelspec": {
   "display_name": "transformer_explain",
   "language": "python",
   "name": "python3"
  },
  "language_info": {
   "codemirror_mode": {
    "name": "ipython",
    "version": 3
   },
   "file_extension": ".py",
   "mimetype": "text/x-python",
   "name": "python",
   "nbconvert_exporter": "python",
   "pygments_lexer": "ipython3",
   "version": "undefined.undefined.undefined"
  }
 },
 "nbformat": 4,
 "nbformat_minor": 2
}
