{
 "cells": [
  {
   "cell_type": "code",
   "execution_count": 9,
   "metadata": {},
   "outputs": [],
   "source": [
    "from llmexp.llm.smollm import LLMWrapper\n",
    "from accelerate import Accelerator\n",
    "import torch\n",
    "\n",
    "# checkpoint = \"meta-llama/Meta-Llama-3-8B-Instruct\"\n",
    "checkpoint = \"meta-llama/Llama-3.2-1B-Instruct\"\n",
    "# checkpoint = \"HuggingFaceTB/SmolLM-1.7B-Instruct\"\n",
    "saved_mab_model = \"checkpoints/mab_model_100.pth\"\n",
    "\n",
    "\n",
    "accelerator = Accelerator()\n",
    "device = accelerator.device\n",
    "\n",
    "\n",
    "llm = LLMWrapper(checkpoint, device=device)\n",
    "tokenizer = llm.tokenizer"
   ]
  },
  {
   "cell_type": "code",
   "execution_count": 10,
   "metadata": {},
   "outputs": [
    {
     "name": "stderr",
     "output_type": "stream",
     "text": [
      "Setting `pad_token_id` to `eos_token_id`:128001 for open-end generation.\n"
     ]
    },
    {
     "name": "stdout",
     "output_type": "stream",
     "text": [
      "<|begin_of_text|><|begin_of_text|><|start_header_id|>system<|end_header_id|>\n",
      "\n",
      "Cutting Knowledge Date: December 2023\n",
      "Today Date: 26 Jul 2024\n",
      "\n",
      "Analyze the sentiment of the following sentence and respond with only one word: 'positive,' 'negative,' or 'neutral,' based on the overall tone and meaning of the sentence. Do not provide any additional explanation.<|eot_id|><|start_header_id|>sentence<|end_header_id|>\n",
      "\n",
      "I love this movie!<|eot_id|><|start_header_id|>assistant<|end_header_id|>\n",
      "\n",
      "positive<|eot_id|>\n"
     ]
    }
   ],
   "source": [
    "# instruction = \"Analyze the sentiment of the following sentence. Be brief.\"\n",
    "instruction = \"Analyze the sentiment of the following sentence and respond with only one word: 'positive,' 'negative,' or 'neutral,' based on the overall tone and meaning of the sentence. Do not provide any additional explanation.\"\n",
    "# user_input = \"I am extremely disappointed with the quality; it broke after just one day.\"\n",
    "user_input = \"I love this movie!\"\n",
    "\n",
    "content = [\n",
    "            {\"role\": \"system\", \n",
    "            \"content\": instruction\n",
    "            },\n",
    "\n",
    "            {\"role\": \"sentence\", \n",
    "            \"content\": user_input\n",
    "            }\n",
    "        ]\n",
    "template = tokenizer.apply_chat_template(content, tokenize=False, add_generation_prompt=True)\n",
    "# print(template)\n",
    "\n",
    "# The generated outputs \n",
    "gen_output = llm.generate_from_texts(template)\n",
    "print(gen_output)"
   ]
  },
  {
   "cell_type": "code",
   "execution_count": 11,
   "metadata": {},
   "outputs": [
    {
     "name": "stderr",
     "output_type": "stream",
     "text": [
      "/tmp/1104405.1.gpu/ipykernel_2163222/3922162976.py:2: FutureWarning: You are using `torch.load` with `weights_only=False` (the current default value), which uses the default pickle module implicitly. It is possible to construct malicious pickle data which will execute arbitrary code during unpickling (See https://github.com/pytorch/pytorch/blob/main/SECURITY.md#untrusted-models for more details). In a future release, the default value for `weights_only` will be flipped to `True`. This limits the functions that could be executed during unpickling. Arbitrary objects will no longer be allowed to be loaded via this mode unless they are explicitly allowlisted by the user via `torch.serialization.add_safe_globals`. We recommend you start setting `weights_only=True` for any use case where you don't have full control of the loaded file. Please open an issue on GitHub for any issues related to this experimental feature.\n",
      "  mab_model = MABModel.load_with_base_model(torch.load(saved_mab_model), llm, hidden_size=1024)\n"
     ]
    },
    {
     "name": "stdout",
     "output_type": "stream",
     "text": [
      "\n"
     ]
    }
   ],
   "source": [
    "from llmexp.explainer.mab_model import MABModel\n",
    "mab_model = MABModel.load_with_base_model(torch.load(saved_mab_model), llm, hidden_size=1024)\n",
    "mab_model.to(device)\n",
    "print()"
   ]
  },
  {
   "cell_type": "code",
   "execution_count": 12,
   "metadata": {},
   "outputs": [],
   "source": [
    "gen_inputs = tokenizer(gen_output, return_tensors=\"pt\").to(device)\n",
    "input_ids = gen_inputs['input_ids'][:, :-1]\n",
    "attention_mask = gen_inputs['attention_mask'][:, :-1]\n",
    "_, mab_values, _ = mab_model.get_dist_value(input_ids, attention_mask)\n",
    "\n"
   ]
  },
  {
   "cell_type": "code",
   "execution_count": 13,
   "metadata": {},
   "outputs": [
    {
     "name": "stdout",
     "output_type": "stream",
     "text": [
      "tensor([[-0.2145, -0.2145, -0.2145, -0.2028, -0.2089, -0.1987, -0.2045, -0.2113,\n",
      "         -0.2019, -0.2115, -0.2146, -0.2252, -0.1911, -0.1681, -0.1924, -0.2096,\n",
      "         -0.2083, -0.2227, -0.2078, -0.2124, -0.1979, -0.2099, -0.2121, -0.2162,\n",
      "         -0.1573, -0.2019, -0.2094, -0.2091, -0.2048, -0.2144, -0.2027, -0.2063,\n",
      "         -0.2110, -0.2171, -0.2113, -0.2132, -0.1930, -0.2086, -0.2014, -0.2093,\n",
      "         -0.2025, -0.2123, -0.2025, -0.1978, -0.2100, -0.2092, -0.2104, -0.2099,\n",
      "         -0.2052, -0.2093, -0.2043, -0.2118, -0.2111, -0.2104, -0.2141, -0.2137,\n",
      "         -0.2080, -0.2108, -0.2098, -0.2058, -0.2098, -0.2079, -0.2165, -0.1957,\n",
      "         -0.1968, -0.2116, -0.2134, -0.2105, -0.2044, -0.2049, -0.1964, -0.2007,\n",
      "         -0.1989, -0.1991, -0.1970, -0.2129, -0.2133, -0.2223, -0.2092, -0.2119,\n",
      "         -0.1943, -0.2039, -0.1932, -0.1906, -0.2000]], device='cuda:0',\n",
      "       grad_fn=<NegBackward0>)\n",
      "torch.Size([1, 85])\n"
     ]
    }
   ],
   "source": [
    "print(mab_values)\n",
    "print(mab_values.shape)"
   ]
  },
  {
   "cell_type": "code",
   "execution_count": 14,
   "metadata": {},
   "outputs": [
    {
     "name": "stdout",
     "output_type": "stream",
     "text": [
      "tensor([[128000, 128000, 128000, 128006,   9125, 128007,    271,  38766,   1303,\n",
      "          33025,   2696,     25,   6790,    220,   2366,     18,    198,  15724,\n",
      "           2696,     25,    220,   1627,  10263,    220,   2366,     19,    271,\n",
      "           2127,  56956,    279,  27065,    315,    279,   2768,  11914,    323,\n",
      "           6013,    449,   1193,    832,   3492,     25,    364,  31587,   2965,\n",
      "            364,  43324,   2965,    477,    364,  60668,   2965,   3196,    389,\n",
      "            279,   8244,  16630,    323,   7438,    315,    279,  11914,     13,\n",
      "           3234,    539,   3493,    904,   5217,  16540,     13, 128009, 128006,\n",
      "          52989, 128007,    271,     40,   3021,    420,   5818,      0, 128009,\n",
      "         128006,  78191, 128007,    271,  31587]], device='cuda:0')\n",
      "torch.Size([1, 86])\n"
     ]
    }
   ],
   "source": [
    "print(input_ids)\n",
    "print(input_ids.shape)"
   ]
  },
  {
   "cell_type": "code",
   "execution_count": 15,
   "metadata": {},
   "outputs": [],
   "source": [
    "def visualize_tokens_with_values(input_ids, mab_values, tokenizer):\n",
    "    # Decode tokens one by one to preserve alignment\n",
    "    tokens = []\n",
    "    for i in range(input_ids.shape[1]):\n",
    "        token = tokenizer.decode(input_ids[0, i:i+1])\n",
    "        tokens.append(token)\n",
    "    \n",
    "    # Normalize MAB values to [0,1] for color intensity first\n",
    "    normalized_values = (mab_values[0] - mab_values[0].min()) / (mab_values[0].max() - mab_values[0].min())\n",
    "    \n",
    "    # Pad normalized_values with a zero at the end\n",
    "    padded_normalized_values = torch.cat([normalized_values, torch.zeros(1, device=mab_values.device)], dim=0)\n",
    "    # Pad original mab_values with the last actual value\n",
    "    padded_mab_values = torch.cat([mab_values[0], mab_values[0][-1:]], dim=0)\n",
    "    \n",
    "    # Generate HTML with colored text and values\n",
    "    html_output = \"<div style='font-family: monospace; line-height: 2; background-color: white; padding: 10px;'>\"\n",
    "    for token, value, orig_value in zip(tokens, padded_normalized_values, padded_mab_values):\n",
    "        # Use a gradient from white to green\n",
    "        intensity = float(value)\n",
    "        green_color = int(intensity * 200)  # Control the maximum intensity\n",
    "        html_output += f'<span style=\"color: black; background-color: rgba(0, {green_color}, 0, 0.3); padding: 0.2em; margin: 0.1em; border-radius: 3px;\" title=\"MAB: {orig_value:.3f}, Norm: {value:.3f}\">{token}</span>'\n",
    "    html_output += \"</div>\"\n",
    "    \n",
    "    # Print the values\n",
    "    print(\"Token\\tNormalized Value\\tOriginal MAB Value\")\n",
    "    print(\"-\" * 50)\n",
    "    for token, value, orig_value in zip(tokens, padded_normalized_values, padded_mab_values):\n",
    "        print(f\"{token}\\t{value:.3f}\\t\\t{orig_value:.3f}\")\n",
    "    \n",
    "    from IPython.display import HTML\n",
    "    return HTML(html_output)"
   ]
  },
  {
   "cell_type": "code",
   "execution_count": 16,
   "metadata": {},
   "outputs": [
    {
     "name": "stdout",
     "output_type": "stream",
     "text": [
      "Token\tNormalized Value\tOriginal MAB Value\n",
      "--------------------------------------------------\n",
      "<|begin_of_text|>\t0.158\t\t-0.214\n",
      "<|begin_of_text|>\t0.158\t\t-0.214\n",
      "<|begin_of_text|>\t0.158\t\t-0.214\n",
      "<|start_header_id|>\t0.331\t\t-0.203\n",
      "system\t0.240\t\t-0.209\n",
      "<|end_header_id|>\t0.390\t\t-0.199\n",
      "\n",
      "\n",
      "\t0.305\t\t-0.205\n",
      "Cut\t0.206\t\t-0.211\n",
      "ting\t0.344\t\t-0.202\n",
      " Knowledge\t0.203\t\t-0.211\n",
      " Date\t0.156\t\t-0.215\n",
      ":\t0.000\t\t-0.225\n",
      " December\t0.503\t\t-0.191\n",
      " \t0.841\t\t-0.168\n",
      "202\t0.484\t\t-0.192\n",
      "3\t0.231\t\t-0.210\n",
      "\n",
      "\t0.249\t\t-0.208\n",
      "Today\t0.037\t\t-0.223\n",
      " Date\t0.256\t\t-0.208\n",
      ":\t0.189\t\t-0.212\n",
      " \t0.402\t\t-0.198\n",
      "26\t0.226\t\t-0.210\n",
      " Jul\t0.194\t\t-0.212\n",
      " \t0.133\t\t-0.216\n",
      "202\t1.000\t\t-0.157\n",
      "4\t0.343\t\t-0.202\n",
      "\n",
      "\n",
      "\t0.233\t\t-0.209\n",
      "An\t0.237\t\t-0.209\n",
      "alyze\t0.302\t\t-0.205\n",
      " the\t0.160\t\t-0.214\n",
      " sentiment\t0.333\t\t-0.203\n",
      " of\t0.278\t\t-0.206\n",
      " the\t0.210\t\t-0.211\n",
      " following\t0.120\t\t-0.217\n",
      " sentence\t0.205\t\t-0.211\n",
      " and\t0.178\t\t-0.213\n",
      " respond\t0.475\t\t-0.193\n",
      " with\t0.245\t\t-0.209\n",
      " only\t0.352\t\t-0.201\n",
      " one\t0.235\t\t-0.209\n",
      " word\t0.334\t\t-0.203\n",
      ":\t0.191\t\t-0.212\n",
      " '\t0.334\t\t-0.203\n",
      "positive\t0.404\t\t-0.198\n",
      ",'\t0.225\t\t-0.210\n",
      " '\t0.236\t\t-0.209\n",
      "negative\t0.219\t\t-0.210\n",
      ",'\t0.226\t\t-0.210\n",
      " or\t0.295\t\t-0.205\n",
      " '\t0.235\t\t-0.209\n",
      "neutral\t0.308\t\t-0.204\n",
      ",'\t0.199\t\t-0.212\n",
      " based\t0.209\t\t-0.211\n",
      " on\t0.219\t\t-0.210\n",
      " the\t0.164\t\t-0.214\n",
      " overall\t0.170\t\t-0.214\n",
      " tone\t0.253\t\t-0.208\n",
      " and\t0.213\t\t-0.211\n",
      " meaning\t0.228\t\t-0.210\n",
      " of\t0.287\t\t-0.206\n",
      " the\t0.228\t\t-0.210\n",
      " sentence\t0.255\t\t-0.208\n",
      ".\t0.129\t\t-0.216\n",
      " Do\t0.435\t\t-0.196\n",
      " not\t0.418\t\t-0.197\n",
      " provide\t0.201\t\t-0.212\n",
      " any\t0.174\t\t-0.213\n",
      " additional\t0.218\t\t-0.210\n",
      " explanation\t0.307\t\t-0.204\n",
      ".\t0.300\t\t-0.205\n",
      "<|eot_id|>\t0.425\t\t-0.196\n",
      "<|start_header_id|>\t0.361\t\t-0.201\n",
      "sentence\t0.388\t\t-0.199\n",
      "<|end_header_id|>\t0.385\t\t-0.199\n",
      "\n",
      "\n",
      "\t0.416\t\t-0.197\n",
      "I\t0.182\t\t-0.213\n",
      " love\t0.176\t\t-0.213\n",
      " this\t0.044\t\t-0.222\n",
      " movie\t0.237\t\t-0.209\n",
      "!\t0.197\t\t-0.212\n",
      "<|eot_id|>\t0.456\t\t-0.194\n",
      "<|start_header_id|>\t0.315\t\t-0.204\n",
      "assistant\t0.471\t\t-0.193\n",
      "<|end_header_id|>\t0.510\t\t-0.191\n",
      "\n",
      "\n",
      "\t0.371\t\t-0.200\n",
      "positive\t0.000\t\t-0.200\n"
     ]
    },
    {
     "data": {
      "text/html": [
       "<div style='font-family: monospace; line-height: 2; background-color: white; padding: 10px;'><span style=\"color: black; background-color: rgba(0, 31, 0, 0.3); padding: 0.2em; margin: 0.1em; border-radius: 3px;\" title=\"MAB: -0.214, Norm: 0.158\"><|begin_of_text|></span><span style=\"color: black; background-color: rgba(0, 31, 0, 0.3); padding: 0.2em; margin: 0.1em; border-radius: 3px;\" title=\"MAB: -0.214, Norm: 0.158\"><|begin_of_text|></span><span style=\"color: black; background-color: rgba(0, 31, 0, 0.3); padding: 0.2em; margin: 0.1em; border-radius: 3px;\" title=\"MAB: -0.214, Norm: 0.158\"><|begin_of_text|></span><span style=\"color: black; background-color: rgba(0, 66, 0, 0.3); padding: 0.2em; margin: 0.1em; border-radius: 3px;\" title=\"MAB: -0.203, Norm: 0.331\"><|start_header_id|></span><span style=\"color: black; background-color: rgba(0, 47, 0, 0.3); padding: 0.2em; margin: 0.1em; border-radius: 3px;\" title=\"MAB: -0.209, Norm: 0.240\">system</span><span style=\"color: black; background-color: rgba(0, 78, 0, 0.3); padding: 0.2em; margin: 0.1em; border-radius: 3px;\" title=\"MAB: -0.199, Norm: 0.390\"><|end_header_id|></span><span style=\"color: black; background-color: rgba(0, 61, 0, 0.3); padding: 0.2em; margin: 0.1em; border-radius: 3px;\" title=\"MAB: -0.205, Norm: 0.305\">\n",
       "\n",
       "</span><span style=\"color: black; background-color: rgba(0, 41, 0, 0.3); padding: 0.2em; margin: 0.1em; border-radius: 3px;\" title=\"MAB: -0.211, Norm: 0.206\">Cut</span><span style=\"color: black; background-color: rgba(0, 68, 0, 0.3); padding: 0.2em; margin: 0.1em; border-radius: 3px;\" title=\"MAB: -0.202, Norm: 0.344\">ting</span><span style=\"color: black; background-color: rgba(0, 40, 0, 0.3); padding: 0.2em; margin: 0.1em; border-radius: 3px;\" title=\"MAB: -0.211, Norm: 0.203\"> Knowledge</span><span style=\"color: black; background-color: rgba(0, 31, 0, 0.3); padding: 0.2em; margin: 0.1em; border-radius: 3px;\" title=\"MAB: -0.215, Norm: 0.156\"> Date</span><span style=\"color: black; background-color: rgba(0, 0, 0, 0.3); padding: 0.2em; margin: 0.1em; border-radius: 3px;\" title=\"MAB: -0.225, Norm: 0.000\">:</span><span style=\"color: black; background-color: rgba(0, 100, 0, 0.3); padding: 0.2em; margin: 0.1em; border-radius: 3px;\" title=\"MAB: -0.191, Norm: 0.503\"> December</span><span style=\"color: black; background-color: rgba(0, 168, 0, 0.3); padding: 0.2em; margin: 0.1em; border-radius: 3px;\" title=\"MAB: -0.168, Norm: 0.841\"> </span><span style=\"color: black; background-color: rgba(0, 96, 0, 0.3); padding: 0.2em; margin: 0.1em; border-radius: 3px;\" title=\"MAB: -0.192, Norm: 0.484\">202</span><span style=\"color: black; background-color: rgba(0, 46, 0, 0.3); padding: 0.2em; margin: 0.1em; border-radius: 3px;\" title=\"MAB: -0.210, Norm: 0.231\">3</span><span style=\"color: black; background-color: rgba(0, 49, 0, 0.3); padding: 0.2em; margin: 0.1em; border-radius: 3px;\" title=\"MAB: -0.208, Norm: 0.249\">\n",
       "</span><span style=\"color: black; background-color: rgba(0, 7, 0, 0.3); padding: 0.2em; margin: 0.1em; border-radius: 3px;\" title=\"MAB: -0.223, Norm: 0.037\">Today</span><span style=\"color: black; background-color: rgba(0, 51, 0, 0.3); padding: 0.2em; margin: 0.1em; border-radius: 3px;\" title=\"MAB: -0.208, Norm: 0.256\"> Date</span><span style=\"color: black; background-color: rgba(0, 37, 0, 0.3); padding: 0.2em; margin: 0.1em; border-radius: 3px;\" title=\"MAB: -0.212, Norm: 0.189\">:</span><span style=\"color: black; background-color: rgba(0, 80, 0, 0.3); padding: 0.2em; margin: 0.1em; border-radius: 3px;\" title=\"MAB: -0.198, Norm: 0.402\"> </span><span style=\"color: black; background-color: rgba(0, 45, 0, 0.3); padding: 0.2em; margin: 0.1em; border-radius: 3px;\" title=\"MAB: -0.210, Norm: 0.226\">26</span><span style=\"color: black; background-color: rgba(0, 38, 0, 0.3); padding: 0.2em; margin: 0.1em; border-radius: 3px;\" title=\"MAB: -0.212, Norm: 0.194\"> Jul</span><span style=\"color: black; background-color: rgba(0, 26, 0, 0.3); padding: 0.2em; margin: 0.1em; border-radius: 3px;\" title=\"MAB: -0.216, Norm: 0.133\"> </span><span style=\"color: black; background-color: rgba(0, 200, 0, 0.3); padding: 0.2em; margin: 0.1em; border-radius: 3px;\" title=\"MAB: -0.157, Norm: 1.000\">202</span><span style=\"color: black; background-color: rgba(0, 68, 0, 0.3); padding: 0.2em; margin: 0.1em; border-radius: 3px;\" title=\"MAB: -0.202, Norm: 0.343\">4</span><span style=\"color: black; background-color: rgba(0, 46, 0, 0.3); padding: 0.2em; margin: 0.1em; border-radius: 3px;\" title=\"MAB: -0.209, Norm: 0.233\">\n",
       "\n",
       "</span><span style=\"color: black; background-color: rgba(0, 47, 0, 0.3); padding: 0.2em; margin: 0.1em; border-radius: 3px;\" title=\"MAB: -0.209, Norm: 0.237\">An</span><span style=\"color: black; background-color: rgba(0, 60, 0, 0.3); padding: 0.2em; margin: 0.1em; border-radius: 3px;\" title=\"MAB: -0.205, Norm: 0.302\">alyze</span><span style=\"color: black; background-color: rgba(0, 31, 0, 0.3); padding: 0.2em; margin: 0.1em; border-radius: 3px;\" title=\"MAB: -0.214, Norm: 0.160\"> the</span><span style=\"color: black; background-color: rgba(0, 66, 0, 0.3); padding: 0.2em; margin: 0.1em; border-radius: 3px;\" title=\"MAB: -0.203, Norm: 0.333\"> sentiment</span><span style=\"color: black; background-color: rgba(0, 55, 0, 0.3); padding: 0.2em; margin: 0.1em; border-radius: 3px;\" title=\"MAB: -0.206, Norm: 0.278\"> of</span><span style=\"color: black; background-color: rgba(0, 41, 0, 0.3); padding: 0.2em; margin: 0.1em; border-radius: 3px;\" title=\"MAB: -0.211, Norm: 0.210\"> the</span><span style=\"color: black; background-color: rgba(0, 23, 0, 0.3); padding: 0.2em; margin: 0.1em; border-radius: 3px;\" title=\"MAB: -0.217, Norm: 0.120\"> following</span><span style=\"color: black; background-color: rgba(0, 40, 0, 0.3); padding: 0.2em; margin: 0.1em; border-radius: 3px;\" title=\"MAB: -0.211, Norm: 0.205\"> sentence</span><span style=\"color: black; background-color: rgba(0, 35, 0, 0.3); padding: 0.2em; margin: 0.1em; border-radius: 3px;\" title=\"MAB: -0.213, Norm: 0.178\"> and</span><span style=\"color: black; background-color: rgba(0, 94, 0, 0.3); padding: 0.2em; margin: 0.1em; border-radius: 3px;\" title=\"MAB: -0.193, Norm: 0.475\"> respond</span><span style=\"color: black; background-color: rgba(0, 49, 0, 0.3); padding: 0.2em; margin: 0.1em; border-radius: 3px;\" title=\"MAB: -0.209, Norm: 0.245\"> with</span><span style=\"color: black; background-color: rgba(0, 70, 0, 0.3); padding: 0.2em; margin: 0.1em; border-radius: 3px;\" title=\"MAB: -0.201, Norm: 0.352\"> only</span><span style=\"color: black; background-color: rgba(0, 46, 0, 0.3); padding: 0.2em; margin: 0.1em; border-radius: 3px;\" title=\"MAB: -0.209, Norm: 0.235\"> one</span><span style=\"color: black; background-color: rgba(0, 66, 0, 0.3); padding: 0.2em; margin: 0.1em; border-radius: 3px;\" title=\"MAB: -0.203, Norm: 0.334\"> word</span><span style=\"color: black; background-color: rgba(0, 38, 0, 0.3); padding: 0.2em; margin: 0.1em; border-radius: 3px;\" title=\"MAB: -0.212, Norm: 0.191\">:</span><span style=\"color: black; background-color: rgba(0, 66, 0, 0.3); padding: 0.2em; margin: 0.1em; border-radius: 3px;\" title=\"MAB: -0.203, Norm: 0.334\"> '</span><span style=\"color: black; background-color: rgba(0, 80, 0, 0.3); padding: 0.2em; margin: 0.1em; border-radius: 3px;\" title=\"MAB: -0.198, Norm: 0.404\">positive</span><span style=\"color: black; background-color: rgba(0, 44, 0, 0.3); padding: 0.2em; margin: 0.1em; border-radius: 3px;\" title=\"MAB: -0.210, Norm: 0.225\">,'</span><span style=\"color: black; background-color: rgba(0, 47, 0, 0.3); padding: 0.2em; margin: 0.1em; border-radius: 3px;\" title=\"MAB: -0.209, Norm: 0.236\"> '</span><span style=\"color: black; background-color: rgba(0, 43, 0, 0.3); padding: 0.2em; margin: 0.1em; border-radius: 3px;\" title=\"MAB: -0.210, Norm: 0.219\">negative</span><span style=\"color: black; background-color: rgba(0, 45, 0, 0.3); padding: 0.2em; margin: 0.1em; border-radius: 3px;\" title=\"MAB: -0.210, Norm: 0.226\">,'</span><span style=\"color: black; background-color: rgba(0, 58, 0, 0.3); padding: 0.2em; margin: 0.1em; border-radius: 3px;\" title=\"MAB: -0.205, Norm: 0.295\"> or</span><span style=\"color: black; background-color: rgba(0, 46, 0, 0.3); padding: 0.2em; margin: 0.1em; border-radius: 3px;\" title=\"MAB: -0.209, Norm: 0.235\"> '</span><span style=\"color: black; background-color: rgba(0, 61, 0, 0.3); padding: 0.2em; margin: 0.1em; border-radius: 3px;\" title=\"MAB: -0.204, Norm: 0.308\">neutral</span><span style=\"color: black; background-color: rgba(0, 39, 0, 0.3); padding: 0.2em; margin: 0.1em; border-radius: 3px;\" title=\"MAB: -0.212, Norm: 0.199\">,'</span><span style=\"color: black; background-color: rgba(0, 41, 0, 0.3); padding: 0.2em; margin: 0.1em; border-radius: 3px;\" title=\"MAB: -0.211, Norm: 0.209\"> based</span><span style=\"color: black; background-color: rgba(0, 43, 0, 0.3); padding: 0.2em; margin: 0.1em; border-radius: 3px;\" title=\"MAB: -0.210, Norm: 0.219\"> on</span><span style=\"color: black; background-color: rgba(0, 32, 0, 0.3); padding: 0.2em; margin: 0.1em; border-radius: 3px;\" title=\"MAB: -0.214, Norm: 0.164\"> the</span><span style=\"color: black; background-color: rgba(0, 33, 0, 0.3); padding: 0.2em; margin: 0.1em; border-radius: 3px;\" title=\"MAB: -0.214, Norm: 0.170\"> overall</span><span style=\"color: black; background-color: rgba(0, 50, 0, 0.3); padding: 0.2em; margin: 0.1em; border-radius: 3px;\" title=\"MAB: -0.208, Norm: 0.253\"> tone</span><span style=\"color: black; background-color: rgba(0, 42, 0, 0.3); padding: 0.2em; margin: 0.1em; border-radius: 3px;\" title=\"MAB: -0.211, Norm: 0.213\"> and</span><span style=\"color: black; background-color: rgba(0, 45, 0, 0.3); padding: 0.2em; margin: 0.1em; border-radius: 3px;\" title=\"MAB: -0.210, Norm: 0.228\"> meaning</span><span style=\"color: black; background-color: rgba(0, 57, 0, 0.3); padding: 0.2em; margin: 0.1em; border-radius: 3px;\" title=\"MAB: -0.206, Norm: 0.287\"> of</span><span style=\"color: black; background-color: rgba(0, 45, 0, 0.3); padding: 0.2em; margin: 0.1em; border-radius: 3px;\" title=\"MAB: -0.210, Norm: 0.228\"> the</span><span style=\"color: black; background-color: rgba(0, 51, 0, 0.3); padding: 0.2em; margin: 0.1em; border-radius: 3px;\" title=\"MAB: -0.208, Norm: 0.255\"> sentence</span><span style=\"color: black; background-color: rgba(0, 25, 0, 0.3); padding: 0.2em; margin: 0.1em; border-radius: 3px;\" title=\"MAB: -0.216, Norm: 0.129\">.</span><span style=\"color: black; background-color: rgba(0, 86, 0, 0.3); padding: 0.2em; margin: 0.1em; border-radius: 3px;\" title=\"MAB: -0.196, Norm: 0.435\"> Do</span><span style=\"color: black; background-color: rgba(0, 83, 0, 0.3); padding: 0.2em; margin: 0.1em; border-radius: 3px;\" title=\"MAB: -0.197, Norm: 0.418\"> not</span><span style=\"color: black; background-color: rgba(0, 40, 0, 0.3); padding: 0.2em; margin: 0.1em; border-radius: 3px;\" title=\"MAB: -0.212, Norm: 0.201\"> provide</span><span style=\"color: black; background-color: rgba(0, 34, 0, 0.3); padding: 0.2em; margin: 0.1em; border-radius: 3px;\" title=\"MAB: -0.213, Norm: 0.174\"> any</span><span style=\"color: black; background-color: rgba(0, 43, 0, 0.3); padding: 0.2em; margin: 0.1em; border-radius: 3px;\" title=\"MAB: -0.210, Norm: 0.218\"> additional</span><span style=\"color: black; background-color: rgba(0, 61, 0, 0.3); padding: 0.2em; margin: 0.1em; border-radius: 3px;\" title=\"MAB: -0.204, Norm: 0.307\"> explanation</span><span style=\"color: black; background-color: rgba(0, 60, 0, 0.3); padding: 0.2em; margin: 0.1em; border-radius: 3px;\" title=\"MAB: -0.205, Norm: 0.300\">.</span><span style=\"color: black; background-color: rgba(0, 85, 0, 0.3); padding: 0.2em; margin: 0.1em; border-radius: 3px;\" title=\"MAB: -0.196, Norm: 0.425\"><|eot_id|></span><span style=\"color: black; background-color: rgba(0, 72, 0, 0.3); padding: 0.2em; margin: 0.1em; border-radius: 3px;\" title=\"MAB: -0.201, Norm: 0.361\"><|start_header_id|></span><span style=\"color: black; background-color: rgba(0, 77, 0, 0.3); padding: 0.2em; margin: 0.1em; border-radius: 3px;\" title=\"MAB: -0.199, Norm: 0.388\">sentence</span><span style=\"color: black; background-color: rgba(0, 77, 0, 0.3); padding: 0.2em; margin: 0.1em; border-radius: 3px;\" title=\"MAB: -0.199, Norm: 0.385\"><|end_header_id|></span><span style=\"color: black; background-color: rgba(0, 83, 0, 0.3); padding: 0.2em; margin: 0.1em; border-radius: 3px;\" title=\"MAB: -0.197, Norm: 0.416\">\n",
       "\n",
       "</span><span style=\"color: black; background-color: rgba(0, 36, 0, 0.3); padding: 0.2em; margin: 0.1em; border-radius: 3px;\" title=\"MAB: -0.213, Norm: 0.182\">I</span><span style=\"color: black; background-color: rgba(0, 35, 0, 0.3); padding: 0.2em; margin: 0.1em; border-radius: 3px;\" title=\"MAB: -0.213, Norm: 0.176\"> love</span><span style=\"color: black; background-color: rgba(0, 8, 0, 0.3); padding: 0.2em; margin: 0.1em; border-radius: 3px;\" title=\"MAB: -0.222, Norm: 0.044\"> this</span><span style=\"color: black; background-color: rgba(0, 47, 0, 0.3); padding: 0.2em; margin: 0.1em; border-radius: 3px;\" title=\"MAB: -0.209, Norm: 0.237\"> movie</span><span style=\"color: black; background-color: rgba(0, 39, 0, 0.3); padding: 0.2em; margin: 0.1em; border-radius: 3px;\" title=\"MAB: -0.212, Norm: 0.197\">!</span><span style=\"color: black; background-color: rgba(0, 91, 0, 0.3); padding: 0.2em; margin: 0.1em; border-radius: 3px;\" title=\"MAB: -0.194, Norm: 0.456\"><|eot_id|></span><span style=\"color: black; background-color: rgba(0, 62, 0, 0.3); padding: 0.2em; margin: 0.1em; border-radius: 3px;\" title=\"MAB: -0.204, Norm: 0.315\"><|start_header_id|></span><span style=\"color: black; background-color: rgba(0, 94, 0, 0.3); padding: 0.2em; margin: 0.1em; border-radius: 3px;\" title=\"MAB: -0.193, Norm: 0.471\">assistant</span><span style=\"color: black; background-color: rgba(0, 102, 0, 0.3); padding: 0.2em; margin: 0.1em; border-radius: 3px;\" title=\"MAB: -0.191, Norm: 0.510\"><|end_header_id|></span><span style=\"color: black; background-color: rgba(0, 74, 0, 0.3); padding: 0.2em; margin: 0.1em; border-radius: 3px;\" title=\"MAB: -0.200, Norm: 0.371\">\n",
       "\n",
       "</span><span style=\"color: black; background-color: rgba(0, 0, 0, 0.3); padding: 0.2em; margin: 0.1em; border-radius: 3px;\" title=\"MAB: -0.200, Norm: 0.000\">positive</span></div>"
      ],
      "text/plain": [
       "<IPython.core.display.HTML object>"
      ]
     },
     "metadata": {},
     "output_type": "display_data"
    }
   ],
   "source": [
    "# Usage:\n",
    "visualization = visualize_tokens_with_values(input_ids, mab_values, tokenizer)\n",
    "display(visualization)"
   ]
  },
  {
   "cell_type": "markdown",
   "metadata": {},
   "source": []
  },
  {
   "cell_type": "markdown",
   "metadata": {},
   "source": []
  }
 ],
 "metadata": {
  "kernelspec": {
   "display_name": "transformer_explain",
   "language": "python",
   "name": "python3"
  },
  "language_info": {
   "codemirror_mode": {
    "name": "ipython",
    "version": 3
   },
   "file_extension": ".py",
   "mimetype": "text/x-python",
   "name": "python",
   "nbconvert_exporter": "python",
   "pygments_lexer": "ipython3",
   "version": "3.12.5"
  }
 },
 "nbformat": 4,
 "nbformat_minor": 2
}
