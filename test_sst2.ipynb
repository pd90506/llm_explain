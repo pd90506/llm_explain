{
 "cells": [
  {
   "cell_type": "code",
   "execution_count": 1,
   "metadata": {},
   "outputs": [],
   "source": [
    "from llmexp.llm.smollm import LLMWrapper\n",
    "from accelerate import Accelerator\n",
    "import torch\n",
    "\n",
    "# checkpoint = \"meta-llama/Meta-Llama-3-8B-Instruct\"\n",
    "checkpoint = \"meta-llama/Llama-3.2-1B-Instruct\"\n",
    "# checkpoint = \"HuggingFaceTB/SmolLM-1.7B-Instruct\"\n",
    "saved_mab_model = \"checkpoints/mab_model_100.pth\"\n",
    "\n",
    "\n",
    "accelerator = Accelerator()\n",
    "device = accelerator.device\n",
    "\n",
    "\n",
    "llm = LLMWrapper(checkpoint, device=device)\n",
    "tokenizer = llm.tokenizer"
   ]
  },
  {
   "cell_type": "code",
   "execution_count": 37,
   "metadata": {},
   "outputs": [
    {
     "name": "stderr",
     "output_type": "stream",
     "text": [
      "Setting `pad_token_id` to `eos_token_id`:128001 for open-end generation.\n"
     ]
    },
    {
     "name": "stdout",
     "output_type": "stream",
     "text": [
      "<|begin_of_text|><|begin_of_text|><|start_header_id|>system<|end_header_id|>\n",
      "\n",
      "Cutting Knowledge Date: December 2023\n",
      "Today Date: 26 Jul 2024\n",
      "\n",
      "Analyze the sentiment of the following sentence and respond with only one word: 'positive,' 'negative,' or 'neutral,' based on the overall tone and meaning of the sentence. Do not provide any additional explanation.<|eot_id|><|start_header_id|>sentence<|end_header_id|>\n",
      "\n",
      "Not a good movie!<|eot_id|><|start_header_id|>assistant<|end_header_id|>\n",
      "\n",
      "negative<|eot_id|>\n"
     ]
    }
   ],
   "source": [
    "# instruction = \"Analyze the sentiment of the following sentence. Be brief.\"\n",
    "instruction = \"Analyze the sentiment of the following sentence and respond with only one word: 'positive,' 'negative,' or 'neutral,' based on the overall tone and meaning of the sentence. Do not provide any additional explanation.\"\n",
    "# user_input = \"I am extremely disappointed with the quality; it broke after just one day.\"\n",
    "user_input = \"Not a good movie!\"\n",
    "\n",
    "content = [\n",
    "            {\"role\": \"system\", \n",
    "            \"content\": instruction\n",
    "            },\n",
    "\n",
    "            {\"role\": \"sentence\", \n",
    "            \"content\": user_input\n",
    "            }\n",
    "        ]\n",
    "template = tokenizer.apply_chat_template(content, tokenize=False, add_generation_prompt=True)\n",
    "# print(template)\n",
    "\n",
    "# The generated outputs \n",
    "gen_output = llm.generate_from_texts(template)\n",
    "print(gen_output)"
   ]
  },
  {
   "cell_type": "code",
   "execution_count": 38,
   "metadata": {},
   "outputs": [
    {
     "name": "stderr",
     "output_type": "stream",
     "text": [
      "/tmp/1104405.1.gpu/ipykernel_2118692/3922162976.py:2: FutureWarning: You are using `torch.load` with `weights_only=False` (the current default value), which uses the default pickle module implicitly. It is possible to construct malicious pickle data which will execute arbitrary code during unpickling (See https://github.com/pytorch/pytorch/blob/main/SECURITY.md#untrusted-models for more details). In a future release, the default value for `weights_only` will be flipped to `True`. This limits the functions that could be executed during unpickling. Arbitrary objects will no longer be allowed to be loaded via this mode unless they are explicitly allowlisted by the user via `torch.serialization.add_safe_globals`. We recommend you start setting `weights_only=True` for any use case where you don't have full control of the loaded file. Please open an issue on GitHub for any issues related to this experimental feature.\n",
      "  mab_model = MABModel.load_with_base_model(torch.load(saved_mab_model), llm, hidden_size=1024)\n"
     ]
    },
    {
     "name": "stdout",
     "output_type": "stream",
     "text": [
      "\n"
     ]
    }
   ],
   "source": [
    "from llmexp.explainer.mab_model import MABModel\n",
    "mab_model = MABModel.load_with_base_model(torch.load(saved_mab_model), llm, hidden_size=1024)\n",
    "mab_model.to(device)\n",
    "print()"
   ]
  },
  {
   "cell_type": "code",
   "execution_count": 39,
   "metadata": {},
   "outputs": [],
   "source": [
    "gen_inputs = tokenizer(gen_output, return_tensors=\"pt\").to(device)\n",
    "input_ids = gen_inputs['input_ids'][:, :-1]\n",
    "attention_mask = gen_inputs['attention_mask'][:, :-1]\n",
    "_, mab_values, _ = mab_model.get_dist_value(input_ids, attention_mask)\n",
    "\n"
   ]
  },
  {
   "cell_type": "code",
   "execution_count": 40,
   "metadata": {},
   "outputs": [
    {
     "name": "stdout",
     "output_type": "stream",
     "text": [
      "tensor([[ 2.5250e-03,  2.5250e-03,  2.5250e-03, -4.6434e-03, -1.2973e-03,\n",
      "         -5.6778e-03,  3.2543e-03, -2.2803e-03, -5.9467e-03, -1.2179e-02,\n",
      "         -5.6198e-03, -5.5860e-03, -4.1892e-03,  1.2905e-03, -5.8659e-03,\n",
      "         -3.2509e-03,  9.7464e-05, -6.6927e-03, -2.0763e-03, -3.4636e-03,\n",
      "         -5.7192e-03, -3.5522e-03,  2.0858e-04,  6.0480e-03,  1.7499e-03,\n",
      "          2.1555e-04,  7.8553e-04, -2.6296e-03,  1.8125e-03, -3.8865e-03,\n",
      "         -1.1446e-03,  3.5391e-04, -2.6837e-03, -3.9003e-03, -4.5659e-03,\n",
      "         -3.9548e-03,  2.5390e-03, -1.6235e-04, -2.4851e-03,  3.7894e-03,\n",
      "          9.1882e-04, -4.9345e-03,  1.8881e-03,  3.0723e-03, -4.1324e-03,\n",
      "          3.2291e-03,  9.6601e-04, -2.0874e-03,  6.8112e-04, -1.1403e-03,\n",
      "          5.6005e-04, -2.3614e-03, -5.5725e-03, -1.9717e-03, -4.7594e-03,\n",
      "          1.9095e-04, -4.1705e-03, -3.6226e-03, -5.0264e-03, -3.0790e-03,\n",
      "         -4.3435e-03, -5.7269e-04,  1.1778e-03, -2.6246e-03,  1.2559e-03,\n",
      "         -1.8135e-03,  3.7445e-05, -9.7798e-04, -8.3156e-04,  2.2301e-03,\n",
      "         -3.0864e-03, -3.4464e-03,  1.2541e-03, -4.1873e-03,  4.4659e-03,\n",
      "          3.2189e-03,  4.8683e-03, -3.0337e-03, -4.7651e-03, -1.6546e-03,\n",
      "         -6.8728e-03, -6.2594e-03, -5.1238e-03, -6.5626e-04,  5.3747e-03]],\n",
      "       device='cuda:0', grad_fn=<SqueezeBackward1>)\n",
      "torch.Size([1, 85])\n"
     ]
    }
   ],
   "source": [
    "print(mab_values)\n",
    "print(mab_values.shape)"
   ]
  },
  {
   "cell_type": "code",
   "execution_count": 41,
   "metadata": {},
   "outputs": [
    {
     "name": "stdout",
     "output_type": "stream",
     "text": [
      "tensor([[128000, 128000, 128000, 128006,   9125, 128007,    271,  38766,   1303,\n",
      "          33025,   2696,     25,   6790,    220,   2366,     18,    198,  15724,\n",
      "           2696,     25,    220,   1627,  10263,    220,   2366,     19,    271,\n",
      "           2127,  56956,    279,  27065,    315,    279,   2768,  11914,    323,\n",
      "           6013,    449,   1193,    832,   3492,     25,    364,  31587,   2965,\n",
      "            364,  43324,   2965,    477,    364,  60668,   2965,   3196,    389,\n",
      "            279,   8244,  16630,    323,   7438,    315,    279,  11914,     13,\n",
      "           3234,    539,   3493,    904,   5217,  16540,     13, 128009, 128006,\n",
      "          52989, 128007,    271,   2688,    264,   1695,   5818,      0, 128009,\n",
      "         128006,  78191, 128007,    271,  43324]], device='cuda:0')\n",
      "torch.Size([1, 86])\n"
     ]
    }
   ],
   "source": [
    "print(input_ids)\n",
    "print(input_ids.shape)"
   ]
  },
  {
   "cell_type": "code",
   "execution_count": 42,
   "metadata": {},
   "outputs": [],
   "source": [
    "def visualize_tokens_with_values(input_ids, mab_values, tokenizer):\n",
    "    # Decode tokens one by one to preserve alignment\n",
    "    tokens = []\n",
    "    for i in range(input_ids.shape[1]):\n",
    "        token = tokenizer.decode(input_ids[0, i:i+1])\n",
    "        tokens.append(token)\n",
    "    \n",
    "    # Normalize MAB values to [0,1] for color intensity first\n",
    "    normalized_values = (mab_values[0] - mab_values[0].min()) / (mab_values[0].max() - mab_values[0].min())\n",
    "    \n",
    "    # Pad normalized_values with a zero at the end\n",
    "    padded_normalized_values = torch.cat([normalized_values, torch.zeros(1, device=mab_values.device)], dim=0)\n",
    "    # Pad original mab_values with the last actual value\n",
    "    padded_mab_values = torch.cat([mab_values[0], mab_values[0][-1:]], dim=0)\n",
    "    \n",
    "    # Generate HTML with colored text and values\n",
    "    html_output = \"<div style='font-family: monospace; line-height: 2; background-color: white; padding: 10px;'>\"\n",
    "    for token, value, orig_value in zip(tokens, padded_normalized_values, padded_mab_values):\n",
    "        # Use a gradient from white to green\n",
    "        intensity = float(value)\n",
    "        green_color = int(intensity * 200)  # Control the maximum intensity\n",
    "        html_output += f'<span style=\"color: black; background-color: rgba(0, {green_color}, 0, 0.3); padding: 0.2em; margin: 0.1em; border-radius: 3px;\" title=\"MAB: {orig_value:.3f}, Norm: {value:.3f}\">{token}</span>'\n",
    "    html_output += \"</div>\"\n",
    "    \n",
    "    # Print the values\n",
    "    print(\"Token\\tNormalized Value\\tOriginal MAB Value\")\n",
    "    print(\"-\" * 50)\n",
    "    for token, value, orig_value in zip(tokens, padded_normalized_values, padded_mab_values):\n",
    "        print(f\"{token}\\t{value:.3f}\\t\\t{orig_value:.3f}\")\n",
    "    \n",
    "    from IPython.display import HTML\n",
    "    return HTML(html_output)"
   ]
  },
  {
   "cell_type": "code",
   "execution_count": 43,
   "metadata": {},
   "outputs": [
    {
     "name": "stdout",
     "output_type": "stream",
     "text": [
      "Token\tNormalized Value\tOriginal MAB Value\n",
      "--------------------------------------------------\n",
      "<|begin_of_text|>\t0.807\t\t0.003\n",
      "<|begin_of_text|>\t0.807\t\t0.003\n",
      "<|begin_of_text|>\t0.807\t\t0.003\n",
      "<|start_header_id|>\t0.413\t\t-0.005\n",
      "system\t0.597\t\t-0.001\n",
      "<|end_header_id|>\t0.357\t\t-0.006\n",
      "\n",
      "\n",
      "\t0.847\t\t0.003\n",
      "Cut\t0.543\t\t-0.002\n",
      "ting\t0.342\t\t-0.006\n",
      " Knowledge\t0.000\t\t-0.012\n",
      " Date\t0.360\t\t-0.006\n",
      ":\t0.362\t\t-0.006\n",
      " December\t0.438\t\t-0.004\n",
      " \t0.739\t\t0.001\n",
      "202\t0.346\t\t-0.006\n",
      "3\t0.490\t\t-0.003\n",
      "\n",
      "\t0.674\t\t0.000\n",
      "Today\t0.301\t\t-0.007\n",
      " Date\t0.554\t\t-0.002\n",
      ":\t0.478\t\t-0.003\n",
      " \t0.354\t\t-0.006\n",
      "26\t0.473\t\t-0.004\n",
      " Jul\t0.680\t\t0.000\n",
      " \t1.000\t\t0.006\n",
      "202\t0.764\t\t0.002\n",
      "4\t0.680\t\t0.000\n",
      "\n",
      "\n",
      "\t0.711\t\t0.001\n",
      "An\t0.524\t\t-0.003\n",
      "alyze\t0.768\t\t0.002\n",
      " the\t0.455\t\t-0.004\n",
      " sentiment\t0.605\t\t-0.001\n",
      " of\t0.688\t\t0.000\n",
      " the\t0.521\t\t-0.003\n",
      " following\t0.454\t\t-0.004\n",
      " sentence\t0.418\t\t-0.005\n",
      " and\t0.451\t\t-0.004\n",
      " respond\t0.807\t\t0.003\n",
      " with\t0.659\t\t-0.000\n",
      " only\t0.532\t\t-0.002\n",
      " one\t0.876\t\t0.004\n",
      " word\t0.719\t\t0.001\n",
      ":\t0.397\t\t-0.005\n",
      " '\t0.772\t\t0.002\n",
      "positive\t0.837\t\t0.003\n",
      ",'\t0.441\t\t-0.004\n",
      " '\t0.845\t\t0.003\n",
      "negative\t0.721\t\t0.001\n",
      ",'\t0.554\t\t-0.002\n",
      " or\t0.706\t\t0.001\n",
      " '\t0.606\t\t-0.001\n",
      "neutral\t0.699\t\t0.001\n",
      ",'\t0.539\t\t-0.002\n",
      " based\t0.362\t\t-0.006\n",
      " on\t0.560\t\t-0.002\n",
      " the\t0.407\t\t-0.005\n",
      " overall\t0.679\t\t0.000\n",
      " tone\t0.439\t\t-0.004\n",
      " and\t0.469\t\t-0.004\n",
      " meaning\t0.392\t\t-0.005\n",
      " of\t0.499\t\t-0.003\n",
      " the\t0.430\t\t-0.004\n",
      " sentence\t0.637\t\t-0.001\n",
      ".\t0.733\t\t0.001\n",
      " Do\t0.524\t\t-0.003\n",
      " not\t0.737\t\t0.001\n",
      " provide\t0.569\t\t-0.002\n",
      " any\t0.670\t\t0.000\n",
      " additional\t0.615\t\t-0.001\n",
      " explanation\t0.623\t\t-0.001\n",
      ".\t0.791\t\t0.002\n",
      "<|eot_id|>\t0.499\t\t-0.003\n",
      "<|start_header_id|>\t0.479\t\t-0.003\n",
      "sentence\t0.737\t\t0.001\n",
      "<|end_header_id|>\t0.438\t\t-0.004\n",
      "\n",
      "\n",
      "\t0.913\t\t0.004\n",
      "Not\t0.845\t\t0.003\n",
      " a\t0.935\t\t0.005\n",
      " good\t0.502\t\t-0.003\n",
      " movie\t0.407\t\t-0.005\n",
      "!\t0.577\t\t-0.002\n",
      "<|eot_id|>\t0.291\t\t-0.007\n",
      "<|start_header_id|>\t0.325\t\t-0.006\n",
      "assistant\t0.387\t\t-0.005\n",
      "<|end_header_id|>\t0.632\t\t-0.001\n",
      "\n",
      "\n",
      "\t0.963\t\t0.005\n",
      "negative\t0.000\t\t0.005\n"
     ]
    },
    {
     "data": {
      "text/html": [
       "<div style='font-family: monospace; line-height: 2; background-color: white; padding: 10px;'><span style=\"color: black; background-color: rgba(0, 161, 0, 0.3); padding: 0.2em; margin: 0.1em; border-radius: 3px;\" title=\"MAB: 0.003, Norm: 0.807\"><|begin_of_text|></span><span style=\"color: black; background-color: rgba(0, 161, 0, 0.3); padding: 0.2em; margin: 0.1em; border-radius: 3px;\" title=\"MAB: 0.003, Norm: 0.807\"><|begin_of_text|></span><span style=\"color: black; background-color: rgba(0, 161, 0, 0.3); padding: 0.2em; margin: 0.1em; border-radius: 3px;\" title=\"MAB: 0.003, Norm: 0.807\"><|begin_of_text|></span><span style=\"color: black; background-color: rgba(0, 82, 0, 0.3); padding: 0.2em; margin: 0.1em; border-radius: 3px;\" title=\"MAB: -0.005, Norm: 0.413\"><|start_header_id|></span><span style=\"color: black; background-color: rgba(0, 119, 0, 0.3); padding: 0.2em; margin: 0.1em; border-radius: 3px;\" title=\"MAB: -0.001, Norm: 0.597\">system</span><span style=\"color: black; background-color: rgba(0, 71, 0, 0.3); padding: 0.2em; margin: 0.1em; border-radius: 3px;\" title=\"MAB: -0.006, Norm: 0.357\"><|end_header_id|></span><span style=\"color: black; background-color: rgba(0, 169, 0, 0.3); padding: 0.2em; margin: 0.1em; border-radius: 3px;\" title=\"MAB: 0.003, Norm: 0.847\">\n",
       "\n",
       "</span><span style=\"color: black; background-color: rgba(0, 108, 0, 0.3); padding: 0.2em; margin: 0.1em; border-radius: 3px;\" title=\"MAB: -0.002, Norm: 0.543\">Cut</span><span style=\"color: black; background-color: rgba(0, 68, 0, 0.3); padding: 0.2em; margin: 0.1em; border-radius: 3px;\" title=\"MAB: -0.006, Norm: 0.342\">ting</span><span style=\"color: black; background-color: rgba(0, 0, 0, 0.3); padding: 0.2em; margin: 0.1em; border-radius: 3px;\" title=\"MAB: -0.012, Norm: 0.000\"> Knowledge</span><span style=\"color: black; background-color: rgba(0, 71, 0, 0.3); padding: 0.2em; margin: 0.1em; border-radius: 3px;\" title=\"MAB: -0.006, Norm: 0.360\"> Date</span><span style=\"color: black; background-color: rgba(0, 72, 0, 0.3); padding: 0.2em; margin: 0.1em; border-radius: 3px;\" title=\"MAB: -0.006, Norm: 0.362\">:</span><span style=\"color: black; background-color: rgba(0, 87, 0, 0.3); padding: 0.2em; margin: 0.1em; border-radius: 3px;\" title=\"MAB: -0.004, Norm: 0.438\"> December</span><span style=\"color: black; background-color: rgba(0, 147, 0, 0.3); padding: 0.2em; margin: 0.1em; border-radius: 3px;\" title=\"MAB: 0.001, Norm: 0.739\"> </span><span style=\"color: black; background-color: rgba(0, 69, 0, 0.3); padding: 0.2em; margin: 0.1em; border-radius: 3px;\" title=\"MAB: -0.006, Norm: 0.346\">202</span><span style=\"color: black; background-color: rgba(0, 97, 0, 0.3); padding: 0.2em; margin: 0.1em; border-radius: 3px;\" title=\"MAB: -0.003, Norm: 0.490\">3</span><span style=\"color: black; background-color: rgba(0, 134, 0, 0.3); padding: 0.2em; margin: 0.1em; border-radius: 3px;\" title=\"MAB: 0.000, Norm: 0.674\">\n",
       "</span><span style=\"color: black; background-color: rgba(0, 60, 0, 0.3); padding: 0.2em; margin: 0.1em; border-radius: 3px;\" title=\"MAB: -0.007, Norm: 0.301\">Today</span><span style=\"color: black; background-color: rgba(0, 110, 0, 0.3); padding: 0.2em; margin: 0.1em; border-radius: 3px;\" title=\"MAB: -0.002, Norm: 0.554\"> Date</span><span style=\"color: black; background-color: rgba(0, 95, 0, 0.3); padding: 0.2em; margin: 0.1em; border-radius: 3px;\" title=\"MAB: -0.003, Norm: 0.478\">:</span><span style=\"color: black; background-color: rgba(0, 70, 0, 0.3); padding: 0.2em; margin: 0.1em; border-radius: 3px;\" title=\"MAB: -0.006, Norm: 0.354\"> </span><span style=\"color: black; background-color: rgba(0, 94, 0, 0.3); padding: 0.2em; margin: 0.1em; border-radius: 3px;\" title=\"MAB: -0.004, Norm: 0.473\">26</span><span style=\"color: black; background-color: rgba(0, 135, 0, 0.3); padding: 0.2em; margin: 0.1em; border-radius: 3px;\" title=\"MAB: 0.000, Norm: 0.680\"> Jul</span><span style=\"color: black; background-color: rgba(0, 200, 0, 0.3); padding: 0.2em; margin: 0.1em; border-radius: 3px;\" title=\"MAB: 0.006, Norm: 1.000\"> </span><span style=\"color: black; background-color: rgba(0, 152, 0, 0.3); padding: 0.2em; margin: 0.1em; border-radius: 3px;\" title=\"MAB: 0.002, Norm: 0.764\">202</span><span style=\"color: black; background-color: rgba(0, 136, 0, 0.3); padding: 0.2em; margin: 0.1em; border-radius: 3px;\" title=\"MAB: 0.000, Norm: 0.680\">4</span><span style=\"color: black; background-color: rgba(0, 142, 0, 0.3); padding: 0.2em; margin: 0.1em; border-radius: 3px;\" title=\"MAB: 0.001, Norm: 0.711\">\n",
       "\n",
       "</span><span style=\"color: black; background-color: rgba(0, 104, 0, 0.3); padding: 0.2em; margin: 0.1em; border-radius: 3px;\" title=\"MAB: -0.003, Norm: 0.524\">An</span><span style=\"color: black; background-color: rgba(0, 153, 0, 0.3); padding: 0.2em; margin: 0.1em; border-radius: 3px;\" title=\"MAB: 0.002, Norm: 0.768\">alyze</span><span style=\"color: black; background-color: rgba(0, 90, 0, 0.3); padding: 0.2em; margin: 0.1em; border-radius: 3px;\" title=\"MAB: -0.004, Norm: 0.455\"> the</span><span style=\"color: black; background-color: rgba(0, 121, 0, 0.3); padding: 0.2em; margin: 0.1em; border-radius: 3px;\" title=\"MAB: -0.001, Norm: 0.605\"> sentiment</span><span style=\"color: black; background-color: rgba(0, 137, 0, 0.3); padding: 0.2em; margin: 0.1em; border-radius: 3px;\" title=\"MAB: 0.000, Norm: 0.688\"> of</span><span style=\"color: black; background-color: rgba(0, 104, 0, 0.3); padding: 0.2em; margin: 0.1em; border-radius: 3px;\" title=\"MAB: -0.003, Norm: 0.521\"> the</span><span style=\"color: black; background-color: rgba(0, 90, 0, 0.3); padding: 0.2em; margin: 0.1em; border-radius: 3px;\" title=\"MAB: -0.004, Norm: 0.454\"> following</span><span style=\"color: black; background-color: rgba(0, 83, 0, 0.3); padding: 0.2em; margin: 0.1em; border-radius: 3px;\" title=\"MAB: -0.005, Norm: 0.418\"> sentence</span><span style=\"color: black; background-color: rgba(0, 90, 0, 0.3); padding: 0.2em; margin: 0.1em; border-radius: 3px;\" title=\"MAB: -0.004, Norm: 0.451\"> and</span><span style=\"color: black; background-color: rgba(0, 161, 0, 0.3); padding: 0.2em; margin: 0.1em; border-radius: 3px;\" title=\"MAB: 0.003, Norm: 0.807\"> respond</span><span style=\"color: black; background-color: rgba(0, 131, 0, 0.3); padding: 0.2em; margin: 0.1em; border-radius: 3px;\" title=\"MAB: -0.000, Norm: 0.659\"> with</span><span style=\"color: black; background-color: rgba(0, 106, 0, 0.3); padding: 0.2em; margin: 0.1em; border-radius: 3px;\" title=\"MAB: -0.002, Norm: 0.532\"> only</span><span style=\"color: black; background-color: rgba(0, 175, 0, 0.3); padding: 0.2em; margin: 0.1em; border-radius: 3px;\" title=\"MAB: 0.004, Norm: 0.876\"> one</span><span style=\"color: black; background-color: rgba(0, 143, 0, 0.3); padding: 0.2em; margin: 0.1em; border-radius: 3px;\" title=\"MAB: 0.001, Norm: 0.719\"> word</span><span style=\"color: black; background-color: rgba(0, 79, 0, 0.3); padding: 0.2em; margin: 0.1em; border-radius: 3px;\" title=\"MAB: -0.005, Norm: 0.397\">:</span><span style=\"color: black; background-color: rgba(0, 154, 0, 0.3); padding: 0.2em; margin: 0.1em; border-radius: 3px;\" title=\"MAB: 0.002, Norm: 0.772\"> '</span><span style=\"color: black; background-color: rgba(0, 167, 0, 0.3); padding: 0.2em; margin: 0.1em; border-radius: 3px;\" title=\"MAB: 0.003, Norm: 0.837\">positive</span><span style=\"color: black; background-color: rgba(0, 88, 0, 0.3); padding: 0.2em; margin: 0.1em; border-radius: 3px;\" title=\"MAB: -0.004, Norm: 0.441\">,'</span><span style=\"color: black; background-color: rgba(0, 169, 0, 0.3); padding: 0.2em; margin: 0.1em; border-radius: 3px;\" title=\"MAB: 0.003, Norm: 0.845\"> '</span><span style=\"color: black; background-color: rgba(0, 144, 0, 0.3); padding: 0.2em; margin: 0.1em; border-radius: 3px;\" title=\"MAB: 0.001, Norm: 0.721\">negative</span><span style=\"color: black; background-color: rgba(0, 110, 0, 0.3); padding: 0.2em; margin: 0.1em; border-radius: 3px;\" title=\"MAB: -0.002, Norm: 0.554\">,'</span><span style=\"color: black; background-color: rgba(0, 141, 0, 0.3); padding: 0.2em; margin: 0.1em; border-radius: 3px;\" title=\"MAB: 0.001, Norm: 0.706\"> or</span><span style=\"color: black; background-color: rgba(0, 121, 0, 0.3); padding: 0.2em; margin: 0.1em; border-radius: 3px;\" title=\"MAB: -0.001, Norm: 0.606\"> '</span><span style=\"color: black; background-color: rgba(0, 139, 0, 0.3); padding: 0.2em; margin: 0.1em; border-radius: 3px;\" title=\"MAB: 0.001, Norm: 0.699\">neutral</span><span style=\"color: black; background-color: rgba(0, 107, 0, 0.3); padding: 0.2em; margin: 0.1em; border-radius: 3px;\" title=\"MAB: -0.002, Norm: 0.539\">,'</span><span style=\"color: black; background-color: rgba(0, 72, 0, 0.3); padding: 0.2em; margin: 0.1em; border-radius: 3px;\" title=\"MAB: -0.006, Norm: 0.362\"> based</span><span style=\"color: black; background-color: rgba(0, 112, 0, 0.3); padding: 0.2em; margin: 0.1em; border-radius: 3px;\" title=\"MAB: -0.002, Norm: 0.560\"> on</span><span style=\"color: black; background-color: rgba(0, 81, 0, 0.3); padding: 0.2em; margin: 0.1em; border-radius: 3px;\" title=\"MAB: -0.005, Norm: 0.407\"> the</span><span style=\"color: black; background-color: rgba(0, 135, 0, 0.3); padding: 0.2em; margin: 0.1em; border-radius: 3px;\" title=\"MAB: 0.000, Norm: 0.679\"> overall</span><span style=\"color: black; background-color: rgba(0, 87, 0, 0.3); padding: 0.2em; margin: 0.1em; border-radius: 3px;\" title=\"MAB: -0.004, Norm: 0.439\"> tone</span><span style=\"color: black; background-color: rgba(0, 93, 0, 0.3); padding: 0.2em; margin: 0.1em; border-radius: 3px;\" title=\"MAB: -0.004, Norm: 0.469\"> and</span><span style=\"color: black; background-color: rgba(0, 78, 0, 0.3); padding: 0.2em; margin: 0.1em; border-radius: 3px;\" title=\"MAB: -0.005, Norm: 0.392\"> meaning</span><span style=\"color: black; background-color: rgba(0, 99, 0, 0.3); padding: 0.2em; margin: 0.1em; border-radius: 3px;\" title=\"MAB: -0.003, Norm: 0.499\"> of</span><span style=\"color: black; background-color: rgba(0, 85, 0, 0.3); padding: 0.2em; margin: 0.1em; border-radius: 3px;\" title=\"MAB: -0.004, Norm: 0.430\"> the</span><span style=\"color: black; background-color: rgba(0, 127, 0, 0.3); padding: 0.2em; margin: 0.1em; border-radius: 3px;\" title=\"MAB: -0.001, Norm: 0.637\"> sentence</span><span style=\"color: black; background-color: rgba(0, 146, 0, 0.3); padding: 0.2em; margin: 0.1em; border-radius: 3px;\" title=\"MAB: 0.001, Norm: 0.733\">.</span><span style=\"color: black; background-color: rgba(0, 104, 0, 0.3); padding: 0.2em; margin: 0.1em; border-radius: 3px;\" title=\"MAB: -0.003, Norm: 0.524\"> Do</span><span style=\"color: black; background-color: rgba(0, 147, 0, 0.3); padding: 0.2em; margin: 0.1em; border-radius: 3px;\" title=\"MAB: 0.001, Norm: 0.737\"> not</span><span style=\"color: black; background-color: rgba(0, 113, 0, 0.3); padding: 0.2em; margin: 0.1em; border-radius: 3px;\" title=\"MAB: -0.002, Norm: 0.569\"> provide</span><span style=\"color: black; background-color: rgba(0, 134, 0, 0.3); padding: 0.2em; margin: 0.1em; border-radius: 3px;\" title=\"MAB: 0.000, Norm: 0.670\"> any</span><span style=\"color: black; background-color: rgba(0, 122, 0, 0.3); padding: 0.2em; margin: 0.1em; border-radius: 3px;\" title=\"MAB: -0.001, Norm: 0.615\"> additional</span><span style=\"color: black; background-color: rgba(0, 124, 0, 0.3); padding: 0.2em; margin: 0.1em; border-radius: 3px;\" title=\"MAB: -0.001, Norm: 0.623\"> explanation</span><span style=\"color: black; background-color: rgba(0, 158, 0, 0.3); padding: 0.2em; margin: 0.1em; border-radius: 3px;\" title=\"MAB: 0.002, Norm: 0.791\">.</span><span style=\"color: black; background-color: rgba(0, 99, 0, 0.3); padding: 0.2em; margin: 0.1em; border-radius: 3px;\" title=\"MAB: -0.003, Norm: 0.499\"><|eot_id|></span><span style=\"color: black; background-color: rgba(0, 95, 0, 0.3); padding: 0.2em; margin: 0.1em; border-radius: 3px;\" title=\"MAB: -0.003, Norm: 0.479\"><|start_header_id|></span><span style=\"color: black; background-color: rgba(0, 147, 0, 0.3); padding: 0.2em; margin: 0.1em; border-radius: 3px;\" title=\"MAB: 0.001, Norm: 0.737\">sentence</span><span style=\"color: black; background-color: rgba(0, 87, 0, 0.3); padding: 0.2em; margin: 0.1em; border-radius: 3px;\" title=\"MAB: -0.004, Norm: 0.438\"><|end_header_id|></span><span style=\"color: black; background-color: rgba(0, 182, 0, 0.3); padding: 0.2em; margin: 0.1em; border-radius: 3px;\" title=\"MAB: 0.004, Norm: 0.913\">\n",
       "\n",
       "</span><span style=\"color: black; background-color: rgba(0, 168, 0, 0.3); padding: 0.2em; margin: 0.1em; border-radius: 3px;\" title=\"MAB: 0.003, Norm: 0.845\">Not</span><span style=\"color: black; background-color: rgba(0, 187, 0, 0.3); padding: 0.2em; margin: 0.1em; border-radius: 3px;\" title=\"MAB: 0.005, Norm: 0.935\"> a</span><span style=\"color: black; background-color: rgba(0, 100, 0, 0.3); padding: 0.2em; margin: 0.1em; border-radius: 3px;\" title=\"MAB: -0.003, Norm: 0.502\"> good</span><span style=\"color: black; background-color: rgba(0, 81, 0, 0.3); padding: 0.2em; margin: 0.1em; border-radius: 3px;\" title=\"MAB: -0.005, Norm: 0.407\"> movie</span><span style=\"color: black; background-color: rgba(0, 115, 0, 0.3); padding: 0.2em; margin: 0.1em; border-radius: 3px;\" title=\"MAB: -0.002, Norm: 0.577\">!</span><span style=\"color: black; background-color: rgba(0, 58, 0, 0.3); padding: 0.2em; margin: 0.1em; border-radius: 3px;\" title=\"MAB: -0.007, Norm: 0.291\"><|eot_id|></span><span style=\"color: black; background-color: rgba(0, 64, 0, 0.3); padding: 0.2em; margin: 0.1em; border-radius: 3px;\" title=\"MAB: -0.006, Norm: 0.325\"><|start_header_id|></span><span style=\"color: black; background-color: rgba(0, 77, 0, 0.3); padding: 0.2em; margin: 0.1em; border-radius: 3px;\" title=\"MAB: -0.005, Norm: 0.387\">assistant</span><span style=\"color: black; background-color: rgba(0, 126, 0, 0.3); padding: 0.2em; margin: 0.1em; border-radius: 3px;\" title=\"MAB: -0.001, Norm: 0.632\"><|end_header_id|></span><span style=\"color: black; background-color: rgba(0, 192, 0, 0.3); padding: 0.2em; margin: 0.1em; border-radius: 3px;\" title=\"MAB: 0.005, Norm: 0.963\">\n",
       "\n",
       "</span><span style=\"color: black; background-color: rgba(0, 0, 0, 0.3); padding: 0.2em; margin: 0.1em; border-radius: 3px;\" title=\"MAB: 0.005, Norm: 0.000\">negative</span></div>"
      ],
      "text/plain": [
       "<IPython.core.display.HTML object>"
      ]
     },
     "metadata": {},
     "output_type": "display_data"
    }
   ],
   "source": [
    "# Usage:\n",
    "visualization = visualize_tokens_with_values(input_ids, mab_values, tokenizer)\n",
    "display(visualization)"
   ]
  },
  {
   "cell_type": "markdown",
   "metadata": {},
   "source": []
  },
  {
   "cell_type": "markdown",
   "metadata": {},
   "source": []
  }
 ],
 "metadata": {
  "kernelspec": {
   "display_name": "transformer_explain",
   "language": "python",
   "name": "python3"
  },
  "language_info": {
   "codemirror_mode": {
    "name": "ipython",
    "version": 3
   },
   "file_extension": ".py",
   "mimetype": "text/x-python",
   "name": "python",
   "nbconvert_exporter": "python",
   "pygments_lexer": "ipython3",
   "version": "3.12.5"
  }
 },
 "nbformat": 4,
 "nbformat_minor": 2
}
