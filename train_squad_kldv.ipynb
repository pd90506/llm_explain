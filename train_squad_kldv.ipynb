{
 "cells": [
  {
   "cell_type": "code",
   "execution_count": 1,
   "metadata": {},
   "outputs": [],
   "source": [
    "# Configuring environment parameters\n",
    "import os\n",
    "import json \n",
    "import logging\n",
    "\n",
    "logging.basicConfig(\n",
    "    filename='log/app.log',            # Specify the log file name\n",
    "    level=logging.DEBUG,           # Set the log level (DEBUG, INFO, WARNING, ERROR, CRITICAL)\n",
    "    format='%(asctime)s - %(levelname)s - %(message)s'  # Set the log format\n",
    ")\n",
    "\n",
    "# Load the environment configuration JSON data\n",
    "json_path = 'env_config.json'\n",
    "with open(json_path, 'r') as file:\n",
    "    env_config = json.load(file)\n",
    "\n",
    "hf_home = env_config['HF_HOME']\n",
    "# Set the HF_HOME environment variable\n",
    "os.environ['HF_HOME'] = hf_home\n",
    "# Set the access token to huggingface hub\n",
    "access_token = env_config['access_token']\n",
    "os.environ['HUGGINGFACE_HUB_TOKEN'] = access_token"
   ]
  },
  {
   "cell_type": "code",
   "execution_count": 2,
   "metadata": {},
   "outputs": [],
   "source": [
    "# Loading necessary packages\n",
    "import transformers \n",
    "import torch\n",
    "\n",
    "from accelerate import Accelerator\n",
    "from transformers import AutoTokenizer, AutoModelForCausalLM, AutoModel, LlamaForTokenClassification #, LlamaRotaryEmbedding\n",
    "# from transformers import LlamaTokenizerFast\n",
    "import torch.nn.functional as F\n",
    "\n",
    "from llmexp.helper import DataHelper\n",
    "from datasets import load_dataset\n",
    "from torch.utils.data import DataLoader\n",
    "\n",
    "# TODO 注意load正确的模型\n",
    "from llmexp.squad_model_kldiv import MaskGeneratingModelForSQUAD\n",
    "from tqdm import tqdm"
   ]
  },
  {
   "cell_type": "code",
   "execution_count": 3,
   "metadata": {},
   "outputs": [],
   "source": [
    "# Load datasets\n",
    "model_id = \"meta-llama/Meta-Llama-3-8B-Instruct\"\n",
    "tokenizer = AutoTokenizer.from_pretrained(model_id, token=access_token, padding_side='left')\n",
    "tokenizer.pad_token = tokenizer.eos_token\n",
    "\n",
    "# ds = load_dataset(\"imdb\")\n",
    "ds = load_dataset(\"rajpurkar/squad\")\n",
    "# ds = load_dataset(\"stanfordnlp/sst2\")\n",
    "train_ds = ds['train']\n",
    "# test_ds = ds['test']\n",
    "test_ds = ds['validation']\n",
    "\n",
    "llm_exp_helper = DataHelper(tokenizer)\n",
    "# collate_fn = llm_exp_helper.get_collate_fun('imdb')\n",
    "# collate_fn = llm_exp_helper.get_collate_fun('sst2')\n",
    "collate_fn = llm_exp_helper.get_collate_fun('squad')\n",
    "\n",
    "# Define batch size here!\n",
    "batch_size = 16\n",
    "train_dataloader = DataLoader(train_ds, batch_size=batch_size, collate_fn=collate_fn, shuffle=True)\n",
    "test_dataloader = DataLoader(train_ds, batch_size=batch_size, collate_fn=collate_fn, shuffle=False)"
   ]
  },
  {
   "cell_type": "code",
   "execution_count": 4,
   "metadata": {},
   "outputs": [
    {
     "data": {
      "application/vnd.jupyter.widget-view+json": {
       "model_id": "53237800197d4c8b91b371cd1573a708",
       "version_major": 2,
       "version_minor": 0
      },
      "text/plain": [
       "Loading checkpoint shards:   0%|          | 0/4 [00:00<?, ?it/s]"
      ]
     },
     "metadata": {},
     "output_type": "display_data"
    }
   ],
   "source": [
    "# Configure and load model\n",
    "accelerator = Accelerator()\n",
    "device = accelerator.device\n",
    "# device = torch.device(\"cuda:1\" if torch.cuda.is_available() else \"cpu\")\n",
    "\n",
    "model_id = \"meta-llama/Meta-Llama-3-8B-Instruct\"\n",
    "# model_id = \"meta-llama/Meta-Llama-3-8B\"  # non-instruct version\n",
    "\n",
    "model = AutoModelForCausalLM.from_pretrained(\n",
    "    model_id,\n",
    "    torch_dtype=torch.bfloat16,\n",
    "    # device_map=\"auto\",\n",
    "    device_map=device,\n",
    "    token=access_token,\n",
    ")\n",
    "\n",
    "config = model.config"
   ]
  },
  {
   "cell_type": "code",
   "execution_count": 5,
   "metadata": {},
   "outputs": [
    {
     "name": "stderr",
     "output_type": "stream",
     "text": [
      "`LlamaRotaryEmbedding` can now be fully parameterized by passing the model config through the `config` argument. All other arguments will be removed in v4.45\n"
     ]
    }
   ],
   "source": [
    "# Configure mask model and  Training parameters\n",
    "mask_gen_model = MaskGeneratingModelForSQUAD()\n",
    "mask_gen_model.to(device)\n",
    "\n",
    "# Set pad_token_id if it is not set\n",
    "if tokenizer.pad_token_id is None:\n",
    "    tokenizer.pad_token_id = tokenizer.eos_token_id\n",
    "\n",
    "terminators = [\n",
    "    tokenizer.eos_token_id,\n",
    "    tokenizer.convert_tokens_to_ids(\"<|eot_id|>\")\n",
    "]\n",
    "\n",
    "optimizer = torch.optim.Adam(mask_gen_model.parameters(), lr=1e-5)"
   ]
  },
  {
   "cell_type": "code",
   "execution_count": 6,
   "metadata": {},
   "outputs": [
    {
     "data": {
      "text/plain": [
       "{'input_ids': tensor([[128009, 128009, 128009,  ...,  78191, 128007,    271],\n",
       "        [128009, 128009, 128009,  ...,  78191, 128007,    271],\n",
       "        [128009, 128009, 128009,  ...,  78191, 128007,    271],\n",
       "        ...,\n",
       "        [128000, 128006,   9125,  ...,  78191, 128007,    271],\n",
       "        [128009, 128009, 128009,  ...,  78191, 128007,    271],\n",
       "        [128009, 128009, 128009,  ...,  78191, 128007,    271]]), 'attention_mask': tensor([[0, 0, 0,  ..., 1, 1, 1],\n",
       "        [0, 0, 0,  ..., 1, 1, 1],\n",
       "        [0, 0, 0,  ..., 1, 1, 1],\n",
       "        ...,\n",
       "        [1, 1, 1,  ..., 1, 1, 1],\n",
       "        [0, 0, 0,  ..., 1, 1, 1],\n",
       "        [0, 0, 0,  ..., 1, 1, 1]]), 'context_mask': tensor([[0, 0, 0,  ..., 0, 0, 0],\n",
       "        [0, 0, 0,  ..., 0, 0, 0],\n",
       "        [0, 0, 0,  ..., 0, 0, 0],\n",
       "        ...,\n",
       "        [0, 0, 0,  ..., 0, 0, 0],\n",
       "        [0, 0, 0,  ..., 0, 0, 0],\n",
       "        [0, 0, 0,  ..., 0, 0, 0]])}"
      ]
     },
     "execution_count": 6,
     "metadata": {},
     "output_type": "execute_result"
    }
   ],
   "source": [
    "next(iter(train_dataloader))"
   ]
  },
  {
   "cell_type": "code",
   "execution_count": 7,
   "metadata": {},
   "outputs": [
    {
     "name": "stderr",
     "output_type": "stream",
     "text": [
      "  0%|          | 0/5475 [00:00<?, ?it/s]We detected that you are passing `past_key_values` as a tuple and this is deprecated and will be removed in v4.43. Please use an appropriate `Cache` class (https://huggingface.co/docs/transformers/v4.41.3/en/internal/generation_utils#transformers.Cache)\n"
     ]
    },
    {
     "name": "stdout",
     "output_type": "stream",
     "text": [
      "reward_raw: tensor(0.3701, device='cuda:0') reward: tensor(0.8881, device='cuda:0') factor: tensor(0.4820, device='cuda:0')\n",
      "reward_raw: tensor(0.3952, device='cuda:0') reward: tensor(0.9064, device='cuda:0') factor: tensor(0.4887, device='cuda:0')\n",
      "reward_raw: tensor(0.4190, device='cuda:0') reward: tensor(0.9233, device='cuda:0') factor: tensor(0.4957, device='cuda:0')\n",
      "reward_raw: tensor(0.3960, device='cuda:0') reward: tensor(0.8977, device='cuda:0') factor: tensor(0.4983, device='cuda:0')\n",
      "reward_raw: tensor(0.4626, device='cuda:0') reward: tensor(0.9698, device='cuda:0') factor: tensor(0.4927, device='cuda:0')\n"
     ]
    },
    {
     "name": "stderr",
     "output_type": "stream",
     "text": [
      "Epoch 1, Step 1: Loss = -0.6529, Actor Loss = -0.9342, Critic Loss = 0.5639, Entropy = 0.6903, Returns = 0.8870, Value = 1.4696, mask_loss = 0.4710std_loss = 0.0217:   0%|          | 1/5475 [00:16<24:59:24, 16.43s/it]"
     ]
    },
    {
     "name": "stdout",
     "output_type": "stream",
     "text": [
      "ratio tensor(1.1233, device='cuda:0', grad_fn=<MeanBackward0>)\n",
      "\n",
      "reward_raw: tensor(0.4179, device='cuda:0') reward: tensor(0.9443, device='cuda:0') factor: tensor(0.4736, device='cuda:0')\n",
      "reward_raw: tensor(0.4537, device='cuda:0') reward: tensor(0.9695, device='cuda:0') factor: tensor(0.4842, device='cuda:0')\n",
      "reward_raw: tensor(0.4071, device='cuda:0') reward: tensor(0.9101, device='cuda:0') factor: tensor(0.4971, device='cuda:0')\n",
      "reward_raw: tensor(0.4178, device='cuda:0') reward: tensor(0.9572, device='cuda:0') factor: tensor(0.4606, device='cuda:0')\n",
      "reward_raw: tensor(0.4430, device='cuda:0') reward: tensor(0.9687, device='cuda:0') factor: tensor(0.4743, device='cuda:0')\n"
     ]
    },
    {
     "name": "stderr",
     "output_type": "stream",
     "text": [
      "Epoch 1, Step 2: Loss = 0.5799, Actor Loss = 0.1197, Critic Loss = 0.9217, Entropy = 0.6907, Returns = 1.0257, Value = 1.0775, mask_loss = 0.4782std_loss = 0.0243:   0%|          | 2/5475 [00:35<27:15:02, 17.92s/it]  "
     ]
    },
    {
     "name": "stdout",
     "output_type": "stream",
     "text": [
      "ratio tensor(6.3180, device='cuda:0', grad_fn=<MeanBackward0>)\n",
      "reward_raw: tensor(0.3720, device='cuda:0') reward: tensor(0.9155, device='cuda:0') factor: tensor(0.4566, device='cuda:0')\n",
      "reward_raw: tensor(0.3835, device='cuda:0') reward: tensor(0.9193, device='cuda:0') factor: tensor(0.4642, device='cuda:0')\n",
      "reward_raw: tensor(0.3897, device='cuda:0') reward: tensor(0.9084, device='cuda:0') factor: tensor(0.4813, device='cuda:0')\n",
      "reward_raw: tensor(0.4191, device='cuda:0') reward: tensor(0.9555, device='cuda:0') factor: tensor(0.4635, device='cuda:0')\n",
      "reward_raw: tensor(0.3771, device='cuda:0') reward: tensor(0.9008, device='cuda:0') factor: tensor(0.4764, device='cuda:0')\n"
     ]
    },
    {
     "name": "stderr",
     "output_type": "stream",
     "text": [
      "Epoch 1, Step 3: Loss = 0.4389, Actor Loss = 0.0595, Critic Loss = 0.7602, Entropy = 0.6845, Returns = 0.8629, Value = 1.2174, mask_loss = 0.4400std_loss = 0.0260:   0%|          | 3/5475 [00:51<25:39:59, 16.89s/it]"
     ]
    },
    {
     "name": "stdout",
     "output_type": "stream",
     "text": [
      "ratio tensor(0.7386, device='cuda:0', grad_fn=<MeanBackward0>)\n",
      "reward_raw: tensor(0.3537, device='cuda:0') reward: tensor(0.8954, device='cuda:0') factor: tensor(0.4583, device='cuda:0')\n",
      "reward_raw: tensor(0.3006, device='cuda:0') reward: tensor(0.8740, device='cuda:0') factor: tensor(0.4266, device='cuda:0')\n",
      "reward_raw: tensor(0.3643, device='cuda:0') reward: tensor(0.9077, device='cuda:0') factor: tensor(0.4567, device='cuda:0')\n",
      "reward_raw: tensor(0.3182, device='cuda:0') reward: tensor(0.8917, device='cuda:0') factor: tensor(0.4265, device='cuda:0')\n",
      "reward_raw: tensor(0.3507, device='cuda:0') reward: tensor(0.9028, device='cuda:0') factor: tensor(0.4479, device='cuda:0')\n"
     ]
    },
    {
     "name": "stderr",
     "output_type": "stream",
     "text": [
      "Epoch 1, Step 4: Loss = 0.0734, Actor Loss = -0.0875, Critic Loss = 0.3231, Entropy = 0.6792, Returns = 0.9199, Value = 0.5854, mask_loss = 0.4227std_loss = 0.0245:   0%|          | 4/5475 [01:09<26:23:12, 17.36s/it]"
     ]
    },
    {
     "name": "stdout",
     "output_type": "stream",
     "text": [
      "ratio tensor(1.8308, device='cuda:0', grad_fn=<MeanBackward0>)\n",
      "reward_raw: tensor(0.3175, device='cuda:0') reward: tensor(0.8837, device='cuda:0') factor: tensor(0.4339, device='cuda:0')\n",
      "reward_raw: tensor(0.2587, device='cuda:0') reward: tensor(0.8251, device='cuda:0') factor: tensor(0.4336, device='cuda:0')\n",
      "reward_raw: tensor(0.3091, device='cuda:0') reward: tensor(0.8728, device='cuda:0') factor: tensor(0.4363, device='cuda:0')\n",
      "reward_raw: tensor(0.3554, device='cuda:0') reward: tensor(0.9162, device='cuda:0') factor: tensor(0.4392, device='cuda:0')\n",
      "reward_raw: tensor(0.3407, device='cuda:0') reward: tensor(0.8880, device='cuda:0') factor: tensor(0.4527, device='cuda:0')\n"
     ]
    },
    {
     "name": "stderr",
     "output_type": "stream",
     "text": [
      "Epoch 1, Step 5: Loss = 0.0785, Actor Loss = -0.0752, Critic Loss = 0.3089, Entropy = 0.6836, Returns = 0.8178, Value = 1.0522, mask_loss = 0.4386std_loss = 0.0263:   0%|          | 5/5475 [01:22<24:18:08, 15.99s/it]"
     ]
    },
    {
     "name": "stdout",
     "output_type": "stream",
     "text": [
      "ratio tensor(1.3045, device='cuda:0', grad_fn=<MeanBackward0>)\n",
      "reward_raw: tensor(0.3822, device='cuda:0') reward: tensor(0.9356, device='cuda:0') factor: tensor(0.4466, device='cuda:0')\n",
      "reward_raw: tensor(0.3987, device='cuda:0') reward: tensor(0.9454, device='cuda:0') factor: tensor(0.4533, device='cuda:0')\n",
      "reward_raw: tensor(0.3731, device='cuda:0') reward: tensor(0.9243, device='cuda:0') factor: tensor(0.4488, device='cuda:0')\n",
      "reward_raw: tensor(0.4141, device='cuda:0') reward: tensor(0.9635, device='cuda:0') factor: tensor(0.4506, device='cuda:0')\n",
      "reward_raw: tensor(0.3012, device='cuda:0') reward: tensor(0.8568, device='cuda:0') factor: tensor(0.4444, device='cuda:0')\n"
     ]
    },
    {
     "name": "stderr",
     "output_type": "stream",
     "text": [
      "Epoch 1, Step 6: Loss = 0.4289, Actor Loss = 0.1804, Critic Loss = 0.4985, Entropy = 0.6819, Returns = 0.9864, Value = 0.6035, mask_loss = 0.4364std_loss = 0.0299:   0%|          | 6/5475 [01:43<26:50:38, 17.67s/it] "
     ]
    },
    {
     "name": "stdout",
     "output_type": "stream",
     "text": [
      "ratio tensor(1.1921, device='cuda:0', grad_fn=<MeanBackward0>)\n",
      "reward_raw: tensor(0.3723, device='cuda:0') reward: tensor(0.9211, device='cuda:0') factor: tensor(0.4512, device='cuda:0')\n",
      "reward_raw: tensor(0.3155, device='cuda:0') reward: tensor(0.8837, device='cuda:0') factor: tensor(0.4318, device='cuda:0')\n",
      "reward_raw: tensor(0.3927, device='cuda:0') reward: tensor(0.9635, device='cuda:0') factor: tensor(0.4292, device='cuda:0')\n",
      "reward_raw: tensor(0.3049, device='cuda:0') reward: tensor(0.8886, device='cuda:0') factor: tensor(0.4163, device='cuda:0')\n",
      "reward_raw: tensor(0.3579, device='cuda:0') reward: tensor(0.9044, device='cuda:0') factor: tensor(0.4535, device='cuda:0')\n"
     ]
    },
    {
     "name": "stderr",
     "output_type": "stream",
     "text": [
      "Epoch 1, Step 7: Loss = -0.3245, Actor Loss = -0.4728, Critic Loss = 0.2979, Entropy = 0.6811, Returns = 0.8409, Value = 1.2305, mask_loss = 0.4372std_loss = 0.0354:   0%|          | 7/5475 [01:57<25:00:07, 16.46s/it]"
     ]
    },
    {
     "name": "stdout",
     "output_type": "stream",
     "text": [
      "ratio tensor(1.9151, device='cuda:0', grad_fn=<MeanBackward0>)\n",
      "reward_raw: tensor(0.3859, device='cuda:0') reward: tensor(0.9438, device='cuda:0') factor: tensor(0.4420, device='cuda:0')\n",
      "reward_raw: tensor(0.3465, device='cuda:0') reward: tensor(0.9216, device='cuda:0') factor: tensor(0.4249, device='cuda:0')\n",
      "reward_raw: tensor(0.3452, device='cuda:0') reward: tensor(0.9139, device='cuda:0') factor: tensor(0.4314, device='cuda:0')\n",
      "reward_raw: tensor(0.3488, device='cuda:0') reward: tensor(0.9116, device='cuda:0') factor: tensor(0.4373, device='cuda:0')\n",
      "reward_raw: tensor(0.4115, device='cuda:0') reward: tensor(0.9512, device='cuda:0') factor: tensor(0.4602, device='cuda:0')\n"
     ]
    },
    {
     "name": "stderr",
     "output_type": "stream",
     "text": [
      "Epoch 1, Step 8: Loss = 0.6151, Actor Loss = 0.4072, Critic Loss = 0.4172, Entropy = 0.6846, Returns = 0.9192, Value = 0.9401, mask_loss = 0.4496std_loss = 0.0352:   0%|          | 8/5475 [02:15<25:51:15, 17.02s/it]  "
     ]
    },
    {
     "name": "stdout",
     "output_type": "stream",
     "text": [
      "ratio tensor(1.9655, device='cuda:0', grad_fn=<MeanBackward0>)\n",
      "reward_raw: tensor(0.4052, device='cuda:0') reward: tensor(0.9722, device='cuda:0') factor: tensor(0.4330, device='cuda:0')\n",
      "reward_raw: tensor(0.3935, device='cuda:0') reward: tensor(0.9393, device='cuda:0') factor: tensor(0.4542, device='cuda:0')\n",
      "reward_raw: tensor(0.3994, device='cuda:0') reward: tensor(0.9605, device='cuda:0') factor: tensor(0.4389, device='cuda:0')\n",
      "reward_raw: tensor(0.3910, device='cuda:0') reward: tensor(0.9563, device='cuda:0') factor: tensor(0.4347, device='cuda:0')\n",
      "reward_raw: tensor(0.3680, device='cuda:0') reward: tensor(0.9441, device='cuda:0') factor: tensor(0.4239, device='cuda:0')\n"
     ]
    },
    {
     "name": "stderr",
     "output_type": "stream",
     "text": [
      "Epoch 1, Step 9: Loss = 0.0111, Actor Loss = -0.0605, Critic Loss = 0.1445, Entropy = 0.6698, Returns = 0.9428, Value = 0.8096, mask_loss = 0.4140std_loss = 0.0605:   0%|          | 9/5475 [02:28<23:58:03, 15.79s/it]"
     ]
    },
    {
     "name": "stdout",
     "output_type": "stream",
     "text": [
      "ratio tensor(1.1546, device='cuda:0', grad_fn=<MeanBackward0>)\n",
      "reward_raw: tensor(0.3666, device='cuda:0') reward: tensor(0.9290, device='cuda:0') factor: tensor(0.4376, device='cuda:0')\n",
      "reward_raw: tensor(0.3129, device='cuda:0') reward: tensor(0.8773, device='cuda:0') factor: tensor(0.4357, device='cuda:0')\n",
      "reward_raw: tensor(0.3682, device='cuda:0') reward: tensor(0.9194, device='cuda:0') factor: tensor(0.4488, device='cuda:0')\n",
      "reward_raw: tensor(0.4093, device='cuda:0') reward: tensor(0.9698, device='cuda:0') factor: tensor(0.4395, device='cuda:0')\n",
      "reward_raw: tensor(0.3721, device='cuda:0') reward: tensor(0.9570, device='cuda:0') factor: tensor(0.4151, device='cuda:0')\n"
     ]
    },
    {
     "name": "stderr",
     "output_type": "stream",
     "text": [
      "Epoch 1, Step 10: Loss = 0.1955, Actor Loss = 0.1070, Critic Loss = 0.1784, Entropy = 0.6775, Returns = 0.8952, Value = 1.0087, mask_loss = 0.4428std_loss = 0.0618:   0%|          | 10/5475 [02:43<23:16:08, 15.33s/it]"
     ]
    },
    {
     "name": "stdout",
     "output_type": "stream",
     "text": [
      "ratio tensor(1.0494, device='cuda:0', grad_fn=<MeanBackward0>)\n",
      "reward_raw: tensor(0.3661, device='cuda:0') reward: tensor(0.9373, device='cuda:0') factor: tensor(0.4288, device='cuda:0')\n",
      "reward_raw: tensor(0.3881, device='cuda:0') reward: tensor(0.9658, device='cuda:0') factor: tensor(0.4224, device='cuda:0')\n",
      "reward_raw: tensor(0.3944, device='cuda:0') reward: tensor(0.9469, device='cuda:0') factor: tensor(0.4476, device='cuda:0')\n",
      "reward_raw: tensor(0.4028, device='cuda:0') reward: tensor(0.9709, device='cuda:0') factor: tensor(0.4319, device='cuda:0')\n",
      "reward_raw: tensor(0.3762, device='cuda:0') reward: tensor(0.9481, device='cuda:0') factor: tensor(0.4282, device='cuda:0')\n"
     ]
    },
    {
     "name": "stderr",
     "output_type": "stream",
     "text": [
      "Epoch 1, Step 11: Loss = 0.1425, Actor Loss = 0.0767, Critic Loss = 0.1329, Entropy = 0.6790, Returns = 0.9931, Value = 0.9699, mask_loss = 0.4534std_loss = 0.0658:   0%|          | 11/5475 [03:01<24:42:40, 16.28s/it]"
     ]
    },
    {
     "name": "stdout",
     "output_type": "stream",
     "text": [
      "ratio tensor(1.0359, device='cuda:0', grad_fn=<MeanBackward0>)\n",
      "\n",
      "reward_raw: tensor(0.3624, device='cuda:0') reward: tensor(0.9317, device='cuda:0') factor: tensor(0.4307, device='cuda:0')\n",
      "reward_raw: tensor(0.4381, device='cuda:0') reward: tensor(0.9930, device='cuda:0') factor: tensor(0.4451, device='cuda:0')\n",
      "reward_raw: tensor(0.4397, device='cuda:0') reward: tensor(1.0061, device='cuda:0') factor: tensor(0.4336, device='cuda:0')\n",
      "reward_raw: tensor(0.4154, device='cuda:0') reward: tensor(0.9737, device='cuda:0') factor: tensor(0.4417, device='cuda:0')\n",
      "reward_raw: tensor(0.4697, device='cuda:0') reward: tensor(1.0266, device='cuda:0') factor: tensor(0.4431, device='cuda:0')\n"
     ]
    },
    {
     "name": "stderr",
     "output_type": "stream",
     "text": [
      "Epoch 1, Step 12: Loss = -0.2580, Actor Loss = -0.3131, Critic Loss = 0.1115, Entropy = 0.6799, Returns = 0.9690, Value = 1.1097, mask_loss = 0.4755std_loss = 0.0745:   0%|          | 12/5475 [03:15<23:48:08, 15.69s/it]"
     ]
    },
    {
     "name": "stdout",
     "output_type": "stream",
     "text": [
      "ratio tensor(0.9924, device='cuda:0', grad_fn=<MeanBackward0>)\n",
      "reward_raw: tensor(0.4375, device='cuda:0') reward: tensor(0.9478, device='cuda:0') factor: tensor(0.4897, device='cuda:0')\n",
      "reward_raw: tensor(0.4455, device='cuda:0') reward: tensor(0.9894, device='cuda:0') factor: tensor(0.4561, device='cuda:0')\n",
      "reward_raw: tensor(0.4503, device='cuda:0') reward: tensor(0.9733, device='cuda:0') factor: tensor(0.4770, device='cuda:0')\n",
      "reward_raw: tensor(0.4760, device='cuda:0') reward: tensor(0.9924, device='cuda:0') factor: tensor(0.4836, device='cuda:0')\n",
      "reward_raw: tensor(0.3876, device='cuda:0') reward: tensor(0.9243, device='cuda:0') factor: tensor(0.4633, device='cuda:0')\n"
     ]
    },
    {
     "name": "stderr",
     "output_type": "stream",
     "text": [
      "Epoch 1, Step 13: Loss = 0.4218, Actor Loss = 0.3234, Critic Loss = 0.1981, Entropy = 0.6771, Returns = 0.9166, Value = 0.8714, mask_loss = 0.5069std_loss = 0.0755:   0%|          | 13/5475 [03:28<22:25:11, 14.78s/it]  "
     ]
    },
    {
     "name": "stdout",
     "output_type": "stream",
     "text": [
      "ratio tensor(0.4832, device='cuda:0', grad_fn=<MeanBackward0>)\n",
      "reward_raw: tensor(0.4492, device='cuda:0') reward: tensor(0.9608, device='cuda:0') factor: tensor(0.4883, device='cuda:0')\n",
      "reward_raw: tensor(0.4675, device='cuda:0') reward: tensor(0.9649, device='cuda:0') factor: tensor(0.5026, device='cuda:0')\n",
      "reward_raw: tensor(0.4704, device='cuda:0') reward: tensor(0.9743, device='cuda:0') factor: tensor(0.4961, device='cuda:0')\n",
      "reward_raw: tensor(0.4734, device='cuda:0') reward: tensor(0.9845, device='cuda:0') factor: tensor(0.4890, device='cuda:0')\n",
      "reward_raw: tensor(0.4565, device='cuda:0') reward: tensor(0.9746, device='cuda:0') factor: tensor(0.4819, device='cuda:0')\n"
     ]
    },
    {
     "name": "stderr",
     "output_type": "stream",
     "text": [
      "Epoch 1, Step 14: Loss = 0.0771, Actor Loss = -0.1855, Critic Loss = 0.5265, Entropy = 0.6773, Returns = 0.9817, Value = 1.2788, mask_loss = 0.4836std_loss = 0.0795:   0%|          | 14/5475 [03:47<24:29:16, 16.14s/it]"
     ]
    },
    {
     "name": "stdout",
     "output_type": "stream",
     "text": [
      "ratio tensor(2.3757, device='cuda:0', grad_fn=<MeanBackward0>)\n",
      "reward_raw: tensor(0.4509, device='cuda:0') reward: tensor(0.9502, device='cuda:0') factor: tensor(0.5007, device='cuda:0')\n",
      "reward_raw: tensor(0.4620, device='cuda:0') reward: tensor(0.9611, device='cuda:0') factor: tensor(0.5009, device='cuda:0')\n",
      "reward_raw: tensor(0.4652, device='cuda:0') reward: tensor(0.9719, device='cuda:0') factor: tensor(0.4933, device='cuda:0')\n",
      "reward_raw: tensor(0.5325, device='cuda:0') reward: tensor(1.0211, device='cuda:0') factor: tensor(0.5114, device='cuda:0')\n",
      "reward_raw: tensor(0.4550, device='cuda:0') reward: tensor(0.9474, device='cuda:0') factor: tensor(0.5076, device='cuda:0')\n"
     ]
    },
    {
     "name": "stderr",
     "output_type": "stream",
     "text": [
      "Epoch 1, Step 15: Loss = 0.1698, Actor Loss = 0.0985, Critic Loss = 0.1440, Entropy = 0.6768, Returns = 1.0048, Value = 0.7946, mask_loss = 0.5194std_loss = 0.0823:   0%|          | 15/5475 [04:05<25:08:48, 16.58s/it] "
     ]
    },
    {
     "name": "stdout",
     "output_type": "stream",
     "text": [
      "ratio tensor(1.0222, device='cuda:0', grad_fn=<MeanBackward0>)\n",
      "reward_raw: tensor(0.4583, device='cuda:0') reward: tensor(0.9211, device='cuda:0') factor: tensor(0.5371, device='cuda:0')\n",
      "reward_raw: tensor(0.4341, device='cuda:0') reward: tensor(0.9206, device='cuda:0') factor: tensor(0.5135, device='cuda:0')\n",
      "reward_raw: tensor(0.4445, device='cuda:0') reward: tensor(0.9050, device='cuda:0') factor: tensor(0.5394, device='cuda:0')\n",
      "reward_raw: tensor(0.3795, device='cuda:0') reward: tensor(0.8686, device='cuda:0') factor: tensor(0.5109, device='cuda:0')\n",
      "reward_raw: tensor(0.4631, device='cuda:0') reward: tensor(0.9280, device='cuda:0') factor: tensor(0.5351, device='cuda:0')\n"
     ]
    },
    {
     "name": "stderr",
     "output_type": "stream",
     "text": [
      "Epoch 1, Step 16: Loss = -0.4093, Actor Loss = -0.5184, Critic Loss = 0.2195, Entropy = 0.6740, Returns = 0.9711, Value = 0.8878, mask_loss = 0.5286std_loss = 0.0861:   0%|          | 16/5475 [04:19<24:03:03, 15.86s/it]"
     ]
    },
    {
     "name": "stdout",
     "output_type": "stream",
     "text": [
      "ratio tensor(3.6289, device='cuda:0', grad_fn=<MeanBackward0>)\n",
      "reward_raw: tensor(0.4246, device='cuda:0') reward: tensor(0.9429, device='cuda:0') factor: tensor(0.4818, device='cuda:0')\n",
      "reward_raw: tensor(0.4180, device='cuda:0') reward: tensor(0.9269, device='cuda:0') factor: tensor(0.4912, device='cuda:0')\n",
      "reward_raw: tensor(0.4215, device='cuda:0') reward: tensor(0.9370, device='cuda:0') factor: tensor(0.4845, device='cuda:0')\n",
      "reward_raw: tensor(0.4003, device='cuda:0') reward: tensor(0.9060, device='cuda:0') factor: tensor(0.4943, device='cuda:0')\n",
      "reward_raw: tensor(0.4205, device='cuda:0') reward: tensor(0.9284, device='cuda:0') factor: tensor(0.4922, device='cuda:0')\n"
     ]
    },
    {
     "name": "stderr",
     "output_type": "stream",
     "text": [
      "Epoch 1, Step 17: Loss = 0.4424, Actor Loss = 0.3876, Critic Loss = 0.1108, Entropy = 0.6518, Returns = 0.8822, Value = 0.7744, mask_loss = 0.3934std_loss = 0.0882:   0%|          | 17/5475 [04:31<22:14:02, 14.67s/it]  "
     ]
    },
    {
     "name": "stdout",
     "output_type": "stream",
     "text": [
      "ratio tensor(0.2140, device='cuda:0', grad_fn=<MeanBackward0>)\n",
      "reward_raw: tensor(0.3813, device='cuda:0') reward: tensor(0.9991, device='cuda:0') factor: tensor(0.3822, device='cuda:0')\n",
      "reward_raw: tensor(0.3935, device='cuda:0') reward: tensor(1.0019, device='cuda:0') factor: tensor(0.3916, device='cuda:0')\n",
      "reward_raw: tensor(0.4112, device='cuda:0') reward: tensor(1.0279, device='cuda:0') factor: tensor(0.3833, device='cuda:0')\n",
      "reward_raw: tensor(0.4302, device='cuda:0') reward: tensor(1.0399, device='cuda:0') factor: tensor(0.3903, device='cuda:0')\n",
      "reward_raw: tensor(0.3911, device='cuda:0') reward: tensor(1.0019, device='cuda:0') factor: tensor(0.3892, device='cuda:0')\n"
     ]
    },
    {
     "name": "stderr",
     "output_type": "stream",
     "text": [
      "Epoch 1, Step 18: Loss = -0.1203, Actor Loss = -0.1716, Critic Loss = 0.1039, Entropy = 0.6395, Returns = 1.0026, Value = 1.0535, mask_loss = 0.3845std_loss = 0.0970:   0%|          | 18/5475 [04:44<21:31:11, 14.20s/it]"
     ]
    },
    {
     "name": "stdout",
     "output_type": "stream",
     "text": [
      "ratio tensor(2.6953, device='cuda:0', grad_fn=<MeanBackward0>)\n",
      "reward_raw: tensor(0.3363, device='cuda:0') reward: tensor(0.9786, device='cuda:0') factor: tensor(0.3577, device='cuda:0')\n",
      "reward_raw: tensor(0.3486, device='cuda:0') reward: tensor(0.9761, device='cuda:0') factor: tensor(0.3724, device='cuda:0')\n",
      "reward_raw: tensor(0.3278, device='cuda:0') reward: tensor(0.9562, device='cuda:0') factor: tensor(0.3715, device='cuda:0')\n",
      "reward_raw: tensor(0.3442, device='cuda:0') reward: tensor(0.9780, device='cuda:0') factor: tensor(0.3663, device='cuda:0')\n",
      "reward_raw: tensor(0.3898, device='cuda:0') reward: tensor(1.0158, device='cuda:0') factor: tensor(0.3740, device='cuda:0')\n"
     ]
    },
    {
     "name": "stderr",
     "output_type": "stream",
     "text": [
      "Epoch 1, Step 19: Loss = 0.1185, Actor Loss = -0.0140, Critic Loss = 0.2662, Entropy = 0.6330, Returns = 0.9816, Value = 1.1164, mask_loss = 0.3645std_loss = 0.0964:   0%|          | 19/5475 [05:08<25:58:25, 17.14s/it] "
     ]
    },
    {
     "name": "stdout",
     "output_type": "stream",
     "text": [
      "ratio tensor(1.4457, device='cuda:0', grad_fn=<MeanBackward0>)\n",
      "reward_raw: tensor(0.3679, device='cuda:0') reward: tensor(1.0106, device='cuda:0') factor: tensor(0.3572, device='cuda:0')\n",
      "reward_raw: tensor(0.3390, device='cuda:0') reward: tensor(1.0123, device='cuda:0') factor: tensor(0.3267, device='cuda:0')\n",
      "reward_raw: tensor(0.3932, device='cuda:0') reward: tensor(1.0392, device='cuda:0') factor: tensor(0.3540, device='cuda:0')\n",
      "reward_raw: tensor(0.3037, device='cuda:0') reward: tensor(0.9581, device='cuda:0') factor: tensor(0.3456, device='cuda:0')\n",
      "reward_raw: tensor(0.3054, device='cuda:0') reward: tensor(0.9744, device='cuda:0') factor: tensor(0.3310, device='cuda:0')\n"
     ]
    },
    {
     "name": "stderr",
     "output_type": "stream",
     "text": [
      "Epoch 1, Step 20: Loss = 0.2129, Actor Loss = 0.0771, Critic Loss = 0.2727, Entropy = 0.6109, Returns = 0.9342, Value = 0.7124, mask_loss = 0.3249std_loss = 0.0880:   0%|          | 20/5475 [05:25<25:45:40, 17.00s/it] "
     ]
    },
    {
     "name": "stdout",
     "output_type": "stream",
     "text": [
      "ratio tensor(0.7592, device='cuda:0', grad_fn=<MeanBackward0>)\n",
      "reward_raw: tensor(0.2750, device='cuda:0') reward: tensor(0.9451, device='cuda:0') factor: tensor(0.3299, device='cuda:0')\n",
      "reward_raw: tensor(0.2859, device='cuda:0') reward: tensor(0.9532, device='cuda:0') factor: tensor(0.3327, device='cuda:0')\n",
      "reward_raw: tensor(0.2799, device='cuda:0') reward: tensor(0.9466, device='cuda:0') factor: tensor(0.3333, device='cuda:0')\n",
      "reward_raw: tensor(0.2786, device='cuda:0') reward: tensor(0.9379, device='cuda:0') factor: tensor(0.3406, device='cuda:0')\n",
      "reward_raw: tensor(0.2716, device='cuda:0') reward: tensor(0.9631, device='cuda:0') factor: tensor(0.3085, device='cuda:0')\n"
     ]
    },
    {
     "name": "stderr",
     "output_type": "stream",
     "text": [
      "Epoch 1, Step 21: Loss = -0.2671, Actor Loss = -0.3141, Critic Loss = 0.0953, Entropy = 0.6064, Returns = 0.9428, Value = 1.0743, mask_loss = 0.3245std_loss = 0.0987:   0%|          | 20/5475 [05:45<25:45:40, 17.00s/it]"
     ]
    },
    {
     "name": "stdout",
     "output_type": "stream",
     "text": [
      "ratio tensor(1.7057, device='cuda:0', grad_fn=<MeanBackward0>)\n",
      "\n"
     ]
    },
    {
     "name": "stderr",
     "output_type": "stream",
     "text": [
      "Epoch 1, Step 21: Loss = -0.2671, Actor Loss = -0.3141, Critic Loss = 0.0953, Entropy = 0.6064, Returns = 0.9428, Value = 1.0743, mask_loss = 0.3245std_loss = 0.0987:   0%|          | 21/5475 [05:45<27:18:58, 18.03s/it]"
     ]
    },
    {
     "name": "stdout",
     "output_type": "stream",
     "text": [
      "reward_raw: tensor(0.3105, device='cuda:0') reward: tensor(1.0036, device='cuda:0') factor: tensor(0.3069, device='cuda:0')\n",
      "reward_raw: tensor(0.3334, device='cuda:0') reward: tensor(1.0162, device='cuda:0') factor: tensor(0.3172, device='cuda:0')\n",
      "reward_raw: tensor(0.3744, device='cuda:0') reward: tensor(1.0576, device='cuda:0') factor: tensor(0.3168, device='cuda:0')\n",
      "reward_raw: tensor(0.3707, device='cuda:0') reward: tensor(1.0414, device='cuda:0') factor: tensor(0.3293, device='cuda:0')\n",
      "reward_raw: tensor(0.3615, device='cuda:0') reward: tensor(1.0450, device='cuda:0') factor: tensor(0.3166, device='cuda:0')\n"
     ]
    },
    {
     "name": "stderr",
     "output_type": "stream",
     "text": [
      "Epoch 1, Step 22: Loss = 0.2922, Actor Loss = 0.2406, Critic Loss = 0.1045, Entropy = 0.6314, Returns = 1.0226, Value = 0.8608, mask_loss = 0.3627std_loss = 0.0975:   0%|          | 22/5475 [06:00<25:42:02, 16.97s/it]  "
     ]
    },
    {
     "name": "stdout",
     "output_type": "stream",
     "text": [
      "ratio tensor(0.2522, device='cuda:0', grad_fn=<MeanBackward0>)\n",
      "reward_raw: tensor(0.3833, device='cuda:0') reward: tensor(1.0149, device='cuda:0') factor: tensor(0.3685, device='cuda:0')\n",
      "reward_raw: tensor(0.3870, device='cuda:0') reward: tensor(1.0351, device='cuda:0') factor: tensor(0.3519, device='cuda:0')\n",
      "reward_raw: tensor(0.4232, device='cuda:0') reward: tensor(1.0508, device='cuda:0') factor: tensor(0.3724, device='cuda:0')\n",
      "reward_raw: tensor(0.3676, device='cuda:0') reward: tensor(0.9937, device='cuda:0') factor: tensor(0.3739, device='cuda:0')\n",
      "reward_raw: tensor(0.3722, device='cuda:0') reward: tensor(0.9902, device='cuda:0') factor: tensor(0.3819, device='cuda:0')\n"
     ]
    },
    {
     "name": "stderr",
     "output_type": "stream",
     "text": [
      "Epoch 1, Step 23: Loss = -0.2532, Actor Loss = -0.3064, Critic Loss = 0.1076, Entropy = 0.6296, Returns = 1.0849, Value = 1.0267, mask_loss = 0.3623std_loss = 0.1025:   0%|          | 23/5475 [06:17<25:58:33, 17.15s/it]"
     ]
    },
    {
     "name": "stdout",
     "output_type": "stream",
     "text": [
      "ratio tensor(1.6891, device='cuda:0', grad_fn=<MeanBackward0>)\n",
      "reward_raw: tensor(0.3337, device='cuda:0') reward: tensor(0.9797, device='cuda:0') factor: tensor(0.3540, device='cuda:0')\n",
      "reward_raw: tensor(0.3043, device='cuda:0') reward: tensor(0.9695, device='cuda:0') factor: tensor(0.3349, device='cuda:0')\n",
      "reward_raw: tensor(0.2915, device='cuda:0') reward: tensor(0.9422, device='cuda:0') factor: tensor(0.3494, device='cuda:0')\n",
      "reward_raw: tensor(0.3014, device='cuda:0') reward: tensor(0.9580, device='cuda:0') factor: tensor(0.3434, device='cuda:0')\n",
      "reward_raw: tensor(0.3106, device='cuda:0') reward: tensor(0.9580, device='cuda:0') factor: tensor(0.3527, device='cuda:0')\n"
     ]
    },
    {
     "name": "stderr",
     "output_type": "stream",
     "text": [
      "Epoch 1, Step 24: Loss = 0.3182, Actor Loss = 0.2529, Critic Loss = 0.1318, Entropy = 0.6204, Returns = 0.9418, Value = 1.0199, mask_loss = 0.3445std_loss = 0.0914:   0%|          | 24/5475 [06:35<26:07:07, 17.25s/it]  "
     ]
    },
    {
     "name": "stdout",
     "output_type": "stream",
     "text": [
      "ratio tensor(4.9815, device='cuda:0', grad_fn=<MeanBackward0>)\n",
      "reward_raw: tensor(0.3340, device='cuda:0') reward: tensor(1.0450, device='cuda:0') factor: tensor(0.2890, device='cuda:0')\n",
      "reward_raw: tensor(0.3712, device='cuda:0') reward: tensor(1.0667, device='cuda:0') factor: tensor(0.3045, device='cuda:0')\n",
      "reward_raw: tensor(0.3667, device='cuda:0') reward: tensor(1.0504, device='cuda:0') factor: tensor(0.3163, device='cuda:0')\n",
      "reward_raw: tensor(0.2954, device='cuda:0') reward: tensor(0.9862, device='cuda:0') factor: tensor(0.3092, device='cuda:0')\n",
      "reward_raw: tensor(0.3262, device='cuda:0') reward: tensor(1.0051, device='cuda:0') factor: tensor(0.3210, device='cuda:0')\n"
     ]
    },
    {
     "name": "stderr",
     "output_type": "stream",
     "text": [
      "Epoch 1, Step 25: Loss = 0.3400, Actor Loss = 0.2730, Critic Loss = 0.1352, Entropy = 0.5990, Returns = 1.0329, Value = 1.2104, mask_loss = 0.3298std_loss = 0.1107:   0%|          | 25/5475 [06:57<28:18:19, 18.70s/it]"
     ]
    },
    {
     "name": "stdout",
     "output_type": "stream",
     "text": [
      "ratio tensor(0.7417, device='cuda:0', grad_fn=<MeanBackward0>)\n",
      "reward_raw: tensor(0.4082, device='cuda:0') reward: tensor(1.0861, device='cuda:0') factor: tensor(0.3221, device='cuda:0')\n",
      "reward_raw: tensor(0.3563, device='cuda:0') reward: tensor(1.0438, device='cuda:0') factor: tensor(0.3125, device='cuda:0')\n",
      "reward_raw: tensor(0.3410, device='cuda:0') reward: tensor(1.0178, device='cuda:0') factor: tensor(0.3232, device='cuda:0')\n",
      "reward_raw: tensor(0.3622, device='cuda:0') reward: tensor(1.0564, device='cuda:0') factor: tensor(0.3058, device='cuda:0')\n",
      "reward_raw: tensor(0.4066, device='cuda:0') reward: tensor(1.0787, device='cuda:0') factor: tensor(0.3279, device='cuda:0')\n"
     ]
    },
    {
     "name": "stderr",
     "output_type": "stream",
     "text": [
      "Epoch 1, Step 26: Loss = -0.3939, Actor Loss = -0.4661, Critic Loss = 0.1458, Entropy = 0.6083, Returns = 1.0711, Value = 1.0548, mask_loss = 0.3429std_loss = 0.1160:   0%|          | 26/5475 [07:13<27:06:47, 17.91s/it]"
     ]
    },
    {
     "name": "stdout",
     "output_type": "stream",
     "text": [
      "ratio tensor(2.9329, device='cuda:0', grad_fn=<MeanBackward0>)\n",
      "reward_raw: tensor(0.4241, device='cuda:0') reward: tensor(1.0638, device='cuda:0') factor: tensor(0.3604, device='cuda:0')\n",
      "reward_raw: tensor(0.3452, device='cuda:0') reward: tensor(0.9866, device='cuda:0') factor: tensor(0.3586, device='cuda:0')\n",
      "reward_raw: tensor(0.4062, device='cuda:0') reward: tensor(1.0304, device='cuda:0') factor: tensor(0.3757, device='cuda:0')\n",
      "reward_raw: tensor(0.4158, device='cuda:0') reward: tensor(1.0641, device='cuda:0') factor: tensor(0.3517, device='cuda:0')\n",
      "reward_raw: tensor(0.4055, device='cuda:0') reward: tensor(1.0334, device='cuda:0') factor: tensor(0.3721, device='cuda:0')\n"
     ]
    },
    {
     "name": "stderr",
     "output_type": "stream",
     "text": [
      "Epoch 1, Step 27: Loss = 0.5595, Actor Loss = 0.4075, Critic Loss = 0.3053, Entropy = 0.6514, Returns = 1.0531, Value = 0.8021, mask_loss = 0.5928std_loss = 0.0982:   0%|          | 27/5475 [07:25<24:16:24, 16.04s/it]  "
     ]
    },
    {
     "name": "stdout",
     "output_type": "stream",
     "text": [
      "ratio tensor(3.1433e-05, device='cuda:0', grad_fn=<MeanBackward0>)\n",
      "reward_raw: tensor(0.4423, device='cuda:0') reward: tensor(0.8489, device='cuda:0') factor: tensor(0.5935, device='cuda:0')\n",
      "reward_raw: tensor(0.5405, device='cuda:0') reward: tensor(0.9532, device='cuda:0') factor: tensor(0.5874, device='cuda:0')\n",
      "reward_raw: tensor(0.5928, device='cuda:0') reward: tensor(1.0129, device='cuda:0') factor: tensor(0.5799, device='cuda:0')\n",
      "reward_raw: tensor(0.5468, device='cuda:0') reward: tensor(0.9671, device='cuda:0') factor: tensor(0.5797, device='cuda:0')\n",
      "reward_raw: tensor(0.5173, device='cuda:0') reward: tensor(0.9429, device='cuda:0') factor: tensor(0.5744, device='cuda:0')\n"
     ]
    },
    {
     "name": "stderr",
     "output_type": "stream",
     "text": [
      "Epoch 1, Step 28: Loss = 0.1810, Actor Loss = 0.0222, Critic Loss = 0.3190, Entropy = 0.6601, Returns = 0.9313, Value = 1.3133, mask_loss = 0.5785std_loss = 0.0933:   1%|          | 28/5475 [07:40<24:02:20, 15.89s/it]"
     ]
    },
    {
     "name": "stdout",
     "output_type": "stream",
     "text": [
      "ratio tensor(1.1842, device='cuda:0', grad_fn=<MeanBackward0>)\n",
      "reward_raw: tensor(0.4766, device='cuda:0') reward: tensor(0.8854, device='cuda:0') factor: tensor(0.5912, device='cuda:0')\n",
      "reward_raw: tensor(0.5535, device='cuda:0') reward: tensor(0.9667, device='cuda:0') factor: tensor(0.5868, device='cuda:0')\n",
      "reward_raw: tensor(0.5696, device='cuda:0') reward: tensor(0.9877, device='cuda:0') factor: tensor(0.5820, device='cuda:0')\n",
      "reward_raw: tensor(0.5632, device='cuda:0') reward: tensor(0.9836, device='cuda:0') factor: tensor(0.5796, device='cuda:0')\n",
      "reward_raw: tensor(0.5389, device='cuda:0') reward: tensor(0.9451, device='cuda:0') factor: tensor(0.5938, device='cuda:0')\n"
     ]
    },
    {
     "name": "stderr",
     "output_type": "stream",
     "text": [
      "Epoch 1, Step 29: Loss = 0.6435, Actor Loss = 0.5650, Critic Loss = 0.1583, Entropy = 0.6623, Returns = 0.9383, Value = 0.7983, mask_loss = 0.5524std_loss = 0.1072:   1%|          | 29/5475 [07:53<22:30:44, 14.88s/it]"
     ]
    },
    {
     "name": "stdout",
     "output_type": "stream",
     "text": [
      "ratio tensor(1.3032, device='cuda:0', grad_fn=<MeanBackward0>)\n",
      "reward_raw: tensor(0.4698, device='cuda:0') reward: tensor(0.9015, device='cuda:0') factor: tensor(0.5683, device='cuda:0')\n",
      "reward_raw: tensor(0.4677, device='cuda:0') reward: tensor(0.9146, device='cuda:0') factor: tensor(0.5531, device='cuda:0')\n",
      "reward_raw: tensor(0.5474, device='cuda:0') reward: tensor(0.9537, device='cuda:0') factor: tensor(0.5937, device='cuda:0')\n",
      "reward_raw: tensor(0.4833, device='cuda:0') reward: tensor(0.9216, device='cuda:0') factor: tensor(0.5617, device='cuda:0')\n",
      "reward_raw: tensor(0.4620, device='cuda:0') reward: tensor(0.9160, device='cuda:0') factor: tensor(0.5461, device='cuda:0')\n"
     ]
    },
    {
     "name": "stderr",
     "output_type": "stream",
     "text": [
      "Epoch 1, Step 30: Loss = -0.0390, Actor Loss = -0.0929, Critic Loss = 0.1092, Entropy = 0.6423, Returns = 0.9080, Value = 0.9125, mask_loss = 0.5711std_loss = 0.1348:   1%|          | 30/5475 [08:08<22:51:28, 15.11s/it]"
     ]
    },
    {
     "name": "stdout",
     "output_type": "stream",
     "text": [
      "ratio tensor(0.6039, device='cuda:0', grad_fn=<MeanBackward0>)\n",
      "reward_raw: tensor(0.6414, device='cuda:0') reward: tensor(1.0671, device='cuda:0') factor: tensor(0.5743, device='cuda:0')\n",
      "reward_raw: tensor(0.5490, device='cuda:0') reward: tensor(0.9695, device='cuda:0') factor: tensor(0.5796, device='cuda:0')\n",
      "reward_raw: tensor(0.5750, device='cuda:0') reward: tensor(1.0051, device='cuda:0') factor: tensor(0.5699, device='cuda:0')\n",
      "reward_raw: tensor(0.5996, device='cuda:0') reward: tensor(1.0262, device='cuda:0') factor: tensor(0.5734, device='cuda:0')\n",
      "reward_raw: tensor(0.5503, device='cuda:0') reward: tensor(0.9676, device='cuda:0') factor: tensor(0.5827, device='cuda:0')\n"
     ]
    },
    {
     "name": "stderr",
     "output_type": "stream",
     "text": [
      "Epoch 1, Step 31: Loss = 0.4174, Actor Loss = 0.3633, Critic Loss = 0.1096, Entropy = 0.6271, Returns = 1.0355, Value = 0.9740, mask_loss = 0.6124std_loss = 0.1341:   1%|          | 31/5475 [08:24<23:00:06, 15.21s/it]  "
     ]
    },
    {
     "name": "stdout",
     "output_type": "stream",
     "text": [
      "ratio tensor(0.6101, device='cuda:0', grad_fn=<MeanBackward0>)\n",
      "\n",
      "reward_raw: tensor(0.5721, device='cuda:0') reward: tensor(0.9379, device='cuda:0') factor: tensor(0.6342, device='cuda:0')\n",
      "reward_raw: tensor(0.5706, device='cuda:0') reward: tensor(0.9454, device='cuda:0') factor: tensor(0.6252, device='cuda:0')\n",
      "reward_raw: tensor(0.5665, device='cuda:0') reward: tensor(0.9531, device='cuda:0') factor: tensor(0.6134, device='cuda:0')\n",
      "reward_raw: tensor(0.5319, device='cuda:0') reward: tensor(0.9088, device='cuda:0') factor: tensor(0.6231, device='cuda:0')\n",
      "reward_raw: tensor(0.4923, device='cuda:0') reward: tensor(0.8813, device='cuda:0') factor: tensor(0.6110, device='cuda:0')\n"
     ]
    },
    {
     "name": "stderr",
     "output_type": "stream",
     "text": [
      "Epoch 1, Step 32: Loss = -0.2206, Actor Loss = -0.3025, Critic Loss = 0.1650, Entropy = 0.6012, Returns = 0.8993, Value = 1.1020, mask_loss = 0.6183std_loss = 0.1614:   1%|          | 32/5475 [08:42<24:09:39, 15.98s/it]"
     ]
    },
    {
     "name": "stdout",
     "output_type": "stream",
     "text": [
      "ratio tensor(1.7328, device='cuda:0', grad_fn=<MeanBackward0>)\n",
      "reward_raw: tensor(0.5177, device='cuda:0') reward: tensor(0.8822, device='cuda:0') factor: tensor(0.6355, device='cuda:0')\n",
      "reward_raw: tensor(0.5320, device='cuda:0') reward: tensor(0.9098, device='cuda:0') factor: tensor(0.6223, device='cuda:0')\n",
      "reward_raw: tensor(0.5394, device='cuda:0') reward: tensor(0.9058, device='cuda:0') factor: tensor(0.6336, device='cuda:0')\n",
      "reward_raw: tensor(0.5158, device='cuda:0') reward: tensor(0.8935, device='cuda:0') factor: tensor(0.6223, device='cuda:0')\n",
      "reward_raw: tensor(0.5480, device='cuda:0') reward: tensor(0.9258, device='cuda:0') factor: tensor(0.6222, device='cuda:0')\n"
     ]
    },
    {
     "name": "stderr",
     "output_type": "stream",
     "text": [
      "Epoch 1, Step 33: Loss = 0.4183, Actor Loss = 0.3074, Critic Loss = 0.2229, Entropy = 0.5710, Returns = 0.9198, Value = 0.7311, mask_loss = 0.6704std_loss = 0.1581:   1%|          | 33/5475 [08:55<22:57:41, 15.19s/it]  "
     ]
    },
    {
     "name": "stdout",
     "output_type": "stream",
     "text": [
      "ratio tensor(0.5003, device='cuda:0', grad_fn=<MeanBackward0>)\n",
      "reward_raw: tensor(0.5545, device='cuda:0') reward: tensor(0.8738, device='cuda:0') factor: tensor(0.6807, device='cuda:0')\n",
      "reward_raw: tensor(0.5840, device='cuda:0') reward: tensor(0.9247, device='cuda:0') factor: tensor(0.6593, device='cuda:0')\n",
      "reward_raw: tensor(0.6000, device='cuda:0') reward: tensor(0.9356, device='cuda:0') factor: tensor(0.6644, device='cuda:0')\n",
      "reward_raw: tensor(0.5775, device='cuda:0') reward: tensor(0.9134, device='cuda:0') factor: tensor(0.6641, device='cuda:0')\n",
      "reward_raw: tensor(0.5932, device='cuda:0') reward: tensor(0.9385, device='cuda:0') factor: tensor(0.6546, device='cuda:0')\n"
     ]
    },
    {
     "name": "stderr",
     "output_type": "stream",
     "text": [
      "Epoch 1, Step 34: Loss = -0.0178, Actor Loss = -0.1565, Critic Loss = 0.2786, Entropy = 0.5730, Returns = 0.9201, Value = 1.0181, mask_loss = 0.6646std_loss = 0.1580:   1%|          | 34/5475 [09:13<24:26:21, 16.17s/it]"
     ]
    },
    {
     "name": "stdout",
     "output_type": "stream",
     "text": [
      "ratio tensor(2.0810, device='cuda:0', grad_fn=<MeanBackward0>)\n",
      "reward_raw: tensor(0.6563, device='cuda:0') reward: tensor(1.0500, device='cuda:0') factor: tensor(0.6063, device='cuda:0')\n",
      "reward_raw: tensor(0.5932, device='cuda:0') reward: tensor(0.9844, device='cuda:0') factor: tensor(0.6088, device='cuda:0')\n",
      "reward_raw: tensor(0.6203, device='cuda:0') reward: tensor(1.0057, device='cuda:0') factor: tensor(0.6146, device='cuda:0')\n",
      "reward_raw: tensor(0.6136, device='cuda:0') reward: tensor(0.9977, device='cuda:0') factor: tensor(0.6159, device='cuda:0')\n",
      "reward_raw: tensor(0.6032, device='cuda:0') reward: tensor(0.9925, device='cuda:0') factor: tensor(0.6106, device='cuda:0')\n"
     ]
    },
    {
     "name": "stderr",
     "output_type": "stream",
     "text": [
      "Epoch 1, Step 35: Loss = -0.3079, Actor Loss = -0.4022, Critic Loss = 0.1899, Entropy = 0.6215, Returns = 0.9769, Value = 1.1099, mask_loss = 0.5792std_loss = 0.1608:   1%|          | 35/5475 [09:35<26:46:50, 17.72s/it]"
     ]
    },
    {
     "name": "stdout",
     "output_type": "stream",
     "text": [
      "ratio tensor(1.4600, device='cuda:0', grad_fn=<MeanBackward0>)\n",
      "reward_raw: tensor(0.6285, device='cuda:0') reward: tensor(1.0215, device='cuda:0') factor: tensor(0.6071, device='cuda:0')\n",
      "reward_raw: tensor(0.6235, device='cuda:0') reward: tensor(1.0250, device='cuda:0') factor: tensor(0.5985, device='cuda:0')\n",
      "reward_raw: tensor(0.6390, device='cuda:0') reward: tensor(1.0414, device='cuda:0') factor: tensor(0.5976, device='cuda:0')\n",
      "reward_raw: tensor(0.6387, device='cuda:0') reward: tensor(1.0401, device='cuda:0') factor: tensor(0.5987, device='cuda:0')\n",
      "reward_raw: tensor(0.6919, device='cuda:0') reward: tensor(1.0838, device='cuda:0') factor: tensor(0.6081, device='cuda:0')\n"
     ]
    },
    {
     "name": "stderr",
     "output_type": "stream",
     "text": [
      "Epoch 1, Step 36: Loss = -0.1110, Actor Loss = -0.2392, Critic Loss = 0.2577, Entropy = 0.6039, Returns = 0.9677, Value = 0.7053, mask_loss = 0.6241std_loss = 0.1491:   1%|          | 36/5475 [09:48<24:41:24, 16.34s/it]"
     ]
    },
    {
     "name": "stdout",
     "output_type": "stream",
     "text": [
      "ratio tensor(1.1561, device='cuda:0', grad_fn=<MeanBackward0>)\n",
      "reward_raw: tensor(0.5682, device='cuda:0') reward: tensor(0.9491, device='cuda:0') factor: tensor(0.6191, device='cuda:0')\n",
      "reward_raw: tensor(0.5640, device='cuda:0') reward: tensor(0.9522, device='cuda:0') factor: tensor(0.6118, device='cuda:0')\n",
      "reward_raw: tensor(0.5389, device='cuda:0') reward: tensor(0.9301, device='cuda:0') factor: tensor(0.6088, device='cuda:0')\n",
      "reward_raw: tensor(0.5619, device='cuda:0') reward: tensor(0.9469, device='cuda:0') factor: tensor(0.6150, device='cuda:0')\n",
      "reward_raw: tensor(0.5881, device='cuda:0') reward: tensor(0.9699, device='cuda:0') factor: tensor(0.6182, device='cuda:0')\n"
     ]
    },
    {
     "name": "stderr",
     "output_type": "stream",
     "text": [
      "Epoch 1, Step 37: Loss = 0.2786, Actor Loss = 0.1962, Critic Loss = 0.1659, Entropy = 0.5949, Returns = 0.9656, Value = 0.6720, mask_loss = 0.6143std_loss = 0.1761:   1%|          | 37/5475 [10:04<24:34:06, 16.26s/it]  "
     ]
    },
    {
     "name": "stdout",
     "output_type": "stream",
     "text": [
      "ratio tensor(0.8209, device='cuda:0', grad_fn=<MeanBackward0>)\n",
      "reward_raw: tensor(0.6534, device='cuda:0') reward: tensor(1.0025, device='cuda:0') factor: tensor(0.6509, device='cuda:0')\n",
      "reward_raw: tensor(0.6588, device='cuda:0') reward: tensor(1.0021, device='cuda:0') factor: tensor(0.6567, device='cuda:0')\n",
      "reward_raw: tensor(0.6654, device='cuda:0') reward: tensor(1.0219, device='cuda:0') factor: tensor(0.6434, device='cuda:0')\n",
      "reward_raw: tensor(0.6016, device='cuda:0') reward: tensor(0.9563, device='cuda:0') factor: tensor(0.6453, device='cuda:0')\n",
      "reward_raw: tensor(0.5983, device='cuda:0') reward: tensor(0.9549, device='cuda:0') factor: tensor(0.6434, device='cuda:0')\n"
     ]
    },
    {
     "name": "stderr",
     "output_type": "stream",
     "text": [
      "Epoch 1, Step 38: Loss = -0.6404, Actor Loss = -0.7020, Critic Loss = 0.1245, Entropy = 0.5879, Returns = 1.0345, Value = 1.1938, mask_loss = 0.6359std_loss = 0.1679:   1%|          | 38/5475 [10:20<24:17:59, 16.09s/it]"
     ]
    },
    {
     "name": "stdout",
     "output_type": "stream",
     "text": [
      "ratio tensor(3.0525, device='cuda:0', grad_fn=<MeanBackward0>)\n",
      "reward_raw: tensor(0.6449, device='cuda:0') reward: tensor(0.9739, device='cuda:0') factor: tensor(0.6709, device='cuda:0')\n",
      "reward_raw: tensor(0.5917, device='cuda:0') reward: tensor(0.9372, device='cuda:0') factor: tensor(0.6545, device='cuda:0')\n",
      "reward_raw: tensor(0.6456, device='cuda:0') reward: tensor(0.9832, device='cuda:0') factor: tensor(0.6624, device='cuda:0')\n",
      "reward_raw: tensor(0.6614, device='cuda:0') reward: tensor(1.0145, device='cuda:0') factor: tensor(0.6469, device='cuda:0')\n",
      "reward_raw: tensor(0.6328, device='cuda:0') reward: tensor(0.9677, device='cuda:0') factor: tensor(0.6650, device='cuda:0')\n"
     ]
    },
    {
     "name": "stderr",
     "output_type": "stream",
     "text": [
      "Epoch 1, Step 39: Loss = 0.3762, Actor Loss = 0.2983, Critic Loss = 0.1571, Entropy = 0.5572, Returns = 0.9485, Value = 0.7229, mask_loss = 0.6901std_loss = 0.1552:   1%|          | 39/5475 [10:37<24:43:26, 16.37s/it]  "
     ]
    },
    {
     "name": "stdout",
     "output_type": "stream",
     "text": [
      "ratio tensor(0.7447, device='cuda:0', grad_fn=<MeanBackward0>)\n",
      "reward_raw: tensor(0.5818, device='cuda:0') reward: tensor(0.8984, device='cuda:0') factor: tensor(0.6834, device='cuda:0')\n",
      "reward_raw: tensor(0.6068, device='cuda:0') reward: tensor(0.9248, device='cuda:0') factor: tensor(0.6820, device='cuda:0')\n",
      "reward_raw: tensor(0.6522, device='cuda:0') reward: tensor(0.9709, device='cuda:0') factor: tensor(0.6813, device='cuda:0')\n",
      "reward_raw: tensor(0.6397, device='cuda:0') reward: tensor(0.9527, device='cuda:0') factor: tensor(0.6870, device='cuda:0')\n",
      "reward_raw: tensor(0.5515, device='cuda:0') reward: tensor(0.8683, device='cuda:0') factor: tensor(0.6832, device='cuda:0')\n"
     ]
    },
    {
     "name": "stderr",
     "output_type": "stream",
     "text": [
      "Epoch 1, Step 40: Loss = 0.1700, Actor Loss = -0.0511, Critic Loss = 0.4433, Entropy = 0.5728, Returns = 0.9328, Value = 0.7873, mask_loss = 0.6552std_loss = 0.1680:   1%|          | 40/5475 [10:56<25:49:50, 17.11s/it]"
     ]
    },
    {
     "name": "stdout",
     "output_type": "stream",
     "text": [
      "ratio tensor(0.7187, device='cuda:0', grad_fn=<MeanBackward0>)\n",
      "reward_raw: tensor(0.6254, device='cuda:0') reward: tensor(0.9545, device='cuda:0') factor: tensor(0.6709, device='cuda:0')\n",
      "reward_raw: tensor(0.6174, device='cuda:0') reward: tensor(0.9657, device='cuda:0') factor: tensor(0.6517, device='cuda:0')\n",
      "reward_raw: tensor(0.6081, device='cuda:0') reward: tensor(0.9705, device='cuda:0') factor: tensor(0.6375, device='cuda:0')\n",
      "reward_raw: tensor(0.6349, device='cuda:0') reward: tensor(0.9733, device='cuda:0') factor: tensor(0.6616, device='cuda:0')\n",
      "reward_raw: tensor(0.6398, device='cuda:0') reward: tensor(0.9749, device='cuda:0') factor: tensor(0.6649, device='cuda:0')\n"
     ]
    },
    {
     "name": "stderr",
     "output_type": "stream",
     "text": [
      "Epoch 1, Step 41: Loss = -0.2247, Actor Loss = -0.2809, Critic Loss = 0.1137, Entropy = 0.5657, Returns = 1.0482, Value = 1.2519, mask_loss = 0.6609std_loss = 0.1707:   1%|          | 40/5475 [11:17<25:49:50, 17.11s/it]"
     ]
    },
    {
     "name": "stdout",
     "output_type": "stream",
     "text": [
      "ratio tensor(1.4940, device='cuda:0', grad_fn=<MeanBackward0>)\n",
      "\n"
     ]
    },
    {
     "name": "stderr",
     "output_type": "stream",
     "text": [
      "Epoch 1, Step 41: Loss = -0.2247, Actor Loss = -0.2809, Critic Loss = 0.1137, Entropy = 0.5657, Returns = 1.0482, Value = 1.2519, mask_loss = 0.6609std_loss = 0.1707:   1%|          | 41/5475 [11:17<27:56:53, 18.52s/it]"
     ]
    },
    {
     "name": "stdout",
     "output_type": "stream",
     "text": [
      "reward_raw: tensor(0.6610, device='cuda:0') reward: tensor(0.9787, device='cuda:0') factor: tensor(0.6823, device='cuda:0')\n",
      "reward_raw: tensor(0.6674, device='cuda:0') reward: tensor(0.9857, device='cuda:0') factor: tensor(0.6817, device='cuda:0')\n",
      "reward_raw: tensor(0.6582, device='cuda:0') reward: tensor(0.9843, device='cuda:0') factor: tensor(0.6738, device='cuda:0')\n",
      "reward_raw: tensor(0.6451, device='cuda:0') reward: tensor(0.9740, device='cuda:0') factor: tensor(0.6711, device='cuda:0')\n",
      "reward_raw: tensor(0.6412, device='cuda:0') reward: tensor(0.9470, device='cuda:0') factor: tensor(0.6942, device='cuda:0')\n"
     ]
    },
    {
     "name": "stderr",
     "output_type": "stream",
     "text": [
      "Epoch 1, Step 42: Loss = 0.4943, Actor Loss = 0.4217, Critic Loss = 0.1464, Entropy = 0.6054, Returns = 0.9771, Value = 0.9501, mask_loss = 0.5946std_loss = 0.1706:   1%|          | 42/5475 [11:30<25:16:23, 16.75s/it]  "
     ]
    },
    {
     "name": "stdout",
     "output_type": "stream",
     "text": [
      "ratio tensor(0.1449, device='cuda:0', grad_fn=<MeanBackward0>)\n",
      "reward_raw: tensor(0.5235, device='cuda:0') reward: tensor(0.9632, device='cuda:0') factor: tensor(0.5603, device='cuda:0')\n",
      "reward_raw: tensor(0.5122, device='cuda:0') reward: tensor(0.9520, device='cuda:0') factor: tensor(0.5602, device='cuda:0')\n",
      "reward_raw: tensor(0.5015, device='cuda:0') reward: tensor(0.9272, device='cuda:0') factor: tensor(0.5743, device='cuda:0')\n",
      "reward_raw: tensor(0.4976, device='cuda:0') reward: tensor(0.9229, device='cuda:0') factor: tensor(0.5747, device='cuda:0')\n",
      "reward_raw: tensor(0.4765, device='cuda:0') reward: tensor(0.9245, device='cuda:0') factor: tensor(0.5520, device='cuda:0')\n"
     ]
    },
    {
     "name": "stderr",
     "output_type": "stream",
     "text": [
      "Epoch 1, Step 43: Loss = -0.2821, Actor Loss = -0.3389, Critic Loss = 0.1147, Entropy = 0.6146, Returns = 1.0042, Value = 1.0313, mask_loss = 0.5512std_loss = 0.1767:   1%|          | 43/5475 [11:46<25:05:04, 16.62s/it]"
     ]
    },
    {
     "name": "stdout",
     "output_type": "stream",
     "text": [
      "ratio tensor(2.3653, device='cuda:0', grad_fn=<MeanBackward0>)\n",
      "reward_raw: tensor(0.5503, device='cuda:0') reward: tensor(1.0304, device='cuda:0') factor: tensor(0.5199, device='cuda:0')\n",
      "reward_raw: tensor(0.5323, device='cuda:0') reward: tensor(1.0094, device='cuda:0') factor: tensor(0.5229, device='cuda:0')\n",
      "reward_raw: tensor(0.4515, device='cuda:0') reward: tensor(0.9426, device='cuda:0') factor: tensor(0.5089, device='cuda:0')\n",
      "reward_raw: tensor(0.5418, device='cuda:0') reward: tensor(1.0159, device='cuda:0') factor: tensor(0.5260, device='cuda:0')\n",
      "reward_raw: tensor(0.5360, device='cuda:0') reward: tensor(1.0222, device='cuda:0') factor: tensor(0.5138, device='cuda:0')\n"
     ]
    },
    {
     "name": "stderr",
     "output_type": "stream",
     "text": [
      "Epoch 1, Step 44: Loss = 0.1400, Actor Loss = -0.0151, Critic Loss = 0.3115, Entropy = 0.6275, Returns = 1.0186, Value = 0.6838, mask_loss = 0.5294std_loss = 0.1675:   1%|          | 44/5475 [12:05<26:04:55, 17.29s/it] "
     ]
    },
    {
     "name": "stdout",
     "output_type": "stream",
     "text": [
      "ratio tensor(1.0115, device='cuda:0', grad_fn=<MeanBackward0>)\n",
      "reward_raw: tensor(0.5227, device='cuda:0') reward: tensor(1.0165, device='cuda:0') factor: tensor(0.5062, device='cuda:0')\n",
      "reward_raw: tensor(0.5185, device='cuda:0') reward: tensor(0.9920, device='cuda:0') factor: tensor(0.5265, device='cuda:0')\n",
      "reward_raw: tensor(0.5516, device='cuda:0') reward: tensor(1.0251, device='cuda:0') factor: tensor(0.5265, device='cuda:0')\n",
      "reward_raw: tensor(0.4708, device='cuda:0') reward: tensor(0.9442, device='cuda:0') factor: tensor(0.5266, device='cuda:0')\n",
      "reward_raw: tensor(0.5069, device='cuda:0') reward: tensor(0.9728, device='cuda:0') factor: tensor(0.5341, device='cuda:0')\n"
     ]
    },
    {
     "name": "stderr",
     "output_type": "stream",
     "text": [
      "Epoch 1, Step 45: Loss = -0.0799, Actor Loss = -0.1170, Critic Loss = 0.0755, Entropy = 0.6291, Returns = 1.0279, Value = 1.0541, mask_loss = 0.5400std_loss = 0.1581:   1%|          | 45/5475 [12:19<24:39:18, 16.35s/it]"
     ]
    },
    {
     "name": "stdout",
     "output_type": "stream",
     "text": [
      "ratio tensor(1.1681, device='cuda:0', grad_fn=<MeanBackward0>)\n",
      "reward_raw: tensor(0.4989, device='cuda:0') reward: tensor(0.9718, device='cuda:0') factor: tensor(0.5271, device='cuda:0')\n",
      "reward_raw: tensor(0.4655, device='cuda:0') reward: tensor(0.9311, device='cuda:0') factor: tensor(0.5344, device='cuda:0')\n",
      "reward_raw: tensor(0.4780, device='cuda:0') reward: tensor(0.9642, device='cuda:0') factor: tensor(0.5138, device='cuda:0')\n",
      "reward_raw: tensor(0.5191, device='cuda:0') reward: tensor(0.9873, device='cuda:0') factor: tensor(0.5318, device='cuda:0')\n",
      "reward_raw: tensor(0.5487, device='cuda:0') reward: tensor(1.0309, device='cuda:0') factor: tensor(0.5178, device='cuda:0')\n"
     ]
    },
    {
     "name": "stderr",
     "output_type": "stream",
     "text": [
      "Epoch 1, Step 46: Loss = -0.1474, Actor Loss = -0.1590, Critic Loss = 0.0244, Entropy = 0.6057, Returns = 0.9869, Value = 1.0615, mask_loss = 0.5345std_loss = 0.1852:   1%|          | 46/5475 [12:39<26:19:22, 17.45s/it]"
     ]
    },
    {
     "name": "stdout",
     "output_type": "stream",
     "text": [
      "ratio tensor(2.2123, device='cuda:0', grad_fn=<MeanBackward0>)\n",
      "reward_raw: tensor(0.4869, device='cuda:0') reward: tensor(0.9952, device='cuda:0') factor: tensor(0.4917, device='cuda:0')\n",
      "reward_raw: tensor(0.5254, device='cuda:0') reward: tensor(1.0401, device='cuda:0') factor: tensor(0.4853, device='cuda:0')\n",
      "reward_raw: tensor(0.4694, device='cuda:0') reward: tensor(0.9839, device='cuda:0') factor: tensor(0.4855, device='cuda:0')\n",
      "reward_raw: tensor(0.5341, device='cuda:0') reward: tensor(1.0528, device='cuda:0') factor: tensor(0.4813, device='cuda:0')\n",
      "reward_raw: tensor(0.5036, device='cuda:0') reward: tensor(1.0078, device='cuda:0') factor: tensor(0.4958, device='cuda:0')\n"
     ]
    },
    {
     "name": "stderr",
     "output_type": "stream",
     "text": [
      "Epoch 1, Step 47: Loss = 0.0664, Actor Loss = -0.0015, Critic Loss = 0.1369, Entropy = 0.5995, Returns = 1.0176, Value = 1.0470, mask_loss = 0.4926std_loss = 0.2019:   1%|          | 47/5475 [12:57<26:38:10, 17.67s/it] "
     ]
    },
    {
     "name": "stdout",
     "output_type": "stream",
     "text": [
      "ratio tensor(2.0082, device='cuda:0', grad_fn=<MeanBackward0>)\n",
      "reward_raw: tensor(0.5537, device='cuda:0') reward: tensor(1.0575, device='cuda:0') factor: tensor(0.4962, device='cuda:0')\n",
      "reward_raw: tensor(0.5638, device='cuda:0') reward: tensor(1.0530, device='cuda:0') factor: tensor(0.5107, device='cuda:0')\n",
      "reward_raw: tensor(0.6369, device='cuda:0') reward: tensor(1.1100, device='cuda:0') factor: tensor(0.5269, device='cuda:0')\n",
      "reward_raw: tensor(0.5755, device='cuda:0') reward: tensor(1.0525, device='cuda:0') factor: tensor(0.5230, device='cuda:0')\n",
      "reward_raw: tensor(0.5848, device='cuda:0') reward: tensor(1.0670, device='cuda:0') factor: tensor(0.5178, device='cuda:0')\n"
     ]
    },
    {
     "name": "stderr",
     "output_type": "stream",
     "text": [
      "Epoch 1, Step 48: Loss = 0.0495, Actor Loss = -0.0765, Critic Loss = 0.2533, Entropy = 0.5988, Returns = 0.9925, Value = 1.2411, mask_loss = 0.4993std_loss = 0.2054:   1%|          | 48/5475 [13:15<26:39:45, 17.69s/it]"
     ]
    },
    {
     "name": "stdout",
     "output_type": "stream",
     "text": [
      "ratio tensor(1.8662, device='cuda:0', grad_fn=<MeanBackward0>)\n",
      "reward_raw: tensor(0.4885, device='cuda:0') reward: tensor(0.9773, device='cuda:0') factor: tensor(0.5113, device='cuda:0')\n",
      "reward_raw: tensor(0.4632, device='cuda:0') reward: tensor(0.9400, device='cuda:0') factor: tensor(0.5232, device='cuda:0')\n",
      "reward_raw: tensor(0.5176, device='cuda:0') reward: tensor(1.0063, device='cuda:0') factor: tensor(0.5113, device='cuda:0')\n",
      "reward_raw: tensor(0.5216, device='cuda:0') reward: tensor(0.9991, device='cuda:0') factor: tensor(0.5225, device='cuda:0')\n",
      "reward_raw: tensor(0.5142, device='cuda:0') reward: tensor(1.0049, device='cuda:0') factor: tensor(0.5093, device='cuda:0')\n"
     ]
    },
    {
     "name": "stderr",
     "output_type": "stream",
     "text": [
      "Epoch 1, Step 49: Loss = 0.5245, Actor Loss = 0.4495, Critic Loss = 0.1510, Entropy = 0.4664, Returns = 0.9686, Value = 0.7739, mask_loss = 0.7812std_loss = 0.1302:   1%|          | 49/5475 [13:37<28:32:19, 18.93s/it] "
     ]
    },
    {
     "name": "stdout",
     "output_type": "stream",
     "text": [
      "ratio tensor(6.7442e-09, device='cuda:0', grad_fn=<MeanBackward0>)\n",
      "reward_raw: tensor(0.7495, device='cuda:0') reward: tensor(0.9634, device='cuda:0') factor: tensor(0.7861, device='cuda:0')\n",
      "reward_raw: tensor(0.7451, device='cuda:0') reward: tensor(0.9679, device='cuda:0') factor: tensor(0.7773, device='cuda:0')\n",
      "reward_raw: tensor(0.7720, device='cuda:0') reward: tensor(1.0081, device='cuda:0') factor: tensor(0.7638, device='cuda:0')\n",
      "reward_raw: tensor(0.7300, device='cuda:0') reward: tensor(0.9704, device='cuda:0') factor: tensor(0.7596, device='cuda:0')\n",
      "reward_raw: tensor(0.7467, device='cuda:0') reward: tensor(0.9692, device='cuda:0') factor: tensor(0.7774, device='cuda:0')\n"
     ]
    },
    {
     "name": "stderr",
     "output_type": "stream",
     "text": [
      "Epoch 1, Step 50: Loss = -0.5277, Actor Loss = -0.6167, Critic Loss = 0.1789, Entropy = 0.4634, Returns = 0.9828, Value = 1.0906, mask_loss = 0.7762std_loss = 0.1409:   1%|          | 50/5475 [13:50<25:58:39, 17.24s/it]"
     ]
    },
    {
     "name": "stdout",
     "output_type": "stream",
     "text": [
      "ratio tensor(2.4431, device='cuda:0', grad_fn=<MeanBackward0>)\n",
      "reward_raw: tensor(0.7043, device='cuda:0') reward: tensor(0.9566, device='cuda:0') factor: tensor(0.7477, device='cuda:0')\n",
      "reward_raw: tensor(0.7308, device='cuda:0') reward: tensor(0.9758, device='cuda:0') factor: tensor(0.7550, device='cuda:0')\n",
      "reward_raw: tensor(0.6832, device='cuda:0') reward: tensor(0.9212, device='cuda:0') factor: tensor(0.7619, device='cuda:0')\n",
      "reward_raw: tensor(0.7263, device='cuda:0') reward: tensor(0.9819, device='cuda:0') factor: tensor(0.7444, device='cuda:0')\n",
      "reward_raw: tensor(0.7026, device='cuda:0') reward: tensor(0.9397, device='cuda:0') factor: tensor(0.7629, device='cuda:0')\n"
     ]
    },
    {
     "name": "stderr",
     "output_type": "stream",
     "text": [
      "Epoch 1, Step 51: Loss = 0.2367, Actor Loss = 0.1880, Critic Loss = 0.0982, Entropy = 0.4257, Returns = 0.9675, Value = 0.7332, mask_loss = 0.8010std_loss = 0.1370:   1%|          | 51/5475 [14:08<26:04:24, 17.31s/it]  "
     ]
    },
    {
     "name": "stdout",
     "output_type": "stream",
     "text": [
      "ratio tensor(0.5182, device='cuda:0', grad_fn=<MeanBackward0>)\n",
      "\n",
      "reward_raw: tensor(0.7807, device='cuda:0') reward: tensor(0.9377, device='cuda:0') factor: tensor(0.8430, device='cuda:0')\n",
      "reward_raw: tensor(0.7363, device='cuda:0') reward: tensor(0.9011, device='cuda:0') factor: tensor(0.8352, device='cuda:0')\n",
      "reward_raw: tensor(0.7191, device='cuda:0') reward: tensor(0.8932, device='cuda:0') factor: tensor(0.8259, device='cuda:0')\n",
      "reward_raw: tensor(0.7284, device='cuda:0') reward: tensor(0.8865, device='cuda:0') factor: tensor(0.8420, device='cuda:0')\n",
      "reward_raw: tensor(0.7351, device='cuda:0') reward: tensor(0.8861, device='cuda:0') factor: tensor(0.8490, device='cuda:0')\n"
     ]
    },
    {
     "name": "stderr",
     "output_type": "stream",
     "text": [
      "Epoch 1, Step 52: Loss = 0.0159, Actor Loss = -0.0520, Critic Loss = 0.1365, Entropy = 0.3812, Returns = 0.8869, Value = 0.7216, mask_loss = 0.8421std_loss = 0.1151:   1%|          | 52/5475 [14:26<26:33:11, 17.63s/it]"
     ]
    },
    {
     "name": "stdout",
     "output_type": "stream",
     "text": [
      "ratio tensor(1.2476, device='cuda:0', grad_fn=<MeanBackward0>)\n",
      "reward_raw: tensor(0.7849, device='cuda:0') reward: tensor(0.9364, device='cuda:0') factor: tensor(0.8486, device='cuda:0')\n",
      "reward_raw: tensor(0.8320, device='cuda:0') reward: tensor(0.9809, device='cuda:0') factor: tensor(0.8511, device='cuda:0')\n",
      "reward_raw: tensor(0.8374, device='cuda:0') reward: tensor(0.9736, device='cuda:0') factor: tensor(0.8638, device='cuda:0')\n",
      "reward_raw: tensor(0.7855, device='cuda:0') reward: tensor(0.9276, device='cuda:0') factor: tensor(0.8579, device='cuda:0')\n",
      "reward_raw: tensor(0.8071, device='cuda:0') reward: tensor(0.9505, device='cuda:0') factor: tensor(0.8567, device='cuda:0')\n"
     ]
    },
    {
     "name": "stderr",
     "output_type": "stream",
     "text": [
      "Epoch 1, Step 53: Loss = -0.1737, Actor Loss = -0.2151, Critic Loss = 0.0835, Entropy = 0.3522, Returns = 0.9674, Value = 0.9947, mask_loss = 0.8581std_loss = 0.1108:   1%|          | 53/5475 [14:39<24:24:56, 16.21s/it]"
     ]
    },
    {
     "name": "stdout",
     "output_type": "stream",
     "text": [
      "ratio tensor(1.6626, device='cuda:0', grad_fn=<MeanBackward0>)\n",
      "reward_raw: tensor(0.7397, device='cuda:0') reward: tensor(0.8854, device='cuda:0') factor: tensor(0.8543, device='cuda:0')\n",
      "reward_raw: tensor(0.6926, device='cuda:0') reward: tensor(0.8417, device='cuda:0') factor: tensor(0.8509, device='cuda:0')\n",
      "reward_raw: tensor(0.7277, device='cuda:0') reward: tensor(0.8787, device='cuda:0') factor: tensor(0.8490, device='cuda:0')\n",
      "reward_raw: tensor(0.7415, device='cuda:0') reward: tensor(0.8874, device='cuda:0') factor: tensor(0.8541, device='cuda:0')\n",
      "reward_raw: tensor(0.7279, device='cuda:0') reward: tensor(0.8748, device='cuda:0') factor: tensor(0.8531, device='cuda:0')\n"
     ]
    },
    {
     "name": "stderr",
     "output_type": "stream",
     "text": [
      "Epoch 1, Step 54: Loss = -0.0413, Actor Loss = -0.1117, Critic Loss = 0.1415, Entropy = 0.3363, Returns = 0.9141, Value = 0.8448, mask_loss = 0.8636std_loss = 0.1109:   1%|          | 54/5475 [14:52<22:56:39, 15.24s/it]"
     ]
    },
    {
     "name": "stdout",
     "output_type": "stream",
     "text": [
      "ratio tensor(1.1802, device='cuda:0', grad_fn=<MeanBackward0>)\n",
      "reward_raw: tensor(0.7711, device='cuda:0') reward: tensor(0.9140, device='cuda:0') factor: tensor(0.8571, device='cuda:0')\n",
      "reward_raw: tensor(0.7365, device='cuda:0') reward: tensor(0.8795, device='cuda:0') factor: tensor(0.8570, device='cuda:0')\n",
      "reward_raw: tensor(0.7814, device='cuda:0') reward: tensor(0.9227, device='cuda:0') factor: tensor(0.8587, device='cuda:0')\n",
      "reward_raw: tensor(0.7740, device='cuda:0') reward: tensor(0.9224, device='cuda:0') factor: tensor(0.8516, device='cuda:0')\n",
      "reward_raw: tensor(0.7745, device='cuda:0') reward: tensor(0.9110, device='cuda:0') factor: tensor(0.8635, device='cuda:0')\n"
     ]
    },
    {
     "name": "stderr",
     "output_type": "stream",
     "text": [
      "Epoch 1, Step 55: Loss = -0.0286, Actor Loss = -0.0902, Critic Loss = 0.1239, Entropy = 0.3412, Returns = 0.9227, Value = 0.9592, mask_loss = 0.8627std_loss = 0.1098:   1%|          | 55/5475 [15:07<22:41:55, 15.08s/it]"
     ]
    },
    {
     "name": "stdout",
     "output_type": "stream",
     "text": [
      "ratio tensor(0.9636, device='cuda:0', grad_fn=<MeanBackward0>)\n",
      "reward_raw: tensor(0.7466, device='cuda:0') reward: tensor(0.8856, device='cuda:0') factor: tensor(0.8609, device='cuda:0')\n",
      "reward_raw: tensor(0.7855, device='cuda:0') reward: tensor(0.9232, device='cuda:0') factor: tensor(0.8623, device='cuda:0')\n",
      "reward_raw: tensor(0.7643, device='cuda:0') reward: tensor(0.9095, device='cuda:0') factor: tensor(0.8548, device='cuda:0')\n",
      "reward_raw: tensor(0.7786, device='cuda:0') reward: tensor(0.9200, device='cuda:0') factor: tensor(0.8586, device='cuda:0')\n",
      "reward_raw: tensor(0.7772, device='cuda:0') reward: tensor(0.9144, device='cuda:0') factor: tensor(0.8628, device='cuda:0')\n"
     ]
    },
    {
     "name": "stderr",
     "output_type": "stream",
     "text": [
      "Epoch 1, Step 56: Loss = -0.0023, Actor Loss = -0.0394, Critic Loss = 0.0748, Entropy = 0.2996, Returns = 0.9375, Value = 0.8341, mask_loss = 0.8880std_loss = 0.0966:   1%|          | 56/5475 [15:22<22:52:42, 15.20s/it]"
     ]
    },
    {
     "name": "stdout",
     "output_type": "stream",
     "text": [
      "ratio tensor(1.2912, device='cuda:0', grad_fn=<MeanBackward0>)\n",
      "reward_raw: tensor(0.7998, device='cuda:0') reward: tensor(0.9175, device='cuda:0') factor: tensor(0.8823, device='cuda:0')\n",
      "reward_raw: tensor(0.7779, device='cuda:0') reward: tensor(0.9001, device='cuda:0') factor: tensor(0.8778, device='cuda:0')\n",
      "reward_raw: tensor(0.8104, device='cuda:0') reward: tensor(0.9280, device='cuda:0') factor: tensor(0.8824, device='cuda:0')\n",
      "reward_raw: tensor(0.8004, device='cuda:0') reward: tensor(0.9145, device='cuda:0') factor: tensor(0.8859, device='cuda:0')\n",
      "reward_raw: tensor(0.7970, device='cuda:0') reward: tensor(0.9278, device='cuda:0') factor: tensor(0.8693, device='cuda:0')\n"
     ]
    },
    {
     "name": "stderr",
     "output_type": "stream",
     "text": [
      "Epoch 1, Step 57: Loss = -0.0532, Actor Loss = -0.0934, Critic Loss = 0.0809, Entropy = 0.2932, Returns = 0.9000, Value = 0.9223, mask_loss = 0.8826std_loss = 0.1091:   1%|          | 57/5475 [15:43<25:28:45, 16.93s/it]"
     ]
    },
    {
     "name": "stdout",
     "output_type": "stream",
     "text": [
      "ratio tensor(2.1794, device='cuda:0', grad_fn=<MeanBackward0>)\n",
      "reward_raw: tensor(0.7770, device='cuda:0') reward: tensor(0.8968, device='cuda:0') factor: tensor(0.8802, device='cuda:0')\n",
      "reward_raw: tensor(0.8150, device='cuda:0') reward: tensor(0.9441, device='cuda:0') factor: tensor(0.8710, device='cuda:0')\n"
     ]
    }
   ],
   "source": [
    "mask_gen_model.train()\n",
    "for epoch in range(1):\n",
    "    pbar = tqdm(train_dataloader)\n",
    "    for idx, data in enumerate(pbar):\n",
    "        input_ids = data['input_ids'].to(device)\n",
    "        attention_mask = data['attention_mask'].to(device)\n",
    "        context_mask = data['context_mask'].to(device)\n",
    "        # get generated texts\n",
    "        gen_outputs = model.generate(\n",
    "            input_ids=input_ids,\n",
    "            attention_mask=attention_mask,\n",
    "            max_new_tokens=128,\n",
    "            eos_token_id=terminators,\n",
    "            pad_token_id=tokenizer.pad_token_id,\n",
    "            do_sample=True,\n",
    "            temperature=0.6,\n",
    "            top_p=0.9,\n",
    "            return_dict_in_generate=True,\n",
    "            output_scores=True,\n",
    "        )\n",
    "        gen_tokens = gen_outputs.sequences\n",
    "        pad_length = gen_tokens.size(1) - input_ids.size(1)\n",
    "        # get the attention mask for the generated tokens, and also mask the padding tokens\n",
    "        gen_attention_mask = F.pad(attention_mask, (0, pad_length), mode='constant', value=1)\n",
    "        # (gen_tokens != pad_token_id).long() is the tokens mask, 1 for real tokens and 0 for padding tokens\n",
    "        unpaded_token_mask = (gen_tokens != tokenizer.pad_token_id).long()\n",
    "        unpaded_token_mask[:, :-pad_length] = 1\n",
    "        gen_attention_mask = gen_attention_mask * unpaded_token_mask\n",
    "\n",
    "        # get the response mask, which is the mask for the generated tokens (the user inputs are masked with 0)\n",
    "        response_mask = gen_attention_mask.clone()\n",
    "        response_mask[:, :-pad_length] = 0 # TODO: 有问题. 有问题吗？\n",
    "\n",
    "        context_mask = F.pad(context_mask, (0, pad_length), mode='constant', value=0)\n",
    "\n",
    "        loss_dict = mask_gen_model.train_one_batch(model, gen_tokens, gen_attention_mask, context_mask, response_mask, optimizer,\n",
    "                                                   num_steps=5, mini_batch_size=16, ppo_epochs=2)\n",
    "\n",
    "\n",
    "        log = f\"Epoch {epoch+1}, Step {idx+1}: Loss = {loss_dict['loss']:.4f}, \" \\\n",
    "               f\"Actor Loss = {loss_dict['actor_loss']:.4f}, \" \\\n",
    "               f\"Critic Loss = {loss_dict['critic_loss']:.4f}, \" \\\n",
    "               f\"Entropy = {loss_dict['entropy']:.4f}, \" \\\n",
    "               f\"Returns = {loss_dict['returns']:.4f}, \" \\\n",
    "               f\"Value = {loss_dict['value']:.4f}, \" \\\n",
    "                f\"mask_loss = {loss_dict['mask_loss']:.4f}\" \\\n",
    "                f\"std_loss = {loss_dict['std_loss']:.4f}\" \\\n",
    "            #    f\"Cont_loss = {loss_dict['contrast_loss']:.4f}, \"  \\\n",
    "               \n",
    "        pbar.set_description(log)\n",
    "\n",
    "        if idx % 10 == 0:\n",
    "            print()\n",
    "        if idx % 20 == 0 and idx != 0:\n",
    "            torch.save(mask_gen_model.state_dict(), f'saved_model/squad_kldv_{epoch}_{idx}.pth') "
   ]
  },
  {
   "cell_type": "code",
   "execution_count": 8,
   "metadata": {},
   "outputs": [],
   "source": [
    "import numpy as np\n",
    "import torch.nn.functional as F\n",
    "from datasets import Dataset\n",
    "\n",
    "# mask_gen_model.load_state_dict(torch.load('saved_model/squad_kldv_0_40.pth',map_location=device))\n",
    "\n",
    "mask_gen_model.eval()\n",
    "\n",
    "test_dataloader = DataLoader(train_ds, batch_size=batch_size, collate_fn=collate_fn, shuffle=False)\n",
    "\n",
    "test_inputs = next(iter(test_dataloader)).to(device)\n",
    "# test_inputs = next(iter(train_dataloader)).to(device)\n",
    "\n",
    "# tokens = tokenizer.convert_ids_to_tokens(test_inputs['input_ids'][idx])\n",
    "\n",
    "\n",
    "\n",
    "# data_dict = {\n",
    "#     'sentence': [\"I absolutely love this product! It exceeded all my expectations.\", \n",
    "#              \"The movie was fantastic, and the acting was top-notch.\",\n",
    "#              \"This restaurant offers great service and delicious food. Highly recommend!\",\n",
    "#              \"The product works as advertised, nothing more, nothing less.\",\n",
    "#              \"The event was well-organized, but it didn’t leave a lasting impression.\",\n",
    "#              \"t’s an average phone, nothing special but it does the job.\",\n",
    "#              \"I’m really disappointed with this purchase. It broke within a week.\",\n",
    "#              \"The movie was too long and boring, I wouldn’t recommend it.\",\n",
    "#              \"Terrible customer service, I won’t be coming back to this place.\"],\n",
    "#     'label': [1, 1, 1, 0, 0, 0, -1, -1, -1]\n",
    "# }\n",
    "# manual_test_data = Dataset.from_dict(data_dict)\n",
    "\n",
    "# manual_test_dataloader = DataLoader(manual_test_data, batch_size=9, collate_fn=collate_fn, shuffle=False)\n",
    "# #\n",
    "# test_inputs = next(iter(manual_test_dataloader)).to(device)\n",
    "\n",
    "\n",
    "# generate the answer for the test inputs\n",
    "gen_outputs = model.generate(\n",
    "            input_ids=test_inputs['input_ids'],\n",
    "            attention_mask=test_inputs['attention_mask'],\n",
    "            max_new_tokens=128,\n",
    "            eos_token_id=terminators,\n",
    "            pad_token_id=tokenizer.pad_token_id,\n",
    "            do_sample=True,\n",
    "            temperature=0.6,\n",
    "            top_p=0.9,\n",
    "            return_dict_in_generate=True,\n",
    "            output_scores=True,\n",
    "        )\n",
    "input_ids = test_inputs['input_ids']\n",
    "attention_mask = test_inputs['attention_mask']\n",
    "gen_tokens = gen_outputs.sequences\n",
    "pad_length = gen_tokens.size(1) - input_ids.size(1)\n",
    "# get the attention mask for the generated tokens, and also mask the padding tokens\n",
    "gen_attention_mask = F.pad(attention_mask, (0, pad_length), mode='constant', value=1)\n",
    "context_mask = F.pad(test_inputs['context_mask'], (0, pad_length), mode='constant', value=0)\n",
    "# (gen_tokens != pad_token_id).long() is the tokens mask, 1 for real tokens and 0 for padding tokens\n",
    "unpaded_token_mask = (gen_tokens != tokenizer.pad_token_id).long()\n",
    "unpaded_token_mask[:, :-pad_length] = 1\n",
    "gen_attention_mask = gen_attention_mask * unpaded_token_mask\n",
    "\n",
    "response_mask = gen_attention_mask.clone()\n",
    "response_mask[:, :-pad_length] = 0 # TODO: 有问题. 有问题吗？\n",
    "\n",
    "# context_mask = F.pad(context_mask, (0, pad_length), mode='constant', value=0)\n",
    "\n",
    "# with torch.no_grad():\n",
    "#     # prompt_outputs = model(input_ids=test_inputs['input_ids'], attention_mask=test_inputs['attention_mask'], output_hidden_states=True, return_dict=True)\n",
    "#     prompt_outputs = model(input_ids=gen_tokens, attention_mask=gen_attention_mask, output_hidden_states=True, return_dict=True)\n",
    "\n",
    "#     last_hidden_state = prompt_outputs.hidden_states[-1].float()\n",
    "#     mask_logits = mask_gen_model(last_hidden_state)\n",
    "\n",
    "\n",
    "with torch.no_grad():\n",
    "    state = gen_tokens, gen_attention_mask, context_mask, response_mask\n",
    "    dist, value = mask_gen_model.get_dist_critic(model, state)\n",
    "\n",
    "mask_logits = dist.logits"
   ]
  },
  {
   "cell_type": "code",
   "execution_count": 9,
   "metadata": {},
   "outputs": [],
   "source": [
    "import random\n",
    "# idx = random.randint(0, 8)\n",
    "idx = 0\n",
    "test_ids = gen_tokens[idx]\n",
    "test_mask = gen_attention_mask[idx]\n",
    "test_mask_prob = torch.sigmoid(mask_logits[idx])\n",
    "# inverse TODO\n",
    "# test_mask_prob = 1 - test_mask_prob\n",
    "test_context_mask = context_mask[idx]\n",
    "\n",
    "test_tokens = tokenizer.convert_ids_to_tokens(test_ids)\n",
    "scores = test_mask_prob * test_context_mask\n",
    "\n",
    "def normalize_except_zeros(array):\n",
    "    # Create a mask to identify non-zero elements\n",
    "    mask = (array > 0)\n",
    "    \n",
    "    # Extract non-zero elements\n",
    "    non_zero_elements = array[mask]\n",
    "    \n",
    "    # Normalize non-zero elements\n",
    "    min_val = np.min(non_zero_elements)\n",
    "    max_val = np.max(non_zero_elements)\n",
    "\n",
    "    normalized_non_zero_elements = (non_zero_elements - min_val) / (max_val - min_val)\n",
    "    \n",
    "    # Create a copy of the original array to preserve zero values\n",
    "    normalized_array = np.copy(array)\n",
    "    \n",
    "    # Assign normalized values back to the corresponding positions\n",
    "    normalized_array[mask] = normalized_non_zero_elements\n",
    "    \n",
    "    return normalized_array\n",
    "scores = normalize_except_zeros(scores.detach().cpu().numpy())\n",
    "\n",
    "# # remove special tokens\n",
    "# filtered_token_scores = [(token, score) for token, score in zip(test_tokens, scores) if token not in tokenizer.all_special_tokens]\n",
    "filtered_token_scores = [(token, score) for token, score in zip(test_tokens, scores) ]"
   ]
  },
  {
   "cell_type": "code",
   "execution_count": 10,
   "metadata": {},
   "outputs": [
    {
     "name": "stdout",
     "output_type": "stream",
     "text": [
      "Token: <|eot_id|>, Score: 0.0\n",
      "Token: <|eot_id|>, Score: 0.0\n",
      "Token: <|eot_id|>, Score: 0.0\n",
      "Token: <|eot_id|>, Score: 0.0\n",
      "Token: <|eot_id|>, Score: 0.0\n",
      "Token: <|eot_id|>, Score: 0.0\n",
      "Token: <|eot_id|>, Score: 0.0\n",
      "Token: <|eot_id|>, Score: 0.0\n",
      "Token: <|eot_id|>, Score: 0.0\n",
      "Token: <|eot_id|>, Score: 0.0\n",
      "Token: <|eot_id|>, Score: 0.0\n",
      "Token: <|eot_id|>, Score: 0.0\n",
      "Token: <|eot_id|>, Score: 0.0\n",
      "Token: <|eot_id|>, Score: 0.0\n",
      "Token: <|eot_id|>, Score: 0.0\n",
      "Token: <|eot_id|>, Score: 0.0\n",
      "Token: <|eot_id|>, Score: 0.0\n",
      "Token: <|eot_id|>, Score: 0.0\n",
      "Token: <|eot_id|>, Score: 0.0\n",
      "Token: <|eot_id|>, Score: 0.0\n",
      "Token: <|eot_id|>, Score: 0.0\n",
      "Token: <|eot_id|>, Score: 0.0\n",
      "Token: <|eot_id|>, Score: 0.0\n",
      "Token: <|eot_id|>, Score: 0.0\n",
      "Token: <|eot_id|>, Score: 0.0\n",
      "Token: <|eot_id|>, Score: 0.0\n",
      "Token: <|eot_id|>, Score: 0.0\n",
      "Token: <|eot_id|>, Score: 0.0\n",
      "Token: <|eot_id|>, Score: 0.0\n",
      "Token: <|eot_id|>, Score: 0.0\n",
      "Token: <|eot_id|>, Score: 0.0\n",
      "Token: <|eot_id|>, Score: 0.0\n",
      "Token: <|eot_id|>, Score: 0.0\n",
      "Token: <|eot_id|>, Score: 0.0\n",
      "Token: <|eot_id|>, Score: 0.0\n",
      "Token: <|eot_id|>, Score: 0.0\n",
      "Token: <|eot_id|>, Score: 0.0\n",
      "Token: <|eot_id|>, Score: 0.0\n",
      "Token: <|eot_id|>, Score: 0.0\n",
      "Token: <|eot_id|>, Score: 0.0\n",
      "Token: <|eot_id|>, Score: 0.0\n",
      "Token: <|eot_id|>, Score: 0.0\n",
      "Token: <|eot_id|>, Score: 0.0\n",
      "Token: <|eot_id|>, Score: 0.0\n",
      "Token: <|eot_id|>, Score: 0.0\n",
      "Token: <|eot_id|>, Score: 0.0\n",
      "Token: <|eot_id|>, Score: 0.0\n",
      "Token: <|eot_id|>, Score: 0.0\n",
      "Token: <|eot_id|>, Score: 0.0\n",
      "Token: <|eot_id|>, Score: 0.0\n",
      "Token: <|eot_id|>, Score: 0.0\n",
      "Token: <|eot_id|>, Score: 0.0\n",
      "Token: <|eot_id|>, Score: 0.0\n",
      "Token: <|eot_id|>, Score: 0.0\n",
      "Token: <|eot_id|>, Score: 0.0\n",
      "Token: <|eot_id|>, Score: 0.0\n",
      "Token: <|eot_id|>, Score: 0.0\n",
      "Token: <|eot_id|>, Score: 0.0\n",
      "Token: <|eot_id|>, Score: 0.0\n",
      "Token: <|eot_id|>, Score: 0.0\n",
      "Token: <|eot_id|>, Score: 0.0\n",
      "Token: <|eot_id|>, Score: 0.0\n",
      "Token: <|eot_id|>, Score: 0.0\n",
      "Token: <|eot_id|>, Score: 0.0\n",
      "Token: <|eot_id|>, Score: 0.0\n",
      "Token: <|eot_id|>, Score: 0.0\n",
      "Token: <|eot_id|>, Score: 0.0\n",
      "Token: <|eot_id|>, Score: 0.0\n",
      "Token: <|eot_id|>, Score: 0.0\n",
      "Token: <|eot_id|>, Score: 0.0\n",
      "Token: <|eot_id|>, Score: 0.0\n",
      "Token: <|eot_id|>, Score: 0.0\n",
      "Token: <|eot_id|>, Score: 0.0\n",
      "Token: <|eot_id|>, Score: 0.0\n",
      "Token: <|eot_id|>, Score: 0.0\n",
      "Token: <|eot_id|>, Score: 0.0\n",
      "Token: <|eot_id|>, Score: 0.0\n",
      "Token: <|eot_id|>, Score: 0.0\n",
      "Token: <|eot_id|>, Score: 0.0\n",
      "Token: <|eot_id|>, Score: 0.0\n",
      "Token: <|eot_id|>, Score: 0.0\n",
      "Token: <|eot_id|>, Score: 0.0\n",
      "Token: <|eot_id|>, Score: 0.0\n",
      "Token: <|eot_id|>, Score: 0.0\n",
      "Token: <|eot_id|>, Score: 0.0\n",
      "Token: <|eot_id|>, Score: 0.0\n",
      "Token: <|eot_id|>, Score: 0.0\n",
      "Token: <|eot_id|>, Score: 0.0\n",
      "Token: <|eot_id|>, Score: 0.0\n",
      "Token: <|eot_id|>, Score: 0.0\n",
      "Token: <|eot_id|>, Score: 0.0\n",
      "Token: <|eot_id|>, Score: 0.0\n",
      "Token: <|eot_id|>, Score: 0.0\n",
      "Token: <|eot_id|>, Score: 0.0\n",
      "Token: <|eot_id|>, Score: 0.0\n",
      "Token: <|eot_id|>, Score: 0.0\n",
      "Token: <|eot_id|>, Score: 0.0\n",
      "Token: <|eot_id|>, Score: 0.0\n",
      "Token: <|eot_id|>, Score: 0.0\n",
      "Token: <|eot_id|>, Score: 0.0\n",
      "Token: <|eot_id|>, Score: 0.0\n",
      "Token: <|eot_id|>, Score: 0.0\n",
      "Token: <|eot_id|>, Score: 0.0\n",
      "Token: <|begin_of_text|>, Score: 0.0\n",
      "Token: <|start_header_id|>, Score: 0.0\n",
      "Token: system, Score: 0.0\n",
      "Token: <|end_header_id|>, Score: 0.0\n",
      "Token: ĊĊ, Score: 0.0\n",
      "Token: You, Score: 0.0\n",
      "Token: Ġare, Score: 0.0\n",
      "Token: Ġa, Score: 0.0\n",
      "Token: Ġchat, Score: 0.0\n",
      "Token: bot, Score: 0.0\n",
      "Token: Ġfor, Score: 0.0\n",
      "Token: Ġanswering, Score: 0.0\n",
      "Token: Ġquestions, Score: 0.0\n",
      "Token: ., Score: 0.0\n",
      "Token: ĠYour, Score: 0.0\n",
      "Token: Ġreply, Score: 0.0\n",
      "Token: Ġwith, Score: 0.0\n",
      "Token: Ġa, Score: 0.0\n",
      "Token: Ġshort, Score: 0.0\n",
      "Token: Ġanswer, Score: 0.0\n",
      "Token: Ġto, Score: 0.0\n",
      "Token: Ġthe, Score: 0.0\n",
      "Token: Ġquestion, Score: 0.0\n",
      "Token: Ġprovided, Score: 0.0\n",
      "Token: Ġin, Score: 0.0\n",
      "Token: Ġthe, Score: 0.0\n",
      "Token: Ġcontext, Score: 0.0\n",
      "Token: ., Score: 0.0\n",
      "Token: <|eot_id|>, Score: 0.0\n",
      "Token: <|start_header_id|>, Score: 0.0\n",
      "Token: user, Score: 0.0\n",
      "Token: <|end_header_id|>, Score: 0.0\n",
      "Token: ĊĊ, Score: 0.0\n",
      "Token: Question, Score: 0.6352543830871582\n",
      "Token: :, Score: 0.31971803307533264\n",
      "Token: ĠTo, Score: 0.2605123817920685\n",
      "Token: Ġwhom, Score: 0.9382080435752869\n",
      "Token: Ġdid, Score: 1.0\n",
      "Token: Ġthe, Score: 0.9286738038063049\n",
      "Token: ĠVirgin, Score: 0.5535561442375183\n",
      "Token: ĠMary, Score: 0.3018410801887512\n",
      "Token: Ġallegedly, Score: 0.2097005695104599\n",
      "Token: Ġappear, Score: 0.47037193179130554\n",
      "Token: Ġin, Score: 0.051426760852336884\n",
      "Token: Ġ, Score: 0.10702110826969147\n",
      "Token: 185, Score: 0.3031545579433441\n",
      "Token: 8, Score: 0.709132194519043\n",
      "Token: Ġin, Score: 0.17966242134571075\n",
      "Token: ĠL, Score: 0.19266539812088013\n",
      "Token: our, Score: 0.28799208998680115\n",
      "Token: des, Score: 0.5139017701148987\n",
      "Token: ĠFrance, Score: 0.7735828757286072\n",
      "Token: ?Ċ, Score: 0.377458781003952\n",
      "Token: Context, Score: 0.5128819942474365\n",
      "Token: :, Score: 0.47287070751190186\n",
      "Token: ĠArchitect, Score: 0.49464285373687744\n",
      "Token: urally, Score: 0.41434556245803833\n",
      "Token: ,, Score: 0.415230929851532\n",
      "Token: Ġthe, Score: 0.31225383281707764\n",
      "Token: Ġschool, Score: 0.5055921673774719\n",
      "Token: Ġhas, Score: 0.271166056394577\n",
      "Token: Ġa, Score: 0.6236045956611633\n",
      "Token: ĠCatholic, Score: 0.6727266311645508\n",
      "Token: Ġcharacter, Score: 0.7298494577407837\n",
      "Token: ., Score: 0.6849147081375122\n",
      "Token: ĠAt, Score: 0.5892001986503601\n",
      "Token: op, Score: 0.6055938601493835\n",
      "Token: Ġthe, Score: 0.5297234654426575\n",
      "Token: ĠMain, Score: 0.43690571188926697\n",
      "Token: ĠBuilding, Score: 0.494814932346344\n",
      "Token: 's, Score: 0.47405993938446045\n",
      "Token: Ġgold, Score: 0.38073739409446716\n",
      "Token: Ġdome, Score: 0.4739491641521454\n",
      "Token: Ġis, Score: 0.6579253673553467\n",
      "Token: Ġa, Score: 0.44207996129989624\n",
      "Token: Ġgolden, Score: 0.4197731912136078\n",
      "Token: Ġstatue, Score: 0.5262632369995117\n",
      "Token: Ġof, Score: 0.433314710855484\n",
      "Token: Ġthe, Score: 0.33762285113334656\n",
      "Token: ĠVirgin, Score: 0.2638395130634308\n",
      "Token: ĠMary, Score: 0.34441477060317993\n",
      "Token: ., Score: 0.5952837467193604\n",
      "Token: ĠImmediately, Score: 0.36102545261383057\n",
      "Token: Ġin, Score: 0.4831310212612152\n",
      "Token: Ġfront, Score: 0.5986666083335876\n",
      "Token: Ġof, Score: 0.6928686499595642\n",
      "Token: Ġthe, Score: 0.6313480734825134\n",
      "Token: ĠMain, Score: 0.5219842195510864\n",
      "Token: ĠBuilding, Score: 0.5388568043708801\n",
      "Token: Ġand, Score: 0.30904504656791687\n",
      "Token: Ġfacing, Score: 0.43726038932800293\n",
      "Token: Ġit, Score: 0.22253865003585815\n",
      "Token: ,, Score: 0.36322692036628723\n",
      "Token: Ġis, Score: 0.6225254535675049\n",
      "Token: Ġa, Score: 0.4469667077064514\n",
      "Token: Ġcopper, Score: 0.5037348866462708\n",
      "Token: Ġstatue, Score: 0.3393136262893677\n",
      "Token: Ġof, Score: 0.46745094656944275\n",
      "Token: ĠChrist, Score: 0.30077511072158813\n",
      "Token: Ġwith, Score: 0.3954606354236603\n",
      "Token: Ġarms, Score: 0.22659511864185333\n",
      "Token: Ġup, Score: 0.3935109078884125\n",
      "Token: raised, Score: 0.4491337835788727\n",
      "Token: Ġwith, Score: 0.5246236324310303\n",
      "Token: Ġthe, Score: 0.41179367899894714\n",
      "Token: Ġlegend, Score: 0.2601242661476135\n",
      "Token: Ġ\", Score: 0.10962674766778946\n",
      "Token: Ven, Score: 0.3199845552444458\n",
      "Token: ite, Score: 0.37929970026016235\n",
      "Token: ĠAd, Score: 0.4564586877822876\n",
      "Token: ĠMe, Score: 0.42730098962783813\n",
      "Token: ĠOm, Score: 0.43203631043434143\n",
      "Token: nes, Score: 0.37276574969291687\n",
      "Token: \"., Score: 0.5361610054969788\n",
      "Token: ĠNext, Score: 0.5949916839599609\n",
      "Token: Ġto, Score: 0.6810214519500732\n",
      "Token: Ġthe, Score: 0.4632715582847595\n",
      "Token: ĠMain, Score: 0.7111530303955078\n",
      "Token: ĠBuilding, Score: 0.5568878054618835\n",
      "Token: Ġis, Score: 0.7055470943450928\n",
      "Token: Ġthe, Score: 0.658950686454773\n",
      "Token: ĠBasil, Score: 0.49676334857940674\n",
      "Token: ica, Score: 0.37628331780433655\n",
      "Token: Ġof, Score: 0.48647943139076233\n",
      "Token: Ġthe, Score: 0.34120237827301025\n",
      "Token: ĠSacred, Score: 0.31468671560287476\n",
      "Token: ĠHeart, Score: 0.5479668974876404\n",
      "Token: ., Score: 0.5896968245506287\n",
      "Token: ĠImmediately, Score: 0.3129497468471527\n",
      "Token: Ġbehind, Score: 0.7093891501426697\n",
      "Token: Ġthe, Score: 0.5444535613059998\n",
      "Token: Ġbasil, Score: 0.5789048075675964\n",
      "Token: ica, Score: 0.6244860291481018\n",
      "Token: Ġis, Score: 0.6354219317436218\n",
      "Token: Ġthe, Score: 0.5903520584106445\n",
      "Token: ĠG, Score: 0.16221456229686737\n",
      "Token: rot, Score: 0.30016639828681946\n",
      "Token: to, Score: 0.40165823698043823\n",
      "Token: ,, Score: 0.30762240290641785\n",
      "Token: Ġa, Score: 0.5017979741096497\n",
      "Token: ĠMarian, Score: 0.6011679768562317\n",
      "Token: Ġplace, Score: 0.3756139576435089\n",
      "Token: Ġof, Score: 0.2891360819339752\n",
      "Token: Ġprayer, Score: 0.47958362102508545\n",
      "Token: Ġand, Score: 0.27778586745262146\n",
      "Token: Ġreflection, Score: 0.553032636642456\n",
      "Token: ., Score: 0.5964552760124207\n",
      "Token: ĠIt, Score: 0.30188336968421936\n",
      "Token: Ġis, Score: 0.394670307636261\n",
      "Token: Ġa, Score: 0.5411890745162964\n",
      "Token: Ġreplica, Score: 0.6861419677734375\n",
      "Token: Ġof, Score: 0.4032175838947296\n",
      "Token: Ġthe, Score: 0.3997059166431427\n",
      "Token: Ġg, Score: 0.3027215600013733\n",
      "Token: rot, Score: 0.33950406312942505\n",
      "Token: to, Score: 0.4323670566082001\n",
      "Token: Ġat, Score: 0.3802935481071472\n",
      "Token: ĠL, Score: 0.47019195556640625\n",
      "Token: our, Score: 0.3260729908943176\n",
      "Token: des, Score: 0.5851054191589355\n",
      "Token: ,, Score: 0.43858566880226135\n",
      "Token: ĠFrance, Score: 0.6188699007034302\n",
      "Token: Ġwhere, Score: 0.4354473352432251\n",
      "Token: Ġthe, Score: 0.49897727370262146\n",
      "Token: ĠVirgin, Score: 0.28284406661987305\n",
      "Token: ĠMary, Score: 0.2668361961841583\n",
      "Token: Ġreputed, Score: 0.5651026964187622\n",
      "Token: ly, Score: 0.20030957460403442\n",
      "Token: Ġappeared, Score: 0.5294559597969055\n",
      "Token: Ġto, Score: 0.2750910520553589\n",
      "Token: ĠSaint, Score: 0.2328455150127411\n",
      "Token: ĠBern, Score: 0.09939003735780716\n",
      "Token: ad, Score: 0.31267470121383667\n",
      "Token: ette, Score: 0.17349988222122192\n",
      "Token: ĠS, Score: 0.29885292053222656\n",
      "Token: oub, Score: 0.17241685092449188\n",
      "Token: ir, Score: 0.4232507646083832\n",
      "Token: ous, Score: 0.4766750931739807\n",
      "Token: Ġin, Score: 0.31681933999061584\n",
      "Token: Ġ, Score: 0.26300525665283203\n",
      "Token: 185, Score: 0.3257579803466797\n",
      "Token: 8, Score: 0.499202162027359\n",
      "Token: ., Score: 0.634160578250885\n",
      "Token: ĠAt, Score: 0.5637597441673279\n",
      "Token: Ġthe, Score: 0.5273112058639526\n",
      "Token: Ġend, Score: 0.7883765697479248\n",
      "Token: Ġof, Score: 0.7510879635810852\n",
      "Token: Ġthe, Score: 0.47830718755722046\n",
      "Token: Ġmain, Score: 0.40236103534698486\n",
      "Token: Ġdrive, Score: 0.48051390051841736\n",
      "Token: Ġ(, Score: 0.0\n",
      "Token: and, Score: 0.13646790385246277\n",
      "Token: Ġin, Score: 0.21935772895812988\n",
      "Token: Ġa, Score: 0.20147553086280823\n",
      "Token: Ġdirect, Score: 0.22436808049678802\n",
      "Token: Ġline, Score: 0.07467003911733627\n",
      "Token: Ġthat, Score: 0.19168201088905334\n",
      "Token: Ġconnects, Score: 0.4694150984287262\n",
      "Token: Ġthrough, Score: 0.4701401889324188\n",
      "Token: Ġ, Score: 0.5826361179351807\n",
      "Token: 3, Score: 0.2668483257293701\n",
      "Token: Ġstatues, Score: 0.04592996835708618\n",
      "Token: Ġand, Score: 0.2837091088294983\n",
      "Token: Ġthe, Score: 0.4383774995803833\n",
      "Token: ĠGold, Score: 0.32251349091529846\n",
      "Token: ĠDome, Score: 0.15817317366600037\n",
      "Token: ),, Score: 0.4542103409767151\n",
      "Token: Ġis, Score: 0.6017056107521057\n",
      "Token: Ġa, Score: 0.3595483899116516\n",
      "Token: Ġsimple, Score: 0.4846014976501465\n",
      "Token: ,, Score: 0.27992111444473267\n",
      "Token: Ġmodern, Score: 0.5774641633033752\n",
      "Token: Ġstone, Score: 0.5129075646400452\n",
      "Token: Ġstatue, Score: 0.3638674318790436\n",
      "Token: Ġof, Score: 0.6051336526870728\n",
      "Token: ĠMary, Score: 0.49419212341308594\n",
      "Token: ., Score: 0.5896984338760376\n",
      "Token: <|eot_id|>, Score: 0.0\n",
      "Token: <|start_header_id|>, Score: 0.0\n",
      "Token: assistant, Score: 0.0\n",
      "Token: <|end_header_id|>, Score: 0.0\n",
      "Token: ĊĊ, Score: 0.0\n",
      "Token: The, Score: 0.0\n",
      "Token: ĠVirgin, Score: 0.0\n",
      "Token: ĠMary, Score: 0.0\n",
      "Token: Ġallegedly, Score: 0.0\n",
      "Token: Ġappeared, Score: 0.0\n",
      "Token: Ġto, Score: 0.0\n",
      "Token: ĠSaint, Score: 0.0\n",
      "Token: ĠBern, Score: 0.0\n",
      "Token: ad, Score: 0.0\n",
      "Token: ette, Score: 0.0\n",
      "Token: ĠS, Score: 0.0\n",
      "Token: oub, Score: 0.0\n",
      "Token: ir, Score: 0.0\n",
      "Token: ous, Score: 0.0\n",
      "Token: Ġin, Score: 0.0\n",
      "Token: ĠL, Score: 0.0\n",
      "Token: our, Score: 0.0\n",
      "Token: des, Score: 0.0\n",
      "Token: ,, Score: 0.0\n",
      "Token: ĠFrance, Score: 0.0\n",
      "Token: Ġin, Score: 0.0\n",
      "Token: Ġ, Score: 0.0\n",
      "Token: 185, Score: 0.0\n",
      "Token: 8, Score: 0.0\n",
      "Token: ., Score: 0.0\n",
      "Token: <|eot_id|>, Score: 0.0\n",
      "Token: <|eot_id|>, Score: 0.0\n",
      "Token: <|eot_id|>, Score: 0.0\n",
      "Token: <|eot_id|>, Score: 0.0\n",
      "Token: <|eot_id|>, Score: 0.0\n",
      "Token: <|eot_id|>, Score: 0.0\n",
      "Token: <|eot_id|>, Score: 0.0\n",
      "Token: <|eot_id|>, Score: 0.0\n",
      "Token: <|eot_id|>, Score: 0.0\n",
      "Token: <|eot_id|>, Score: 0.0\n",
      "Token: <|eot_id|>, Score: 0.0\n",
      "Token: <|eot_id|>, Score: 0.0\n",
      "Token: <|eot_id|>, Score: 0.0\n",
      "Token: <|eot_id|>, Score: 0.0\n",
      "Token: <|eot_id|>, Score: 0.0\n",
      "Token: <|eot_id|>, Score: 0.0\n",
      "Token: <|eot_id|>, Score: 0.0\n",
      "Token: <|eot_id|>, Score: 0.0\n",
      "Token: <|eot_id|>, Score: 0.0\n",
      "Token: <|eot_id|>, Score: 0.0\n",
      "Token: <|eot_id|>, Score: 0.0\n",
      "Token: <|eot_id|>, Score: 0.0\n",
      "Token: <|eot_id|>, Score: 0.0\n",
      "Token: <|eot_id|>, Score: 0.0\n",
      "Token: <|eot_id|>, Score: 0.0\n",
      "Token: <|eot_id|>, Score: 0.0\n",
      "Token: <|eot_id|>, Score: 0.0\n",
      "Token: <|eot_id|>, Score: 0.0\n",
      "Token: <|eot_id|>, Score: 0.0\n",
      "Token: <|eot_id|>, Score: 0.0\n",
      "Token: <|eot_id|>, Score: 0.0\n",
      "Token: <|eot_id|>, Score: 0.0\n",
      "Token: <|eot_id|>, Score: 0.0\n",
      "Token: <|eot_id|>, Score: 0.0\n",
      "Token: <|eot_id|>, Score: 0.0\n",
      "Token: <|eot_id|>, Score: 0.0\n",
      "Token: <|eot_id|>, Score: 0.0\n",
      "Token: <|eot_id|>, Score: 0.0\n"
     ]
    }
   ],
   "source": [
    "for token, score in filtered_token_scores:\n",
    "    print(f\"Token: {token}, Score: {score}\")"
   ]
  },
  {
   "cell_type": "code",
   "execution_count": 11,
   "metadata": {},
   "outputs": [
    {
     "data": {
      "text/html": [
       "<span style=\"background-color: rgb(255, 255, 255); color: black;\"><|eot_id|></span> <span style=\"background-color: rgb(255, 255, 255); color: black;\"><|eot_id|></span> <span style=\"background-color: rgb(255, 255, 255); color: black;\"><|eot_id|></span> <span style=\"background-color: rgb(255, 255, 255); color: black;\"><|eot_id|></span> <span style=\"background-color: rgb(255, 255, 255); color: black;\"><|eot_id|></span> <span style=\"background-color: rgb(255, 255, 255); color: black;\"><|eot_id|></span> <span style=\"background-color: rgb(255, 255, 255); color: black;\"><|eot_id|></span> <span style=\"background-color: rgb(255, 255, 255); color: black;\"><|eot_id|></span> <span style=\"background-color: rgb(255, 255, 255); color: black;\"><|eot_id|></span> <span style=\"background-color: rgb(255, 255, 255); color: black;\"><|eot_id|></span> <span style=\"background-color: rgb(255, 255, 255); color: black;\"><|eot_id|></span> <span style=\"background-color: rgb(255, 255, 255); color: black;\"><|eot_id|></span> <span style=\"background-color: rgb(255, 255, 255); color: black;\"><|eot_id|></span> <span style=\"background-color: rgb(255, 255, 255); color: black;\"><|eot_id|></span> <span style=\"background-color: rgb(255, 255, 255); color: black;\"><|eot_id|></span> <span style=\"background-color: rgb(255, 255, 255); color: black;\"><|eot_id|></span> <span style=\"background-color: rgb(255, 255, 255); color: black;\"><|eot_id|></span> <span style=\"background-color: rgb(255, 255, 255); color: black;\"><|eot_id|></span> <span style=\"background-color: rgb(255, 255, 255); color: black;\"><|eot_id|></span> <span style=\"background-color: rgb(255, 255, 255); color: black;\"><|eot_id|></span> <span style=\"background-color: rgb(255, 255, 255); color: black;\"><|eot_id|></span> <span style=\"background-color: rgb(255, 255, 255); color: black;\"><|eot_id|></span> <span style=\"background-color: rgb(255, 255, 255); color: black;\"><|eot_id|></span> <span style=\"background-color: rgb(255, 255, 255); color: black;\"><|eot_id|></span> <span style=\"background-color: rgb(255, 255, 255); color: black;\"><|eot_id|></span> <span style=\"background-color: rgb(255, 255, 255); color: black;\"><|eot_id|></span> <span style=\"background-color: rgb(255, 255, 255); color: black;\"><|eot_id|></span> <span style=\"background-color: rgb(255, 255, 255); color: black;\"><|eot_id|></span> <span style=\"background-color: rgb(255, 255, 255); color: black;\"><|eot_id|></span> <span style=\"background-color: rgb(255, 255, 255); color: black;\"><|eot_id|></span> <span style=\"background-color: rgb(255, 255, 255); color: black;\"><|eot_id|></span> <span style=\"background-color: rgb(255, 255, 255); color: black;\"><|eot_id|></span> <span style=\"background-color: rgb(255, 255, 255); color: black;\"><|eot_id|></span> <span style=\"background-color: rgb(255, 255, 255); color: black;\"><|eot_id|></span> <span style=\"background-color: rgb(255, 255, 255); color: black;\"><|eot_id|></span> <span style=\"background-color: rgb(255, 255, 255); color: black;\"><|eot_id|></span> <span style=\"background-color: rgb(255, 255, 255); color: black;\"><|eot_id|></span> <span style=\"background-color: rgb(255, 255, 255); color: black;\"><|eot_id|></span> <span style=\"background-color: rgb(255, 255, 255); color: black;\"><|eot_id|></span> <span style=\"background-color: rgb(255, 255, 255); color: black;\"><|eot_id|></span> <span style=\"background-color: rgb(255, 255, 255); color: black;\"><|eot_id|></span> <span style=\"background-color: rgb(255, 255, 255); color: black;\"><|eot_id|></span> <span style=\"background-color: rgb(255, 255, 255); color: black;\"><|eot_id|></span> <span style=\"background-color: rgb(255, 255, 255); color: black;\"><|eot_id|></span> <span style=\"background-color: rgb(255, 255, 255); color: black;\"><|eot_id|></span> <span style=\"background-color: rgb(255, 255, 255); color: black;\"><|eot_id|></span> <span style=\"background-color: rgb(255, 255, 255); color: black;\"><|eot_id|></span> <span style=\"background-color: rgb(255, 255, 255); color: black;\"><|eot_id|></span> <span style=\"background-color: rgb(255, 255, 255); color: black;\"><|eot_id|></span> <span style=\"background-color: rgb(255, 255, 255); color: black;\"><|eot_id|></span> <span style=\"background-color: rgb(255, 255, 255); color: black;\"><|eot_id|></span> <span style=\"background-color: rgb(255, 255, 255); color: black;\"><|eot_id|></span> <span style=\"background-color: rgb(255, 255, 255); color: black;\"><|eot_id|></span> <span style=\"background-color: rgb(255, 255, 255); color: black;\"><|eot_id|></span> <span style=\"background-color: rgb(255, 255, 255); color: black;\"><|eot_id|></span> <span style=\"background-color: rgb(255, 255, 255); color: black;\"><|eot_id|></span> <span style=\"background-color: rgb(255, 255, 255); color: black;\"><|eot_id|></span> <span style=\"background-color: rgb(255, 255, 255); color: black;\"><|eot_id|></span> <span style=\"background-color: rgb(255, 255, 255); color: black;\"><|eot_id|></span> <span style=\"background-color: rgb(255, 255, 255); color: black;\"><|eot_id|></span> <span style=\"background-color: rgb(255, 255, 255); color: black;\"><|eot_id|></span> <span style=\"background-color: rgb(255, 255, 255); color: black;\"><|eot_id|></span> <span style=\"background-color: rgb(255, 255, 255); color: black;\"><|eot_id|></span> <span style=\"background-color: rgb(255, 255, 255); color: black;\"><|eot_id|></span> <span style=\"background-color: rgb(255, 255, 255); color: black;\"><|eot_id|></span> <span style=\"background-color: rgb(255, 255, 255); color: black;\"><|eot_id|></span> <span style=\"background-color: rgb(255, 255, 255); color: black;\"><|eot_id|></span> <span style=\"background-color: rgb(255, 255, 255); color: black;\"><|eot_id|></span> <span style=\"background-color: rgb(255, 255, 255); color: black;\"><|eot_id|></span> <span style=\"background-color: rgb(255, 255, 255); color: black;\"><|eot_id|></span> <span style=\"background-color: rgb(255, 255, 255); color: black;\"><|eot_id|></span> <span style=\"background-color: rgb(255, 255, 255); color: black;\"><|eot_id|></span> <span style=\"background-color: rgb(255, 255, 255); color: black;\"><|eot_id|></span> <span style=\"background-color: rgb(255, 255, 255); color: black;\"><|eot_id|></span> <span style=\"background-color: rgb(255, 255, 255); color: black;\"><|eot_id|></span> <span style=\"background-color: rgb(255, 255, 255); color: black;\"><|eot_id|></span> <span style=\"background-color: rgb(255, 255, 255); color: black;\"><|eot_id|></span> <span style=\"background-color: rgb(255, 255, 255); color: black;\"><|eot_id|></span> <span style=\"background-color: rgb(255, 255, 255); color: black;\"><|eot_id|></span> <span style=\"background-color: rgb(255, 255, 255); color: black;\"><|eot_id|></span> <span style=\"background-color: rgb(255, 255, 255); color: black;\"><|eot_id|></span> <span style=\"background-color: rgb(255, 255, 255); color: black;\"><|eot_id|></span> <span style=\"background-color: rgb(255, 255, 255); color: black;\"><|eot_id|></span> <span style=\"background-color: rgb(255, 255, 255); color: black;\"><|eot_id|></span> <span style=\"background-color: rgb(255, 255, 255); color: black;\"><|eot_id|></span> <span style=\"background-color: rgb(255, 255, 255); color: black;\"><|eot_id|></span> <span style=\"background-color: rgb(255, 255, 255); color: black;\"><|eot_id|></span> <span style=\"background-color: rgb(255, 255, 255); color: black;\"><|eot_id|></span> <span style=\"background-color: rgb(255, 255, 255); color: black;\"><|eot_id|></span> <span style=\"background-color: rgb(255, 255, 255); color: black;\"><|eot_id|></span> <span style=\"background-color: rgb(255, 255, 255); color: black;\"><|eot_id|></span> <span style=\"background-color: rgb(255, 255, 255); color: black;\"><|eot_id|></span> <span style=\"background-color: rgb(255, 255, 255); color: black;\"><|eot_id|></span> <span style=\"background-color: rgb(255, 255, 255); color: black;\"><|eot_id|></span> <span style=\"background-color: rgb(255, 255, 255); color: black;\"><|eot_id|></span> <span style=\"background-color: rgb(255, 255, 255); color: black;\"><|eot_id|></span> <span style=\"background-color: rgb(255, 255, 255); color: black;\"><|eot_id|></span> <span style=\"background-color: rgb(255, 255, 255); color: black;\"><|eot_id|></span> <span style=\"background-color: rgb(255, 255, 255); color: black;\"><|eot_id|></span> <span style=\"background-color: rgb(255, 255, 255); color: black;\"><|eot_id|></span> <span style=\"background-color: rgb(255, 255, 255); color: black;\"><|eot_id|></span> <span style=\"background-color: rgb(255, 255, 255); color: black;\"><|eot_id|></span> <span style=\"background-color: rgb(255, 255, 255); color: black;\"><|eot_id|></span> <span style=\"background-color: rgb(255, 255, 255); color: black;\"><|begin_of_text|></span> <span style=\"background-color: rgb(255, 255, 255); color: black;\"><|start_header_id|></span> <span style=\"background-color: rgb(255, 255, 255); color: black;\">system</span> <span style=\"background-color: rgb(255, 255, 255); color: black;\"><|end_header_id|></span> <span style=\"background-color: rgb(255, 255, 255); color: black;\">You</span> <span style=\"background-color: rgb(255, 255, 255); color: black;\">are</span> <span style=\"background-color: rgb(255, 255, 255); color: black;\">a</span> <span style=\"background-color: rgb(255, 255, 255); color: black;\">chatbot</span> <span style=\"background-color: rgb(255, 255, 255); color: black;\">for</span> <span style=\"background-color: rgb(255, 255, 255); color: black;\">answering</span> <span style=\"background-color: rgb(255, 255, 255); color: black;\">questions.</span> <span style=\"background-color: rgb(255, 255, 255); color: black;\">Your</span> <span style=\"background-color: rgb(255, 255, 255); color: black;\">reply</span> <span style=\"background-color: rgb(255, 255, 255); color: black;\">with</span> <span style=\"background-color: rgb(255, 255, 255); color: black;\">a</span> <span style=\"background-color: rgb(255, 255, 255); color: black;\">short</span> <span style=\"background-color: rgb(255, 255, 255); color: black;\">answer</span> <span style=\"background-color: rgb(255, 255, 255); color: black;\">to</span> <span style=\"background-color: rgb(255, 255, 255); color: black;\">the</span> <span style=\"background-color: rgb(255, 255, 255); color: black;\">question</span> <span style=\"background-color: rgb(255, 255, 255); color: black;\">provided</span> <span style=\"background-color: rgb(255, 255, 255); color: black;\">in</span> <span style=\"background-color: rgb(255, 255, 255); color: black;\">the</span> <span style=\"background-color: rgb(255, 255, 255); color: black;\">context.</span> <span style=\"background-color: rgb(255, 255, 255); color: black;\"><|eot_id|></span> <span style=\"background-color: rgb(255, 255, 255); color: black;\"><|start_header_id|></span> <span style=\"background-color: rgb(255, 255, 255); color: black;\">user</span> <span style=\"background-color: rgb(255, 255, 255); color: black;\"><|end_header_id|></span> <span style=\"background-color: rgb(133, 255, 133); color: black;\">Question:</span> <span style=\"background-color: rgb(188, 255, 188); color: black;\">To</span> <span style=\"background-color: rgb(15, 255, 15); color: black;\">whom</span> <span style=\"background-color: rgb(0, 255, 0); color: black;\">did</span> <span style=\"background-color: rgb(18, 255, 18); color: black;\">the</span> <span style=\"background-color: rgb(113, 255, 113); color: black;\">Virgin</span> <span style=\"background-color: rgb(178, 255, 178); color: black;\">Mary</span> <span style=\"background-color: rgb(201, 255, 201); color: black;\">allegedly</span> <span style=\"background-color: rgb(135, 255, 135); color: black;\">appear</span> <span style=\"background-color: rgb(164, 255, 164); color: black;\">in1858</span> <span style=\"background-color: rgb(209, 255, 209); color: black;\">in</span> <span style=\"background-color: rgb(170, 255, 170); color: black;\">Lourdes</span> <span style=\"background-color: rgb(118, 255, 118); color: black;\">France?Context:</span> <span style=\"background-color: rgb(142, 255, 142); color: black;\">Architecturally,</span> <span style=\"background-color: rgb(175, 255, 175); color: black;\">the</span> <span style=\"background-color: rgb(126, 255, 126); color: black;\">school</span> <span style=\"background-color: rgb(185, 255, 185); color: black;\">has</span> <span style=\"background-color: rgb(95, 255, 95); color: black;\">a</span> <span style=\"background-color: rgb(83, 255, 83); color: black;\">Catholic</span> <span style=\"background-color: rgb(74, 255, 74); color: black;\">character.</span> <span style=\"background-color: rgb(102, 255, 102); color: black;\">Atop</span> <span style=\"background-color: rgb(119, 255, 119); color: black;\">the</span> <span style=\"background-color: rgb(143, 255, 143); color: black;\">Main</span> <span style=\"background-color: rgb(131, 255, 131); color: black;\">Building's</span> <span style=\"background-color: rgb(157, 255, 157); color: black;\">gold</span> <span style=\"background-color: rgb(134, 255, 134); color: black;\">dome</span> <span style=\"background-color: rgb(87, 255, 87); color: black;\">is</span> <span style=\"background-color: rgb(142, 255, 142); color: black;\">a</span> <span style=\"background-color: rgb(147, 255, 147); color: black;\">golden</span> <span style=\"background-color: rgb(120, 255, 120); color: black;\">statue</span> <span style=\"background-color: rgb(144, 255, 144); color: black;\">of</span> <span style=\"background-color: rgb(168, 255, 168); color: black;\">the</span> <span style=\"background-color: rgb(187, 255, 187); color: black;\">Virgin</span> <span style=\"background-color: rgb(135, 255, 135); color: black;\">Mary.</span> <span style=\"background-color: rgb(162, 255, 162); color: black;\">Immediately</span> <span style=\"background-color: rgb(131, 255, 131); color: black;\">in</span> <span style=\"background-color: rgb(102, 255, 102); color: black;\">front</span> <span style=\"background-color: rgb(78, 255, 78); color: black;\">of</span> <span style=\"background-color: rgb(94, 255, 94); color: black;\">the</span> <span style=\"background-color: rgb(121, 255, 121); color: black;\">Main</span> <span style=\"background-color: rgb(117, 255, 117); color: black;\">Building</span> <span style=\"background-color: rgb(176, 255, 176); color: black;\">and</span> <span style=\"background-color: rgb(143, 255, 143); color: black;\">facing</span> <span style=\"background-color: rgb(180, 255, 180); color: black;\">it,</span> <span style=\"background-color: rgb(96, 255, 96); color: black;\">is</span> <span style=\"background-color: rgb(141, 255, 141); color: black;\">a</span> <span style=\"background-color: rgb(126, 255, 126); color: black;\">copper</span> <span style=\"background-color: rgb(168, 255, 168); color: black;\">statue</span> <span style=\"background-color: rgb(135, 255, 135); color: black;\">of</span> <span style=\"background-color: rgb(178, 255, 178); color: black;\">Christ</span> <span style=\"background-color: rgb(154, 255, 154); color: black;\">with</span> <span style=\"background-color: rgb(197, 255, 197); color: black;\">arms</span> <span style=\"background-color: rgb(147, 255, 147); color: black;\">upraised</span> <span style=\"background-color: rgb(121, 255, 121); color: black;\">with</span> <span style=\"background-color: rgb(149, 255, 149); color: black;\">the</span> <span style=\"background-color: rgb(188, 255, 188); color: black;\">legend</span> <span style=\"background-color: rgb(186, 255, 186); color: black;\">\"Venite</span> <span style=\"background-color: rgb(138, 255, 138); color: black;\">Ad</span> <span style=\"background-color: rgb(146, 255, 146); color: black;\">Me</span> <span style=\"background-color: rgb(141, 255, 141); color: black;\">Omnes\".</span> <span style=\"background-color: rgb(103, 255, 103); color: black;\">Next</span> <span style=\"background-color: rgb(81, 255, 81); color: black;\">to</span> <span style=\"background-color: rgb(136, 255, 136); color: black;\">the</span> <span style=\"background-color: rgb(73, 255, 73); color: black;\">Main</span> <span style=\"background-color: rgb(112, 255, 112); color: black;\">Building</span> <span style=\"background-color: rgb(75, 255, 75); color: black;\">is</span> <span style=\"background-color: rgb(86, 255, 86); color: black;\">the</span> <span style=\"background-color: rgb(143, 255, 143); color: black;\">Basilica</span> <span style=\"background-color: rgb(130, 255, 130); color: black;\">of</span> <span style=\"background-color: rgb(167, 255, 167); color: black;\">the</span> <span style=\"background-color: rgb(174, 255, 174); color: black;\">Sacred</span> <span style=\"background-color: rgb(109, 255, 109); color: black;\">Heart.</span> <span style=\"background-color: rgb(175, 255, 175); color: black;\">Immediately</span> <span style=\"background-color: rgb(74, 255, 74); color: black;\">behind</span> <span style=\"background-color: rgb(116, 255, 116); color: black;\">the</span> <span style=\"background-color: rgb(101, 255, 101); color: black;\">basilica</span> <span style=\"background-color: rgb(92, 255, 92); color: black;\">is</span> <span style=\"background-color: rgb(104, 255, 104); color: black;\">the</span> <span style=\"background-color: rgb(180, 255, 180); color: black;\">Grotto,</span> <span style=\"background-color: rgb(127, 255, 127); color: black;\">a</span> <span style=\"background-color: rgb(101, 255, 101); color: black;\">Marian</span> <span style=\"background-color: rgb(159, 255, 159); color: black;\">place</span> <span style=\"background-color: rgb(181, 255, 181); color: black;\">of</span> <span style=\"background-color: rgb(132, 255, 132); color: black;\">prayer</span> <span style=\"background-color: rgb(184, 255, 184); color: black;\">and</span> <span style=\"background-color: rgb(108, 255, 108); color: black;\">reflection.</span> <span style=\"background-color: rgb(178, 255, 178); color: black;\">It</span> <span style=\"background-color: rgb(154, 255, 154); color: black;\">is</span> <span style=\"background-color: rgb(116, 255, 116); color: black;\">a</span> <span style=\"background-color: rgb(80, 255, 80); color: black;\">replica</span> <span style=\"background-color: rgb(152, 255, 152); color: black;\">of</span> <span style=\"background-color: rgb(153, 255, 153); color: black;\">the</span> <span style=\"background-color: rgb(163, 255, 163); color: black;\">grotto</span> <span style=\"background-color: rgb(158, 255, 158); color: black;\">at</span> <span style=\"background-color: rgb(138, 255, 138); color: black;\">Lourdes,</span> <span style=\"background-color: rgb(97, 255, 97); color: black;\">France</span> <span style=\"background-color: rgb(143, 255, 143); color: black;\">where</span> <span style=\"background-color: rgb(127, 255, 127); color: black;\">the</span> <span style=\"background-color: rgb(182, 255, 182); color: black;\">Virgin</span> <span style=\"background-color: rgb(186, 255, 186); color: black;\">Mary</span> <span style=\"background-color: rgb(157, 255, 157); color: black;\">reputedly</span> <span style=\"background-color: rgb(119, 255, 119); color: black;\">appeared</span> <span style=\"background-color: rgb(184, 255, 184); color: black;\">to</span> <span style=\"background-color: rgb(195, 255, 195); color: black;\">Saint</span> <span style=\"background-color: rgb(205, 255, 205); color: black;\">Bernadette</span> <span style=\"background-color: rgb(167, 255, 167); color: black;\">Soubirous</span> <span style=\"background-color: rgb(141, 255, 141); color: black;\">in1858.</span> <span style=\"background-color: rgb(111, 255, 111); color: black;\">At</span> <span style=\"background-color: rgb(120, 255, 120); color: black;\">the</span> <span style=\"background-color: rgb(53, 255, 53); color: black;\">end</span> <span style=\"background-color: rgb(63, 255, 63); color: black;\">of</span> <span style=\"background-color: rgb(133, 255, 133); color: black;\">the</span> <span style=\"background-color: rgb(152, 255, 152); color: black;\">main</span> <span style=\"background-color: rgb(132, 255, 132); color: black;\">drive</span> <span style=\"background-color: rgb(237, 255, 237); color: black;\">(and</span> <span style=\"background-color: rgb(199, 255, 199); color: black;\">in</span> <span style=\"background-color: rgb(203, 255, 203); color: black;\">a</span> <span style=\"background-color: rgb(197, 255, 197); color: black;\">direct</span> <span style=\"background-color: rgb(235, 255, 235); color: black;\">line</span> <span style=\"background-color: rgb(206, 255, 206); color: black;\">that</span> <span style=\"background-color: rgb(135, 255, 135); color: black;\">connects</span> <span style=\"background-color: rgb(161, 255, 161); color: black;\">through3</span> <span style=\"background-color: rgb(243, 255, 243); color: black;\">statues</span> <span style=\"background-color: rgb(182, 255, 182); color: black;\">and</span> <span style=\"background-color: rgb(143, 255, 143); color: black;\">the</span> <span style=\"background-color: rgb(172, 255, 172); color: black;\">Gold</span> <span style=\"background-color: rgb(176, 255, 176); color: black;\">Dome),</span> <span style=\"background-color: rgb(101, 255, 101); color: black;\">is</span> <span style=\"background-color: rgb(163, 255, 163); color: black;\">a</span> <span style=\"background-color: rgb(157, 255, 157); color: black;\">simple,</span> <span style=\"background-color: rgb(107, 255, 107); color: black;\">modern</span> <span style=\"background-color: rgb(124, 255, 124); color: black;\">stone</span> <span style=\"background-color: rgb(162, 255, 162); color: black;\">statue</span> <span style=\"background-color: rgb(100, 255, 100); color: black;\">of</span> <span style=\"background-color: rgb(116, 255, 116); color: black;\">Mary.</span> <span style=\"background-color: rgb(255, 255, 255); color: black;\"><|eot_id|></span> <span style=\"background-color: rgb(255, 255, 255); color: black;\"><|start_header_id|></span> <span style=\"background-color: rgb(255, 255, 255); color: black;\">assistant</span> <span style=\"background-color: rgb(255, 255, 255); color: black;\"><|end_header_id|></span> <span style=\"background-color: rgb(255, 255, 255); color: black;\">The</span> <span style=\"background-color: rgb(255, 255, 255); color: black;\">Virgin</span> <span style=\"background-color: rgb(255, 255, 255); color: black;\">Mary</span> <span style=\"background-color: rgb(255, 255, 255); color: black;\">allegedly</span> <span style=\"background-color: rgb(255, 255, 255); color: black;\">appeared</span> <span style=\"background-color: rgb(255, 255, 255); color: black;\">to</span> <span style=\"background-color: rgb(255, 255, 255); color: black;\">Saint</span> <span style=\"background-color: rgb(255, 255, 255); color: black;\">Bernadette</span> <span style=\"background-color: rgb(255, 255, 255); color: black;\">Soubirous</span> <span style=\"background-color: rgb(255, 255, 255); color: black;\">in</span> <span style=\"background-color: rgb(255, 255, 255); color: black;\">Lourdes,</span> <span style=\"background-color: rgb(255, 255, 255); color: black;\">France</span> <span style=\"background-color: rgb(255, 255, 255); color: black;\">in1858.</span> <span style=\"background-color: rgb(255, 255, 255); color: black;\"><|eot_id|></span> <span style=\"background-color: rgb(255, 255, 255); color: black;\"><|eot_id|></span> <span style=\"background-color: rgb(255, 255, 255); color: black;\"><|eot_id|></span> <span style=\"background-color: rgb(255, 255, 255); color: black;\"><|eot_id|></span> <span style=\"background-color: rgb(255, 255, 255); color: black;\"><|eot_id|></span> <span style=\"background-color: rgb(255, 255, 255); color: black;\"><|eot_id|></span> <span style=\"background-color: rgb(255, 255, 255); color: black;\"><|eot_id|></span> <span style=\"background-color: rgb(255, 255, 255); color: black;\"><|eot_id|></span> <span style=\"background-color: rgb(255, 255, 255); color: black;\"><|eot_id|></span> <span style=\"background-color: rgb(255, 255, 255); color: black;\"><|eot_id|></span> <span style=\"background-color: rgb(255, 255, 255); color: black;\"><|eot_id|></span> <span style=\"background-color: rgb(255, 255, 255); color: black;\"><|eot_id|></span> <span style=\"background-color: rgb(255, 255, 255); color: black;\"><|eot_id|></span> <span style=\"background-color: rgb(255, 255, 255); color: black;\"><|eot_id|></span> <span style=\"background-color: rgb(255, 255, 255); color: black;\"><|eot_id|></span> <span style=\"background-color: rgb(255, 255, 255); color: black;\"><|eot_id|></span> <span style=\"background-color: rgb(255, 255, 255); color: black;\"><|eot_id|></span> <span style=\"background-color: rgb(255, 255, 255); color: black;\"><|eot_id|></span> <span style=\"background-color: rgb(255, 255, 255); color: black;\"><|eot_id|></span> <span style=\"background-color: rgb(255, 255, 255); color: black;\"><|eot_id|></span> <span style=\"background-color: rgb(255, 255, 255); color: black;\"><|eot_id|></span> <span style=\"background-color: rgb(255, 255, 255); color: black;\"><|eot_id|></span> <span style=\"background-color: rgb(255, 255, 255); color: black;\"><|eot_id|></span> <span style=\"background-color: rgb(255, 255, 255); color: black;\"><|eot_id|></span> <span style=\"background-color: rgb(255, 255, 255); color: black;\"><|eot_id|></span> <span style=\"background-color: rgb(255, 255, 255); color: black;\"><|eot_id|></span> <span style=\"background-color: rgb(255, 255, 255); color: black;\"><|eot_id|></span> <span style=\"background-color: rgb(255, 255, 255); color: black;\"><|eot_id|></span> <span style=\"background-color: rgb(255, 255, 255); color: black;\"><|eot_id|></span> <span style=\"background-color: rgb(255, 255, 255); color: black;\"><|eot_id|></span> <span style=\"background-color: rgb(255, 255, 255); color: black;\"><|eot_id|></span> <span style=\"background-color: rgb(255, 255, 255); color: black;\"><|eot_id|></span> <span style=\"background-color: rgb(255, 255, 255); color: black;\"><|eot_id|></span> <span style=\"background-color: rgb(255, 255, 255); color: black;\"><|eot_id|></span> <span style=\"background-color: rgb(255, 255, 255); color: black;\"><|eot_id|></span> <span style=\"background-color: rgb(255, 255, 255); color: black;\"><|eot_id|></span> <span style=\"background-color: rgb(255, 255, 255); color: black;\"><|eot_id|></span> <span style=\"background-color: rgb(255, 255, 255); color: black;\"><|eot_id|></span>"
      ],
      "text/plain": [
       "<IPython.core.display.HTML object>"
      ]
     },
     "metadata": {},
     "output_type": "display_data"
    }
   ],
   "source": [
    "import re\n",
    "\n",
    "def clean_token(token):\n",
    "    # 移除所有普通的特殊字符，比如 'Ġ' 和 'Ċ'\n",
    "    return token.replace(\"Ġ\", \"\").replace(\"Ċ\", \"\")\n",
    "\n",
    "merged_tokens_scores = []\n",
    "current_token = \"\"\n",
    "current_score = 0\n",
    "count = 0\n",
    "\n",
    "def is_special_token(token):\n",
    "    # 判断是否是特殊的独立 token，例如 '<|start_header_id|>' 这样的 token\n",
    "    return token.startswith(\"<|\") and token.endswith(\"|>\")\n",
    "\n",
    "# 用于合并 token 和 score，取平均值\n",
    "for token, score in filtered_token_scores:\n",
    "    # 检查是否是特殊 token\n",
    "    if is_special_token(token):\n",
    "        # 如果当前有累积的 token，先把它们加入结果\n",
    "        if current_token:\n",
    "            # 确保分数归一化在 [0, 1] 之间\n",
    "            average_score = min(current_score / count, 1.0)\n",
    "            merged_tokens_scores.append((current_token, average_score))\n",
    "            current_token = \"\"\n",
    "            current_score = 0\n",
    "            count = 0\n",
    "\n",
    "        # 特殊 token 直接加入，不合并\n",
    "        merged_tokens_scores.append((token, score))\n",
    "        continue\n",
    "\n",
    "    # 清理 token 中的特殊字符\n",
    "    cleaned_token = clean_token(token)\n",
    "\n",
    "    # 忽略清理后的空 token\n",
    "    if not cleaned_token:\n",
    "        continue\n",
    "\n",
    "    # 判断是否是新单词的开始（以 'Ġ' 或 'Ċ' 开头的通常是新词）\n",
    "    if token.startswith(\"Ġ\") or token.startswith(\"Ċ\"):\n",
    "        if current_token:\n",
    "            # 确保分数归一化在 [0, 1] 之间\n",
    "            average_score = min(current_score / count, 1.0)\n",
    "            merged_tokens_scores.append((current_token, average_score))\n",
    "        \n",
    "        # 初始化新的 token 和 score\n",
    "        current_token = cleaned_token\n",
    "        current_score = score\n",
    "        count = 1\n",
    "    else:\n",
    "        # 如果是子词，则继续合并\n",
    "        current_token += cleaned_token\n",
    "        current_score += score\n",
    "        count += 1\n",
    "\n",
    "# 处理最后一个 token\n",
    "if current_token:\n",
    "    # 确保分数归一化在 [0, 1] 之间\n",
    "    average_score = min(current_score / count, 1.0)\n",
    "    merged_tokens_scores.append((current_token, average_score))\n",
    "\n",
    "# # 输出结果\n",
    "# for token, score in merged_tokens_scores:\n",
    "#     print(f\"Token: {token}, Score: {score}\")\n",
    "\n",
    "\n",
    "\n",
    "\n",
    "\n",
    "# 根据分数高亮文本（示例中使用HTML标签）\n",
    "highlighted_text = \"\"\n",
    "for token, score in merged_tokens_scores:\n",
    "    # 动态设置背景颜色：score为0时为白色，score为1时为绿色\n",
    "    red = int((1 - score) * 255)\n",
    "    green = 255\n",
    "    blue = int((1 - score) * 255)\n",
    "    color = f'rgb({red}, {green}, {blue})'\n",
    "    highlighted_text += f'<span style=\"background-color: {color}; color: black;\">{token}</span> '\n",
    "\n",
    "# 打印高亮后的文本\n",
    "from IPython.display import display, HTML\n",
    "display(HTML(highlighted_text.strip()))"
   ]
  },
  {
   "cell_type": "code",
   "execution_count": 26,
   "metadata": {},
   "outputs": [
    {
     "data": {
      "text/plain": [
       "tensor(0.9849, device='cuda:0')"
      ]
     },
     "execution_count": 26,
     "metadata": {},
     "output_type": "execute_result"
    }
   ],
   "source": [
    "(test_mask_prob * test_context_mask).max()"
   ]
  },
  {
   "cell_type": "code",
   "execution_count": null,
   "metadata": {},
   "outputs": [],
   "source": [
    "filtered_token_scores"
   ]
  },
  {
   "cell_type": "code",
   "execution_count": null,
   "metadata": {},
   "outputs": [],
   "source": [
    "test_inputs.keys()\n",
    "\n",
    "collate_fn()\n",
    "\n",
    "tokenizer(\"this is a sentence\")"
   ]
  },
  {
   "cell_type": "code",
   "execution_count": 22,
   "metadata": {},
   "outputs": [],
   "source": [
    "new_ds = ds['train'].select(range(3))"
   ]
  },
  {
   "cell_type": "code",
   "execution_count": 26,
   "metadata": {},
   "outputs": [],
   "source": [
    "from datasets import Dataset\n",
    "\n",
    "data_dict = {\n",
    "    'text': [\"This is the first example.\", \"This is the second example.\"],\n",
    "    'label': [0, 1]\n",
    "}\n",
    "dataset = Dataset.from_dict(data_dict)"
   ]
  },
  {
   "cell_type": "code",
   "execution_count": null,
   "metadata": {},
   "outputs": [],
   "source": [
    "new_ds[0]"
   ]
  },
  {
   "cell_type": "code",
   "execution_count": null,
   "metadata": {},
   "outputs": [],
   "source": []
  }
 ],
 "metadata": {
  "kernelspec": {
   "display_name": "torch",
   "language": "python",
   "name": "python3"
  },
  "language_info": {
   "codemirror_mode": {
    "name": "ipython",
    "version": 3
   },
   "file_extension": ".py",
   "mimetype": "text/x-python",
   "name": "python",
   "nbconvert_exporter": "python",
   "pygments_lexer": "ipython3",
   "version": "3.12.5"
  }
 },
 "nbformat": 4,
 "nbformat_minor": 2
}
